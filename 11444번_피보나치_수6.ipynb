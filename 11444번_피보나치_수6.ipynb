{
  "nbformat": 4,
  "nbformat_minor": 0,
  "metadata": {
    "colab": {
      "name": "11444번: 피보나치 수6",
      "private_outputs": true,
      "provenance": [],
      "authorship_tag": "ABX9TyOGOjUXYNn5k29uLXBEdwcH",
      "include_colab_link": true
    },
    "kernelspec": {
      "name": "python3",
      "display_name": "Python 3"
    },
    "language_info": {
      "name": "python"
    }
  },
  "cells": [
    {
      "cell_type": "markdown",
      "metadata": {
        "id": "view-in-github",
        "colab_type": "text"
      },
      "source": [
        "<a href=\"https://colab.research.google.com/github/babypotatotang/BaekJoonMaster/blob/main/11444%EB%B2%88_%ED%94%BC%EB%B3%B4%EB%82%98%EC%B9%98_%EC%88%986.ipynb\" target=\"_parent\"><img src=\"https://colab.research.google.com/assets/colab-badge.svg\" alt=\"Open In Colab\"/></a>"
      ]
    },
    {
      "cell_type": "code",
      "execution_count": null,
      "metadata": {
        "id": "HiV2szJtOEf6"
      },
      "outputs": [],
      "source": [
        "#11444번: 피보나치수 6\n",
        "def mul(mata,matb): #행렬 곱 \n",
        "    mattmp=[[0]*len(mata[0]) for _ in range(len(matb))]\n",
        "\n",
        "    for i in range(len(mata)):\n",
        "        for j in range(len(mata)):\n",
        "            for k in range(len(matb)):\n",
        "                mattmp[i][k]+=(mata[i][j]*matb[j][k])\n",
        "                mattmp[i][k]%=q\n",
        "    return mattmp\n",
        "\n",
        "def sum(a,b):\n",
        "    if b==1:\n",
        "        return a\n",
        "    else:\n",
        "        tmp= sum(a,b//2)\n",
        "        if b%2==0: \n",
        "            return mul(tmp,tmp)\n",
        "        else: \n",
        "            return mul(mul(tmp,tmp),a)\n",
        "\n",
        "N=int(input()); q=1000000007; A=[[1,1],[1,0]]; \n",
        "result=sum(A,N)\n",
        "\n",
        "print(result[0][1])"
      ]
    }
  ]
}