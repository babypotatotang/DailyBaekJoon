{
  "nbformat": 4,
  "nbformat_minor": 0,
  "metadata": {
    "colab": {
      "name": "17219번: 비밀번호 찾기",
      "private_outputs": true,
      "provenance": [],
      "authorship_tag": "ABX9TyO56/MEO91/hRp/6hm0vVBt",
      "include_colab_link": true
    },
    "kernelspec": {
      "name": "python3",
      "display_name": "Python 3"
    },
    "language_info": {
      "name": "python"
    }
  },
  "cells": [
    {
      "cell_type": "markdown",
      "metadata": {
        "id": "view-in-github",
        "colab_type": "text"
      },
      "source": [
        "<a href=\"https://colab.research.google.com/github/babypotatotang/BaekJoon/blob/main/BaekJoon/%EB%82%9C%EC%9D%B4%EB%8F%84%20%ED%95%98/17219%EB%B2%88_%EB%B9%84%EB%B0%80%EB%B2%88%ED%98%B8_%EC%B0%BE%EA%B8%B0.ipynb\" target=\"_parent\"><img src=\"https://colab.research.google.com/assets/colab-badge.svg\" alt=\"Open In Colab\"/></a>"
      ]
    },
    {
      "cell_type": "code",
      "execution_count": null,
      "metadata": {
        "id": "CHVJig5eGxo6"
      },
      "outputs": [],
      "source": [
        "# 17219번: 비밀번호 찾기\n",
        "import sys\n",
        "input=sys.stdin.readline\n",
        "\n",
        "array=list(map(int,input().split()))\n",
        "N=array[0]; M=array[1]\n",
        "\n",
        "dic={}\n",
        "\n",
        "for _ in range(N):\n",
        "    array=list(input().split())\n",
        "    dic[array[0]]=array[1]\n",
        "\n",
        "for _ in range(M):\n",
        "    key=input().rstrip() #sys.stdin.readline에서는 뒤에 개행문자 '\\n\\'이 포함됨. \n",
        "    print(dic[key])"
      ]
    }
  ]
}