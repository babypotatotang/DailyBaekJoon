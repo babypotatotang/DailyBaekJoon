{
  "nbformat": 4,
  "nbformat_minor": 0,
  "metadata": {
    "colab": {
      "name": "14889번: 스타트와 링크",
      "private_outputs": true,
      "provenance": [],
      "authorship_tag": "ABX9TyNaIV9vedTmCCl3YpHANRCo",
      "include_colab_link": true
    },
    "kernelspec": {
      "name": "python3",
      "display_name": "Python 3"
    },
    "language_info": {
      "name": "python"
    }
  },
  "cells": [
    {
      "cell_type": "markdown",
      "metadata": {
        "id": "view-in-github",
        "colab_type": "text"
      },
      "source": [
        "<a href=\"https://colab.research.google.com/github/babypotatotang/BaekJoon/blob/main/14889%EB%B2%88_%EC%8A%A4%ED%83%80%ED%8A%B8%EC%99%80_%EB%A7%81%ED%81%AC.ipynb\" target=\"_parent\"><img src=\"https://colab.research.google.com/assets/colab-badge.svg\" alt=\"Open In Colab\"/></a>"
      ]
    },
    {
      "cell_type": "code",
      "execution_count": null,
      "metadata": {
        "id": "CHVJig5eGxo6"
      },
      "outputs": [],
      "source": [
        "#14889번: 스타트와 링크\n",
        "def cal(start,link):\n",
        "    Sscore=0; Lscore=0\n",
        "\n",
        "    for i in range(N):\n",
        "        for j in range(N):\n",
        "            if i+1 in start and j+1 in start:Sscore+=S[i][j]\n",
        "            elif i+1 not in start and j+1 not in start: Lscore+=S[i][j]\n",
        "\n",
        "    return abs(Sscore-Lscore)\n",
        "\n",
        "def divide(index):\n",
        "    global result\n",
        "    if len(start)==teamn:\n",
        "        link=list(set(teams)-set(start))\n",
        "        tmp=cal(start,link)\n",
        "        result=min(tmp,result)\n",
        "        return\n",
        "\n",
        "    for i in range(index,N+1):\n",
        "        if i not in start:\n",
        "            start.append(i)\n",
        "            divide(i+1)\n",
        "            start.pop()\n",
        "\n",
        "\n",
        "N=int(input()); teamn=N/2\n",
        "teams=[i for i in range(1,N+1)]\n",
        "S=[]\n",
        "for _ in range(N): S.append(list(map(int,input().split())))\n",
        "\n",
        "start=[]; link=[]; result=1000000\n",
        "\n",
        "divide(1)\n",
        "print(result)"
      ]
    }
  ]
}