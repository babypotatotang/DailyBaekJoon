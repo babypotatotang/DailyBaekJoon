{
  "nbformat": 4,
  "nbformat_minor": 0,
  "metadata": {
    "colab": {
      "private_outputs": true,
      "provenance": [],
      "authorship_tag": "ABX9TyNP7jmUx1x7M1JORdBMn7QD",
      "include_colab_link": true
    },
    "kernelspec": {
      "name": "python3",
      "display_name": "Python 3"
    },
    "language_info": {
      "name": "python"
    }
  },
  "cells": [
    {
      "cell_type": "markdown",
      "metadata": {
        "id": "view-in-github",
        "colab_type": "text"
      },
      "source": [
        "<a href=\"https://colab.research.google.com/github/babypotatotang/DailyBaekJoon/blob/main/Sort/2587%EB%B2%88_%EB%8C%80%ED%91%9C%EA%B0%922.ipynb\" target=\"_parent\"><img src=\"https://colab.research.google.com/assets/colab-badge.svg\" alt=\"Open In Colab\"/></a>"
      ]
    },
    {
      "cell_type": "code",
      "source": [
        "num_list = [int(input()) for _ in range(5)]\n",
        "\n",
        "print(sum(num_list)//5)\n",
        "print(sorted(num_list)[2])"
      ],
      "metadata": {
        "id": "qCHZz7V4RDn2"
      },
      "execution_count": null,
      "outputs": []
    }
  ]
}