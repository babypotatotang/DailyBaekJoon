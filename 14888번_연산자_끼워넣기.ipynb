{
  "nbformat": 4,
  "nbformat_minor": 0,
  "metadata": {
    "colab": {
      "name": "14888번: 연산자 끼워넣기 ",
      "private_outputs": true,
      "provenance": [],
      "authorship_tag": "ABX9TyN2ppu9t3rIcoan2Huhmuf2",
      "include_colab_link": true
    },
    "kernelspec": {
      "name": "python3",
      "display_name": "Python 3"
    },
    "language_info": {
      "name": "python"
    }
  },
  "cells": [
    {
      "cell_type": "markdown",
      "metadata": {
        "id": "view-in-github",
        "colab_type": "text"
      },
      "source": [
        "<a href=\"https://colab.research.google.com/github/babypotatotang/BaekJoon/blob/main/14888%EB%B2%88_%EC%97%B0%EC%82%B0%EC%9E%90_%EB%81%BC%EC%9B%8C%EB%84%A3%EA%B8%B0.ipynb\" target=\"_parent\"><img src=\"https://colab.research.google.com/assets/colab-badge.svg\" alt=\"Open In Colab\"/></a>"
      ]
    },
    {
      "cell_type": "code",
      "execution_count": null,
      "metadata": {
        "id": "oMu5BXscVHCq"
      },
      "outputs": [],
      "source": [
        "#14888번: 연산자 끼워넣기 \n",
        "N=int(input())\n",
        "nums=list(map(int,input().split()))\n",
        "tindex=list(map(int,input().split()))\n",
        "index=[]\n",
        "for i in range(4):\n",
        "    for j in range(tindex[i]):\n",
        "        index.append(i)\n",
        "s=[i for i in range(len(index))]\n",
        "\n",
        "cal=[]\n",
        "result=nums[0]\n",
        "\n",
        "def apply(cal):\n",
        "    oplist=[index[i] for i in cal]\n",
        "    result=nums[0]\n",
        "\n",
        "    for i in range(1,len(nums)):\n",
        "        if oplist[i-1]==0: result+=nums[i]\n",
        "        elif oplist[i-1]==1: result-=nums[i]\n",
        "        elif oplist[i-1]==2: result*=nums[i]\n",
        "        elif oplist[i-1]==3: \n",
        "            result/=nums[i]\n",
        "            result=int(result)\n",
        "\n",
        "    return result\n",
        "        \n",
        "def dfs():\n",
        "    global rmax, rmin\n",
        "    for i in range(len(s)):\n",
        "        if len(cal)==len(s):\n",
        "            tmp=apply(cal)\n",
        "            rmax=max(tmp,rmax)\n",
        "            rmin=min(tmp,rmin)\n",
        "            return \n",
        "        if i not in cal:\n",
        "            cal.append(i)\n",
        "            dfs()\n",
        "            cal.pop()\n",
        "\n",
        "rmax=-1000000000; rmin=1000000000\n",
        "dfs()\n",
        "\n",
        "print(rmax)\n",
        "print(rmin)"
      ]
    }
  ]
}