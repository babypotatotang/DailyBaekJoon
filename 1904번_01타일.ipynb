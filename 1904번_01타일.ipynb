{
  "nbformat": 4,
  "nbformat_minor": 0,
  "metadata": {
    "colab": {
      "name": "1904번: 01타일 ",
      "private_outputs": true,
      "provenance": [],
      "authorship_tag": "ABX9TyNaJvpzFJ8A75qCEBjnNoKF",
      "include_colab_link": true
    },
    "kernelspec": {
      "name": "python3",
      "display_name": "Python 3"
    },
    "language_info": {
      "name": "python"
    }
  },
  "cells": [
    {
      "cell_type": "markdown",
      "metadata": {
        "id": "view-in-github",
        "colab_type": "text"
      },
      "source": [
        "<a href=\"https://colab.research.google.com/github/babypotatotang/BaekJoon/blob/main/1904%EB%B2%88_01%ED%83%80%EC%9D%BC.ipynb\" target=\"_parent\"><img src=\"https://colab.research.google.com/assets/colab-badge.svg\" alt=\"Open In Colab\"/></a>"
      ]
    },
    {
      "cell_type": "code",
      "execution_count": null,
      "metadata": {
        "id": "CHVJig5eGxo6"
      },
      "outputs": [],
      "source": [
        "#1904번: 01타일 \n",
        "num=int(input())\n",
        "fibos=[0]*1000002\n",
        "fibos[1]=1; fibos[2]=2\n",
        "\n",
        "for i in range(3,num+1):\n",
        "    fibos[i]=fibos[i-1]+fibos[i-2]\n",
        "    fibos[i]%=15746\n",
        "    \n",
        "print(fibos[num])\n"
      ]
    }
  ]
}