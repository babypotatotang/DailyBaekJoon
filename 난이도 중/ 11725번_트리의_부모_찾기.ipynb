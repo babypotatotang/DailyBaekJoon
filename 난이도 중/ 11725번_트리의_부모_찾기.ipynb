{
  "nbformat": 4,
  "nbformat_minor": 0,
  "metadata": {
    "colab": {
      "name": "11725번: 트리의 부모 찾기",
      "private_outputs": true,
      "provenance": [],
      "authorship_tag": "ABX9TyOs+n3w4yWmRVEKSNMxhNg5",
      "include_colab_link": true
    },
    "kernelspec": {
      "name": "python3",
      "display_name": "Python 3"
    },
    "language_info": {
      "name": "python"
    }
  },
  "cells": [
    {
      "cell_type": "markdown",
      "metadata": {
        "id": "view-in-github",
        "colab_type": "text"
      },
      "source": [
        "<a href=\"https://colab.research.google.com/github/babypotatotang/DailyBaekJoon/blob/main/%EB%82%9C%EC%9D%B4%EB%8F%84%20%EC%A4%91/%2011725%EB%B2%88_%ED%8A%B8%EB%A6%AC%EC%9D%98_%EB%B6%80%EB%AA%A8_%EC%B0%BE%EA%B8%B0.ipynb\" target=\"_parent\"><img src=\"https://colab.research.google.com/assets/colab-badge.svg\" alt=\"Open In Colab\"/></a>"
      ]
    },
    {
      "cell_type": "code",
      "execution_count": null,
      "metadata": {
        "id": "CHVJig5eGxo6"
      },
      "outputs": [],
      "source": [
        "#11725번: 트리의 부모 찾기 \n",
        "import sys\n",
        "input=sys.stdin.readline\n",
        "sys.setrecursionlimit(10**9)\n",
        "\n",
        "def search(v):\n",
        "    for e in graph[v]:\n",
        "        if not parents[e]:\n",
        "            parents[e]=v\n",
        "            search(e)\n",
        "\n",
        "N=int(input())\n",
        "graph=[[] for _ in range(N+1)]\n",
        "parents=[0 for _ in range(N+1)]\n",
        "\n",
        "for _ in range(N-1):\n",
        "    i,j=list(map(int,input().split()))\n",
        "    graph[i].append(j)\n",
        "    graph[j].append(i)\n",
        "\n",
        "for i in range(1,N+1):\n",
        "    if not parents[i]:\n",
        "        search(i)\n",
        "\n",
        "for i in range(2,N+1):\n",
        "    print(parents[i])"
      ]
    }
  ]
}