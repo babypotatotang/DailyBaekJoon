{
  "nbformat": 4,
  "nbformat_minor": 0,
  "metadata": {
    "colab": {
      "name": "2178번: 미로탐색",
      "private_outputs": true,
      "provenance": [],
      "authorship_tag": "ABX9TyPO6A2SrCGcFQqTlTBhLCe+",
      "include_colab_link": true
    },
    "kernelspec": {
      "name": "python3",
      "display_name": "Python 3"
    },
    "language_info": {
      "name": "python"
    }
  },
  "cells": [
    {
      "cell_type": "markdown",
      "metadata": {
        "id": "view-in-github",
        "colab_type": "text"
      },
      "source": [
        "<a href=\"https://colab.research.google.com/github/babypotatotang/DailyBaekJoon/blob/main/%EB%82%9C%EC%9D%B4%EB%8F%84%20%EC%A4%91/%202178%EB%B2%88_%EB%AF%B8%EB%A1%9C%ED%83%90%EC%83%89.ipynb\" target=\"_parent\"><img src=\"https://colab.research.google.com/assets/colab-badge.svg\" alt=\"Open In Colab\"/></a>"
      ]
    },
    {
      "cell_type": "code",
      "execution_count": null,
      "metadata": {
        "id": "CHVJig5eGxo6"
      },
      "outputs": [],
      "source": [
        "#2178번: 미로탐색\n",
        "from collections import deque\n",
        "import sys\n",
        "input=sys.stdin.readline\n",
        "\n",
        "dx=[0,0,-1,1]; dy=[1,-1,0,0]\n",
        "\n",
        "def bfs(x,y):\n",
        "    q=deque()\n",
        "    q.append([x,y])\n",
        "    visited=[[x,y]]\n",
        "    while q:\n",
        "        x,y=q.popleft()\n",
        "        if x==(N-1) and y==(M-1): \n",
        "            print(dist[x][y]+1)\n",
        "            break\n",
        "\n",
        "        for i in range(4):\n",
        "            tmpx=x+dx[i]; tmpy=y+dy[i]\n",
        "            if 0<=tmpx<N and 0<=tmpy<M:  \n",
        "                if [tmpx,tmpy] not in visited:\n",
        "                    if graph[tmpx][tmpy]=='1':\n",
        "                        dist[tmpx][tmpy]=dist[x][y]+1\n",
        "                        visited.append([tmpx,tmpy])\n",
        "                        q.append([tmpx,tmpy])\n",
        "\n",
        "N,M=list(map(int,input().split()))\n",
        "graph=[[] for _ in range(N)]\n",
        "\n",
        "for n in range(N):\n",
        "    graph[n]=list(input())\n",
        "\n",
        "dist=[[0 for _ in range(M)] for _ in range(N)]\n",
        "bfs(0,0)"
      ]
    }
  ]
}