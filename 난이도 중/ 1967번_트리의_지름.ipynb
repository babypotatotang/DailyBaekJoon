{
  "nbformat": 4,
  "nbformat_minor": 0,
  "metadata": {
    "colab": {
      "name": "1967번: 트리의 지름",
      "private_outputs": true,
      "provenance": [],
      "authorship_tag": "ABX9TyOfTznTIzLzXOwDNtFto2lX",
      "include_colab_link": true
    },
    "kernelspec": {
      "name": "python3",
      "display_name": "Python 3"
    },
    "language_info": {
      "name": "python"
    }
  },
  "cells": [
    {
      "cell_type": "markdown",
      "metadata": {
        "id": "view-in-github",
        "colab_type": "text"
      },
      "source": [
        "<a href=\"https://colab.research.google.com/github/babypotatotang/DailyBaekJoon/blob/main/%EB%82%9C%EC%9D%B4%EB%8F%84%20%EC%A4%91/%201967%EB%B2%88_%ED%8A%B8%EB%A6%AC%EC%9D%98_%EC%A7%80%EB%A6%84.ipynb\" target=\"_parent\"><img src=\"https://colab.research.google.com/assets/colab-badge.svg\" alt=\"Open In Colab\"/></a>"
      ]
    },
    {
      "cell_type": "code",
      "execution_count": null,
      "metadata": {
        "id": "CHVJig5eGxo6"
      },
      "outputs": [],
      "source": [
        "#1967번: 트리의 지름\n",
        "from collections import deque\n",
        "\n",
        "def bfs(root):\n",
        "    dist=0\n",
        "    q=deque()\n",
        "    q.append([root,dist])\n",
        "\n",
        "    visited=[False]*(N+1)\n",
        "    visited[root]=True\n",
        "    \n",
        "    rnode=0; rdist=0\n",
        "\n",
        "    while q:\n",
        "        nnode,ndist=q.popleft()\n",
        "\n",
        "        for e,w in graph[nnode]:\n",
        "            if not visited[e]:\n",
        "                visited[e]=True\n",
        "                newdist=ndist+w\n",
        "                q.append([e,newdist])\n",
        "\n",
        "                if rdist<newdist:\n",
        "                    rdist=newdist; rnode=e\n",
        "\n",
        "    return rnode,rdist\n",
        "\n",
        "N=int(input())\n",
        "graph=[[] for _ in range(N+1)]\n",
        "for _ in range(N-1):\n",
        "    v1,v2,w=list(map(int,input().split()))\n",
        "    graph[v1].append([v2,w])\n",
        "    graph[v2].append([v1,w])\n",
        "\n",
        "newroot,newdist=bfs(1) \n",
        "maxroot,maxdist=bfs(newroot)\n",
        "print(maxdist)"
      ]
    }
  ]
}