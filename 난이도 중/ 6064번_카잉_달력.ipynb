{
  "nbformat": 4,
  "nbformat_minor": 0,
  "metadata": {
    "colab": {
      "name": "6064번: 카잉 달력",
      "private_outputs": true,
      "provenance": [],
      "authorship_tag": "ABX9TyMbQ7/LRU9RbphSzJZzNoPD",
      "include_colab_link": true
    },
    "kernelspec": {
      "name": "python3",
      "display_name": "Python 3"
    },
    "language_info": {
      "name": "python"
    }
  },
  "cells": [
    {
      "cell_type": "markdown",
      "metadata": {
        "id": "view-in-github",
        "colab_type": "text"
      },
      "source": [
        "<a href=\"https://colab.research.google.com/github/babypotatotang/DailyBaekJoon/blob/main/%EB%82%9C%EC%9D%B4%EB%8F%84%20%EC%A4%91/%206064%EB%B2%88_%EC%B9%B4%EC%9E%89_%EB%8B%AC%EB%A0%A5.ipynb\" target=\"_parent\"><img src=\"https://colab.research.google.com/assets/colab-badge.svg\" alt=\"Open In Colab\"/></a>"
      ]
    },
    {
      "cell_type": "code",
      "execution_count": null,
      "metadata": {
        "id": "CHVJig5eGxo6"
      },
      "outputs": [],
      "source": [
        "# 6064번: 카잉 달력\n",
        "T=int(input())\n",
        "for t in range(T):\n",
        "    M,N,x,y=list(map(int,input().split()))\n",
        "\n",
        "    while(1):\n",
        "        if x>M*N:\n",
        "            print(-1); break\n",
        "\n",
        "        if (x-y)%N==0:\n",
        "            print(x)\n",
        "            break\n",
        "        x+=M"
      ]
    }
  ]
}