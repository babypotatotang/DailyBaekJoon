{
  "nbformat": 4,
  "nbformat_minor": 0,
  "metadata": {
    "colab": {
      "name": "11659번: 구간 합 구하기 ",
      "private_outputs": true,
      "provenance": [],
      "authorship_tag": "ABX9TyNZ+Z3V09q4PUB54+N9elp1",
      "include_colab_link": true
    },
    "kernelspec": {
      "name": "python3",
      "display_name": "Python 3"
    },
    "language_info": {
      "name": "python"
    }
  },
  "cells": [
    {
      "cell_type": "markdown",
      "metadata": {
        "id": "view-in-github",
        "colab_type": "text"
      },
      "source": [
        "<a href=\"https://colab.research.google.com/github/babypotatotang/BaekJoon/blob/main/%EB%82%9C%EC%9D%B4%EB%8F%84%20%EC%A4%91/%2011659%EB%B2%88_%EA%B5%AC%EA%B0%84_%ED%95%A9_%EA%B5%AC%ED%95%98%EA%B8%B0.ipynb\" target=\"_parent\"><img src=\"https://colab.research.google.com/assets/colab-badge.svg\" alt=\"Open In Colab\"/></a>"
      ]
    },
    {
      "cell_type": "code",
      "execution_count": null,
      "metadata": {
        "id": "CHVJig5eGxo6"
      },
      "outputs": [],
      "source": [
        "#1107번: 리모컨\n",
        "import sys\n",
        "input=sys.stdin.readline\n",
        "\n",
        "N=input()\n",
        "M=input()\n",
        "\n",
        "if M=='0': array=[]\n",
        "else: array=input().split()\n",
        "\n",
        "cnt=abs(100-int(N))\n",
        "\n",
        "def check(i):\n",
        "    for j in array:\n",
        "        if j in i: return False\n",
        "    return True\n",
        "\n",
        "for i in range(1000001):\n",
        "    if check(str(i)): #고장난 숫자가 없는 경우 \n",
        "        cnt=min(cnt,abs(i-int(N))+len(str(i)))\n",
        "     \n",
        "print(cnt)"
      ]
    }
  ]
}