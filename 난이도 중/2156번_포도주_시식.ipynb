{
  "nbformat": 4,
  "nbformat_minor": 0,
  "metadata": {
    "colab": {
      "name": "2156번: 포도주 시식",
      "private_outputs": true,
      "provenance": [],
      "authorship_tag": "ABX9TyPFK59iBe5lQ0jwgnWS9TzI",
      "include_colab_link": true
    },
    "kernelspec": {
      "name": "python3",
      "display_name": "Python 3"
    },
    "language_info": {
      "name": "python"
    }
  },
  "cells": [
    {
      "cell_type": "markdown",
      "metadata": {
        "id": "view-in-github",
        "colab_type": "text"
      },
      "source": [
        "<a href=\"https://colab.research.google.com/github/babypotatotang/BaekJoon/blob/main/2156%EB%B2%88_%ED%8F%AC%EB%8F%84%EC%A3%BC_%EC%8B%9C%EC%8B%9D.ipynb\" target=\"_parent\"><img src=\"https://colab.research.google.com/assets/colab-badge.svg\" alt=\"Open In Colab\"/></a>"
      ]
    },
    {
      "cell_type": "code",
      "execution_count": null,
      "metadata": {
        "id": "CHVJig5eGxo6"
      },
      "outputs": [],
      "source": [
        "#2156번: 포도주 시식\n",
        "N=int(input()) #사이즈\n",
        "p=[]; dp=[0]*N\n",
        "for _ in range(N):\n",
        "    p.append(int(input()))\n",
        "if N==1:\n",
        "    print(p[0])\n",
        "else:\n",
        "    dp[0]=p[0]; dp[1]=p[0]+p[1]; \n",
        "    for i in range(2,N):\n",
        "        dp[i]=max(dp[i-3]+p[i-1]+p[i],dp[i-2]+p[i])\n",
        "        dp[i]=max(dp[i-1],dp[i])\n",
        "        \n",
        "    print(max(dp))"
      ]
    }
  ]
}