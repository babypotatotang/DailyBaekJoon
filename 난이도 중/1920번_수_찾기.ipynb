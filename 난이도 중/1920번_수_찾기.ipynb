{
  "nbformat": 4,
  "nbformat_minor": 0,
  "metadata": {
    "colab": {
      "name": "1920번: 수 찾기",
      "private_outputs": true,
      "provenance": [],
      "authorship_tag": "ABX9TyP8pszn22DrDmbbE8Y2Qd5t",
      "include_colab_link": true
    },
    "kernelspec": {
      "name": "python3",
      "display_name": "Python 3"
    },
    "language_info": {
      "name": "python"
    }
  },
  "cells": [
    {
      "cell_type": "markdown",
      "metadata": {
        "id": "view-in-github",
        "colab_type": "text"
      },
      "source": [
        "<a href=\"https://colab.research.google.com/github/babypotatotang/BaekJoon/blob/main/1920%EB%B2%88_%EC%88%98_%EC%B0%BE%EA%B8%B0.ipynb\" target=\"_parent\"><img src=\"https://colab.research.google.com/assets/colab-badge.svg\" alt=\"Open In Colab\"/></a>"
      ]
    },
    {
      "cell_type": "code",
      "execution_count": null,
      "metadata": {
        "id": "CHVJig5eGxo6"
      },
      "outputs": [],
      "source": [
        "#1920번: 수 찾기\n",
        "N=int(input())\n",
        "Nlist=list(map(int,input().split()))\n",
        "           \n",
        "M=int(input())\n",
        "Mlist=list(map(int,input().split()))\n",
        "\n",
        "def chk(checklist,index,start,end):\n",
        "    mid=(start+end)//2\n",
        "    if start>end: return False\n",
        "\n",
        "    if index==checklist[mid]: return True\n",
        "    elif index < checklist[mid]:\n",
        "        return chk(checklist,index,start,mid-1)\n",
        "    else:\n",
        "        return chk(checklist,index,mid+1,end)\n",
        "\n",
        "Nlist=sorted(Nlist)\n",
        "for i in Mlist:\n",
        "    if chk(Nlist,i,0,N-1): print(1)\n",
        "    else: print(0)"
      ]
    }
  ]
}