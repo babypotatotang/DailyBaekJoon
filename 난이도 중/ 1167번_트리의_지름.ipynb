{
  "nbformat": 4,
  "nbformat_minor": 0,
  "metadata": {
    "colab": {
      "name": "1167번: 트리의 지름",
      "private_outputs": true,
      "provenance": [],
      "authorship_tag": "ABX9TyPd+PBQPlM8Dt7ckc5ykojB",
      "include_colab_link": true
    },
    "kernelspec": {
      "name": "python3",
      "display_name": "Python 3"
    },
    "language_info": {
      "name": "python"
    }
  },
  "cells": [
    {
      "cell_type": "markdown",
      "metadata": {
        "id": "view-in-github",
        "colab_type": "text"
      },
      "source": [
        "<a href=\"https://colab.research.google.com/github/babypotatotang/DailyBaekJoon/blob/main/%EB%82%9C%EC%9D%B4%EB%8F%84%20%EC%A4%91/%201167%EB%B2%88_%ED%8A%B8%EB%A6%AC%EC%9D%98_%EC%A7%80%EB%A6%84.ipynb\" target=\"_parent\"><img src=\"https://colab.research.google.com/assets/colab-badge.svg\" alt=\"Open In Colab\"/></a>"
      ]
    },
    {
      "cell_type": "code",
      "execution_count": null,
      "metadata": {
        "id": "CHVJig5eGxo6"
      },
      "outputs": [],
      "source": [
        "#1167번: 트리의 지름\n",
        "from collections import deque\n",
        "\n",
        "def bfs(start):\n",
        "    q=deque()\n",
        "    q.append([start,0]) # 노드 번호와 가중치 부여\n",
        "    visited=[False] * (V+1)\n",
        "\n",
        "    visited[start]=True\n",
        "\n",
        "    Mnode=start; Mdist=0\n",
        "\n",
        "    while q: \n",
        "        node,dist=q.popleft()\n",
        "\n",
        "        for v in graph[node]:\n",
        "            tmpnode=v[0]; tmpdist=v[1]\n",
        "\n",
        "            if not visited[tmpnode]:\n",
        "                visited[tmpnode]=True\n",
        "                q.append([tmpnode,tmpdist+dist])\n",
        "\n",
        "                if Mdist<(tmpdist+dist): Mdist=tmpdist+dist; Mnode=tmpnode\n",
        "\n",
        "    return Mnode,Mdist\n",
        "\n",
        "V=int(input())\n",
        "graph=[[] for _ in range(V+1)]\n",
        "\n",
        "for _ in range(V):\n",
        "    array=list(map(int,input().split()))\n",
        "    a=array[0]\n",
        "\n",
        "    for i in range(1,len(array)-2,2):\n",
        "        graph[a].append([array[i],array[i+1]])\n",
        "\n",
        "# 임의의 노드 선정 : graph 중 값이 있는 경우 tmp 노드에 임의의 번호 주었음. \n",
        "for a in graph: \n",
        "    if a: \n",
        "        tmp=graph.index(a); break\n",
        "\n",
        "tmpnode,tmpdist=bfs(tmp)\n",
        "resultnode,resultdist=bfs(tmpnode)\n",
        "print(resultdist)"
      ]
    }
  ]
}