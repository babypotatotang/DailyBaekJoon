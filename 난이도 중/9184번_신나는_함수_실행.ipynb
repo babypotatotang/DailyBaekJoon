{
  "nbformat": 4,
  "nbformat_minor": 0,
  "metadata": {
    "colab": {
      "name": "9184번: 신나는 함수 실행",
      "private_outputs": true,
      "provenance": [],
      "authorship_tag": "ABX9TyOdPEgbKgCkOB8GKPOIDlEE",
      "include_colab_link": true
    },
    "kernelspec": {
      "name": "python3",
      "display_name": "Python 3"
    },
    "language_info": {
      "name": "python"
    }
  },
  "cells": [
    {
      "cell_type": "markdown",
      "metadata": {
        "id": "view-in-github",
        "colab_type": "text"
      },
      "source": [
        "<a href=\"https://colab.research.google.com/github/babypotatotang/BaekJoon/blob/main/9184%EB%B2%88_%EC%8B%A0%EB%82%98%EB%8A%94_%ED%95%A8%EC%88%98_%EC%8B%A4%ED%96%89.ipynb\" target=\"_parent\"><img src=\"https://colab.research.google.com/assets/colab-badge.svg\" alt=\"Open In Colab\"/></a>"
      ]
    },
    {
      "cell_type": "code",
      "execution_count": null,
      "metadata": {
        "id": "CHVJig5eGxo6"
      },
      "outputs": [],
      "source": [
        "#9184번: 신나는 함수 실행\n",
        "def check(a,b,c):\n",
        "    if a<=0 or b<=0 or c<=0: return 1\n",
        "    if a>20 or b>20 or c>20: return check(20,20,20)\n",
        "        \n",
        "    if memo[a][b][c]: return  memo[a][b][c]\n",
        "    elif a<b and b<c: \n",
        "        memo[a][b][c]=check(a,b,c-1)+check(a,b-1,c-1)-check(a,b-1,c)\n",
        "        return memo[a][b][c]\n",
        "    else:\n",
        "        memo[a][b][c]=check(a-1,b,c)+check(a-1,b-1,c)+check(a-1,b,c-1)-check(a-1,b-1,c-1)\n",
        "        return memo[a][b][c]\n",
        "\n",
        "while(1):\n",
        "    a,b,c=map(int,input().split())\n",
        "    if a==-1 and b==-1 and c==-1: break\n",
        "    memo=[[[0]*21 for _ in range(21)] for _ in range(21)]\n",
        "\n",
        "\n",
        "    result=check(a,b,c)\n",
        "    print(\"w(%d, %d, %d) = %d\" %(a, b, c, result))"
      ]
    }
  ]
}