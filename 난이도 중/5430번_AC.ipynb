{
  "nbformat": 4,
  "nbformat_minor": 0,
  "metadata": {
    "colab": {
      "name": "5430번: AC",
      "private_outputs": true,
      "provenance": [],
      "authorship_tag": "ABX9TyMJxHTw9BsoXfFwdP25tqSe",
      "include_colab_link": true
    },
    "kernelspec": {
      "name": "python3",
      "display_name": "Python 3"
    },
    "language_info": {
      "name": "python"
    }
  },
  "cells": [
    {
      "cell_type": "markdown",
      "metadata": {
        "id": "view-in-github",
        "colab_type": "text"
      },
      "source": [
        "<a href=\"https://colab.research.google.com/github/babypotatotang/BaekJoon/blob/main/%EB%82%9C%EC%9D%B4%EB%8F%84%20%EC%A4%91/5430%EB%B2%88_AC.ipynb\" target=\"_parent\"><img src=\"https://colab.research.google.com/assets/colab-badge.svg\" alt=\"Open In Colab\"/></a>"
      ]
    },
    {
      "cell_type": "code",
      "execution_count": null,
      "metadata": {
        "id": "CHVJig5eGxo6"
      },
      "outputs": [],
      "source": [
        "#5430번: AC\n",
        "from collections import deque\n",
        "import sys\n",
        "input=sys.stdin.readline\n",
        "\n",
        "t=int(input())\n",
        "for _ in range(t):\n",
        "    order=list(input().rstrip())\n",
        "    error=False; code=True # 뒤집지 않은 상태\n",
        "\n",
        "    n=int(input())\n",
        "    s=sys.stdin.readline().rstrip()[1:-1].split(',')\n",
        "\n",
        "    if n==0: nums=deque()\n",
        "    else: nums=deque(list(s))\n",
        "\n",
        "    for o in order:\n",
        "        if o=='R': code=not(code)\n",
        "        elif o=='D': \n",
        "            if not nums:\n",
        "                error=True; break\n",
        "            if code:\n",
        "                nums.popleft()\n",
        "            else: nums.pop()\n",
        "\n",
        "    nums=list(nums)\n",
        "\n",
        "    if error: print('error')\n",
        "    elif code: print('['+','.join(nums)+']')\n",
        "    else: print('['+','.join(nums[-1:-(len(nums)+1):-1])+']')"
      ]
    }
  ]
}