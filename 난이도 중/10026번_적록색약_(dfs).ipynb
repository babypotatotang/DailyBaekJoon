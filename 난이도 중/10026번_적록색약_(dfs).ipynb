{
  "nbformat": 4,
  "nbformat_minor": 0,
  "metadata": {
    "colab": {
      "name": "10026번: 적록색약 (dfs)",
      "private_outputs": true,
      "provenance": [],
      "authorship_tag": "ABX9TyOWsX75YN71xTIlqiuS63YL",
      "include_colab_link": true
    },
    "kernelspec": {
      "name": "python3",
      "display_name": "Python 3"
    },
    "language_info": {
      "name": "python"
    }
  },
  "cells": [
    {
      "cell_type": "markdown",
      "metadata": {
        "id": "view-in-github",
        "colab_type": "text"
      },
      "source": [
        "<a href=\"https://colab.research.google.com/github/babypotatotang/BaekJoon/blob/main/%EB%82%9C%EC%9D%B4%EB%8F%84%20%EC%A4%91/10026%EB%B2%88_%EC%A0%81%EB%A1%9D%EC%83%89%EC%95%BD_(dfs).ipynb\" target=\"_parent\"><img src=\"https://colab.research.google.com/assets/colab-badge.svg\" alt=\"Open In Colab\"/></a>"
      ]
    },
    {
      "cell_type": "code",
      "execution_count": null,
      "metadata": {
        "id": "CHVJig5eGxo6"
      },
      "outputs": [],
      "source": [
        "#10026번: 적록색약 (dfs)\n",
        "# sys 해서 재귀 범위 늘려주기.\n",
        "import sys\n",
        "sys.setrecursionlimit(1000000)\n",
        "input = sys.stdin.readline\n",
        "\n",
        "def explore(i,j):\n",
        "    visited[i][j]=True\n",
        "    for k in range(4):\n",
        "        px=i+dx[k]\n",
        "        py=j+dy[k]\n",
        "        if (0<=px<n) and (0<=py<n):\n",
        "            if not visited[px][py]:\n",
        "                if graph[i][j]==graph[px][py]:\n",
        "                    explore(px,py)\n",
        "            \n",
        "dx=[0,0,-1,1]; dy=[-1,1,0,0]\n",
        "\n",
        "n = int(input().rstrip())\n",
        "graph = [list(input().rstrip()) for _ in range(n)]\n",
        "visited = [[False] * n for _ in range(n)]\n",
        "cnt=0\n",
        "\n",
        "for i in range(n):\n",
        "    for j in range(n):\n",
        "        if not visited[i][j]:\n",
        "            explore(i,j)\n",
        "            cnt+=1\n",
        "    \n",
        "for i in range(n):\n",
        "    for j in range(n):\n",
        "        if graph[i][j]=='R':\n",
        "            graph[i][j]='G'\n",
        "\n",
        "visited = [[False] * n for _ in range(n)]\n",
        "cnt2=0\n",
        "\n",
        "for i in range(n):\n",
        "    for j in range(n):\n",
        "        if not visited[i][j]:\n",
        "            explore(i,j)\n",
        "            cnt2+=1\n",
        "\n",
        "print(cnt,cnt2)"
      ]
    }
  ]
}