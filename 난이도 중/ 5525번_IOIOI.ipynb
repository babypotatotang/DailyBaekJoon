{
  "nbformat": 4,
  "nbformat_minor": 0,
  "metadata": {
    "colab": {
      "name": "5525번: IOIOI",
      "private_outputs": true,
      "provenance": [],
      "authorship_tag": "ABX9TyMxjR/I9/ZTCeGabxCW3bQn",
      "include_colab_link": true
    },
    "kernelspec": {
      "name": "python3",
      "display_name": "Python 3"
    },
    "language_info": {
      "name": "python"
    }
  },
  "cells": [
    {
      "cell_type": "markdown",
      "metadata": {
        "id": "view-in-github",
        "colab_type": "text"
      },
      "source": [
        "<a href=\"https://colab.research.google.com/github/babypotatotang/DailyBaekJoon/blob/main/%EB%82%9C%EC%9D%B4%EB%8F%84%20%EC%A4%91/%205525%EB%B2%88_IOIOI.ipynb\" target=\"_parent\"><img src=\"https://colab.research.google.com/assets/colab-badge.svg\" alt=\"Open In Colab\"/></a>"
      ]
    },
    {
      "cell_type": "code",
      "execution_count": null,
      "metadata": {
        "id": "CHVJig5eGxo6"
      },
      "outputs": [],
      "source": [
        "#5525번: IOIOI\n",
        "# import sys\n",
        "# input=sys.stdin.readline\n",
        "\n",
        "N=int(input())\n",
        "M=int(input())\n",
        "S=input()\n",
        "\n",
        "pattern=0\n",
        "cnt=0\n",
        "i=1\n",
        "while (i<M):\n",
        "    if S[i-1:i+2]=='IOI':\n",
        "        pattern+=1\n",
        "        if pattern==N:\n",
        "            cnt+=1\n",
        "            pattern-=1\n",
        "        i+=1\n",
        "    else:\n",
        "        pattern=0\n",
        "\n",
        "    i+=1     \n",
        "print(cnt)"
      ]
    }
  ]
}