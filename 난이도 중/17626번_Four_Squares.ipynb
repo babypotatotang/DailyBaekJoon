{
  "nbformat": 4,
  "nbformat_minor": 0,
  "metadata": {
    "colab": {
      "name": "17626번: Four Squares",
      "private_outputs": true,
      "provenance": [],
      "authorship_tag": "ABX9TyOqKbFN05PH9XzFDuTLo1uf",
      "include_colab_link": true
    },
    "kernelspec": {
      "name": "python3",
      "display_name": "Python 3"
    },
    "language_info": {
      "name": "python"
    }
  },
  "cells": [
    {
      "cell_type": "markdown",
      "metadata": {
        "id": "view-in-github",
        "colab_type": "text"
      },
      "source": [
        "<a href=\"https://colab.research.google.com/github/babypotatotang/BaekJoon/blob/main/%EB%82%9C%EC%9D%B4%EB%8F%84%20%EC%A4%91/17626%EB%B2%88_Four_Squares.ipynb\" target=\"_parent\"><img src=\"https://colab.research.google.com/assets/colab-badge.svg\" alt=\"Open In Colab\"/></a>"
      ]
    },
    {
      "cell_type": "code",
      "execution_count": null,
      "metadata": {
        "id": "CHVJig5eGxo6"
      },
      "outputs": [],
      "source": [
        "#17626번: Four Squares\n",
        "num=int(input())\n",
        "dp=[0]*(num+1)\n",
        "dp[0]=0; dp[1]=1\n",
        "\n",
        "for index in range(2,num+1):\n",
        "    i=1; minV=1e9\n",
        "    while(i**2<=index):\n",
        "        minV=min(minV,dp[index-i**2])\n",
        "        i+=1\n",
        "    dp[index]=minV+1\n",
        "\n",
        "print(dp[num])"
      ]
    }
  ]
}