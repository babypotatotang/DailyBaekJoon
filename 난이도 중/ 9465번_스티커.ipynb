{
  "nbformat": 4,
  "nbformat_minor": 0,
  "metadata": {
    "colab": {
      "name": "9465번: 스티커",
      "private_outputs": true,
      "provenance": [],
      "authorship_tag": "ABX9TyOodZwDvTmaJJwkbbHz3tR6",
      "include_colab_link": true
    },
    "kernelspec": {
      "name": "python3",
      "display_name": "Python 3"
    },
    "language_info": {
      "name": "python"
    }
  },
  "cells": [
    {
      "cell_type": "markdown",
      "metadata": {
        "id": "view-in-github",
        "colab_type": "text"
      },
      "source": [
        "<a href=\"https://colab.research.google.com/github/babypotatotang/DailyBaekJoon/blob/main/%EB%82%9C%EC%9D%B4%EB%8F%84%20%EC%A4%91/%209465%EB%B2%88_%EC%8A%A4%ED%8B%B0%EC%BB%A4.ipynb\" target=\"_parent\"><img src=\"https://colab.research.google.com/assets/colab-badge.svg\" alt=\"Open In Colab\"/></a>"
      ]
    },
    {
      "cell_type": "code",
      "execution_count": null,
      "metadata": {
        "id": "CHVJig5eGxo6"
      },
      "outputs": [],
      "source": [
        "# 9465번: 스티커\n",
        "T=int(input())\n",
        "for _ in range(T):\n",
        "    M=int(input()); graph=[]; \n",
        "    for i in range(2):\n",
        "        graph.append(list(map(int,input().split())))\n",
        "\n",
        "    if M>=2:\n",
        "        graph[0][1]=graph[0][1]+graph[1][0]\n",
        "        graph[1][1]=graph[1][1]+graph[0][0]\n",
        "\n",
        "    if M==1:\n",
        "        print(max(graph[0][0],graph[1][0]))\n",
        "    elif M==2:\n",
        "        print(max(graph[0][1],graph[1][1]))\n",
        "    elif M>2:\n",
        "        for j in range(2,M):\n",
        "            for i in range(2):\n",
        "                if i==0: graph[i][j]=max(graph[1][j-1],graph[1][j-2])+graph[i][j]\n",
        "                else: graph[i][j]=max(graph[0][j-1],graph[0][j-2])+graph[i][j]\n",
        "\n",
        "        print(max(graph[0][M-1],graph[1][M-1]))"
      ]
    }
  ]
}