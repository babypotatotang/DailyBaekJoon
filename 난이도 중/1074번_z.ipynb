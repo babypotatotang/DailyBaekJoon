{
  "nbformat": 4,
  "nbformat_minor": 0,
  "metadata": {
    "colab": {
      "name": "1074번: z",
      "private_outputs": true,
      "provenance": [],
      "authorship_tag": "ABX9TyO9nU98gIlKt84MJ8MjCEbx",
      "include_colab_link": true
    },
    "kernelspec": {
      "name": "python3",
      "display_name": "Python 3"
    },
    "language_info": {
      "name": "python"
    }
  },
  "cells": [
    {
      "cell_type": "markdown",
      "metadata": {
        "id": "view-in-github",
        "colab_type": "text"
      },
      "source": [
        "<a href=\"https://colab.research.google.com/github/babypotatotang/BaekJoon/blob/main/%EB%82%9C%EC%9D%B4%EB%8F%84%20%EC%A4%91/1074%EB%B2%88_z.ipynb\" target=\"_parent\"><img src=\"https://colab.research.google.com/assets/colab-badge.svg\" alt=\"Open In Colab\"/></a>"
      ]
    },
    {
      "cell_type": "code",
      "execution_count": null,
      "metadata": {
        "id": "CHVJig5eGxo6"
      },
      "outputs": [],
      "source": [
        "#1074번: z\n",
        "def divide(size,row,col):\n",
        "    global cnt\n",
        "\n",
        "    if size==2:\n",
        "        for i in range(row,row+size):\n",
        "            for j in range(col,col+size):\n",
        "               cnt+=1\n",
        "               if i==r and j==c:\n",
        "                    print(cnt)\n",
        "                    exit(0)\n",
        "        return\n",
        "    \n",
        "    if not(row<=r<=row+size-1 and col<=c<=col+size-1):\n",
        "        cnt+=(size)*(size) # 사분면 개수 \n",
        "        return \n",
        "    \n",
        "    # 사분면에 속하는 경우 \n",
        "    size=size//2\n",
        "\n",
        "    divide(size,row,col)\n",
        "    divide(size,row,col+size)\n",
        "    divide(size,row+size,col)\n",
        "    divide(size,row+size,col+size)\n",
        "    \n",
        "N,r,c=map(int,input().split())\n",
        "cnt=-1\n",
        "\n",
        "size=2**N\n",
        "\n",
        "divide(size,0,0)"
      ]
    }
  ]
}