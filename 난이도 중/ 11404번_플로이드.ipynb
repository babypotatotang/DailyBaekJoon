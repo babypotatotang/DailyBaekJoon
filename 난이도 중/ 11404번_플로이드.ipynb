{
  "nbformat": 4,
  "nbformat_minor": 0,
  "metadata": {
    "colab": {
      "name": "11404번: 플로이드",
      "private_outputs": true,
      "provenance": [],
      "authorship_tag": "ABX9TyNxyRWQLv0q//L0KJVvRs+e",
      "include_colab_link": true
    },
    "kernelspec": {
      "name": "python3",
      "display_name": "Python 3"
    },
    "language_info": {
      "name": "python"
    }
  },
  "cells": [
    {
      "cell_type": "markdown",
      "metadata": {
        "id": "view-in-github",
        "colab_type": "text"
      },
      "source": [
        "<a href=\"https://colab.research.google.com/github/babypotatotang/DailyBaekJoon/blob/main/%EB%82%9C%EC%9D%B4%EB%8F%84%20%EC%A4%91/%2011404%EB%B2%88_%ED%94%8C%EB%A1%9C%EC%9D%B4%EB%93%9C.ipynb\" target=\"_parent\"><img src=\"https://colab.research.google.com/assets/colab-badge.svg\" alt=\"Open In Colab\"/></a>"
      ]
    },
    {
      "cell_type": "code",
      "execution_count": null,
      "metadata": {
        "id": "CHVJig5eGxo6"
      },
      "outputs": [],
      "source": [
        "#11404번: 플로이드\n",
        "import sys\n",
        "input=sys.stdin.readline \n",
        "\n",
        "import math\n",
        "inf=math.inf\n",
        "N=int(input())\n",
        "M=int(input())\n",
        "graph=[[inf for _ in range(N+1)] for _ in range(N+1)]\n",
        "\n",
        "for i in range(M):\n",
        "    a,b,c=list(map(int,input().rstrip().split()))\n",
        "    graph[a][b]=min(graph[a][b],c)\n",
        "\n",
        "for k in range(1,N+1): #거치는 노드 \n",
        "    for i in range(1,N+1): #출발 노드 \n",
        "        for j in range(1,N+1): #도착 노드 \n",
        "            if i!=j: \n",
        "                graph[i][j]=min(graph[i][j],graph[i][k]+graph[k][j])\n",
        "            else: graph[i][j]=0\n",
        "\n",
        "for i in range(1,N+1):\n",
        "    for j in range(1,N+1):\n",
        "        if graph[i][j]==inf: print(0, end=' ')\n",
        "        else: print(graph[i][j],end=' ')\n",
        "    print()"
      ]
    }
  ]
}