{
  "nbformat": 4,
  "nbformat_minor": 0,
  "metadata": {
    "colab": {
      "name": "15694번: N과 M(1)",
      "private_outputs": true,
      "provenance": [],
      "authorship_tag": "ABX9TyOpxErv77W2D3Ja7mZeMpvG",
      "include_colab_link": true
    },
    "kernelspec": {
      "name": "python3",
      "display_name": "Python 3"
    },
    "language_info": {
      "name": "python"
    }
  },
  "cells": [
    {
      "cell_type": "markdown",
      "metadata": {
        "id": "view-in-github",
        "colab_type": "text"
      },
      "source": [
        "<a href=\"https://colab.research.google.com/github/babypotatotang/BaekJoon/blob/main/15694%EB%B2%88_N%EA%B3%BC_M(1).ipynb\" target=\"_parent\"><img src=\"https://colab.research.google.com/assets/colab-badge.svg\" alt=\"Open In Colab\"/></a>"
      ]
    },
    {
      "cell_type": "code",
      "execution_count": null,
      "metadata": {
        "id": "f0DLECU6ojpB"
      },
      "outputs": [],
      "source": [
        "#15694번 N과 M(1)\n",
        "n,m = list(map(int,input().split()))\n",
        "s = []\n",
        "def dfs():\n",
        "    if len(s)==m:\n",
        "        print(' '.join(map(str,s)))\n",
        "        return\n",
        "    \n",
        "    for i in range(1,n+1):\n",
        "        if i not in s:\n",
        "            s.append(i)\n",
        "            dfs()\n",
        "            s.pop()\n",
        " \n",
        "dfs()"
      ]
    }
  ]
}