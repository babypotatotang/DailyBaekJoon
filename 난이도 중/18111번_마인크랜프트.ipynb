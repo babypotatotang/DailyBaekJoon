{
  "nbformat": 4,
  "nbformat_minor": 0,
  "metadata": {
    "colab": {
      "name": "18111번: 마인크랜프트",
      "private_outputs": true,
      "provenance": [],
      "authorship_tag": "ABX9TyOFQXs/0O3FUpA+zmvaS9O2",
      "include_colab_link": true
    },
    "kernelspec": {
      "name": "python3",
      "display_name": "Python 3"
    },
    "language_info": {
      "name": "python"
    }
  },
  "cells": [
    {
      "cell_type": "markdown",
      "metadata": {
        "id": "view-in-github",
        "colab_type": "text"
      },
      "source": [
        "<a href=\"https://colab.research.google.com/github/babypotatotang/BaekJoon/blob/main/18111%EB%B2%88_%EB%A7%88%EC%9D%B8%ED%81%AC%EB%9E%9C%ED%94%84%ED%8A%B8.ipynb\" target=\"_parent\"><img src=\"https://colab.research.google.com/assets/colab-badge.svg\" alt=\"Open In Colab\"/></a>"
      ]
    },
    {
      "cell_type": "code",
      "execution_count": null,
      "metadata": {
        "id": "CHVJig5eGxo6"
      },
      "outputs": [],
      "source": [
        "#18111번: 마인크랜프트\n",
        "import sys\n",
        "input=sys.stdin.readline\n",
        "\n",
        "N, M, B = map(int, input().split())\n",
        "blocks=[]\n",
        "for _ in range(N): # 입력값 받아옴 \n",
        "    blocks.append(list(map(int,input().split())))\n",
        "\n",
        "Height=-1; Time=10000000000\n",
        "\n",
        "for tmpH in range(0,257): #문제의 조건: 땅의 높이는 256을 초과하지 않는다. \n",
        "    tmpT=0; tmpB=B\n",
        "    for i in range(N):\n",
        "        for j in range(M):\n",
        "            diff=blocks[i][j]-tmpH \n",
        "            tmpB+=diff\n",
        "            if diff<0: #diff가 음수이므로 -1을 곱해서 더해줌 \n",
        "                tmpT+=diff*(-1)\n",
        "            else:\n",
        "                tmpT+=diff*2\n",
        "    \n",
        "    if tmpB>=0 and tmpT==min(tmpT,Time): #Height와 Time을 바꾸는 조건 \n",
        "        Height=tmpH; Time=tmpT\n",
        "\n",
        "print(Time,Height)"
      ]
    }
  ]
}