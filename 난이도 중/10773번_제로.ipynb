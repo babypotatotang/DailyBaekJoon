{
  "nbformat": 4,
  "nbformat_minor": 0,
  "metadata": {
    "colab": {
      "name": "10773번 : 제로",
      "private_outputs": true,
      "provenance": [],
      "authorship_tag": "ABX9TyNnyO0MpG3kfmMd3hwOh5k7",
      "include_colab_link": true
    },
    "kernelspec": {
      "name": "python3",
      "display_name": "Python 3"
    },
    "language_info": {
      "name": "python"
    }
  },
  "cells": [
    {
      "cell_type": "markdown",
      "metadata": {
        "id": "view-in-github",
        "colab_type": "text"
      },
      "source": [
        "<a href=\"https://colab.research.google.com/github/babypotatotang/BaekJoon/blob/main/10773%EB%B2%88_%EC%A0%9C%EB%A1%9C.ipynb\" target=\"_parent\"><img src=\"https://colab.research.google.com/assets/colab-badge.svg\" alt=\"Open In Colab\"/></a>"
      ]
    },
    {
      "cell_type": "code",
      "execution_count": null,
      "metadata": {
        "id": "CHVJig5eGxo6"
      },
      "outputs": [],
      "source": [
        "#10773번 : 제로\n",
        "\n",
        "import sys\n",
        "input=sys.stdin.readline\n",
        "\n",
        "stack=[]\n",
        "K=int(input())\n",
        "for _ in range(K):\n",
        "    num=int(input())\n",
        "    if num==0:\n",
        "        if stack!=[]: stack.pop(-1) # 마지막에 있는 숫자 pop\n",
        "    else: \n",
        "        stack.append(num)\n",
        "\n",
        "print(sum(stack))"
      ]
    }
  ]
}