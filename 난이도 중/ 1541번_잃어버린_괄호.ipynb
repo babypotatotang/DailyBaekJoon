{
  "nbformat": 4,
  "nbformat_minor": 0,
  "metadata": {
    "colab": {
      "name": "1541번: 잃어버린 괄호",
      "private_outputs": true,
      "provenance": [],
      "authorship_tag": "ABX9TyNBjMagicUQZT5oTQU8t57n",
      "include_colab_link": true
    },
    "kernelspec": {
      "name": "python3",
      "display_name": "Python 3"
    },
    "language_info": {
      "name": "python"
    }
  },
  "cells": [
    {
      "cell_type": "markdown",
      "metadata": {
        "id": "view-in-github",
        "colab_type": "text"
      },
      "source": [
        "<a href=\"https://colab.research.google.com/github/babypotatotang/BaekJoon/blob/main/%EB%82%9C%EC%9D%B4%EB%8F%84%20%EC%A4%91/%201541%EB%B2%88_%EC%9E%83%EC%96%B4%EB%B2%84%EB%A6%B0_%EA%B4%84%ED%98%B8.ipynb\" target=\"_parent\"><img src=\"https://colab.research.google.com/assets/colab-badge.svg\" alt=\"Open In Colab\"/></a>"
      ]
    },
    {
      "cell_type": "code",
      "execution_count": null,
      "metadata": {
        "id": "CHVJig5eGxo6"
      },
      "outputs": [],
      "source": [
        "#1541번: 잃어버린 괄호\n",
        "array=input()\n",
        "array=array.split('-')\n",
        "\n",
        "total=[]; answer=0\n",
        "for nums in array:\n",
        "    cnt=0; nums=nums.split('+')\n",
        "    for num in nums:\n",
        "        cnt+=int(num)\n",
        "    total.append(cnt)\n",
        "\n",
        "answer=total[0]\n",
        "for t in total[1:]:\n",
        "    answer-=int(t)\n",
        "\n",
        "print(answer)"
      ]
    }
  ]
}