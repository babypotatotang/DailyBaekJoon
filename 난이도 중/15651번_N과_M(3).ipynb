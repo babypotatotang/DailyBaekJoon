{
  "nbformat": 4,
  "nbformat_minor": 0,
  "metadata": {
    "colab": {
      "name": "15651번: N과 M(3)",
      "private_outputs": true,
      "provenance": [],
      "authorship_tag": "ABX9TyNQOxoHSpY+B6Znv4V2M053",
      "include_colab_link": true
    },
    "kernelspec": {
      "name": "python3",
      "display_name": "Python 3"
    },
    "language_info": {
      "name": "python"
    }
  },
  "cells": [
    {
      "cell_type": "markdown",
      "metadata": {
        "id": "view-in-github",
        "colab_type": "text"
      },
      "source": [
        "<a href=\"https://colab.research.google.com/github/babypotatotang/BaekJoon/blob/main/15651%EB%B2%88_N%EA%B3%BC_M(3).ipynb\" target=\"_parent\"><img src=\"https://colab.research.google.com/assets/colab-badge.svg\" alt=\"Open In Colab\"/></a>"
      ]
    },
    {
      "cell_type": "code",
      "execution_count": null,
      "metadata": {
        "id": "EzW-1fAc1K0B"
      },
      "outputs": [],
      "source": [
        "#15651번 N과 M(3)\n",
        "\n",
        "n,m = list(map(int,input().split()))\n",
        "s=[]; \n",
        "def dfs():\n",
        "    if len(s)==m:\n",
        "        print(' '.join(map(str,s)))\n",
        "        return\n",
        "    \n",
        "    for i in range(1,n+1):\n",
        "            s.append(i)\n",
        "            dfs()\n",
        "            s.pop()\n",
        "\n",
        "dfs()\n"
      ]
    }
  ]
}