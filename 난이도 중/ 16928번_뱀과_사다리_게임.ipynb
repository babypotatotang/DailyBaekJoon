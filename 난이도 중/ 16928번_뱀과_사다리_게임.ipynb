{
  "nbformat": 4,
  "nbformat_minor": 0,
  "metadata": {
    "colab": {
      "name": "16928번: 뱀과 사다리 게임 ",
      "private_outputs": true,
      "provenance": [],
      "authorship_tag": "ABX9TyMz/E5HFQAxE7NCiNuf2fbH",
      "include_colab_link": true
    },
    "kernelspec": {
      "name": "python3",
      "display_name": "Python 3"
    },
    "language_info": {
      "name": "python"
    }
  },
  "cells": [
    {
      "cell_type": "markdown",
      "metadata": {
        "id": "view-in-github",
        "colab_type": "text"
      },
      "source": [
        "<a href=\"https://colab.research.google.com/github/babypotatotang/DailyBaekJoon/blob/main/%EB%82%9C%EC%9D%B4%EB%8F%84%20%EC%A4%91/%2016928%EB%B2%88_%EB%B1%80%EA%B3%BC_%EC%82%AC%EB%8B%A4%EB%A6%AC_%EA%B2%8C%EC%9E%84.ipynb\" target=\"_parent\"><img src=\"https://colab.research.google.com/assets/colab-badge.svg\" alt=\"Open In Colab\"/></a>"
      ]
    },
    {
      "cell_type": "code",
      "execution_count": null,
      "metadata": {
        "id": "CHVJig5eGxo6"
      },
      "outputs": [],
      "source": [
        "#16928번: 뱀과 사다리 게임 \n",
        "\n",
        "from collections import deque\n",
        "def bfs(i):\n",
        "    q=deque()\n",
        "    q.append(i)\n",
        "\n",
        "    while q:\n",
        "        v=q.popleft()\n",
        "        for i in range(1,7):\n",
        "            tmpv=v+i\n",
        "            if 0<tmpv<=100:\n",
        "                if not visited[tmpv]:\n",
        "                    if tmpv in ladder.keys():\n",
        "                        tmpv=ladder[tmpv]\n",
        "\n",
        "                    if tmpv in sneak.keys():\n",
        "                        tmpv=sneak[tmpv]\n",
        "                    if not visited[tmpv]:\n",
        "                        q.append(tmpv)\n",
        "                        graph[tmpv]=graph[v]+1\n",
        "                        visited[tmpv]=True\n",
        "\n",
        "N,M=list(map(int,input().split()))\n",
        "ladder=dict(); sneak=dict()\n",
        "\n",
        "for _ in range(N):\n",
        "    x,y=list(map(int,input().split()))\n",
        "    ladder[x]=y\n",
        "\n",
        "for _ in range(M):\n",
        "    x,y=list(map(int,input().split()))\n",
        "    sneak[x]=y\n",
        "\n",
        "graph=[0]*101\n",
        "visited=[False]*101\n",
        "for i in range(1,101):\n",
        "    if not visited[i]:\n",
        "        visited[i]=True\n",
        "        bfs(i)\n",
        "\n",
        "print(graph[100])"
      ]
    }
  ]
}