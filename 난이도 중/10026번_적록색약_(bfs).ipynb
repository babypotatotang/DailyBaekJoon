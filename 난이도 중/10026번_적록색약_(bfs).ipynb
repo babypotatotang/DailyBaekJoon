{
  "nbformat": 4,
  "nbformat_minor": 0,
  "metadata": {
    "colab": {
      "name": "10026번: 적록색약 (bfs)",
      "private_outputs": true,
      "provenance": [],
      "authorship_tag": "ABX9TyPVEGlNOtFxwsGS7HSSs6SB",
      "include_colab_link": true
    },
    "kernelspec": {
      "name": "python3",
      "display_name": "Python 3"
    },
    "language_info": {
      "name": "python"
    }
  },
  "cells": [
    {
      "cell_type": "markdown",
      "metadata": {
        "id": "view-in-github",
        "colab_type": "text"
      },
      "source": [
        "<a href=\"https://colab.research.google.com/github/babypotatotang/BaekJoon/blob/main/%EB%82%9C%EC%9D%B4%EB%8F%84%20%EC%A4%91/10026%EB%B2%88_%EC%A0%81%EB%A1%9D%EC%83%89%EC%95%BD_(bfs).ipynb\" target=\"_parent\"><img src=\"https://colab.research.google.com/assets/colab-badge.svg\" alt=\"Open In Colab\"/></a>"
      ]
    },
    {
      "cell_type": "code",
      "execution_count": null,
      "metadata": {
        "id": "CHVJig5eGxo6"
      },
      "outputs": [],
      "source": [
        "#10026번: 적록색약(bfs)\n",
        "import sys\n",
        "from collections import deque\n",
        "\n",
        "def bfs(x,y):\n",
        "    q=deque()\n",
        "    q.append([x,y])\n",
        "    \n",
        "    while q:\n",
        "        tmp=q.popleft()\n",
        "        \n",
        "        tmpx=tmp[0]; tmpy=tmp[1]\n",
        "        for i in range(4):\n",
        "            px=tmpx+dx[i]; py=tmpy+dy[i]\n",
        "            if 0<=px<n and 0<=py<n:\n",
        "                if not visited[px][py]:\n",
        "                    if graph[tmpx][tmpy]==graph[px][py]:\n",
        "                        visited[px][py]=True\n",
        "                        q.append([px,py])\n",
        "\n",
        "n = int(input())\n",
        "graph = [list(input()) for _ in range(n)] # 일반\n",
        "\n",
        "dx=[0,0,-1,1]; dy=[-1,1,0,0]\n",
        "visited=[[False for _ in range(n)] for _ in range(n)]\n",
        "cnt=0\n",
        "\n",
        "for i in range(n):\n",
        "    for j in range(n):\n",
        "        if not visited[i][j]:\n",
        "                bfs(i,j)\n",
        "                cnt+=1\n",
        "    \n",
        "for i in range(n):\n",
        "    for j in range(n):\n",
        "        if graph[i][j]=='R':\n",
        "            graph[i][j]='G'\n",
        "\n",
        "visited=[[False for _ in range(n)] for _ in range(n)]\n",
        "cnt2=0\n",
        "\n",
        "for i in range(n):\n",
        "    for j in range(n):\n",
        "        if not visited[i][j]:\n",
        "                bfs(i,j)\n",
        "                cnt2+=1\n",
        "\n",
        "print(cnt,cnt2)"
      ]
    }
  ]
}