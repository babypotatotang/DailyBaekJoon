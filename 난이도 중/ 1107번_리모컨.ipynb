{
  "nbformat": 4,
  "nbformat_minor": 0,
  "metadata": {
    "colab": {
      "name": "1107번: 리모컨",
      "private_outputs": true,
      "provenance": [],
      "authorship_tag": "ABX9TyOaBWjc/wumHpE4jUD3EziJ",
      "include_colab_link": true
    },
    "kernelspec": {
      "name": "python3",
      "display_name": "Python 3"
    },
    "language_info": {
      "name": "python"
    }
  },
  "cells": [
    {
      "cell_type": "markdown",
      "metadata": {
        "id": "view-in-github",
        "colab_type": "text"
      },
      "source": [
        "<a href=\"https://colab.research.google.com/github/babypotatotang/BaekJoon/blob/main/%EB%82%9C%EC%9D%B4%EB%8F%84%20%EC%A4%91/%201107%EB%B2%88_%EB%A6%AC%EB%AA%A8%EC%BB%A8.ipynb\" target=\"_parent\"><img src=\"https://colab.research.google.com/assets/colab-badge.svg\" alt=\"Open In Colab\"/></a>"
      ]
    },
    {
      "cell_type": "code",
      "execution_count": null,
      "metadata": {
        "id": "CHVJig5eGxo6"
      },
      "outputs": [],
      "source": [
        "#1107번: 리모컨\n",
        "# import sys\n",
        "# input=sys.stdin.readline\n",
        "\n",
        "def check(i):\n",
        "    for j in array:\n",
        "        if j in i: return False\n",
        "    return True\n",
        "\n",
        "N=input()\n",
        "M=input()\n",
        "\n",
        "if M=='0': array=[]\n",
        "else: array=input().split()\n",
        "\n",
        "cnt=abs(100-int(N))\n",
        "for i in range(1000001):\n",
        "    if check(str(i)): #고장난 숫자가 없는 경우 \n",
        "        cnt=min(cnt,abs(i-int(N))+len(str(i)))\n",
        "     \n",
        "print(cnt)"
      ]
    }
  ]
}