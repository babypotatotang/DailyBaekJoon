{
  "nbformat": 4,
  "nbformat_minor": 0,
  "metadata": {
    "colab": {
      "name": "15654번: N과 M(5)",
      "private_outputs": true,
      "provenance": [],
      "authorship_tag": "ABX9TyO4j1EYvP95sGSo+rDlS6Gx",
      "include_colab_link": true
    },
    "kernelspec": {
      "name": "python3",
      "display_name": "Python 3"
    },
    "language_info": {
      "name": "python"
    }
  },
  "cells": [
    {
      "cell_type": "markdown",
      "metadata": {
        "id": "view-in-github",
        "colab_type": "text"
      },
      "source": [
        "<a href=\"https://colab.research.google.com/github/babypotatotang/DailyBaekJoon/blob/main/%EB%82%9C%EC%9D%B4%EB%8F%84%20%EC%A4%91/%2015654%EB%B2%88_N%EA%B3%BC_M(5).ipynb\" target=\"_parent\"><img src=\"https://colab.research.google.com/assets/colab-badge.svg\" alt=\"Open In Colab\"/></a>"
      ]
    },
    {
      "cell_type": "code",
      "execution_count": null,
      "metadata": {
        "id": "CHVJig5eGxo6"
      },
      "outputs": [],
      "source": [
        "# 15654번: N과 M(5)\n",
        "\n",
        "N,M=list(map(int,input().split()))\n",
        "array=list(map(int,input().split()))\n",
        "array=sorted(array)\n",
        "visited=[False]*N\n",
        "out=[]\n",
        "\n",
        "def solve(depth):\n",
        "    if depth==M:\n",
        "        print(*out)\n",
        "        return \n",
        "    for i in range(N):\n",
        "        if not visited[i]:\n",
        "            visited[i]=True\n",
        "            out.append(array[i])\n",
        "            solve(depth+1)  \n",
        "            out.pop()\n",
        "            visited[i]=False\n",
        "\n",
        "solve(0)"
      ]
    }
  ]
}