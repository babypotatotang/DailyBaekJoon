{
  "nbformat": 4,
  "nbformat_minor": 0,
  "metadata": {
    "colab": {
      "name": "11866번: 요세푸스 문제 0",
      "private_outputs": true,
      "provenance": [],
      "authorship_tag": "ABX9TyNJd1vHcrYovSan3p4YGb/x",
      "include_colab_link": true
    },
    "kernelspec": {
      "name": "python3",
      "display_name": "Python 3"
    },
    "language_info": {
      "name": "python"
    }
  },
  "cells": [
    {
      "cell_type": "markdown",
      "metadata": {
        "id": "view-in-github",
        "colab_type": "text"
      },
      "source": [
        "<a href=\"https://colab.research.google.com/github/babypotatotang/BaekJoon/blob/main/11866%EB%B2%88_%EC%9A%94%EC%84%B8%ED%91%B8%EC%8A%A4_%EB%AC%B8%EC%A0%9C_0.ipynb\" target=\"_parent\"><img src=\"https://colab.research.google.com/assets/colab-badge.svg\" alt=\"Open In Colab\"/></a>"
      ]
    },
    {
      "cell_type": "code",
      "execution_count": null,
      "metadata": {
        "id": "CHVJig5eGxo6"
      },
      "outputs": [],
      "source": [
        "#11866번: 요세푸스 문제 0\n",
        "from collections import deque\n",
        "import sys\n",
        "input=sys.stdin.readline\n",
        "\n",
        "array=list(map(int,input().split()))\n",
        "N=array[0]; K=array[1]\n",
        "\n",
        "queue=deque([i for i in range(1,N+1)])\n",
        "result=[]\n",
        "while(1):\n",
        "    if len(queue)==0: break\n",
        "\n",
        "    queue.rotate(-(K-1))\n",
        "    result.append(queue.popleft())\n",
        "\n",
        "print(\"<\",end=\"\")\n",
        "for i in range(len(result)):\n",
        "    if i==N-1: print(str(result[i]),end=\"\")\n",
        "    else: print(str(result[i])+\", \",end=\"\")\n",
        "print(\">\",end=\"\")"
      ]
    }
  ]
}