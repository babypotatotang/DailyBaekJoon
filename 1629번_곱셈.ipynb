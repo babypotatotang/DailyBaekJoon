{
  "nbformat": 4,
  "nbformat_minor": 0,
  "metadata": {
    "colab": {
      "name": "1629번: 곱셈",
      "private_outputs": true,
      "provenance": [],
      "authorship_tag": "ABX9TyM9fEniIcRyXtqHwFhEz8EY"
    },
    "kernelspec": {
      "name": "python3",
      "display_name": "Python 3"
    },
    "language_info": {
      "name": "python"
    }
  },
  "cells": [
    {
      "cell_type": "code",
      "execution_count": null,
      "metadata": {
        "id": "HiV2szJtOEf6"
      },
      "outputs": [],
      "source": [
        "a,b,c=map(int,input().split())\n",
        "\n",
        "def sum(a,b):\n",
        "    if b==1:\n",
        "        return a%c\n",
        "    else:\n",
        "        tmp= sum(a,b//2)\n",
        "        if b%2==0: \n",
        "            return (tmp*tmp)%c\n",
        "        else: \n",
        "            return (tmp*tmp*a)%c\n",
        "\n",
        "print(sum(a,b))"
      ]
    }
  ]
}