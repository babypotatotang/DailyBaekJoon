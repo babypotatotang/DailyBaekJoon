{
  "nbformat": 4,
  "nbformat_minor": 0,
  "metadata": {
    "colab": {
      "name": "9019번: DSLR",
      "private_outputs": true,
      "provenance": [],
      "authorship_tag": "ABX9TyNz4bzv3q4TV2y+rHA0Bpc6",
      "include_colab_link": true
    },
    "kernelspec": {
      "name": "python3",
      "display_name": "Python 3"
    },
    "language_info": {
      "name": "python"
    }
  },
  "cells": [
    {
      "cell_type": "markdown",
      "metadata": {
        "id": "view-in-github",
        "colab_type": "text"
      },
      "source": [
        "<a href=\"https://colab.research.google.com/github/babypotatotang/DailyBaekJoon/blob/main/%EB%82%9C%EC%9D%B4%EB%8F%84%20%EC%83%81/9019%EB%B2%88_DSLR.ipynb\" target=\"_parent\"><img src=\"https://colab.research.google.com/assets/colab-badge.svg\" alt=\"Open In Colab\"/></a>"
      ]
    },
    {
      "cell_type": "code",
      "execution_count": null,
      "metadata": {
        "id": "CHVJig5eGxo6"
      },
      "outputs": [],
      "source": [
        "#9019번: DSLR\n",
        "from collections import deque\n",
        "def L(v):\n",
        "    front=v%1000; back=v//1000\n",
        "    return front*10+back\n",
        "\n",
        "def R(v):\n",
        "    front=v%10; back=v//10\n",
        "    return front*1000+back\n",
        "\n",
        "def bfs(a):\n",
        "    answer=''\n",
        "    q=deque()\n",
        "    q.append(((a,answer)))\n",
        "    visited={a}\n",
        "\n",
        "    while q:\n",
        "        v,tmp=q.popleft()\n",
        "\n",
        "        if v==b: \n",
        "            print(tmp); break\n",
        "\n",
        "        D=(2*v)%10000\n",
        "        if D not in visited:\n",
        "            visited.add(D)\n",
        "            q.append((D,tmp+\"D\"))\n",
        "\n",
        "        if v==0: S=9999\n",
        "        else: S=v-1\n",
        "        if S not in visited:\n",
        "            visited.add(S)\n",
        "            q.append((S,tmp+\"S\"))\n",
        "        \n",
        "        vL=L(v);\n",
        "        if vL not in visited:\n",
        "            visited.add(vL)\n",
        "            q.append((vL,tmp+\"L\"))\n",
        "\n",
        "        vR=R(v)\n",
        "        if vR not in visited:\n",
        "            visited.add(vR)\n",
        "            q.append((vR,tmp+\"R\"))\n",
        "\n",
        "n=int(input())\n",
        "for _ in range(n):\n",
        "    a,b=list(map(int,input().split()))\n",
        "    bfs(a)"
      ]
    }
  ]
}