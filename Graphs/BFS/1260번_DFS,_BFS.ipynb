{
  "nbformat": 4,
  "nbformat_minor": 0,
  "metadata": {
    "colab": {
      "name": "1260번: DFS, BFS",
      "private_outputs": true,
      "provenance": [],
      "authorship_tag": "ABX9TyNcJ2yRjXvJy+6wND7P8A56",
      "include_colab_link": true
    },
    "kernelspec": {
      "name": "python3",
      "display_name": "Python 3"
    },
    "language_info": {
      "name": "python"
    }
  },
  "cells": [
    {
      "cell_type": "markdown",
      "metadata": {
        "id": "view-in-github",
        "colab_type": "text"
      },
      "source": [
        "<a href=\"https://colab.research.google.com/github/babypotatotang/BaekJoon/blob/main/%EB%82%9C%EC%9D%B4%EB%8F%84%20%ED%95%98/%201260%EB%B2%88_DFS%2C_BFS.ipynb\" target=\"_parent\"><img src=\"https://colab.research.google.com/assets/colab-badge.svg\" alt=\"Open In Colab\"/></a>"
      ]
    },
    {
      "cell_type": "code",
      "execution_count": null,
      "metadata": {
        "id": "CHVJig5eGxo6"
      },
      "outputs": [],
      "source": [
        "#1260번: DFS, BFS\n",
        "from collections import deque\n",
        "\n",
        "def dfs(start):\n",
        "    global Dpath\n",
        "    visited[start-1]=True\n",
        "    Dpath.append(start)\n",
        "    for edge in graph[start]:\n",
        "        if not visited[edge-1]:\n",
        "            dfs(edge)\n",
        "\n",
        "def bfs(start):\n",
        "    q=deque()\n",
        "    q.append(start)\n",
        "\n",
        "    while q:\n",
        "        v=q.popleft()\n",
        "        visited[v-1]=True\n",
        "\n",
        "        if v not in Bpath:\n",
        "            Bpath.append(v)\n",
        "        \n",
        "        for edge in graph[v]:\n",
        "            if not visited[edge-1]:\n",
        "                q.append(edge)\n",
        "\n",
        "array=list(map(int,input().split()))\n",
        "totalV=array[0]; totalE=array[1]; start=array[2]\n",
        "graph=[[0] for _ in range(totalV+1)]\n",
        "\n",
        "for _ in range(totalE):\n",
        "    array=list(map(int,input().split()))\n",
        "    graph[array[0]].append(array[1])\n",
        "    graph[array[1]].append(array[0])\n",
        "\n",
        "for i in range(len(graph)):\n",
        "    graph[i].remove(0)\n",
        "    graph[i]=sorted(graph[i])\n",
        "\n",
        "visited=[False]*totalV\n",
        "Dpath=[]\n",
        "dfs(start)\n",
        "\n",
        "visited=[False]*totalV\n",
        "Bpath=[]\n",
        "bfs(start)\n",
        "Bpath\n",
        "\n",
        "for i in Dpath:\n",
        "    print(i,end=' ')\n",
        "\n",
        "print()\n",
        "\n",
        "for i in Bpath:\n",
        "    print(i,end=' ')"
      ]
    }
  ]
}