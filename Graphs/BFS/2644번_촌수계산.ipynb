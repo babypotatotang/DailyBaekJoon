{
  "nbformat": 4,
  "nbformat_minor": 0,
  "metadata": {
    "colab": {
      "private_outputs": true,
      "provenance": [],
      "authorship_tag": "ABX9TyO1BX15Da6vrGvtmBIqG1eB",
      "include_colab_link": true
    },
    "kernelspec": {
      "name": "python3",
      "display_name": "Python 3"
    },
    "language_info": {
      "name": "python"
    }
  },
  "cells": [
    {
      "cell_type": "markdown",
      "metadata": {
        "id": "view-in-github",
        "colab_type": "text"
      },
      "source": [
        "<a href=\"https://colab.research.google.com/github/babypotatotang/DailyBaekJoon/blob/main/Graphs/BFS/2644%EB%B2%88_%EC%B4%8C%EC%88%98%EA%B3%84%EC%82%B0.ipynb\" target=\"_parent\"><img src=\"https://colab.research.google.com/assets/colab-badge.svg\" alt=\"Open In Colab\"/></a>"
      ]
    },
    {
      "cell_type": "code",
      "source": [
        "def dfs(v, num):\n",
        "    global ck\n",
        "    num+=1 \n",
        "    visited[v] = True \n",
        "\n",
        "    if v == end: \n",
        "        print(num)\n",
        "        ck = True  \n",
        "        \n",
        "    for node in path[v]:\n",
        "        if not visited[node]:\n",
        "            dfs(node, num)\n",
        "\n",
        "############################\n",
        "\n",
        "N = int(input())\n",
        "start, end = map(int,input().split())\n",
        "path = [[] for _ in range(N+1)] # 각 노드의 경로를 저장\n",
        "\n",
        "for _ in range(int(input())):\n",
        "    a,b = map(int,input().split())\n",
        "    path[a].append(b)\n",
        "    path[b].append(a)\n",
        "\n",
        "visited = [False] * (N+1)\n",
        "ck = False\n",
        "dfs(start, -1)\n",
        "if not ck: print(-1)"
      ],
      "metadata": {
        "id": "Wlad0xatCFHb"
      },
      "execution_count": null,
      "outputs": []
    }
  ]
}