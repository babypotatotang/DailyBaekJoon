{
  "nbformat": 4,
  "nbformat_minor": 0,
  "metadata": {
    "colab": {
      "name": "2606번: 바이러스",
      "private_outputs": true,
      "provenance": [],
      "authorship_tag": "ABX9TyN5oQiUcGULgnc0NHPQ5nTl",
      "include_colab_link": true
    },
    "kernelspec": {
      "name": "python3",
      "display_name": "Python 3"
    },
    "language_info": {
      "name": "python"
    }
  },
  "cells": [
    {
      "cell_type": "markdown",
      "metadata": {
        "id": "view-in-github",
        "colab_type": "text"
      },
      "source": [
        "<a href=\"https://colab.research.google.com/github/babypotatotang/BaekJoon/blob/main/%EB%82%9C%EC%9D%B4%EB%8F%84%20%ED%95%98/2606%EB%B2%88_%EB%B0%94%EC%9D%B4%EB%9F%AC%EC%8A%A4.ipynb\" target=\"_parent\"><img src=\"https://colab.research.google.com/assets/colab-badge.svg\" alt=\"Open In Colab\"/></a>"
      ]
    },
    {
      "cell_type": "code",
      "execution_count": null,
      "metadata": {
        "id": "CHVJig5eGxo6"
      },
      "outputs": [],
      "source": [
        "#2606번: 바이러스\n",
        "def explore(v):\n",
        "    global cnt\n",
        "    visited[v]=True\n",
        "    \n",
        "    for e in graph[v]:\n",
        "        if not visited[e]:\n",
        "            explore(e)\n",
        "            cnt+=1\n",
        "def dfs():\n",
        "    for v in graph[1]:\n",
        "        if not visited[v]:\n",
        "            explore(v)\n",
        "\n",
        "N=int(input()); M=int(input())\n",
        "graph=[[0] for _ in range(N+1)]\n",
        "for _ in range(M):\n",
        "    tmp=list(map(int,input().split()))\n",
        "    graph[tmp[0]].append(tmp[1])\n",
        "    graph[tmp[1]].append(tmp[0])\n",
        "\n",
        "for i in range(N+1):\n",
        "    graph[i].remove(0)\n",
        "\n",
        "visited=[False]*(N+1)\n",
        "cnt=0\n",
        "dfs()\n",
        "print(cnt)"
      ]
    }
  ]
}