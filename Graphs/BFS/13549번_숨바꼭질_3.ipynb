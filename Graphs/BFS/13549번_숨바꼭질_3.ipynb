{
  "nbformat": 4,
  "nbformat_minor": 0,
  "metadata": {
    "colab": {
      "name": "13549번: 숨바꼭질 3",
      "private_outputs": true,
      "provenance": [],
      "authorship_tag": "ABX9TyMBnkGWRJAvJSd7Xd534kmF",
      "include_colab_link": true
    },
    "kernelspec": {
      "name": "python3",
      "display_name": "Python 3"
    },
    "language_info": {
      "name": "python"
    }
  },
  "cells": [
    {
      "cell_type": "markdown",
      "metadata": {
        "id": "view-in-github",
        "colab_type": "text"
      },
      "source": [
        "<a href=\"https://colab.research.google.com/github/babypotatotang/DailyBaekJoon/blob/main/%EB%82%9C%EC%9D%B4%EB%8F%84%20%EC%83%81/13549%EB%B2%88_%EC%88%A8%EB%B0%94%EA%BC%AD%EC%A7%88_3.ipynb\" target=\"_parent\"><img src=\"https://colab.research.google.com/assets/colab-badge.svg\" alt=\"Open In Colab\"/></a>"
      ]
    },
    {
      "cell_type": "code",
      "execution_count": null,
      "metadata": {
        "id": "CHVJig5eGxo6"
      },
      "outputs": [],
      "source": [
        "#13549번: 숨바꼭질 3\n",
        "from collections import deque \n",
        "\n",
        "N,K=list(map(int,input().split()))\n",
        "visited=[-1]*(100001); visited[N]=0\n",
        "\n",
        "q=deque()\n",
        "q.append(N)\n",
        "\n",
        "while q:\n",
        "    L=q.popleft()\n",
        "    \n",
        "    if L==K:\n",
        "        print(visited[L])\n",
        "        exit()\n",
        "        \n",
        "    if 0<=2*L<=100000 and visited[2*L]==-1:\n",
        "        q.appendleft(2*L)\n",
        "        visited[2*L]=visited[L]\n",
        "\n",
        "    if 0<=L-1<=100000 and visited[L-1]==-1: \n",
        "        q.append(L-1)\n",
        "        visited[L-1]=visited[L]+1\n",
        "\n",
        "    if 0<=L+1<=100000 and visited[L+1]==-1:\n",
        "        q.append(L+1)\n",
        "        visited[L+1]=visited[L]+1"
      ]
    }
  ]
}