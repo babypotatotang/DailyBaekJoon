{
  "nbformat": 4,
  "nbformat_minor": 0,
  "metadata": {
    "colab": {
      "name": "11724번: 연결요소의 개수",
      "private_outputs": true,
      "provenance": [],
      "authorship_tag": "ABX9TyOJ9HKS15d7nBJEyuKprLs6",
      "include_colab_link": true
    },
    "kernelspec": {
      "name": "python3",
      "display_name": "Python 3"
    },
    "language_info": {
      "name": "python"
    }
  },
  "cells": [
    {
      "cell_type": "markdown",
      "metadata": {
        "id": "view-in-github",
        "colab_type": "text"
      },
      "source": [
        "<a href=\"https://colab.research.google.com/github/babypotatotang/BaekJoon/blob/main/%EB%82%9C%EC%9D%B4%EB%8F%84%20%EC%A4%91/%2011724%EB%B2%88_%EC%97%B0%EA%B2%B0%EC%9A%94%EC%86%8C%EC%9D%98_%EA%B0%9C%EC%88%98.ipynb\" target=\"_parent\"><img src=\"https://colab.research.google.com/assets/colab-badge.svg\" alt=\"Open In Colab\"/></a>"
      ]
    },
    {
      "cell_type": "code",
      "execution_count": null,
      "metadata": {
        "id": "CHVJig5eGxo6"
      },
      "outputs": [],
      "source": [
        "#11724번: 연결요소의 개수 \n",
        "# import sys\n",
        "# input=sys.stdin.readline\n",
        "from collections import deque\n",
        "\n",
        "def bfs(start):\n",
        "    q=deque()\n",
        "    q.append(start)\n",
        "    visited[start]=True\n",
        "    while q:\n",
        "        v=q.popleft()\n",
        "                        \n",
        "        for e in graph[v]:\n",
        "            if not visited[e]:\n",
        "                visited[e]=True\n",
        "                q.append(e)\n",
        "\n",
        "array=list(map(int,input().split()))\n",
        "graph=[[] for _ in range(array[0]+1)]\n",
        "for _ in range(array[1]):\n",
        "    edge=list(map(int,input().split()))\n",
        "    graph[edge[0]].append(edge[1])\n",
        "    graph[edge[1]].append(edge[0])\n",
        "\n",
        "visited=[False]*(array[0]+1)\n",
        "cnt=0\n",
        "\n",
        "for i in range(1,array[0]+1):\n",
        "    if not visited[i]:\n",
        "        if not graph[i]:\n",
        "            cnt+=1\n",
        "            visited[i]=True\n",
        "        else:   \n",
        "            bfs(i)\n",
        "            cnt+=1    \n",
        "\n",
        "print(cnt)"
      ]
    }
  ]
}