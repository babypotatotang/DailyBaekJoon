{
  "nbformat": 4,
  "nbformat_minor": 0,
  "metadata": {
    "colab": {
      "private_outputs": true,
      "provenance": [],
      "authorship_tag": "ABX9TyNk2H1PEBsrczXyKTm2NvBB",
      "include_colab_link": true
    },
    "kernelspec": {
      "name": "python3",
      "display_name": "Python 3"
    },
    "language_info": {
      "name": "python"
    }
  },
  "cells": [
    {
      "cell_type": "markdown",
      "metadata": {
        "id": "view-in-github",
        "colab_type": "text"
      },
      "source": [
        "<a href=\"https://colab.research.google.com/github/babypotatotang/DailyBaekJoon/blob/main/Graphs/BFS/18352%EB%B2%88.%ED%8A%B9%EC%A0%95%20%EA%B1%B0%EB%A6%AC%EC%9D%98%20%EB%8F%84%EC%8B%9C%20%EC%B0%BE%EA%B8%B0.ipynb\" target=\"_parent\"><img src=\"https://colab.research.google.com/assets/colab-badge.svg\" alt=\"Open In Colab\"/></a>"
      ]
    },
    {
      "cell_type": "code",
      "source": [
        "# https://www.acmicpc.net/problem/18352\n",
        "from collections import deque\n",
        "import sys\n",
        "f = sys.stdin.readline\n",
        "\n",
        "n, m, k, x = map(int, f().split())\n",
        "graph = [[] for _ in range(n+1)]\n",
        "distance = [0] * (n+1)\n",
        "visited = [False] * (n+1)\n",
        "\n",
        "for _ in range(m):\n",
        "    a, b = map(int, f().split())\n",
        "    graph[a].append(b)\n",
        "\n",
        "def bfs(start):\n",
        "    answer = []\n",
        "    q = deque([start])\n",
        "    visited[start] = True\n",
        "    distance[start] = 0\n",
        "    while q:\n",
        "        now = q.popleft()\n",
        "        for i in graph[now]:\n",
        "            if not visited[i]:\n",
        "                visited[i] = True\n",
        "                q.append(i)\n",
        "                distance[i] = distance[now] + 1\n",
        "                if distance[i] == k:\n",
        "                    answer.append(i)\n",
        "    if len(answer) == 0:\n",
        "        print(-1)\n",
        "    else:\n",
        "        answer.sort()\n",
        "        for i in answer:\n",
        "            print(i, end='\\n')\n",
        "\n",
        "bfs(x)"
      ],
      "metadata": {
        "id": "dIIcjAnzJwQ6"
      },
      "execution_count": null,
      "outputs": []
    }
  ]
}