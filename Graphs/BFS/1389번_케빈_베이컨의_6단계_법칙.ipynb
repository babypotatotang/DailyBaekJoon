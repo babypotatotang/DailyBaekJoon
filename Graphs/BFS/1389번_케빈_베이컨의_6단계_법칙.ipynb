{
  "nbformat": 4,
  "nbformat_minor": 0,
  "metadata": {
    "colab": {
      "name": "1389번: 케빈 베이컨의 6단계 법칙",
      "private_outputs": true,
      "provenance": [],
      "authorship_tag": "ABX9TyN+UuNo40XhUNXAvZuw7xKk",
      "include_colab_link": true
    },
    "kernelspec": {
      "name": "python3",
      "display_name": "Python 3"
    },
    "language_info": {
      "name": "python"
    }
  },
  "cells": [
    {
      "cell_type": "markdown",
      "metadata": {
        "id": "view-in-github",
        "colab_type": "text"
      },
      "source": [
        "<a href=\"https://colab.research.google.com/github/babypotatotang/BaekJoon/blob/main/%EB%82%9C%EC%9D%B4%EB%8F%84%20%EC%A4%91/%201389%EB%B2%88_%EC%BC%80%EB%B9%88_%EB%B2%A0%EC%9D%B4%EC%BB%A8%EC%9D%98_6%EB%8B%A8%EA%B3%84_%EB%B2%95%EC%B9%99.ipynb\" target=\"_parent\"><img src=\"https://colab.research.google.com/assets/colab-badge.svg\" alt=\"Open In Colab\"/></a>"
      ]
    },
    {
      "cell_type": "code",
      "execution_count": null,
      "metadata": {
        "id": "CHVJig5eGxo6"
      },
      "outputs": [],
      "source": [
        "#1389번: 케빈 베이컨의 6단계 법칙\n",
        "\n",
        "from collections import deque\n",
        "\n",
        "def bfs(start):\n",
        "    q=deque([start])\n",
        "    visited=[start]\n",
        "    num=[0]*(N+1)\n",
        "\n",
        "    while q:\n",
        "        v=q.popleft()\n",
        "        for e in graph[v]:\n",
        "            if e not in visited:\n",
        "                q.append(e)\n",
        "                visited.append(e)\n",
        "                num[e]=num[v]+1\n",
        "    return sum(num)\n",
        "\n",
        "\n",
        "N,M=list(map(int,input().split()))\n",
        "graph=[[ ]for _ in range(N+1)]\n",
        "for _ in range(M):\n",
        "    a,b=list(map(int,input().split()))\n",
        "    graph[a].append(b); graph[b].append(a)\n",
        "\n",
        "dist=[]\n",
        "for i in range(1,N+1):\n",
        "    dist.append(bfs(i))\n",
        "\n",
        "print(dist.index(min(dist))+1)"
      ]
    }
  ]
}