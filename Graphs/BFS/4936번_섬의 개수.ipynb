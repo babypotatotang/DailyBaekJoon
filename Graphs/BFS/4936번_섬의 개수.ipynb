{
 "cells": [
  {
   "cell_type": "code",
   "execution_count": 40,
   "metadata": {},
   "outputs": [
    {
     "name": "stdout",
     "output_type": "stream",
     "text": [
      "1\n",
      "1\n",
      "1\n",
      "9\n"
     ]
    }
   ],
   "source": [
    "from collections import deque \n",
    "\n",
    "dx = [1,1,1,0,0,-1,-1,-1]\n",
    "dy = [-1,0,1,-1,1,-1,0,1]\n",
    "\n",
    "\n",
    "def bfs(OriginX,OriginY):\n",
    "    global graph, IslandCnt\n",
    "    q = deque([])\n",
    "    q.append([OriginX, OriginY])\n",
    "    \n",
    "    while q:\n",
    "        NowX, NowY = q.popleft()\n",
    "\n",
    "        for i in range(8):\n",
    "            TmpX = NowX + dx[i]\n",
    "            TmpY = NowY + dy[i]\n",
    "\n",
    "            if 0 <=TmpX<h and 0<=TmpY<w:\n",
    "                if graph[TmpX][TmpY] == '1':\n",
    "                    q.append([TmpX,TmpY])\n",
    "                    graph[TmpX][TmpY] = -1 # 방문 표시 \n",
    "\n",
    "    IslandCnt +=1\n",
    "\n",
    "while(1):\n",
    "    w,h=list(map(int,input().split()))\n",
    "\n",
    "    if w == 0 and h == 0: break\n",
    "\n",
    "    graph=[]; IslandCnt = 0\n",
    "    \n",
    "    for _ in range(h):\n",
    "        graph.append(input().split())\n",
    "\n",
    "    for x in range(h):\n",
    "        for y in range(w):\n",
    "            if graph[x][y] == '1':\n",
    "                bfs(x,y)\n",
    "            \n",
    "    print(IslandCnt)\n"
   ]
  }
 ],
 "metadata": {
  "kernelspec": {
   "display_name": "Python 3.9.5 64-bit",
   "language": "python",
   "name": "python3"
  },
  "language_info": {
   "codemirror_mode": {
    "name": "ipython",
    "version": 3
   },
   "file_extension": ".py",
   "mimetype": "text/x-python",
   "name": "python",
   "nbconvert_exporter": "python",
   "pygments_lexer": "ipython3",
   "version": "3.9.5"
  },
  "orig_nbformat": 4,
  "vscode": {
   "interpreter": {
    "hash": "15d62748266f8ea3611532b4892b57da5cd2aa28e021beffc1d944f2abb52c0e"
   }
  }
 },
 "nbformat": 4,
 "nbformat_minor": 2
}
