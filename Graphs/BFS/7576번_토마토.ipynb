{
  "nbformat": 4,
  "nbformat_minor": 0,
  "metadata": {
    "colab": {
      "name": "7576번: 토마토",
      "private_outputs": true,
      "provenance": [],
      "authorship_tag": "ABX9TyPBWfgj9zgaIQ50R3TSPckz",
      "include_colab_link": true
    },
    "kernelspec": {
      "name": "python3",
      "display_name": "Python 3"
    },
    "language_info": {
      "name": "python"
    }
  },
  "cells": [
    {
      "cell_type": "markdown",
      "metadata": {
        "id": "view-in-github",
        "colab_type": "text"
      },
      "source": [
        "<a href=\"https://colab.research.google.com/github/babypotatotang/BaekJoon/blob/main/%EB%82%9C%EC%9D%B4%EB%8F%84%20%EC%A4%91/%207576%EB%B2%88_%ED%86%A0%EB%A7%88%ED%86%A0.ipynb\" target=\"_parent\"><img src=\"https://colab.research.google.com/assets/colab-badge.svg\" alt=\"Open In Colab\"/></a>"
      ]
    },
    {
      "cell_type": "code",
      "execution_count": null,
      "metadata": {
        "id": "CHVJig5eGxo6"
      },
      "outputs": [],
      "source": [
        "# 7576번: 토마토\n",
        "from collections import deque\n",
        "dx=[0,0,-1,1]; dy=[1,-1,0,0]\n",
        "\n",
        "def checkbox(box):\n",
        "    boxs=sum(box,[])\n",
        "    if 0 in boxs:\n",
        "        return True\n",
        "    else:\n",
        "        return False\n",
        "\n",
        "def bfs(graph):\n",
        "    global day \n",
        "    q=deque(graph)\n",
        "\n",
        "    while q:\n",
        "        r,c=q.popleft()\n",
        "        \n",
        "        for i in range(4):\n",
        "            tmpr=r+dx[i]\n",
        "            tmpc=c+dy[i]\n",
        "            if 0<=tmpr<N and 0<=tmpc<M:\n",
        "                if box[tmpr][tmpc]==0:\n",
        "                    day[tmpr][tmpc]=day[r][c]+1\n",
        "                    q.append([tmpr,tmpc])\n",
        "                    box[tmpr][tmpc]=1\n",
        "\n",
        "    return \n",
        "\n",
        "\n",
        "M,N=map(int,input().split())\n",
        "box=[[0 for _ in range(M)] for _ in range(N)]\n",
        "graph=[]\n",
        "\n",
        "for i in range(N):\n",
        "    data=list(map(int,input().split()))\n",
        "    for j in range(M):\n",
        "        box[i][j]=data[j]\n",
        "        if data[j]==1: graph.append([i,j])\n",
        "\n",
        "if checkbox(box): \n",
        "    # box에 썩지 않은 토마토가 있다면 \n",
        "    day=[[0 for _ in range(M)] for _ in range(N)]\n",
        "\n",
        "    bfs(graph)\n",
        "\n",
        "    days=sum(day,[])\n",
        "\n",
        "    if checkbox(box): # 탐색을 마쳐도 썩지 않은 토마토가 있다면 \n",
        "        print(-1)\n",
        "    else:\n",
        "        print(max(days))\n",
        "else:\n",
        "    # 썩을 토마토가 없는 경우 \n",
        "    print(0)"
      ]
    }
  ]
}