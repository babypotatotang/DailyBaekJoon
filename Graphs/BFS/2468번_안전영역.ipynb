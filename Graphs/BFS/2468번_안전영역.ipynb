{
  "nbformat": 4,
  "nbformat_minor": 0,
  "metadata": {
    "colab": {
      "private_outputs": true,
      "provenance": [],
      "authorship_tag": "ABX9TyMqPboJ0kF+DsPrdg/jiI2e",
      "include_colab_link": true
    },
    "kernelspec": {
      "name": "python3",
      "display_name": "Python 3"
    },
    "language_info": {
      "name": "python"
    }
  },
  "cells": [
    {
      "cell_type": "markdown",
      "metadata": {
        "id": "view-in-github",
        "colab_type": "text"
      },
      "source": [
        "<a href=\"https://colab.research.google.com/github/babypotatotang/DailyBaekJoon/blob/main/Graphs/BFS/2468%EB%B2%88_%EC%95%88%EC%A0%84%EC%98%81%EC%97%AD.ipynb\" target=\"_parent\"><img src=\"https://colab.research.google.com/assets/colab-badge.svg\" alt=\"Open In Colab\"/></a>"
      ]
    },
    {
      "cell_type": "code",
      "source": [
        "from collections import deque \n",
        "\n",
        "def bfs(x, y, h, visited):\n",
        "    dx = [1, -1, 0, 0]\n",
        "    dy = [0, 0, 1, -1]\n",
        "\n",
        "    q = deque()\n",
        "    q.append((x,y))\n",
        "    visited[x][y] = True\n",
        "\n",
        "    while q:\n",
        "        x, y = q.popleft()\n",
        "\n",
        "        for i in range(4):\n",
        "            tmpx = x + dx[i]; tmpy = y + dy[i]\n",
        "            if 0 <= tmpx < N and 0 <= tmpy < N: \n",
        "                if geo[tmpx][tmpy] > h and not visited[tmpx][tmpy]: \n",
        "                    q.append((tmpx,tmpy))\n",
        "                    visited[tmpx][tmpy] = True\n",
        "\n",
        "N = int(input())\n",
        "geo = []; maxH = 0\n",
        "\n",
        "for _ in range(N):\n",
        "    line = list(map(int,input().split()))\n",
        "    maxH = max(maxH, max(line))\n",
        "    geo.append(line)\n",
        "\n",
        "result = 0 \n",
        "for H in range(1, maxH): \n",
        "    visited = [[False for _ in range(N)] for _ in range(N)]\n",
        "    cnt = 0 \n",
        "\n",
        "    for x in range(N):\n",
        "        for y in range(N): \n",
        "            if geo[x][y] > H and not visited[x][y]:\n",
        "                bfs(x,y,H, visited)\n",
        "                cnt +=1 \n",
        "\n",
        "    result = max(result, cnt)\n",
        "\n",
        "print(result) if result > 0 else print(1)"
      ],
      "metadata": {
        "id": "Wlad0xatCFHb"
      },
      "execution_count": null,
      "outputs": []
    }
  ]
}