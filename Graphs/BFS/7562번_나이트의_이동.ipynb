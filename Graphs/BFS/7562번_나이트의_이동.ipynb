{
  "nbformat": 4,
  "nbformat_minor": 0,
  "metadata": {
    "colab": {
      "private_outputs": true,
      "provenance": [],
      "authorship_tag": "ABX9TyO024soq5PJGQIWN4Z04fev",
      "include_colab_link": true
    },
    "kernelspec": {
      "name": "python3",
      "display_name": "Python 3"
    },
    "language_info": {
      "name": "python"
    }
  },
  "cells": [
    {
      "cell_type": "markdown",
      "metadata": {
        "id": "view-in-github",
        "colab_type": "text"
      },
      "source": [
        "<a href=\"https://colab.research.google.com/github/babypotatotang/DailyBaekJoon/blob/main/Graphs/BFS/7562%EB%B2%88_%EB%82%98%EC%9D%B4%ED%8A%B8%EC%9D%98_%EC%9D%B4%EB%8F%99.ipynb\" target=\"_parent\"><img src=\"https://colab.research.google.com/assets/colab-badge.svg\" alt=\"Open In Colab\"/></a>"
      ]
    },
    {
      "cell_type": "code",
      "source": [
        "from collections import deque\n",
        "import sys\n",
        "input = sys.stdin.readline\n",
        "\n",
        "def bfs(ox,oy, tx, ty, visited):\n",
        "\n",
        "    # 나이트 말의 방향 \n",
        "    dx = [-2,-2,-1,1,2,2,1,-1]\n",
        "    dy = [-1,1,2,2,1,-1,-2,-2]\n",
        "\n",
        "    q = deque()\n",
        "    q.append((ox,oy))\n",
        "\n",
        "    while q:\n",
        "        x, y = q.popleft()\n",
        "        if x == tx and y == ty: \n",
        "            return visited[x][y] - 1\n",
        "\n",
        "        for i in range(8):\n",
        "            tmpx = x + dx[i]\n",
        "            tmpy = y + dy[i]\n",
        "\n",
        "            if 0<=tmpx<I and 0<=tmpy<I:\n",
        "                if visited[tmpx][tmpy]==0:\n",
        "                    visited[tmpx][tmpy] = visited[x][y] + 1 # 이전 방문 횟수에 + 1\n",
        "                    q.append((tmpx,tmpy))\n",
        "\n",
        "\n",
        "#######################################################\n",
        "\n",
        "N = int(input().rstrip())\n",
        "for _ in range(N): \n",
        "    I = int(input().rstrip())\n",
        "    visited = [[0] * I for _ in range(I)] # 몇번째 방문인지는 visited 변수에서 관리 \n",
        "\n",
        "    ox, oy = map(int,input().rstrip().split())\n",
        "    tx, ty = map(int,input().rstrip().split())\n",
        "\n",
        "    visited[ox][oy] = 1\n",
        "\n",
        "    print(bfs(ox,oy,tx, ty, visited))"
      ],
      "metadata": {
        "id": "Wlad0xatCFHb"
      },
      "execution_count": null,
      "outputs": []
    }
  ]
}