{
  "nbformat": 4,
  "nbformat_minor": 0,
  "metadata": {
    "colab": {
      "name": "1697번: 숨바꼭질",
      "private_outputs": true,
      "provenance": [],
      "authorship_tag": "ABX9TyMOjzL/ZVn2zSwLq4YN8E3O",
      "include_colab_link": true
    },
    "kernelspec": {
      "name": "python3",
      "display_name": "Python 3"
    },
    "language_info": {
      "name": "python"
    }
  },
  "cells": [
    {
      "cell_type": "markdown",
      "metadata": {
        "id": "view-in-github",
        "colab_type": "text"
      },
      "source": [
        "<a href=\"https://colab.research.google.com/github/babypotatotang/BaekJoon/blob/main/%EB%82%9C%EC%9D%B4%EB%8F%84%20%EC%A4%91/1697%EB%B2%88_%EC%88%A8%EB%B0%94%EA%BC%AD%EC%A7%88.ipynb\" target=\"_parent\"><img src=\"https://colab.research.google.com/assets/colab-badge.svg\" alt=\"Open In Colab\"/></a>"
      ]
    },
    {
      "cell_type": "code",
      "execution_count": null,
      "metadata": {
        "id": "CHVJig5eGxo6"
      },
      "outputs": [],
      "source": [
        "#1697번: 숨바꼭질\n",
        "from collections import deque\n",
        "\n",
        "def bfs(start):\n",
        "    global time, visited\n",
        "    q=deque()\n",
        "    q.append(start)\n",
        "\n",
        "    while q:\n",
        "        v=q.popleft()\n",
        "        visited[v]=True\n",
        "        if v == K:\n",
        "            print(time[K])\n",
        "            return \n",
        "\n",
        "        for e in [v-1,v+1,v*2]:\n",
        "            if 0<=e<=100000:\n",
        "                if not visited[e]:\n",
        "                    q.append(e)\n",
        "                    visited[e]=True\n",
        "                    time[e]=time[v]+1\n",
        "                    \n",
        "        \n",
        "\n",
        "N,K=map(int,input().split())\n",
        "visited=[False for _ in range(100001)]\n",
        "time=[0 for _ in range(100001)]\n",
        "bfs(N) "
      ]
    }
  ]
}