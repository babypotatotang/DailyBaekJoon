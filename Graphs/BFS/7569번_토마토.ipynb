{
  "nbformat": 4,
  "nbformat_minor": 0,
  "metadata": {
    "colab": {
      "name": "7569번: 토마토 ",
      "private_outputs": true,
      "provenance": [],
      "authorship_tag": "ABX9TyNsAHvvZr9MOWBdTW/zTTAq",
      "include_colab_link": true
    },
    "kernelspec": {
      "name": "python3",
      "display_name": "Python 3"
    },
    "language_info": {
      "name": "python"
    }
  },
  "cells": [
    {
      "cell_type": "markdown",
      "metadata": {
        "id": "view-in-github",
        "colab_type": "text"
      },
      "source": [
        "<a href=\"https://colab.research.google.com/github/babypotatotang/BaekJoon/blob/main/%EB%82%9C%EC%9D%B4%EB%8F%84%20%EC%A4%91/7569%EB%B2%88_%ED%86%A0%EB%A7%88%ED%86%A0.ipynb\" target=\"_parent\"><img src=\"https://colab.research.google.com/assets/colab-badge.svg\" alt=\"Open In Colab\"/></a>"
      ]
    },
    {
      "cell_type": "code",
      "execution_count": null,
      "metadata": {
        "id": "CHVJig5eGxo6"
      },
      "outputs": [],
      "source": [
        "#7569번: 토마토 \n",
        "from collections import deque\n",
        "import sys\n",
        "input= sys.stdin.readline \n",
        "\n",
        "def checkbox(box):\n",
        "    boxs=sum(sum(box,[]),[])\n",
        "    \n",
        "    if 0 in boxs:\n",
        "        return True\n",
        "    else:\n",
        "        return False\n",
        "\n",
        "def bfs(graph):\n",
        "    q=deque(graph)\n",
        "\n",
        "    while(q):\n",
        "        ph,px,py=q.popleft()\n",
        "        \n",
        "        for d in directions:\n",
        "            tmph=ph+d[0]; tmpx=px+d[1]; tmpy=py+d[2]\n",
        "            if 0<=tmpx<N and 0<=tmpy<M and 0<=tmph<H:\n",
        "                if layers[tmph][tmpx][tmpy]==0:\n",
        "                    q.append([tmph,tmpx,tmpy])\n",
        "                    day[tmph][tmpx][tmpy]=day[ph][px][py]+1\n",
        "                    layers[tmph][tmpx][tmpy]=1\n",
        "\n",
        "\n",
        "directions=[[0,0,1],[0,0,-1],[0,1,0],[0,-1,0],[-1,0,0],[1,0,0]]\n",
        "\n",
        "M,N,H=list(map(int,input().split()))\n",
        "layers=[]\n",
        "for _ in range(H):\n",
        "    layer=[]\n",
        "    for _ in range(N):\n",
        "        layer.append(list(map(int,input().split())))\n",
        "    layers.append(layer)\n",
        "\n",
        "graph=[]\n",
        "# 익은 토마토 위치 확인 \n",
        "for h in range(0,H):\n",
        "    for n in range(0,N):\n",
        "        for m in range(0,M):\n",
        "            if layers[h][n][m]==1:\n",
        "                graph.append([h,n,m])\n",
        "\n",
        "\n",
        "if checkbox(layers): # 썩을 토마토가 있으면 \n",
        "    # box에 썩지 않은 토마토가 있다면 \n",
        "    day=[[[0 for _ in range(M)]for _ in range(N)] for _ in range(H)]\n",
        "    bfs(graph)\n",
        "    days=sum(sum(day,[]),[])\n",
        "\n",
        "    if checkbox(layers): # 탐색을 마쳐도 썩지 않은 토마토가 있다면 \n",
        "        print(-1)\n",
        "    else:\n",
        "        print(max(days))\n",
        "else:\n",
        "    print(0)"
      ]
    }
  ]
}