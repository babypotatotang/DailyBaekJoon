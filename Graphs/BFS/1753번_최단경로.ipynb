{
  "nbformat": 4,
  "nbformat_minor": 0,
  "metadata": {
    "colab": {
      "name": "1753번: 최단경로",
      "private_outputs": true,
      "provenance": [],
      "authorship_tag": "ABX9TyNDToCMSWPDQQyB5n4ECJsp",
      "include_colab_link": true
    },
    "kernelspec": {
      "name": "python3",
      "display_name": "Python 3"
    },
    "language_info": {
      "name": "python"
    }
  },
  "cells": [
    {
      "cell_type": "markdown",
      "metadata": {
        "id": "view-in-github",
        "colab_type": "text"
      },
      "source": [
        "<a href=\"https://colab.research.google.com/github/babypotatotang/DailyBaekJoon/blob/main/%EB%82%9C%EC%9D%B4%EB%8F%84%20%EC%A4%91/%201753%EB%B2%88_%EC%B5%9C%EB%8B%A8%EA%B2%BD%EB%A1%9C.ipynb\" target=\"_parent\"><img src=\"https://colab.research.google.com/assets/colab-badge.svg\" alt=\"Open In Colab\"/></a>"
      ]
    },
    {
      "cell_type": "code",
      "execution_count": null,
      "metadata": {
        "id": "CHVJig5eGxo6"
      },
      "outputs": [],
      "source": [
        "import heapq\n",
        "# import sys \n",
        "\n",
        "# input = sys.stdin.readline\n",
        "# INF=sys.maxsize\n",
        "INF=1000\n",
        "\n",
        "def dijkstra(graph,s):\n",
        "    dist=[INF]*(V+1)\n",
        "    dist[S]=0\n",
        "\n",
        "    Hq=[]\n",
        "    heapq.heappush(Hq,[0,S])\n",
        "\n",
        "    while Hq:\n",
        "        dist_u,u=heapq.heappop(Hq)\n",
        "\n",
        "        # dist[u]가 더 작다면 이미 최단 경로이므로 continue(다음 loop 돌기)\n",
        "        if dist[u]<dist_u:\n",
        "            continue\n",
        "\n",
        "        for v,w in graph[u]:\n",
        "            tmp=dist_u+w\n",
        "            if dist[v]>tmp:\n",
        "                dist[v]=tmp\n",
        "                heapq.heappush(Hq,[tmp,v])\n",
        "                \n",
        "    return dist\n",
        "\n",
        "\n",
        "V,E=list(map(int,input().split()))\n",
        "S=int(input())\n",
        "\n",
        "graph=[[] for _ in range(V+1)] # 노드 연결 정보 list\n",
        "\n",
        "for _ in range(E):\n",
        "    u,v,w=list(map(int,input().split()))\n",
        "    graph[u].append([v,w])\n",
        "\n",
        "result=dijkstra(graph,S)\n",
        "for r in result[1:]:\n",
        "    if r==INF: print(\"INF\")\n",
        "    else: print(r)"
      ]
    }
  ]
}