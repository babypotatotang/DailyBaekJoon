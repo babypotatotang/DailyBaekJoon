{
  "nbformat": 4,
  "nbformat_minor": 0,
  "metadata": {
    "colab": {
      "private_outputs": true,
      "provenance": [],
      "authorship_tag": "ABX9TyPQ4EAwdC4mOd0wrIM2txyV",
      "include_colab_link": true
    },
    "kernelspec": {
      "name": "python3",
      "display_name": "Python 3"
    },
    "language_info": {
      "name": "python"
    }
  },
  "cells": [
    {
      "cell_type": "markdown",
      "metadata": {
        "id": "view-in-github",
        "colab_type": "text"
      },
      "source": [
        "<a href=\"https://colab.research.google.com/github/babypotatotang/DailyBaekJoon/blob/main/Graphs/BFS/1926%EB%B2%88_%EA%B7%B8%EB%A6%BC.ipynb\" target=\"_parent\"><img src=\"https://colab.research.google.com/assets/colab-badge.svg\" alt=\"Open In Colab\"/></a>"
      ]
    },
    {
      "cell_type": "code",
      "source": [
        "from collections import deque\n",
        "\n",
        "def bfs(i,j):\n",
        "    q = deque()\n",
        "    q.append((i,j))\n",
        "    visited[i][j] = True \n",
        "\n",
        "    dx = [1,-1,0,0]\n",
        "    dy = [0,0,-1,1]\n",
        "    \n",
        "    space = 0\n",
        "\n",
        "    while q:\n",
        "        x, y = q.popleft()\n",
        "        space += 1\n",
        "        for i in range(4):\n",
        "            tmpx = x + dx[i]; tmpy = y + dy[i]\n",
        "            if 0<=tmpx<N and 0<=tmpy<M:\n",
        "                if not visited[tmpx][tmpy]:\n",
        "                    if graph[tmpx][tmpy] == 1: \n",
        "                        q.append((tmpx,tmpy))    \n",
        "                        visited[tmpx][tmpy] = True \n",
        "                        \n",
        "    return space\n",
        "    \n",
        "#############################################################\n",
        "\n",
        "N,M = map(int,input().split())\n",
        "graph = []\n",
        "\n",
        "for _ in range(N): \n",
        "    graph.append(list(map(int,input().split())))\n",
        "\n",
        "visited = [[False]*M for _ in range(N)]\n",
        "res = []\n",
        "\n",
        "for x in range(N):\n",
        "    for y in range(M):\n",
        "        if not visited[x][y]:\n",
        "            if graph[x][y] == 1:\n",
        "                res.append(bfs(x,y))\n",
        "\n",
        "\n",
        "print(len(res))\n",
        "print(max(res)) if len(res) !=0 else print(0)"
      ],
      "metadata": {
        "id": "dIIcjAnzJwQ6"
      },
      "execution_count": null,
      "outputs": []
    }
  ]
}