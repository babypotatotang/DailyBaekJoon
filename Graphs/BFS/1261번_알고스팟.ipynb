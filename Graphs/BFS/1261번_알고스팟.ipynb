{
  "nbformat": 4,
  "nbformat_minor": 0,
  "metadata": {
    "colab": {
      "name": "1261번: 알고스팟",
      "private_outputs": true,
      "provenance": [],
      "authorship_tag": "ABX9TyPpvLc6mZjWWFVSi7HEyZv1",
      "include_colab_link": true
    },
    "kernelspec": {
      "name": "python3",
      "display_name": "Python 3"
    },
    "language_info": {
      "name": "python"
    }
  },
  "cells": [
    {
      "cell_type": "markdown",
      "metadata": {
        "id": "view-in-github",
        "colab_type": "text"
      },
      "source": [
        "<a href=\"https://colab.research.google.com/github/babypotatotang/DailyBaekJoon/blob/main/%EB%82%9C%EC%9D%B4%EB%8F%84%20%EC%A4%91/%201261%EB%B2%88_%EC%95%8C%EA%B3%A0%EC%8A%A4%ED%8C%9F.ipynb\" target=\"_parent\"><img src=\"https://colab.research.google.com/assets/colab-badge.svg\" alt=\"Open In Colab\"/></a>"
      ]
    },
    {
      "cell_type": "code",
      "execution_count": null,
      "metadata": {
        "id": "CHVJig5eGxo6"
      },
      "outputs": [],
      "source": [
        "#1261번: 알고스팟\n",
        "from collections import deque\n",
        "\n",
        "M,N=list(map(int,input().split())) #M열 N행\n",
        "graph=[]\n",
        "for _ in range(N):\n",
        "    graph.append(list(map(int,input())))\n",
        "\n",
        "dx=[1,0,-1,0]; dy=[0,1,0,-1] # 탐색 방향\n",
        "cnt=0 # 벽을 부순 횟수\n",
        "\n",
        "q=deque()\n",
        "q.append([0,0,cnt])\n",
        "visited=[[False for _ in range(M)] for _ in range(N)]\n",
        "\n",
        "while q:\n",
        "    x,y,cnt=q.popleft()\n",
        "    visited[x][y]=True\n",
        "    if x==(N-1) and y==(M-1): print(cnt); exit()\n",
        "    \n",
        "    if graph[x][y]==1: cnt+=1\n",
        "\n",
        "    for i in range(4):\n",
        "        tmpx=x+dx[i]; tmpy=y+dy[i]\n",
        "        if 0<=tmpx<N and 0<=tmpy<M:\n",
        "            if not visited[tmpx][tmpy]:\n",
        "                visited[tmpx][tmpy]=True\n",
        "                if graph[tmpx][tmpy]==0: q.appendleft([tmpx,tmpy,cnt])\n",
        "                else: q.append([tmpx,tmpy,cnt]); "
      ]
    }
  ]
}