{
  "nbformat": 4,
  "nbformat_minor": 0,
  "metadata": {
    "colab": {
      "private_outputs": true,
      "provenance": [],
      "authorship_tag": "ABX9TyMk4VN9qicn/dkRwNyP5pSB",
      "include_colab_link": true
    },
    "kernelspec": {
      "name": "python3",
      "display_name": "Python 3"
    },
    "language_info": {
      "name": "python"
    }
  },
  "cells": [
    {
      "cell_type": "markdown",
      "metadata": {
        "id": "view-in-github",
        "colab_type": "text"
      },
      "source": [
        "<a href=\"https://colab.research.google.com/github/babypotatotang/DailyBaekJoon/blob/main/Graphs/BFS/2583%EB%B2%88_%EC%98%81%EC%97%AD%EA%B5%AC%ED%95%98%EA%B8%B0.ipynb\" target=\"_parent\"><img src=\"https://colab.research.google.com/assets/colab-badge.svg\" alt=\"Open In Colab\"/></a>"
      ]
    },
    {
      "cell_type": "code",
      "source": [
        "from collections import deque\n",
        "\n",
        "def bfs(i, j):\n",
        "    queue = deque()\n",
        "    queue.append((i, j))\n",
        "    d = [(-1, 0), (1, 0), (0, -1), (0, 1)]\n",
        "    cnt = 1\n",
        "    while queue:\n",
        "        y, x = queue.popleft()\n",
        "        for dy, dx in d:\n",
        "            Y, X = y+dy, x+dx\n",
        "            if (0 <= Y < M) and (0 <= X < N) and graph[Y][X] == 0:\n",
        "                graph[Y][X] = 1\n",
        "                queue.append((Y, X))\n",
        "                cnt += 1\n",
        "    return cnt\n",
        "\n",
        "#######################################\n",
        "\n",
        "M, N , K = map(int,input().split())\n",
        "graph = [[0]*N for _ in range(M)]\n",
        "\n",
        "for _ in range(K):\n",
        "    x1, y1, x2, y2 = map(int,input().split())\n",
        "    for i in range(y1, y2):\n",
        "        for j in range(x1, x2):\n",
        "            graph[i][j] = 1\n",
        "\n",
        "res = []\n",
        "\n",
        "for i in range(M):\n",
        "    for j in range(N):\n",
        "        if graph[i][j] == 0:\n",
        "            graph[i][j] = 1\n",
        "            res.append(bfs(i,j))\n",
        "\n",
        "res = sorted(res)\n",
        "print(len(res))\n",
        "print(*res)"
      ],
      "metadata": {
        "id": "Wlad0xatCFHb"
      },
      "execution_count": null,
      "outputs": []
    },
    {
      "cell_type": "code",
      "source": [
        "sorted(res)"
      ],
      "metadata": {
        "id": "7xdhiFvy95X2"
      },
      "execution_count": null,
      "outputs": []
    }
  ]
}