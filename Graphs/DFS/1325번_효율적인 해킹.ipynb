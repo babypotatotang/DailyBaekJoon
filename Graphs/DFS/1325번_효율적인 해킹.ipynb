{
  "nbformat": 4,
  "nbformat_minor": 0,
  "metadata": {
    "colab": {
      "private_outputs": true,
      "provenance": [],
      "authorship_tag": "ABX9TyOz/KDTPZdZCCKvFK8kapKi",
      "include_colab_link": true
    },
    "kernelspec": {
      "name": "python3",
      "display_name": "Python 3"
    },
    "language_info": {
      "name": "python"
    }
  },
  "cells": [
    {
      "cell_type": "markdown",
      "metadata": {
        "id": "view-in-github",
        "colab_type": "text"
      },
      "source": [
        "<a href=\"https://colab.research.google.com/github/babypotatotang/DailyBaekJoon/blob/main/Graphs/DFS/1325%EB%B2%88_%ED%9A%A8%EC%9C%A8%EC%A0%81%EC%9D%B8%20%ED%95%B4%ED%82%B9.ipynb\" target=\"_parent\"><img src=\"https://colab.research.google.com/assets/colab-badge.svg\" alt=\"Open In Colab\"/></a>"
      ]
    },
    {
      "cell_type": "code",
      "source": [
        "from collections import deque \n",
        "\n",
        "def bfs(start, cnt):\n",
        "    q = deque()\n",
        "    q.append(start)\n",
        "    visited[start] = True\n",
        "\n",
        "    while q:\n",
        "        node = q.popleft()\n",
        "        for v in rel[node]:\n",
        "            if not visited[v]:\n",
        "                q.append(v)\n",
        "                visited[v] = True \n",
        "                cnt+=1\n",
        "\n",
        "    return cnt \n",
        "\n",
        "################################\n",
        "\n",
        "N,M = map(int,input().split())\n",
        "rel = [[] for _ in range(N+1)]\n",
        "\n",
        "for _ in range(M):\n",
        "    A, B = map(int,input().split())\n",
        "    rel[B].append(A)\n",
        "\n",
        "res = [0]*(N+1)\n",
        "\n",
        "\n",
        "for start in range(1, N+1):\n",
        "    visited = [False] * (N+1)\n",
        "    num = bfs(start, 1)\n",
        "    res[start] = num\n",
        "\n",
        "for i in range(1,N+1):\n",
        "    if res[i] == max(res):\n",
        "        print(i, end= ' ')"
      ],
      "metadata": {
        "id": "X_tRgAMYjF79"
      },
      "execution_count": null,
      "outputs": []
    }
  ]
}