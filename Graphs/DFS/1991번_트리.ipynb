{
  "nbformat": 4,
  "nbformat_minor": 0,
  "metadata": {
    "colab": {
      "name": "1991번: 트리 ",
      "private_outputs": true,
      "provenance": [],
      "authorship_tag": "ABX9TyNpzBNhWNxCxMqOcU7cbX+A",
      "include_colab_link": true
    },
    "kernelspec": {
      "name": "python3",
      "display_name": "Python 3"
    },
    "language_info": {
      "name": "python"
    }
  },
  "cells": [
    {
      "cell_type": "markdown",
      "metadata": {
        "id": "view-in-github",
        "colab_type": "text"
      },
      "source": [
        "<a href=\"https://colab.research.google.com/github/babypotatotang/DailyBaekJoon/blob/main/%EB%82%9C%EC%9D%B4%EB%8F%84%20%EC%A4%91/%201991%EB%B2%88_%ED%8A%B8%EB%A6%AC.ipynb\" target=\"_parent\"><img src=\"https://colab.research.google.com/assets/colab-badge.svg\" alt=\"Open In Colab\"/></a>"
      ]
    },
    {
      "cell_type": "code",
      "execution_count": null,
      "metadata": {
        "id": "CHVJig5eGxo6"
      },
      "outputs": [],
      "source": [
        "#1991번: 트리 \n",
        "\n",
        "def preorder(root):\n",
        "    if root in roots:\n",
        "        rindex=roots.index(root)\n",
        "        pre.append(Tree[rindex][0]) # 루트 노드\n",
        "        left=Tree[rindex][1]; right=Tree[rindex][2]\n",
        "        if left=='.' and right=='.': \n",
        "            return \n",
        "        elif left=='.' and right!='.':\n",
        "            preorder(right)\n",
        "        elif left!='.' and right=='.':\n",
        "            preorder(left)\n",
        "        else:\n",
        "            preorder(left)\n",
        "            preorder(right)\n",
        "    else:\n",
        "        return\n",
        "\n",
        "def midorder(root):\n",
        "    if root in roots:\n",
        "        rindex=roots.index(root)\n",
        "        root=Tree[rindex][0]; left=Tree[rindex][1]; right=Tree[rindex][2]\n",
        "        if left=='.' and right=='.':\n",
        "            mid.append(root)\n",
        "            return \n",
        "        elif left=='.' and right!='.':\n",
        "            mid.append(root)\n",
        "            midorder(right)\n",
        "        elif left!='.' and right=='.':\n",
        "            midorder(left)\n",
        "            mid.append(root)\n",
        "        else:\n",
        "            midorder(left)\n",
        "            mid.append(root)\n",
        "            midorder(right)\n",
        "    else:\n",
        "        return\n",
        "\n",
        "def postorder(root):\n",
        "    if root in roots:\n",
        "        rindex=roots.index(root)\n",
        "        root=Tree[rindex][0]; left=Tree[rindex][1]; right=Tree[rindex][2]\n",
        "        if left=='.' and right=='.':\n",
        "            post.append(root) \n",
        "            return \n",
        "        elif left=='.' and right!='.':\n",
        "            postorder(right)\n",
        "            post.append(root)\n",
        "        elif left!='.' and right=='.':\n",
        "            postorder(left)\n",
        "            post.append(root)\n",
        "        else:\n",
        "            postorder(left)\n",
        "            postorder(right)\n",
        "            post.append(root)\n",
        "    else:\n",
        "        return\n",
        "N=int(input())\n",
        "Tree=[]\n",
        "for _ in range(N):\n",
        "    tree=list(input().split())\n",
        "    Tree.append(tree)\n",
        "\n",
        "roots = list(zip(*Tree))[0]\n",
        "pre=[]; mid=[]; post=[]\n",
        "\n",
        "preorder('A')\n",
        "midorder('A')\n",
        "postorder('A')\n",
        "\n",
        "print(''.join(pre))\n",
        "print(''.join(mid))\n",
        "print(''.join(post))"
      ]
    }
  ]
}