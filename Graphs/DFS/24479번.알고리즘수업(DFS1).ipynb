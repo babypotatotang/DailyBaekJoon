{
  "nbformat": 4,
  "nbformat_minor": 0,
  "metadata": {
    "colab": {
      "private_outputs": true,
      "provenance": [],
      "authorship_tag": "ABX9TyM5gfkvTkcF7CWbAfQLXB2w",
      "include_colab_link": true
    },
    "kernelspec": {
      "name": "python3",
      "display_name": "Python 3"
    },
    "language_info": {
      "name": "python"
    }
  },
  "cells": [
    {
      "cell_type": "markdown",
      "metadata": {
        "id": "view-in-github",
        "colab_type": "text"
      },
      "source": [
        "<a href=\"https://colab.research.google.com/github/babypotatotang/DailyBaekJoon/blob/main/Graphs/DFS/24479%EB%B2%88.%EC%95%8C%EA%B3%A0%EB%A6%AC%EC%A6%98%EC%88%98%EC%97%85(DFS1).ipynb\" target=\"_parent\"><img src=\"https://colab.research.google.com/assets/colab-badge.svg\" alt=\"Open In Colab\"/></a>"
      ]
    },
    {
      "cell_type": "code",
      "source": [
        "import sys\n",
        "input = sys.stdin.readline\n",
        "sys.setrecursionlimit(10**9)\n",
        "\n",
        "def dfs(r):\n",
        "    global cnt \n",
        "\n",
        "    for edge in sorted(graph[r]):\n",
        "        if not visited[edge]:\n",
        "            visited[edge] = cnt +1 \n",
        "            cnt += 1\n",
        "            dfs(edge)\n",
        "\n",
        "#######################################\n",
        "\n",
        "N,M,L = map(int,input().split())\n",
        "graph = [[] for _ in range(N+1)]\n",
        "\n",
        "for _ in range(M):\n",
        "    s,e = map(int,input().split())\n",
        "    graph[s].append(e)\n",
        "    graph[e].append(s)\n",
        "    \n",
        "\n",
        "visited = [0] * (N+1) \n",
        "visited[L] = 1\n",
        "cnt = 1\n",
        "\n",
        "dfs(L)\n",
        "\n",
        "for v in visited[1:]:\n",
        "    print(v)"
      ],
      "metadata": {
        "id": "qCHZz7V4RDn2"
      },
      "execution_count": null,
      "outputs": []
    }
  ]
}