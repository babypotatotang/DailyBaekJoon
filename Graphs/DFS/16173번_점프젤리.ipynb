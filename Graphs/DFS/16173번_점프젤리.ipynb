{
  "nbformat": 4,
  "nbformat_minor": 0,
  "metadata": {
    "colab": {
      "private_outputs": true,
      "provenance": [],
      "authorship_tag": "ABX9TyNiIMl8KkE0s4GwseDyExKN",
      "include_colab_link": true
    },
    "kernelspec": {
      "name": "python3",
      "display_name": "Python 3"
    },
    "language_info": {
      "name": "python"
    }
  },
  "cells": [
    {
      "cell_type": "markdown",
      "metadata": {
        "id": "view-in-github",
        "colab_type": "text"
      },
      "source": [
        "<a href=\"https://colab.research.google.com/github/babypotatotang/DailyBaekJoon/blob/main/Graphs/DFS/16173%EB%B2%88_%EC%A0%90%ED%94%84%EC%A0%A4%EB%A6%AC.ipynb\" target=\"_parent\"><img src=\"https://colab.research.google.com/assets/colab-badge.svg\" alt=\"Open In Colab\"/></a>"
      ]
    },
    {
      "cell_type": "code",
      "execution_count": null,
      "metadata": {
        "id": "B6GB-Scc8Ny9"
      },
      "outputs": [],
      "source": [
        "N = int(input())\n",
        "jelly = [list(map(int,input().split())) for _ in range(N)]\n",
        "visited = [[False for _ in range(N)] for _ in range(N)]\n",
        "\n",
        "def DFS(row, column):\n",
        "    if row >= N or column >= N:\n",
        "        return False\n",
        "\n",
        "    if jelly[row][column] == -1:\n",
        "        print(\"HaruHaru\")\n",
        "        exit(0)\n",
        "\n",
        "    if not visited[row][column]:\n",
        "        value = jelly[row][column]\n",
        "        visited[row][column] = True\n",
        "        DFS(row + value, column)\n",
        "        DFS(row, column+value)\n",
        "\n",
        "DFS(0,0)    \n",
        "print(\"Hing\")"
      ]
    }
  ]
}