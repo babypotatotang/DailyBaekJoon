{
  "nbformat": 4,
  "nbformat_minor": 0,
  "metadata": {
    "colab": {
      "name": "11403번: 경로 찾기",
      "private_outputs": true,
      "provenance": [],
      "authorship_tag": "ABX9TyNY72BZnaFmdh1Qrf/OWsy6",
      "include_colab_link": true
    },
    "kernelspec": {
      "name": "python3",
      "display_name": "Python 3"
    },
    "language_info": {
      "name": "python"
    }
  },
  "cells": [
    {
      "cell_type": "markdown",
      "metadata": {
        "id": "view-in-github",
        "colab_type": "text"
      },
      "source": [
        "<a href=\"https://colab.research.google.com/github/babypotatotang/DailyBaekJoon/blob/main/%EB%82%9C%EC%9D%B4%EB%8F%84%20%ED%95%98/%2011403%EB%B2%88_%EA%B2%BD%EB%A1%9C_%EC%B0%BE%EA%B8%B0.ipynb\" target=\"_parent\"><img src=\"https://colab.research.google.com/assets/colab-badge.svg\" alt=\"Open In Colab\"/></a>"
      ]
    },
    {
      "cell_type": "code",
      "execution_count": null,
      "metadata": {
        "id": "CHVJig5eGxo6"
      },
      "outputs": [],
      "source": [
        "#11403번: 경로 찾기\n",
        "n=int(input())\n",
        "w=[]\n",
        "for _ in range(n):\n",
        "    w.append(list(map(int,input().split())))\n",
        "\n",
        "dist=w\n",
        "\n",
        "for i in range(n):\n",
        "    for j in range(n):\n",
        "        if not dist[i][j]:\n",
        "            dist[i][j]=100000\n",
        "\n",
        "for k in range(n):\n",
        "    for i in range(n):\n",
        "        for j in range(n):\n",
        "            if dist[i][j]>dist[i][k]+dist[k][j]:\n",
        "                dist[i][j]=dist[i][k]+dist[k][j]\n",
        "\n",
        "for i in range(n):\n",
        "    for j in range(n):\n",
        "        if dist[i][j]==100000: print(0,end=' ')\n",
        "        else: print(1,end=' ')\n",
        "    print()"
      ]
    }
  ]
}