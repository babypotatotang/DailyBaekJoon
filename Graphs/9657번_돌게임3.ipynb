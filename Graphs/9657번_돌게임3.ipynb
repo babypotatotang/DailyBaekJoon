{
 "cells": [
  {
   "cell_type": "code",
   "execution_count": 2,
   "metadata": {},
   "outputs": [
    {
     "name": "stdout",
     "output_type": "stream",
     "text": [
      "CY\n"
     ]
    }
   ],
   "source": [
    "N = int(input())\n",
    "\n",
    "dp = [False] * 1001\n",
    "\n",
    "dp[1] = True; dp[2] = False; dp[3] = True; dp[4] = True;  # 기본값 세팅\n",
    "\n",
    "for i in range(5, N+1):\n",
    "    if not dp[i-1] or not dp[i-3] or not dp[i-4]: # 1, 3, 4 중 하나에 다른 값이 있다면, \n",
    "        dp[i] = True # i 값은 True \n",
    "\n",
    "if dp[N]: print(\"SK\")\n",
    "else: print(\"CY\")"
   ]
  }
 ],
 "metadata": {
  "kernelspec": {
   "display_name": "Python 3.9.13 64-bit (microsoft store)",
   "language": "python",
   "name": "python3"
  },
  "language_info": {
   "codemirror_mode": {
    "name": "ipython",
    "version": 3
   },
   "file_extension": ".py",
   "mimetype": "text/x-python",
   "name": "python",
   "nbconvert_exporter": "python",
   "pygments_lexer": "ipython3",
   "version": "3.9.13"
  },
  "orig_nbformat": 4,
  "vscode": {
   "interpreter": {
    "hash": "4f8b198f8598e0808e1e8c3b4dce10437a64c71550fa89cfa899f5c516d72437"
   }
  }
 },
 "nbformat": 4,
 "nbformat_minor": 2
}
