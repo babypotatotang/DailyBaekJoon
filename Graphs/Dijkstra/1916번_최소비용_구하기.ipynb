{
  "nbformat": 4,
  "nbformat_minor": 0,
  "metadata": {
    "colab": {
      "name": "1916번: 최소비용 구하기",
      "private_outputs": true,
      "provenance": [],
      "authorship_tag": "ABX9TyOIrUn8+P0afgTr46Sy37GJ",
      "include_colab_link": true
    },
    "kernelspec": {
      "name": "python3",
      "display_name": "Python 3"
    },
    "language_info": {
      "name": "python"
    }
  },
  "cells": [
    {
      "cell_type": "markdown",
      "metadata": {
        "id": "view-in-github",
        "colab_type": "text"
      },
      "source": [
        "<a href=\"https://colab.research.google.com/github/babypotatotang/DailyBaekJoon/blob/main/%EB%82%9C%EC%9C%84%EB%8F%84%20%EC%A4%91/%201916%EB%B2%88_%EC%B5%9C%EC%86%8C%EB%B9%84%EC%9A%A9_%EA%B5%AC%ED%95%98%EA%B8%B0.ipynb\" target=\"_parent\"><img src=\"https://colab.research.google.com/assets/colab-badge.svg\" alt=\"Open In Colab\"/></a>"
      ]
    },
    {
      "cell_type": "code",
      "execution_count": null,
      "metadata": {
        "id": "CHVJig5eGxo6"
      },
      "outputs": [],
      "source": [
        "#1916번: 최소비용 구하기\n",
        "import heapq\n",
        "\n",
        "def dijkstra(s,e):\n",
        "    dist=[INF]*(N+1); dist[start]=0\n",
        "    H=[]\n",
        "    heapq.heappush(H,[dist[start],start])\n",
        "\n",
        "    while H:\n",
        "        dist_s,s=heapq.heappop(H)\n",
        "\n",
        "        # 갱신할 노드가 없을때는 continue \n",
        "        if dist[s]<dist_s:\n",
        "            continue\n",
        "\n",
        "        for e,c in node[s]:\n",
        "            if dist[e]>dist[s]+c:    \n",
        "                dist[e]=dist[s]+c\n",
        "                heapq.heappush(H,[dist[e],e])\n",
        "                \n",
        "    return dist\n",
        "\n",
        "N=int(input()); M=int(input())\n",
        "INF=100000000\n",
        "node=[[] for _ in range(N+1)] # 노드 간 연결 상태 확인 \n",
        "\n",
        "for _ in range(M):\n",
        "    S,E,C=list(map(int,input().split()))\n",
        "    node[S].append([E,C])\n",
        "\n",
        "start,end=list(map(int,input().split()))\n",
        "\n",
        "result=dijkstra(start,end)\n",
        "print(result[end])"
      ]
    }
  ]
}