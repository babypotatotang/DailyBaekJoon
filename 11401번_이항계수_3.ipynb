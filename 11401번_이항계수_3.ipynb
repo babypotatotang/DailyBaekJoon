{
  "nbformat": 4,
  "nbformat_minor": 0,
  "metadata": {
    "colab": {
      "name": "11401번: 이항계수 3",
      "private_outputs": true,
      "provenance": [],
      "authorship_tag": "ABX9TyMKiwZj80xEtrboQHU8MoNk",
      "include_colab_link": true
    },
    "kernelspec": {
      "name": "python3",
      "display_name": "Python 3"
    },
    "language_info": {
      "name": "python"
    }
  },
  "cells": [
    {
      "cell_type": "markdown",
      "metadata": {
        "id": "view-in-github",
        "colab_type": "text"
      },
      "source": [
        "<a href=\"https://colab.research.google.com/github/babypotatotang/BaekJoonMaster/blob/main/11401%EB%B2%88_%EC%9D%B4%ED%95%AD%EA%B3%84%EC%88%98_3.ipynb\" target=\"_parent\"><img src=\"https://colab.research.google.com/assets/colab-badge.svg\" alt=\"Open In Colab\"/></a>"
      ]
    },
    {
      "cell_type": "code",
      "execution_count": null,
      "metadata": {
        "id": "HiV2szJtOEf6"
      },
      "outputs": [],
      "source": [
        "#11401번: 이항계수 3.\n",
        "import sys\n",
        "sys.setrecursionlimit(100000)\n",
        "\n",
        "n,k=map(int,input().split())\n",
        "p=1000000007\n",
        "\n",
        "def fact(n):\n",
        "    sum = 1\n",
        "    for i in range(2,n+1):\n",
        "        sum *= i\n",
        "        sum %= p\n",
        "    return sum\n",
        "\n",
        "def mul(a,b):\n",
        "    if b==1:\n",
        "        return a%p\n",
        "    else:\n",
        "        tmp= mul(a,b//2)\n",
        "        if b%2==0: \n",
        "            return (tmp*tmp)%p\n",
        "        else: \n",
        "            return (tmp*tmp*a)%p\n",
        "\n",
        "x=fact(n); y=mul(fact(k)*fact(n-k),(p-2))\n",
        "print((x*y)%p)"
      ]
    }
  ]
}