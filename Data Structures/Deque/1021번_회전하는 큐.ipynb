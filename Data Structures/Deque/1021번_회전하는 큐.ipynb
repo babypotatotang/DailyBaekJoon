{
 "cells": [
  {
   "cell_type": "code",
   "execution_count": 2,
   "metadata": {},
   "outputs": [
    {
     "name": "stdout",
     "output_type": "stream",
     "text": [
      "14\n"
     ]
    }
   ],
   "source": [
    "#1021번: 회전하는 큐\n",
    "from collections import deque\n",
    "\n",
    "N,M=list(map(int,input().split()))\n",
    "NumsPicked=list(map(int,input().split())) \n",
    "NumsArray=deque([i for i in range(1,N+1)])\n",
    "Result=0\n",
    "\n",
    "for Num in NumsPicked:\n",
    "    while True:\n",
    "        NumIndex=NumsArray.index(Num)\n",
    "        \n",
    "        if not NumIndex:\n",
    "            NumsArray.popleft()\n",
    "            break\n",
    "        else:\n",
    "            Result+=1\n",
    "            if NumIndex < len(NumsArray)/2: NumsArray.rotate(-1)\n",
    "            else: NumsArray.rotate(1)\n",
    "\n",
    "print(Result)"
   ]
  }
 ],
 "metadata": {
  "kernelspec": {
   "display_name": "Python 3.9.5 64-bit",
   "language": "python",
   "name": "python3"
  },
  "language_info": {
   "codemirror_mode": {
    "name": "ipython",
    "version": 3
   },
   "file_extension": ".py",
   "mimetype": "text/x-python",
   "name": "python",
   "nbconvert_exporter": "python",
   "pygments_lexer": "ipython3",
   "version": "3.9.5"
  },
  "orig_nbformat": 4,
  "vscode": {
   "interpreter": {
    "hash": "15d62748266f8ea3611532b4892b57da5cd2aa28e021beffc1d944f2abb52c0e"
   }
  }
 },
 "nbformat": 4,
 "nbformat_minor": 2
}
