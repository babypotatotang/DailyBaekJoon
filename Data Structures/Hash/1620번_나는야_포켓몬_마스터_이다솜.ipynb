{
  "nbformat": 4,
  "nbformat_minor": 0,
  "metadata": {
    "colab": {
      "name": "1620번: 나는야 포켓몬 마스터 이다솜",
      "private_outputs": true,
      "provenance": [],
      "authorship_tag": "ABX9TyP11A2MpjoN4YApQXM4LgCu",
      "include_colab_link": true
    },
    "kernelspec": {
      "name": "python3",
      "display_name": "Python 3"
    },
    "language_info": {
      "name": "python"
    }
  },
  "cells": [
    {
      "cell_type": "markdown",
      "metadata": {
        "id": "view-in-github",
        "colab_type": "text"
      },
      "source": [
        "<a href=\"https://colab.research.google.com/github/babypotatotang/BaekJoon/blob/main/%EB%82%9C%EC%9D%B4%EB%8F%84%20%ED%95%98/1620%EB%B2%88_%EB%82%98%EB%8A%94%EC%95%BC_%ED%8F%AC%EC%BC%93%EB%AA%AC_%EB%A7%88%EC%8A%A4%ED%84%B0_%EC%9D%B4%EB%8B%A4%EC%86%9C.ipynb\" target=\"_parent\"><img src=\"https://colab.research.google.com/assets/colab-badge.svg\" alt=\"Open In Colab\"/></a>"
      ]
    },
    {
      "cell_type": "code",
      "execution_count": null,
      "metadata": {
        "id": "CHVJig5eGxo6"
      },
      "outputs": [],
      "source": [
        "#1620번: 나는야 포켓몬 마스터 이다솜\n",
        "import sys\n",
        "input=sys.stdin.readline\n",
        "\n",
        "array=list(map(int, input().split()))\n",
        "N=array[0]; M=array[1]\n",
        "\n",
        "dic_name={} #이름이 key값\n",
        "dic_num={} #번호가 key값\n",
        "\n",
        "for i in range(1,N+1):\n",
        "    name=input().rstrip()\n",
        "    dic_name[name]=str(i)\n",
        "    dic_num[str(i)]=name\n",
        "\n",
        "for _ in range(M):\n",
        "    problem=input().rstrip()\n",
        "    if problem in dic_name:\n",
        "        print(dic_name[problem])\n",
        "    else:\n",
        "        print(dic_num[problem])\n",
        "        "
      ]
    }
  ]
}