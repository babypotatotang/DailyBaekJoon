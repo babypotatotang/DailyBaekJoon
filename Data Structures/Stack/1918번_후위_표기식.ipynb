{
  "nbformat": 4,
  "nbformat_minor": 0,
  "metadata": {
    "colab": {
      "name": "1918번: 후위 표기식",
      "private_outputs": true,
      "provenance": [],
      "authorship_tag": "ABX9TyOJwcI4jzghxNsxK02Iwhx7",
      "include_colab_link": true
    },
    "kernelspec": {
      "name": "python3",
      "display_name": "Python 3"
    },
    "language_info": {
      "name": "python"
    }
  },
  "cells": [
    {
      "cell_type": "markdown",
      "metadata": {
        "id": "view-in-github",
        "colab_type": "text"
      },
      "source": [
        "<a href=\"https://colab.research.google.com/github/babypotatotang/DailyBaekJoon/blob/main/%EB%82%9C%EC%9D%B4%EB%8F%84%20%EC%83%81/%201918%EB%B2%88_%ED%9B%84%EC%9C%84_%ED%91%9C%EA%B8%B0%EC%8B%9D.ipynb\" target=\"_parent\"><img src=\"https://colab.research.google.com/assets/colab-badge.svg\" alt=\"Open In Colab\"/></a>"
      ]
    },
    {
      "cell_type": "code",
      "execution_count": null,
      "metadata": {
        "id": "CHVJig5eGxo6"
      },
      "outputs": [],
      "source": [
        "#1918번: 후위 표기식\n",
        "expression=input()\n",
        "ans=''; operator=[]\n",
        "for e in expression:\n",
        "    if e.isalpha():\n",
        "        ans+=e\n",
        "    else:\n",
        "        if e=='(':\n",
        "            operator.append(e)\n",
        "        elif e=='*'or e=='/':\n",
        "            while operator and (operator[-1]=='*' or operator[-1]=='/'):\n",
        "                ans+=operator.pop()\n",
        "            operator.append(e)\n",
        "        elif e=='+' or e=='-':\n",
        "            while operator and operator[-1]!='(':\n",
        "                ans+=operator.pop()\n",
        "            operator.append(e)\n",
        "        elif e==')':\n",
        "            while operator and operator[-1]!='(':\n",
        "                ans+=operator.pop()\n",
        "            operator.pop()\n",
        "            \n",
        "while operator:\n",
        "    ans+=operator.pop()\n",
        "\n",
        "print(ans)"
      ]
    }
  ]
}