{
  "nbformat": 4,
  "nbformat_minor": 0,
  "metadata": {
    "colab": {
      "name": "7662번: 이중 우선순위 큐",
      "private_outputs": true,
      "provenance": [],
      "authorship_tag": "ABX9TyMMRSuEfsGQR8edJL/OVnI/",
      "include_colab_link": true
    },
    "kernelspec": {
      "name": "python3",
      "display_name": "Python 3"
    },
    "language_info": {
      "name": "python"
    }
  },
  "cells": [
    {
      "cell_type": "markdown",
      "metadata": {
        "id": "view-in-github",
        "colab_type": "text"
      },
      "source": [
        "<a href=\"https://colab.research.google.com/github/babypotatotang/BaekJoon/blob/main/%EB%82%9C%EC%9D%B4%EB%8F%84%20%EC%83%81/%207662%EB%B2%88_%EC%9D%B4%EC%A4%91_%EC%9A%B0%EC%84%A0%EC%88%9C%EC%9C%84_%ED%81%90.ipynb\" target=\"_parent\"><img src=\"https://colab.research.google.com/assets/colab-badge.svg\" alt=\"Open In Colab\"/></a>"
      ]
    },
    {
      "cell_type": "code",
      "execution_count": null,
      "metadata": {
        "id": "CHVJig5eGxo6"
      },
      "outputs": [],
      "source": [
        "# 7662번: 이중 우선순위 큐\n",
        "# import sys\n",
        "# input=sys.stdin.readline\n",
        "\n",
        "import heapq\n",
        "\n",
        "T=int(input())\n",
        "\n",
        "def sync(q):\n",
        "    while q and not visited[q[0][1]]:\n",
        "        heapq.heappop(q)\n",
        "        \n",
        "    return q\n",
        "\n",
        "for _ in range(T):\n",
        "    k=int(input())    \n",
        "    MaxQ=[]; MinQ=[]\n",
        "    visited=[False]*10000000\n",
        "    for i in range(k):\n",
        "        order,num=input().split()\n",
        "        num=int(num)\n",
        "\n",
        "        if order==\"I\":\n",
        "            heapq.heappush(MinQ,(num,i))\n",
        "            heapq.heappush(MaxQ,((-1)*num,i))\n",
        "            visited[i]=True\n",
        "        else:\n",
        "            if MaxQ or MinQ:\n",
        "                if num==1:\n",
        "                    MaxQ=sync(MaxQ)\n",
        "                    if MaxQ:\n",
        "                        visited[MaxQ[0][1]]=False\n",
        "                        DelNum=heapq.heappop(MaxQ) #최댓값 삭제\n",
        "                elif num==-1:\n",
        "                    MinQ=sync(MinQ)\n",
        "                    if MinQ:\n",
        "                        visited[MinQ[0][1]]=False\n",
        "                        DelNum=heapq.heappop(MinQ)\n",
        "\n",
        "    MinQ=sync(MinQ)\n",
        "    MaxQ=sync(MaxQ)\n",
        "\n",
        "    if not MinQ or not MaxQ:\n",
        "        print(\"EMPTY\")\n",
        "    else:\n",
        "        print(heapq.heappop(MaxQ)[0]*(-1),heapq.heappop(MinQ)[0])"
      ]
    }
  ]
}