{
  "nbformat": 4,
  "nbformat_minor": 0,
  "metadata": {
    "colab": {
      "private_outputs": true,
      "provenance": [],
      "authorship_tag": "ABX9TyNLJYrjdPyqXlh0+28TsVDI",
      "include_colab_link": true
    },
    "kernelspec": {
      "name": "python3",
      "display_name": "Python 3"
    },
    "language_info": {
      "name": "python"
    }
  },
  "cells": [
    {
      "cell_type": "markdown",
      "metadata": {
        "id": "view-in-github",
        "colab_type": "text"
      },
      "source": [
        "<a href=\"https://colab.research.google.com/github/babypotatotang/DailyBaekJoon/blob/main/Greedy%20Algorithm/14720%EB%B2%88_%EC%9A%B0%EC%9C%A0%EC%B6%95%EC%A0%9C.ipynb\" target=\"_parent\"><img src=\"https://colab.research.google.com/assets/colab-badge.svg\" alt=\"Open In Colab\"/></a>"
      ]
    },
    {
      "cell_type": "code",
      "execution_count": null,
      "metadata": {
        "id": "2hiEfsSkM9Q3"
      },
      "outputs": [],
      "source": [
        "N = int(input())\n",
        "stores = list(map(int,input().split()))\n",
        "seq = [0,1,2]\n",
        "i = 0; cnt = 0 \n",
        "for store in stores:\n",
        "    if store == seq[i]:\n",
        "        cnt += 1; i += 1\n",
        "        if i == 3: i = 0\n",
        "\n",
        "print(cnt)"
      ]
    }
  ]
}