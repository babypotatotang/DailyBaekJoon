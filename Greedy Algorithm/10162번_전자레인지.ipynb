{
 "cells": [
  {
   "cell_type": "code",
   "execution_count": 5,
   "metadata": {},
   "outputs": [
    {
     "name": "stdout",
     "output_type": "stream",
     "text": [
      "1 1 0\n"
     ]
    }
   ],
   "source": [
    "T = int(input())\n",
    "Button = [300,60,10]\n",
    "Time = []\n",
    "for i in range(3):\n",
    "    Time.append(T//Button[i])\n",
    "    T = T % Button[i]\n",
    "\n",
    "if T > 0: print(-1)\n",
    "else: print(*Time)"
   ]
  }
 ],
 "metadata": {
  "kernelspec": {
   "display_name": "Python 3.9.13 64-bit (windows store)",
   "language": "python",
   "name": "python3"
  },
  "language_info": {
   "codemirror_mode": {
    "name": "ipython",
    "version": 3
   },
   "file_extension": ".py",
   "mimetype": "text/x-python",
   "name": "python",
   "nbconvert_exporter": "python",
   "pygments_lexer": "ipython3",
   "version": "3.9.13"
  },
  "orig_nbformat": 4,
  "vscode": {
   "interpreter": {
    "hash": "c4ee998c70f70a549d0057c5c83759d1ee0011729abbf2e9d9293192e01b9309"
   }
  }
 },
 "nbformat": 4,
 "nbformat_minor": 2
}
