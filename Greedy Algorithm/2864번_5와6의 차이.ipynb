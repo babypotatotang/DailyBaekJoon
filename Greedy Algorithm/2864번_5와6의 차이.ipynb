{
 "cells": [
  {
   "cell_type": "code",
   "execution_count": 11,
   "metadata": {},
   "outputs": [
    {
     "name": "stdout",
     "output_type": "stream",
     "text": [
      "6282 6292\n"
     ]
    }
   ],
   "source": [
    "def CalMin(a,b):\n",
    "    a = a.replace('6', '5'); \n",
    "    b = b.replace('6', '5'); \n",
    "    return int(a) + int(b)\n",
    "\n",
    "def CalMax(a,b):\n",
    "    a = a.replace('5', '6'); \n",
    "    b = b.replace('5', '6'); \n",
    "    return int(a) + int(b)\n",
    "\n",
    "A, B = input().split()\n",
    "min = CalMin(A,B); max = CalMax(A,B)\n",
    "\n",
    "print(f'{min} {max}')"
   ]
  }
 ],
 "metadata": {
  "kernelspec": {
   "display_name": "Python 3.9.13 64-bit (windows store)",
   "language": "python",
   "name": "python3"
  },
  "language_info": {
   "codemirror_mode": {
    "name": "ipython",
    "version": 3
   },
   "file_extension": ".py",
   "mimetype": "text/x-python",
   "name": "python",
   "nbconvert_exporter": "python",
   "pygments_lexer": "ipython3",
   "version": "3.9.13"
  },
  "orig_nbformat": 4,
  "vscode": {
   "interpreter": {
    "hash": "c4ee998c70f70a549d0057c5c83759d1ee0011729abbf2e9d9293192e01b9309"
   }
  }
 },
 "nbformat": 4,
 "nbformat_minor": 2
}
