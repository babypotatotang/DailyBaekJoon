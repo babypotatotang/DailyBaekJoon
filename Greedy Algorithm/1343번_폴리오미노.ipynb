{
  "nbformat": 4,
  "nbformat_minor": 0,
  "metadata": {
    "colab": {
      "private_outputs": true,
      "provenance": [],
      "authorship_tag": "ABX9TyNv9OTExyWvN9JB5iiujrLu",
      "include_colab_link": true
    },
    "kernelspec": {
      "name": "python3",
      "display_name": "Python 3"
    },
    "language_info": {
      "name": "python"
    }
  },
  "cells": [
    {
      "cell_type": "markdown",
      "metadata": {
        "id": "view-in-github",
        "colab_type": "text"
      },
      "source": [
        "<a href=\"https://colab.research.google.com/github/babypotatotang/DailyBaekJoon/blob/main/Greedy%20Algorithm/1343%EB%B2%88_%ED%8F%B4%EB%A6%AC%EC%98%A4%EB%AF%B8%EB%85%B8.ipynb\" target=\"_parent\"><img src=\"https://colab.research.google.com/assets/colab-badge.svg\" alt=\"Open In Colab\"/></a>"
      ]
    },
    {
      "cell_type": "code",
      "source": [
        "string = input()\n",
        "ls_string = list(string)\n",
        "\n",
        "for i in range(len(ls_string)):\n",
        "    try:\n",
        "        if ls_string[i] == 'X':\n",
        "            if ls_string[i+1:i+4] == list('XXX'):\n",
        "                ls_string[i:i+4] = \"AAAA\"\n",
        "            if ls_string[i+1] == 'X':\n",
        "                ls_string[i:i+2] = 'BB'\n",
        "    except:\n",
        "        break\n",
        "\n",
        "if 'X' in ls_string:\n",
        "    print(-1)\n",
        "else:\n",
        "    print(''.join(ls_string))"
      ],
      "metadata": {
        "id": "FoFm31adbciy"
      },
      "execution_count": null,
      "outputs": []
    }
  ]
}