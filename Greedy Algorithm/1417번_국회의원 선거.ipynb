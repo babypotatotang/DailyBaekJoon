{
  "nbformat": 4,
  "nbformat_minor": 0,
  "metadata": {
    "colab": {
      "private_outputs": true,
      "provenance": [],
      "authorship_tag": "ABX9TyOv1iJGoph7tjLjZrdkiVqq",
      "include_colab_link": true
    },
    "kernelspec": {
      "name": "python3",
      "display_name": "Python 3"
    },
    "language_info": {
      "name": "python"
    }
  },
  "cells": [
    {
      "cell_type": "markdown",
      "metadata": {
        "id": "view-in-github",
        "colab_type": "text"
      },
      "source": [
        "<a href=\"https://colab.research.google.com/github/babypotatotang/DailyBaekJoon/blob/main/Greedy%20Algorithm/1417%EB%B2%88_%EA%B5%AD%ED%9A%8C%EC%9D%98%EC%9B%90%20%EC%84%A0%EA%B1%B0.ipynb\" target=\"_parent\"><img src=\"https://colab.research.google.com/assets/colab-badge.svg\" alt=\"Open In Colab\"/></a>"
      ]
    },
    {
      "cell_type": "code",
      "execution_count": null,
      "metadata": {
        "id": "_iJWbprt0nGg"
      },
      "outputs": [],
      "source": [
        "N = int(input())\n",
        "info = [int(input()) for _ in range(N)]\n",
        "res = 0 \n",
        "\n",
        "while (1): \n",
        "    if info[0] == max(info) and info.count(max(info)) == 1: break\n",
        "    maxinfo = max(info)\n",
        "    maxinfo_idx = info[1:].index(maxinfo) + 1\n",
        "\n",
        "    info[0] += 1\n",
        "    info[maxinfo_idx] -= 1\n",
        "\n",
        "    res += 1\n",
        "\n",
        "print(res)"
      ]
    }
  ]
}