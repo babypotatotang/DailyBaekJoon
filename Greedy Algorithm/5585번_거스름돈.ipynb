{
 "cells": [
  {
   "cell_type": "code",
   "execution_count": 2,
   "metadata": {},
   "outputs": [
    {
     "name": "stdout",
     "output_type": "stream",
     "text": [
      "15\n"
     ]
    }
   ],
   "source": [
    "M = int(input())\n",
    "Change = 1000 - M\n",
    "ChangeList = [500,100,50,10,5,1]\n",
    "cnt = 0\n",
    "for C in ChangeList:\n",
    "    cnt += Change // C\n",
    "    Change = Change % C\n",
    "\n",
    "print(cnt)"
   ]
  }
 ],
 "metadata": {
  "kernelspec": {
   "display_name": "Python 3.9.13 64-bit (windows store)",
   "language": "python",
   "name": "python3"
  },
  "language_info": {
   "codemirror_mode": {
    "name": "ipython",
    "version": 3
   },
   "file_extension": ".py",
   "mimetype": "text/x-python",
   "name": "python",
   "nbconvert_exporter": "python",
   "pygments_lexer": "ipython3",
   "version": "3.9.13"
  },
  "orig_nbformat": 4,
  "vscode": {
   "interpreter": {
    "hash": "c4ee998c70f70a549d0057c5c83759d1ee0011729abbf2e9d9293192e01b9309"
   }
  }
 },
 "nbformat": 4,
 "nbformat_minor": 2
}
