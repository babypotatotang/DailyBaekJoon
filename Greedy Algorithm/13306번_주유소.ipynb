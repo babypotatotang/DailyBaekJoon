{
 "cells": [
  {
   "cell_type": "code",
   "execution_count": 6,
   "metadata": {},
   "outputs": [
    {
     "name": "stdout",
     "output_type": "stream",
     "text": [
      "18\n"
     ]
    }
   ],
   "source": [
    "N = int(input())\n",
    "Distances = list(map(int,input().split()))\n",
    "Fuels = list(map(int,input().split()))\n",
    "\n",
    "Result = 0\n",
    "Before = Fuels[0] # 기준이 되는 기름 값 \n",
    "\n",
    "for index in range(N-1):\n",
    "    if Before > Fuels[index]: # 기준 기름값보다 현재가 더 적다면 \n",
    "        Before = Fuels[index] # 기준 값 교체 \n",
    "    \n",
    "    Result += Before * Distances[index] # 거리와 기름값을 곱해서 더해줌 \n",
    "\n",
    "print(Result)"
   ]
  }
 ],
 "metadata": {
  "kernelspec": {
   "display_name": "Python 3.9.5 64-bit",
   "language": "python",
   "name": "python3"
  },
  "language_info": {
   "codemirror_mode": {
    "name": "ipython",
    "version": 3
   },
   "file_extension": ".py",
   "mimetype": "text/x-python",
   "name": "python",
   "nbconvert_exporter": "python",
   "pygments_lexer": "ipython3",
   "version": "3.9.5"
  },
  "orig_nbformat": 4,
  "vscode": {
   "interpreter": {
    "hash": "15d62748266f8ea3611532b4892b57da5cd2aa28e021beffc1d944f2abb52c0e"
   }
  }
 },
 "nbformat": 4,
 "nbformat_minor": 2
}
