{
  "nbformat": 4,
  "nbformat_minor": 0,
  "metadata": {
    "colab": {
      "private_outputs": true,
      "provenance": [],
      "authorship_tag": "ABX9TyNpjzhu2z5OW5QTJtiety3/",
      "include_colab_link": true
    },
    "kernelspec": {
      "name": "python3",
      "display_name": "Python 3"
    },
    "language_info": {
      "name": "python"
    }
  },
  "cells": [
    {
      "cell_type": "markdown",
      "metadata": {
        "id": "view-in-github",
        "colab_type": "text"
      },
      "source": [
        "<a href=\"https://colab.research.google.com/github/babypotatotang/DailyBaekJoon/blob/main/Greedy%20Algorithm/1758%EB%B2%88.%EC%95%8C%EB%B0%94%EC%83%9D%EA%B0%95%ED%98%B8.ipynb\" target=\"_parent\"><img src=\"https://colab.research.google.com/assets/colab-badge.svg\" alt=\"Open In Colab\"/></a>"
      ]
    },
    {
      "cell_type": "code",
      "source": [
        "n = int(input())\n",
        "moneys = [int(input()) for _ in range(n)]\n",
        "moneys = sorted(moneys,reverse = True)\n",
        "\n",
        "res = 0\n",
        "for i in range(0,n):\n",
        "    tmp = moneys[i] - i\n",
        "    if tmp>=0:\n",
        "        res += tmp \n",
        "\n",
        "print(res)   "
      ],
      "metadata": {
        "id": "dIIcjAnzJwQ6"
      },
      "execution_count": null,
      "outputs": []
    }
  ]
}