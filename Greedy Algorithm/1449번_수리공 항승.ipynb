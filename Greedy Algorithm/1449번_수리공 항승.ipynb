{
 "cells": [
  {
   "cell_type": "code",
   "execution_count": null,
   "metadata": {},
   "outputs": [],
   "source": [
    "N, L = map(int,input().split())\n",
    "Water = list(map(int,input().split()))\n",
    "Water = sorted(Water) # 정렬된 상태로 알고리즘 진행 -> 순서대로 관리 가능\n",
    "\n",
    "Recent = 0 # 현재 물을 막은 곳 \n",
    "Result = 0 # 테이프의 개수 \n",
    "\n",
    "for W in Water:\n",
    "    if W > Recent : # 물이 새는 곳이라면\n",
    "        Recent = W + L -1 # 새롭게 물을 막은 곳 찾기 (양 쪽에 0.5씩 여분 남기기)\n",
    "        Result +=1 # cnt 증가 \n",
    "\n",
    "print(Result)"
   ]
  }
 ],
 "metadata": {
  "kernelspec": {
   "display_name": "Python 3.9.5 64-bit",
   "language": "python",
   "name": "python3"
  },
  "language_info": {
   "codemirror_mode": {
    "name": "ipython",
    "version": 3
   },
   "file_extension": ".py",
   "mimetype": "text/x-python",
   "name": "python",
   "nbconvert_exporter": "python",
   "pygments_lexer": "ipython3",
   "version": "3.9.5"
  },
  "orig_nbformat": 4,
  "vscode": {
   "interpreter": {
    "hash": "15d62748266f8ea3611532b4892b57da5cd2aa28e021beffc1d944f2abb52c0e"
   }
  }
 },
 "nbformat": 4,
 "nbformat_minor": 2
}
