{
  "nbformat": 4,
  "nbformat_minor": 0,
  "metadata": {
    "colab": {
      "private_outputs": true,
      "provenance": [],
      "authorship_tag": "ABX9TyNrH8e5sjoEkIQpUwYHKZpJ",
      "include_colab_link": true
    },
    "kernelspec": {
      "name": "python3",
      "display_name": "Python 3"
    },
    "language_info": {
      "name": "python"
    }
  },
  "cells": [
    {
      "cell_type": "markdown",
      "metadata": {
        "id": "view-in-github",
        "colab_type": "text"
      },
      "source": [
        "<a href=\"https://colab.research.google.com/github/babypotatotang/DailyBaekJoon/blob/main/Greedy%20Algorithm/2720%EB%B2%88_%EC%84%B8%ED%83%81%EC%86%8C%EC%8B%9C%EC%9E%A5%EB%8F%99%ED%98%81.ipynb\" target=\"_parent\"><img src=\"https://colab.research.google.com/assets/colab-badge.svg\" alt=\"Open In Colab\"/></a>"
      ]
    },
    {
      "cell_type": "code",
      "execution_count": null,
      "metadata": {
        "id": "aeufgV565JCF"
      },
      "outputs": [],
      "source": [
        "T = int(input())\n",
        "q = 25; d = 10; n = 5; p = 1\n",
        "\n",
        "for _ in range(T):\n",
        "    num = int(input())\n",
        "    qnum = num//q\n",
        "    dnum = (num%q)//d\n",
        "    nnum = ((num%q)%d)//n\n",
        "    pnum = (((num%q)%d)%n)//p\n",
        "\n",
        "    print(qnum, dnum, nnum, pnum)"
      ]
    }
  ]
}