{
  "nbformat": 4,
  "nbformat_minor": 0,
  "metadata": {
    "colab": {
      "private_outputs": true,
      "provenance": [],
      "authorship_tag": "ABX9TyOXLbQTHduVdlyNLfjGWnaK",
      "include_colab_link": true
    },
    "kernelspec": {
      "name": "python3",
      "display_name": "Python 3"
    },
    "language_info": {
      "name": "python"
    }
  },
  "cells": [
    {
      "cell_type": "markdown",
      "metadata": {
        "id": "view-in-github",
        "colab_type": "text"
      },
      "source": [
        "<a href=\"https://colab.research.google.com/github/babypotatotang/DailyBaekJoon/blob/main/Greedy%20Algorithm/16435%EB%B2%88_%EC%8A%A4%EB%84%A4%EC%9D%B4%ED%81%AC%EB%B2%84%EB%93%9C.ipynb\" target=\"_parent\"><img src=\"https://colab.research.google.com/assets/colab-badge.svg\" alt=\"Open In Colab\"/></a>"
      ]
    },
    {
      "cell_type": "code",
      "execution_count": null,
      "metadata": {
        "id": "_gK2AwlZ4CMW"
      },
      "outputs": [],
      "source": [
        "N, L = map(int,input().split())\n",
        "Fs = list(map(int,input().split()))\n",
        "\n",
        "Fs = sorted(Fs) \n",
        "\n",
        "for F in Fs:\n",
        "    if F <= L:\n",
        "        L+=1 \n",
        "\n",
        "print(L)"
      ]
    }
  ]
}