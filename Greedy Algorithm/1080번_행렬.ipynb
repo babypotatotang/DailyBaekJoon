{
 "cells": [
  {
   "cell_type": "code",
   "execution_count": 9,
   "metadata": {},
   "outputs": [
    {
     "name": "stdout",
     "output_type": "stream",
     "text": [
      "-1\n"
     ]
    }
   ],
   "source": [
    "def MatChange(i,j):\n",
    "    global result,flag,MatA\n",
    "\n",
    "    # 3*3 행렬 direction\n",
    "    di = [0,0,0,1,1,1,2,2,2]\n",
    "    dj = [0,1,2,0,1,2,0,1,2]\n",
    "\n",
    "    for x in range(9):\n",
    "        tmpi = i + di[x]; tmpj = j + dj[x]\n",
    "        if MatA[tmpi][tmpj]=='0': MatA[tmpi][tmpj]='1'\n",
    "        else: MatA[tmpi][tmpj] ='0'\n",
    "    result+=1 #count 증가 \n",
    "\n",
    "# 입력 값 \n",
    "N,M = list(map(int,input().split()))\n",
    "MatA=[]; MatB=[];  \n",
    "for _ in range(N):\n",
    "    MatA.append(list(input()))\n",
    "for _ in range(N):\n",
    "    MatB.append(list(input()))\n",
    "\n",
    "result=0; flag=True # 연산횟수, 변환 가능 flag\n",
    "\n",
    "for i in range(N):\n",
    "    for j in range(M):\n",
    "        if MatA[i][j] != MatB[i][j]:\n",
    "            if 0<=(i+2)<N and 0<=(j+2)<M: # 바꿀 수 있는 위치라면 \n",
    "                MatChange(i,j) #Mat Change \n",
    "\n",
    "# 행렬을 바꿀 수 있는지 확인하는 과정 \n",
    "for i in range(N):\n",
    "    for j in range(M):\n",
    "        if MatA[i][j] != MatB[i][j]:\n",
    "            flag = False\n",
    "            break\n",
    "# flag가 참이라면 result 출력, 거짓이라면 -1 출력 \n",
    "print(result if flag else -1)"
   ]
  }
 ],
 "metadata": {
  "kernelspec": {
   "display_name": "Python 3.9.5 64-bit",
   "language": "python",
   "name": "python3"
  },
  "language_info": {
   "codemirror_mode": {
    "name": "ipython",
    "version": 3
   },
   "file_extension": ".py",
   "mimetype": "text/x-python",
   "name": "python",
   "nbconvert_exporter": "python",
   "pygments_lexer": "ipython3",
   "version": "3.9.5"
  },
  "orig_nbformat": 4,
  "vscode": {
   "interpreter": {
    "hash": "15d62748266f8ea3611532b4892b57da5cd2aa28e021beffc1d944f2abb52c0e"
   }
  }
 },
 "nbformat": 4,
 "nbformat_minor": 2
}
