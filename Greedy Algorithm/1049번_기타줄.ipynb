{
 "cells": [
  {
   "cell_type": "code",
   "execution_count": 3,
   "metadata": {},
   "outputs": [
    {
     "name": "stdout",
     "output_type": "stream",
     "text": [
      "300\n"
     ]
    }
   ],
   "source": [
    "N,M=list(map(int,input().split()))\n",
    "PackageMin=1000; PieceMin=1000\n",
    "for _ in range(M):\n",
    "    PackageTmp, PieceTmp=list(map(int,input().split()))\n",
    "    PackageMin=min(PackageTmp,PackageMin); PieceMin=min(PieceTmp,PieceMin)\n",
    "\n",
    "if PackageMin > PieceMin*6:\n",
    "    print(PieceMin*N)\n",
    "else:\n",
    "    if PackageMin < (N%6) * PieceMin:\n",
    "        print((N//6)*PackageMin + PackageMin)\n",
    "    else:\n",
    "        print((N//6)*PackageMin + (N % 6) * PieceMin)"
   ]
  }
 ],
 "metadata": {
  "kernelspec": {
   "display_name": "Python 3.9.5 64-bit",
   "language": "python",
   "name": "python3"
  },
  "language_info": {
   "codemirror_mode": {
    "name": "ipython",
    "version": 3
   },
   "file_extension": ".py",
   "mimetype": "text/x-python",
   "name": "python",
   "nbconvert_exporter": "python",
   "pygments_lexer": "ipython3",
   "version": "3.9.5"
  },
  "orig_nbformat": 4,
  "vscode": {
   "interpreter": {
    "hash": "15d62748266f8ea3611532b4892b57da5cd2aa28e021beffc1d944f2abb52c0e"
   }
  }
 },
 "nbformat": 4,
 "nbformat_minor": 2
}
