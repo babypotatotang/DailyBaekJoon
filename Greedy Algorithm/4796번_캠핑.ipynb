{
 "cells": [
  {
   "cell_type": "code",
   "execution_count": 1,
   "metadata": {},
   "outputs": [
    {
     "name": "stdout",
     "output_type": "stream",
     "text": [
      "Case 1: 14\n",
      "Case 2: 15\n"
     ]
    }
   ],
   "source": [
    "cnt = 1\n",
    "while(1):\n",
    "    L,P,V = map(int,input().split())\n",
    "    if L == 0 and P == 0 and V == 0 : break\n",
    "    rest = V % P if V%P<L else L\n",
    "    result = (V//P) * L + rest\n",
    "    print(\"Case {}: {}\".format(cnt,result))\n",
    "    cnt+=1"
   ]
  }
 ],
 "metadata": {
  "kernelspec": {
   "display_name": "Python 3.9.5 64-bit",
   "language": "python",
   "name": "python3"
  },
  "language_info": {
   "codemirror_mode": {
    "name": "ipython",
    "version": 3
   },
   "file_extension": ".py",
   "mimetype": "text/x-python",
   "name": "python",
   "nbconvert_exporter": "python",
   "pygments_lexer": "ipython3",
   "version": "3.9.5"
  },
  "orig_nbformat": 4,
  "vscode": {
   "interpreter": {
    "hash": "15d62748266f8ea3611532b4892b57da5cd2aa28e021beffc1d944f2abb52c0e"
   }
  }
 },
 "nbformat": 4,
 "nbformat_minor": 2
}
