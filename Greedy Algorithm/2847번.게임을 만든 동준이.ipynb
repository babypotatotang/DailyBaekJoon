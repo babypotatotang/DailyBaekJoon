{
  "nbformat": 4,
  "nbformat_minor": 0,
  "metadata": {
    "colab": {
      "private_outputs": true,
      "provenance": [],
      "authorship_tag": "ABX9TyNsB0AasO7zCgco1U2YIWXk",
      "include_colab_link": true
    },
    "kernelspec": {
      "name": "python3",
      "display_name": "Python 3"
    },
    "language_info": {
      "name": "python"
    }
  },
  "cells": [
    {
      "cell_type": "markdown",
      "metadata": {
        "id": "view-in-github",
        "colab_type": "text"
      },
      "source": [
        "<a href=\"https://colab.research.google.com/github/babypotatotang/DailyBaekJoon/blob/main/Greedy%20Algorithm/2847%EB%B2%88.%EA%B2%8C%EC%9E%84%EC%9D%84%20%EB%A7%8C%EB%93%A0%20%EB%8F%99%EC%A4%80%EC%9D%B4.ipynb\" target=\"_parent\"><img src=\"https://colab.research.google.com/assets/colab-badge.svg\" alt=\"Open In Colab\"/></a>"
      ]
    },
    {
      "cell_type": "code",
      "execution_count": null,
      "metadata": {
        "id": "_gK2AwlZ4CMW"
      },
      "outputs": [],
      "source": [
        "N = int(input())\n",
        "Levels = [int(input()) for _ in range(N)]\n",
        "flag = Levels[N-1]\n",
        "res = 0\n",
        "\n",
        "for i in range(N-2, -1, -1):\n",
        "    if flag<=Levels[i]:\n",
        "        res += Levels[i] - (flag-1)\n",
        "        Levels[i] = flag - 1\n",
        "    flag = Levels[i]\n",
        "\n",
        "print(res)"
      ]
    }
  ]
}