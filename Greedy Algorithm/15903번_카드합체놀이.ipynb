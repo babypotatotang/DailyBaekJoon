{
  "nbformat": 4,
  "nbformat_minor": 0,
  "metadata": {
    "colab": {
      "private_outputs": true,
      "provenance": [],
      "authorship_tag": "ABX9TyNi9tD4sILY58upbg4MIJi1",
      "include_colab_link": true
    },
    "kernelspec": {
      "name": "python3",
      "display_name": "Python 3"
    },
    "language_info": {
      "name": "python"
    }
  },
  "cells": [
    {
      "cell_type": "markdown",
      "metadata": {
        "id": "view-in-github",
        "colab_type": "text"
      },
      "source": [
        "<a href=\"https://colab.research.google.com/github/babypotatotang/DailyBaekJoon/blob/main/Greedy%20Algorithm/15903%EB%B2%88_%EC%B9%B4%EB%93%9C%ED%95%A9%EC%B2%B4%EB%86%80%EC%9D%B4.ipynb\" target=\"_parent\"><img src=\"https://colab.research.google.com/assets/colab-badge.svg\" alt=\"Open In Colab\"/></a>"
      ]
    },
    {
      "cell_type": "code",
      "execution_count": null,
      "metadata": {
        "id": "aeufgV565JCF"
      },
      "outputs": [],
      "source": [
        "N, M = map(int,input().split())\n",
        "A = list(map(int,input().split()))\n",
        "\n",
        "for _ in range(M):\n",
        "    A = sorted(A)\n",
        "    res = A[0] + A[1]\n",
        "    A[0] = res; A[1] = res\n",
        "\n",
        "print(sum(A))"
      ]
    }
  ]
}