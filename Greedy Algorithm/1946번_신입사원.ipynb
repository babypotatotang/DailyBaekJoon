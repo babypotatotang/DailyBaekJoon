{
 "cells": [
  {
   "cell_type": "code",
   "execution_count": 9,
   "metadata": {},
   "outputs": [
    {
     "name": "stdout",
     "output_type": "stream",
     "text": [
      "4\n",
      "3\n"
     ]
    }
   ],
   "source": [
    "T = int(input())\n",
    "for _ in range(T):\n",
    "    N = int(input())\n",
    "    Grades=[]\n",
    "    for _ in range(N):\n",
    "        Grades.append(list(map(int,input().split())))    \n",
    "        \n",
    "    Grades=sorted(Grades, key=lambda x: x[0])\n",
    "\n",
    "    Result = 1\n",
    "    Guide = Grades[0][1]\n",
    "\n",
    "    for PaperGrade, InterviewGrade in Grades:\n",
    "        if InterviewGrade < Guide:\n",
    "            Result+=1\n",
    "            Guide = InterviewGrade\n",
    "\n",
    "    print(Result)"
   ]
  }
 ],
 "metadata": {
  "kernelspec": {
   "display_name": "Python 3.9.5 64-bit",
   "language": "python",
   "name": "python3"
  },
  "language_info": {
   "codemirror_mode": {
    "name": "ipython",
    "version": 3
   },
   "file_extension": ".py",
   "mimetype": "text/x-python",
   "name": "python",
   "nbconvert_exporter": "python",
   "pygments_lexer": "ipython3",
   "version": "3.9.5"
  },
  "orig_nbformat": 4,
  "vscode": {
   "interpreter": {
    "hash": "15d62748266f8ea3611532b4892b57da5cd2aa28e021beffc1d944f2abb52c0e"
   }
  }
 },
 "nbformat": 4,
 "nbformat_minor": 2
}
