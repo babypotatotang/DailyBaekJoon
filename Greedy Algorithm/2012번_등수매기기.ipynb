{
  "nbformat": 4,
  "nbformat_minor": 0,
  "metadata": {
    "colab": {
      "private_outputs": true,
      "provenance": [],
      "authorship_tag": "ABX9TyO0bR3II7i29clj8GSiLU97",
      "include_colab_link": true
    },
    "kernelspec": {
      "name": "python3",
      "display_name": "Python 3"
    },
    "language_info": {
      "name": "python"
    }
  },
  "cells": [
    {
      "cell_type": "markdown",
      "metadata": {
        "id": "view-in-github",
        "colab_type": "text"
      },
      "source": [
        "<a href=\"https://colab.research.google.com/github/babypotatotang/DailyBaekJoon/blob/main/Greedy%20Algorithm/2012%EB%B2%88_%EB%93%B1%EC%88%98%EB%A7%A4%EA%B8%B0%EA%B8%B0.ipynb\" target=\"_parent\"><img src=\"https://colab.research.google.com/assets/colab-badge.svg\" alt=\"Open In Colab\"/></a>"
      ]
    },
    {
      "cell_type": "code",
      "source": [
        "import sys \n",
        "input = sys.stdin.readline \n",
        "\n",
        "n = int(input())\n",
        "ranks = [int(input()) for _ in range(n)]\n",
        "\n",
        "ranks = sorted(ranks)\n",
        "res = 0 \n",
        "\n",
        "for i in range(len(ranks)):\n",
        "    res += abs((i+1) - ranks[i])\n",
        "\n",
        "print(res)"
      ],
      "metadata": {
        "id": "dIIcjAnzJwQ6"
      },
      "execution_count": null,
      "outputs": []
    }
  ]
}