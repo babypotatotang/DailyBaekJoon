{
  "nbformat": 4,
  "nbformat_minor": 0,
  "metadata": {
    "colab": {
      "private_outputs": true,
      "provenance": [],
      "authorship_tag": "ABX9TyMY7iAczGv45TNYlEShHC7u",
      "include_colab_link": true
    },
    "kernelspec": {
      "name": "python3",
      "display_name": "Python 3"
    },
    "language_info": {
      "name": "python"
    }
  },
  "cells": [
    {
      "cell_type": "markdown",
      "metadata": {
        "id": "view-in-github",
        "colab_type": "text"
      },
      "source": [
        "<a href=\"https://colab.research.google.com/github/babypotatotang/DailyBaekJoon/blob/main/Greedy%20Algorithm/11508%EB%B2%88_2%2B1%EC%84%B8%EC%9D%BC.ipynb\" target=\"_parent\"><img src=\"https://colab.research.google.com/assets/colab-badge.svg\" alt=\"Open In Colab\"/></a>"
      ]
    },
    {
      "cell_type": "code",
      "source": [
        "import sys \n",
        "input = sys.stdin.readline\n",
        "\n",
        "N = int(input())\n",
        "price = [int(input()) for _ in range(N)]\n",
        "price = sorted(price, reverse = True)\n",
        "res = 0 \n",
        "for i in range(0,N,3):\n",
        "    tmp_price = price[i:i+3]\n",
        "    res += sum(tmp_price[:2])\n",
        "\n",
        "print(res)"
      ],
      "metadata": {
        "id": "7_p4m00bxDLk"
      },
      "execution_count": null,
      "outputs": []
    }
  ]
}