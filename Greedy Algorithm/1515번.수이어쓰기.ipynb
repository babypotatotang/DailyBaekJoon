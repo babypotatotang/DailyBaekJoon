{
  "nbformat": 4,
  "nbformat_minor": 0,
  "metadata": {
    "colab": {
      "private_outputs": true,
      "provenance": [],
      "authorship_tag": "ABX9TyPQLDJrjwNbGi3vlOTLLVII",
      "include_colab_link": true
    },
    "kernelspec": {
      "name": "python3",
      "display_name": "Python 3"
    },
    "language_info": {
      "name": "python"
    }
  },
  "cells": [
    {
      "cell_type": "markdown",
      "metadata": {
        "id": "view-in-github",
        "colab_type": "text"
      },
      "source": [
        "<a href=\"https://colab.research.google.com/github/babypotatotang/DailyBaekJoon/blob/main/Greedy%20Algorithm/1515%EB%B2%88.%EC%88%98%EC%9D%B4%EC%96%B4%EC%93%B0%EA%B8%B0.ipynb\" target=\"_parent\"><img src=\"https://colab.research.google.com/assets/colab-badge.svg\" alt=\"Open In Colab\"/></a>"
      ]
    },
    {
      "cell_type": "code",
      "source": [
        "nums = input()\n",
        "i = 0\n",
        "while True:\n",
        "    i += 1\n",
        "    num = str(i)\n",
        "    while len(num) > 0 and len(nums) > 0:\n",
        "        if num[0] == nums[0]:\n",
        "            nums = nums[1:]\n",
        "        num = num[1:]\n",
        "    if nums == '':\n",
        "        print(i)\n",
        "        break"
      ],
      "metadata": {
        "id": "go42tb6uuA5A"
      },
      "execution_count": null,
      "outputs": []
    }
  ]
}