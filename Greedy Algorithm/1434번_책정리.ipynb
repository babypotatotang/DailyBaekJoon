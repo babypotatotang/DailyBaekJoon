{
 "cells": [
  {
   "cell_type": "code",
   "execution_count": 1,
   "metadata": {},
   "outputs": [
    {
     "name": "stdout",
     "output_type": "stream",
     "text": [
      "0\n"
     ]
    }
   ],
   "source": [
    "n, m = map(int,input().split())\n",
    "box = list(map(int,input().split()))\n",
    "book = list(map(int,input().split()))\n",
    "\n",
    "for i in range(len(book)):\n",
    "    for j in range(len(box)):\n",
    "        # book이 box의 용량보다 크다면 continue -> 해당 box에는 book을 넣을 수 없으니 무시\n",
    "        if book[i] > box[j]: continue \n",
    "\n",
    "        # box에 book 넣고, 그만큼 무게 빼주기\n",
    "        box[j]-= book[i]\n",
    "        break # 탐색 중단 \n",
    "    \n",
    "print(sum(box))"
   ]
  }
 ],
 "metadata": {
  "kernelspec": {
   "display_name": "Python 3.9.13 64-bit (windows store)",
   "language": "python",
   "name": "python3"
  },
  "language_info": {
   "codemirror_mode": {
    "name": "ipython",
    "version": 3
   },
   "file_extension": ".py",
   "mimetype": "text/x-python",
   "name": "python",
   "nbconvert_exporter": "python",
   "pygments_lexer": "ipython3",
   "version": "3.9.13"
  },
  "orig_nbformat": 4,
  "vscode": {
   "interpreter": {
    "hash": "c4ee998c70f70a549d0057c5c83759d1ee0011729abbf2e9d9293192e01b9309"
   }
  }
 },
 "nbformat": 4,
 "nbformat_minor": 2
}
