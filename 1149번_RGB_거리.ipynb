{
  "nbformat": 4,
  "nbformat_minor": 0,
  "metadata": {
    "colab": {
      "name": "1149번: RGB 거리 ",
      "private_outputs": true,
      "provenance": [],
      "authorship_tag": "ABX9TyORfG/T239mwVDojH6/QwI/",
      "include_colab_link": true
    },
    "kernelspec": {
      "name": "python3",
      "display_name": "Python 3"
    },
    "language_info": {
      "name": "python"
    }
  },
  "cells": [
    {
      "cell_type": "markdown",
      "metadata": {
        "id": "view-in-github",
        "colab_type": "text"
      },
      "source": [
        "<a href=\"https://colab.research.google.com/github/babypotatotang/BaekJoon/blob/main/1149%EB%B2%88_RGB_%EA%B1%B0%EB%A6%AC.ipynb\" target=\"_parent\"><img src=\"https://colab.research.google.com/assets/colab-badge.svg\" alt=\"Open In Colab\"/></a>"
      ]
    },
    {
      "cell_type": "code",
      "execution_count": null,
      "metadata": {
        "id": "CHVJig5eGxo6"
      },
      "outputs": [],
      "source": [
        "#1149번: RGB 거리 \n",
        "\n",
        "num=int(input()); House=[]\n",
        "for _ in range(num):\n",
        "    House.append(list(map(int,input().split())))\n",
        "\n",
        "Cost=[[0 for _ in range(num)] for _ in range(num)]\n",
        "Cost[0][0]=House[0][0]; Cost[0][1]=House[0][1]; Cost[0][2]=House[0][2]; \n",
        "for i in range(1,num):\n",
        "    Cost[i][0]=min(Cost[i-1][1],Cost[i-1][2])+House[i][0]\n",
        "    Cost[i][1]=min(Cost[i-1][0],Cost[i-1][2])+House[i][1]\n",
        "    Cost[i][2]=min(Cost[i-1][0],Cost[i-1][1])+House[i][2]\n",
        "\n",
        "print(min(Cost[num-1][0], Cost[num-1][1],Cost[num-1][2]))"
      ]
    }
  ]
}