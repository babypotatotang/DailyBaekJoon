{
 "cells": [
  {
   "cell_type": "code",
   "execution_count": 5,
   "metadata": {},
   "outputs": [
    {
     "name": "stdout",
     "output_type": "stream",
     "text": [
      "1 RIP\n",
      "2 :-(\n"
     ]
    }
   ],
   "source": [
    "Scene = 0\n",
    "\n",
    "while(1):\n",
    "    o, w = map(int,input().split())\n",
    "    die = False\n",
    "    if o == 0 and w ==0: break\n",
    "\n",
    "    Scene+=1\n",
    "\n",
    "    while(1):\n",
    "        Order, Num = input().split()\n",
    "        \n",
    "        if Order == '#' and Num == '0': \n",
    "            break\n",
    "\n",
    "        if Order == 'F': w += int(Num)\n",
    "        elif Order == 'E': w -= int(Num)\n",
    "\n",
    "        if w<=0: die = True\n",
    "\n",
    "    if die: state = 'RIP'\n",
    "    elif o/2 < w < o*2: state = ':-)'\n",
    "    else: state = ':-('\n",
    "\n",
    "    print(f\"{Scene} {state}\")"
   ]
  }
 ],
 "metadata": {
  "kernelspec": {
   "display_name": "Python 3.9.13 64-bit (windows store)",
   "language": "python",
   "name": "python3"
  },
  "language_info": {
   "codemirror_mode": {
    "name": "ipython",
    "version": 3
   },
   "file_extension": ".py",
   "mimetype": "text/x-python",
   "name": "python",
   "nbconvert_exporter": "python",
   "pygments_lexer": "ipython3",
   "version": "3.9.13"
  },
  "orig_nbformat": 4,
  "vscode": {
   "interpreter": {
    "hash": "c4ee998c70f70a549d0057c5c83759d1ee0011729abbf2e9d9293192e01b9309"
   }
  }
 },
 "nbformat": 4,
 "nbformat_minor": 2
}
