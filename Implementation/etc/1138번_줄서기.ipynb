{
 "cells": [
  {
   "cell_type": "code",
   "execution_count": 22,
   "metadata": {},
   "outputs": [
    {
     "name": "stdout",
     "output_type": "stream",
     "text": [
      "[3, 2, 1, 5, 4]\n"
     ]
    }
   ],
   "source": [
    "N = int(input())\n",
    "Memo = [0]\n",
    "Memo += list(map(int,input().split()))\n",
    "Result = [-1] * N\n",
    "\n",
    "for index in range(N,0,-1):\n",
    "    ResultIndex = Memo[index]\n",
    "    try:\n",
    "        if Result[ResultIndex]>0: # 해당 인덱스에 이미 값이 존재한다면  \n",
    "            distance = N-index+1 # 뒤에 더 있는 부분의 길이 \n",
    "\n",
    "            tmp = Result[ResultIndex:ResultIndex+distance] # 해당 부분 slicing \n",
    "            Result[ResultIndex+1:ResultIndex+1+distance] = tmp # 교체\n",
    "            Result[ResultIndex] = index # 인덱스에 새로운 값 삽입\n",
    "        else: # 해당 인덱스에 값이 없는 경우 \n",
    "            Result[ResultIndex] = index # index 넣기 \n",
    "    except:\n",
    "        continue\n",
    "\n",
    "print(*Result[:N])"
   ]
  }
 ],
 "metadata": {
  "kernelspec": {
   "display_name": "Python 3.9.5 64-bit",
   "language": "python",
   "name": "python3"
  },
  "language_info": {
   "codemirror_mode": {
    "name": "ipython",
    "version": 3
   },
   "file_extension": ".py",
   "mimetype": "text/x-python",
   "name": "python",
   "nbconvert_exporter": "python",
   "pygments_lexer": "ipython3",
   "version": "3.9.5"
  },
  "orig_nbformat": 4,
  "vscode": {
   "interpreter": {
    "hash": "15d62748266f8ea3611532b4892b57da5cd2aa28e021beffc1d944f2abb52c0e"
   }
  }
 },
 "nbformat": 4,
 "nbformat_minor": 2
}
