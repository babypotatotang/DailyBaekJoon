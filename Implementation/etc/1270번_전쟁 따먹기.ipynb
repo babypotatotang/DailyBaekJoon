{
 "cells": [
  {
   "cell_type": "code",
   "execution_count": 8,
   "metadata": {},
   "outputs": [
    {
     "name": "stdout",
     "output_type": "stream",
     "text": [
      "SYJKGW\n",
      "1\n",
      "10\n",
      "SYJKGW\n"
     ]
    }
   ],
   "source": [
    "from collections import Counter \n",
    "N = int(input())\n",
    "for _ in range(N):\n",
    "    T , *Soldiers = map(int,input().split())\n",
    "    half = T//2\n",
    "    \n",
    "    MostCommon = Counter(Soldiers).most_common(1) # 가장 많이 등장한 병사의 수 확인 \n",
    "    MostCommonKey = MostCommon[0][0]; MostCommonValue = MostCommon[0][1] # key와 value 할당\n",
    "\n",
    "    if MostCommonValue > half: print(MostCommonKey) # 과반수 이상이면 \n",
    "    else: print('SYJKGW') # 과반수를 넘지 않으면 전쟁 중 "
   ]
  }
 ],
 "metadata": {
  "kernelspec": {
   "display_name": "Python 3.9.5 64-bit",
   "language": "python",
   "name": "python3"
  },
  "language_info": {
   "codemirror_mode": {
    "name": "ipython",
    "version": 3
   },
   "file_extension": ".py",
   "mimetype": "text/x-python",
   "name": "python",
   "nbconvert_exporter": "python",
   "pygments_lexer": "ipython3",
   "version": "3.9.5"
  },
  "orig_nbformat": 4,
  "vscode": {
   "interpreter": {
    "hash": "15d62748266f8ea3611532b4892b57da5cd2aa28e021beffc1d944f2abb52c0e"
   }
  }
 },
 "nbformat": 4,
 "nbformat_minor": 2
}
