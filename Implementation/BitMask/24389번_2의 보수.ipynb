{
 "cells": [
  {
   "cell_type": "code",
   "execution_count": 167,
   "metadata": {},
   "outputs": [
    {
     "name": "stdout",
     "output_type": "stream",
     "text": [
      "30\n"
     ]
    }
   ],
   "source": [
    "n = int(input())\n",
    "\n",
    "# 주어진 10진수 수의 32비트 2진수 구하기 \n",
    "bits = bin(n |(1<<32))[3:]\n",
    "\n",
    "# 2의 보수 구하기 \n",
    "new_bits = ''\n",
    "# (1) 1의 보수 구하기: 비트 반전 \n",
    "for bit in bits:\n",
    "    new_bits += '0' if bit=='1' else '1'\n",
    "# (2) 뒤에 1 더해서 2의 보수로 변환, 1 더할때는 이진수 덧셈 적용 \n",
    "new_bits = bin(int(new_bits,2) + 1)[2:]\n",
    "\n",
    "cnt = 0\n",
    "# 전체 비트에 대해서 같은 수가 있다면 cnt +=1 \n",
    "for i in range(32):\n",
    "    if bits[i] != new_bits[i]:\n",
    "        cnt +=1 \n",
    "\n",
    "print(cnt)"
   ]
  }
 ],
 "metadata": {
  "kernelspec": {
   "display_name": "Python 3.9.5 64-bit",
   "language": "python",
   "name": "python3"
  },
  "language_info": {
   "codemirror_mode": {
    "name": "ipython",
    "version": 3
   },
   "file_extension": ".py",
   "mimetype": "text/x-python",
   "name": "python",
   "nbconvert_exporter": "python",
   "pygments_lexer": "ipython3",
   "version": "3.9.5"
  },
  "orig_nbformat": 4,
  "vscode": {
   "interpreter": {
    "hash": "15d62748266f8ea3611532b4892b57da5cd2aa28e021beffc1d944f2abb52c0e"
   }
  }
 },
 "nbformat": 4,
 "nbformat_minor": 2
}
