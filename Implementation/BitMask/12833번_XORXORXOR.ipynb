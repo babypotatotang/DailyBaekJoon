{
 "cells": [
  {
   "cell_type": "code",
   "execution_count": null,
   "metadata": {},
   "outputs": [],
   "source": [
    "# 같은 수에 대한 xor 연산의 경우 짝수번 연산을 수행하면 값이 변하지 않음  \n",
    "# c가 홀수인지, 짝수인지를 구분하고, 각 경우에 따라서 xor연산을 수행하면 됨. \n",
    "\n",
    "a, b, c = map(int,input().split())\n",
    "\n",
    "if c%2: print(a^b)\n",
    "else: print(a)"
   ]
  }
 ],
 "metadata": {
  "kernelspec": {
   "display_name": "Python 3.9.13 64-bit (microsoft store)",
   "language": "python",
   "name": "python3"
  },
  "language_info": {
   "codemirror_mode": {
    "name": "ipython",
    "version": 3
   },
   "file_extension": ".py",
   "mimetype": "text/x-python",
   "name": "python",
   "nbconvert_exporter": "python",
   "pygments_lexer": "ipython3",
   "version": "3.9.13"
  },
  "orig_nbformat": 4,
  "vscode": {
   "interpreter": {
    "hash": "4f8b198f8598e0808e1e8c3b4dce10437a64c71550fa89cfa899f5c516d72437"
   }
  }
 },
 "nbformat": 4,
 "nbformat_minor": 2
}
