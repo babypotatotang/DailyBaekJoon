{
 "cells": [
  {
   "cell_type": "code",
   "execution_count": 1,
   "metadata": {},
   "outputs": [],
   "source": [
    "# 주어진 수 n을 2의 제곱수로 표현할때, 필요한 제곱수의 개수를 구하는 문제 \n",
    "# 주어진 수 n을 이진수로 변환하고, 1의 개수를 count하는 방식으로 풀 수 있음. \n",
    "\n",
    "n = int(input())\n",
    "n = bin(n)\n",
    "\n",
    "print(str(n).count('1')) # 2진수로 표현된 값에서 1의 개수를 출력 "
   ]
  }
 ],
 "metadata": {
  "kernelspec": {
   "display_name": "Python 3.9.13 64-bit (microsoft store)",
   "language": "python",
   "name": "python3"
  },
  "language_info": {
   "codemirror_mode": {
    "name": "ipython",
    "version": 3
   },
   "file_extension": ".py",
   "mimetype": "text/x-python",
   "name": "python",
   "nbconvert_exporter": "python",
   "pygments_lexer": "ipython3",
   "version": "3.9.13"
  },
  "orig_nbformat": 4,
  "vscode": {
   "interpreter": {
    "hash": "4f8b198f8598e0808e1e8c3b4dce10437a64c71550fa89cfa899f5c516d72437"
   }
  }
 },
 "nbformat": 4,
 "nbformat_minor": 2
}
