{
 "cells": [
  {
   "cell_type": "code",
   "execution_count": 10,
   "metadata": {},
   "outputs": [
    {
     "name": "stdout",
     "output_type": "stream",
     "text": [
      "bk"
     ]
    }
   ],
   "source": [
    "#1159번: 농구 경기\n",
    "N=int(input())\n",
    "players=dict()\n",
    "\n",
    "for _ in range(N):\n",
    "    name=input()\n",
    "    if name[0] not in players.keys():\n",
    "        players[name[0]]=1\n",
    "    else:\n",
    "        players[name[0]]+=1\n",
    "\n",
    "result=[]\n",
    "\n",
    "for name,count in players.items():\n",
    "    if count>=5:\n",
    "        result.append(name)\n",
    "\n",
    "if not result:\n",
    "    print('PREDAJA')\n",
    "else:\n",
    "    for r in result:\n",
    "        print(r,end='')\n"
   ]
  },
  {
   "cell_type": "code",
   "execution_count": 7,
   "metadata": {},
   "outputs": [
    {
     "name": "stdout",
     "output_type": "stream",
     "text": [
      "b c\n"
     ]
    }
   ],
   "source": [
    "18\n",
    "babic\n",
    "keksic\n",
    "boric\n",
    "bukic\n",
    "sarmic\n",
    "balic\n",
    "kruzic\n",
    "hrenovkic\n",
    "beslic\n",
    "boksic\n",
    "krafnic\n",
    "pecivic\n",
    "klavirkovic\n",
    "kukumaric\n",
    "sunkic\n",
    "kolacic\n",
    "kovacic\n",
    "prijestolonasljednikovi"
   ]
  },
  {
   "cell_type": "code",
   "execution_count": 2,
   "metadata": {},
   "outputs": [
    {
     "name": "stdout",
     "output_type": "stream",
     "text": [
      "hh\n"
     ]
    }
   ],
   "source": [
    "dd=dict()\n",
    "dd['a']=10\n",
    "if 'b' not in dd.keys():\n",
    "    print(\"hh\")"
   ]
  }
 ],
 "metadata": {
  "kernelspec": {
   "display_name": "Python 3.9.5 64-bit",
   "language": "python",
   "name": "python3"
  },
  "language_info": {
   "codemirror_mode": {
    "name": "ipython",
    "version": 3
   },
   "file_extension": ".py",
   "mimetype": "text/x-python",
   "name": "python",
   "nbconvert_exporter": "python",
   "pygments_lexer": "ipython3",
   "version": "3.9.5"
  },
  "orig_nbformat": 4,
  "vscode": {
   "interpreter": {
    "hash": "15d62748266f8ea3611532b4892b57da5cd2aa28e021beffc1d944f2abb52c0e"
   }
  }
 },
 "nbformat": 4,
 "nbformat_minor": 2
}
