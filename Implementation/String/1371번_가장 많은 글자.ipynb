{
 "cells": [
  {
   "cell_type": "code",
   "execution_count": 1,
   "metadata": {},
   "outputs": [],
   "source": [
    "import sys \n",
    "\n",
    "s = sys.stdin.read() # 입력을 한번에 다 받기 위해 stdin.read() 함수 \n",
    "\n",
    "count = [0] * 26 # 알파벳의 등장 빈도를 저장하는 배열 \n",
    "for c in s:\n",
    "    if c.islower():\n",
    "        count[ord(c)-97] += 1  # 알파벳 순서대로 저장 \n",
    "\n",
    "for index in range(26):\n",
    "    if count[index] == max(count):\n",
    "        print(chr(97+index),end='') # 문자로 출력 "
   ]
  }
 ],
 "metadata": {
  "kernelspec": {
   "display_name": "Python 3.9.13 64-bit (windows store)",
   "language": "python",
   "name": "python3"
  },
  "language_info": {
   "codemirror_mode": {
    "name": "ipython",
    "version": 3
   },
   "file_extension": ".py",
   "mimetype": "text/x-python",
   "name": "python",
   "nbconvert_exporter": "python",
   "pygments_lexer": "ipython3",
   "version": "3.9.13"
  },
  "orig_nbformat": 4,
  "vscode": {
   "interpreter": {
    "hash": "c4ee998c70f70a549d0057c5c83759d1ee0011729abbf2e9d9293192e01b9309"
   }
  }
 },
 "nbformat": 4,
 "nbformat_minor": 2
}
