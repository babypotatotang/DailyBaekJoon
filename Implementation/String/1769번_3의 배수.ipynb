{
  "nbformat": 4,
  "nbformat_minor": 0,
  "metadata": {
    "colab": {
      "private_outputs": true,
      "provenance": [],
      "authorship_tag": "ABX9TyPD69Q0c+pF1Ws6GUMLnd0f",
      "include_colab_link": true
    },
    "kernelspec": {
      "name": "python3",
      "display_name": "Python 3"
    },
    "language_info": {
      "name": "python"
    }
  },
  "cells": [
    {
      "cell_type": "markdown",
      "metadata": {
        "id": "view-in-github",
        "colab_type": "text"
      },
      "source": [
        "<a href=\"https://colab.research.google.com/github/babypotatotang/DailyBaekJoon/blob/main/Implementation/String/1769%EB%B2%88_3%EC%9D%98%20%EB%B0%B0%EC%88%98.ipynb\" target=\"_parent\"><img src=\"https://colab.research.google.com/assets/colab-badge.svg\" alt=\"Open In Colab\"/></a>"
      ]
    },
    {
      "cell_type": "code",
      "execution_count": null,
      "metadata": {
        "id": "vwHU2m3sUfHx"
      },
      "outputs": [],
      "source": [
        "num = input()\n",
        "count = 0 \n",
        "\n",
        "while(1):\n",
        "    if len(num) == 1: break # 1의 자리 수라면 빠르게 break \n",
        "    \n",
        "    count += 1\n",
        "    num_ls = list(num)\n",
        "    num = sum([int(i) for i in num_ls])\n",
        "    \n",
        "    if num // 10 == 0 :  # 1의 자리 수라면 빠르게 break \n",
        "        break \n",
        "\n",
        "    num = str(num)\n",
        "\n",
        "\n",
        "print(count) # 몇 번 반복문을 돌았는지 \n",
        "num = int(num)\n",
        "# 3의 배수인지 아닌지에 따라서 \n",
        "if num % 3 == 0 :\n",
        "    print(\"YES\")\n",
        "else:\n",
        "    print(\"NO\")\n"
      ]
    }
  ]
}