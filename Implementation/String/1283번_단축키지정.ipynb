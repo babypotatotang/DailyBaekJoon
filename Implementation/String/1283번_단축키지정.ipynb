{
 "cells": [
  {
   "cell_type": "code",
   "execution_count": 3,
   "metadata": {},
   "outputs": [
    {
     "name": "stdout",
     "output_type": "stream",
     "text": [
      "[N]ew\n",
      "[O]pen\n",
      "[S]ave\n",
      "Save [A]s\n",
      "Sa[v]e All\n"
     ]
    }
   ],
   "source": [
    "N = int(input())\n",
    "ShortcutKey=[]\n",
    "for _ in range(N):\n",
    "    StringList = list(input().split())\n",
    "    \n",
    "    Ck = False\n",
    "\n",
    "    # 단어 별 확인 \n",
    "    for String in StringList:\n",
    "        if String[0].upper() not in ShortcutKey:\n",
    "            ShortcutKey.append(String[0].upper())\n",
    "            NewString = '['+String[0]+']' + String[1:]\n",
    "\n",
    "            StringList[StringList.index(String)] = NewString\n",
    "            Ck = True\n",
    "            break\n",
    "\n",
    "    if not Ck: \n",
    "        # 단어 안에서 확인 \n",
    "        for String in StringList:\n",
    "            String = list(String)\n",
    "            for S in String:\n",
    "                if S.upper() not in ShortcutKey:\n",
    "                    ShortcutKey.append(S.upper())\n",
    "                    NewS = '['+S+']'\n",
    "                    Index = StringList.index(''.join(String))\n",
    "                    String[String.index(S)] = NewS\n",
    "                    Ck = True\n",
    "                    StringList[Index] = ''.join(String)\n",
    "                    break\n",
    "\n",
    "            if Ck : break\n",
    "            \n",
    "    print(*StringList)"
   ]
  }
 ],
 "metadata": {
  "kernelspec": {
   "display_name": "Python 3.9.5 64-bit",
   "language": "python",
   "name": "python3"
  },
  "language_info": {
   "codemirror_mode": {
    "name": "ipython",
    "version": 3
   },
   "file_extension": ".py",
   "mimetype": "text/x-python",
   "name": "python",
   "nbconvert_exporter": "python",
   "pygments_lexer": "ipython3",
   "version": "3.9.5"
  },
  "orig_nbformat": 4,
  "vscode": {
   "interpreter": {
    "hash": "15d62748266f8ea3611532b4892b57da5cd2aa28e021beffc1d944f2abb52c0e"
   }
  }
 },
 "nbformat": 4,
 "nbformat_minor": 2
}
