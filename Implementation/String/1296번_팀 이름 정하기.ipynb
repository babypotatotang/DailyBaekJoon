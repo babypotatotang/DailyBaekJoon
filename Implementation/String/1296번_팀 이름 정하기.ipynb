{
 "cells": [
  {
   "cell_type": "code",
   "execution_count": 2,
   "metadata": {},
   "outputs": [
    {
     "name": "stdout",
     "output_type": "stream",
     "text": [
      "INDY\n"
     ]
    }
   ],
   "source": [
    "YD = input()\n",
    "N = int(input())\n",
    "Teams = sorted([input() for _ in range(N)])\n",
    "prob = index = 0\n",
    "\n",
    "for i in range(N):\n",
    "    L = YD.count('L') + Teams[i].count('L')\n",
    "    O = YD.count('O') + Teams[i].count('O')\n",
    "    V = YD.count('V') + Teams[i].count('V')\n",
    "    E = YD.count('E') + Teams[i].count('E')\n",
    "    \n",
    "    tmp = ((L+O) * (L+V) * (L+E) * (O+V) * (O+E) * (V+E)) % 100\n",
    "\n",
    "    if prob<tmp: index = i; prob = tmp\n",
    "\n",
    "print(Teams[index])"
   ]
  }
 ],
 "metadata": {
  "kernelspec": {
   "display_name": "Python 3.9.13 64-bit (windows store)",
   "language": "python",
   "name": "python3"
  },
  "language_info": {
   "codemirror_mode": {
    "name": "ipython",
    "version": 3
   },
   "file_extension": ".py",
   "mimetype": "text/x-python",
   "name": "python",
   "nbconvert_exporter": "python",
   "pygments_lexer": "ipython3",
   "version": "3.9.13"
  },
  "orig_nbformat": 4,
  "vscode": {
   "interpreter": {
    "hash": "c4ee998c70f70a549d0057c5c83759d1ee0011729abbf2e9d9293192e01b9309"
   }
  }
 },
 "nbformat": 4,
 "nbformat_minor": 2
}
