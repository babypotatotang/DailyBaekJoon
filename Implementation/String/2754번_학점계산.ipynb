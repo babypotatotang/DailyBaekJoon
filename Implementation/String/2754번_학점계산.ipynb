{
 "cells": [
  {
   "cell_type": "code",
   "execution_count": 4,
   "metadata": {},
   "outputs": [
    {
     "name": "stdout",
     "output_type": "stream",
     "text": [
      "4.0\n"
     ]
    }
   ],
   "source": [
    "score = input()\n",
    "score_match_dic = {\n",
    "    'A+': 4.3, 'A0': 4.0, 'A-':3.7,\n",
    "    'B+': 3.3, 'B0': 3.0, 'B-':2.7,\n",
    "    'C+': 2.3, 'C0': 2.0, 'C-': 1.7,\n",
    "    'D+': 1.3, 'D0': 1.0, 'D-': 0.7,\n",
    "    'F':0.0\n",
    "}\n",
    "\n",
    "print(score_match_dic[score])"
   ]
  }
 ],
 "metadata": {
  "kernelspec": {
   "display_name": "Python 3.9.13 64-bit (windows store)",
   "language": "python",
   "name": "python3"
  },
  "language_info": {
   "codemirror_mode": {
    "name": "ipython",
    "version": 3
   },
   "file_extension": ".py",
   "mimetype": "text/x-python",
   "name": "python",
   "nbconvert_exporter": "python",
   "pygments_lexer": "ipython3",
   "version": "3.9.13"
  },
  "orig_nbformat": 4,
  "vscode": {
   "interpreter": {
    "hash": "c4ee998c70f70a549d0057c5c83759d1ee0011729abbf2e9d9293192e01b9309"
   }
  }
 },
 "nbformat": 4,
 "nbformat_minor": 2
}
