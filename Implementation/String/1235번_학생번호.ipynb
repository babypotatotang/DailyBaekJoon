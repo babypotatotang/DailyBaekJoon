{
  "nbformat": 4,
  "nbformat_minor": 0,
  "metadata": {
    "colab": {
      "private_outputs": true,
      "provenance": [],
      "authorship_tag": "ABX9TyMkKlTcc87LQLY9BKvQ5u/3",
      "include_colab_link": true
    },
    "kernelspec": {
      "name": "python3",
      "display_name": "Python 3"
    },
    "language_info": {
      "name": "python"
    }
  },
  "cells": [
    {
      "cell_type": "markdown",
      "metadata": {
        "id": "view-in-github",
        "colab_type": "text"
      },
      "source": [
        "<a href=\"https://colab.research.google.com/github/babypotatotang/DailyBaekJoon/blob/main/Implementation/String/1235%EB%B2%88_%ED%95%99%EC%83%9D%EB%B2%88%ED%98%B8.ipynb\" target=\"_parent\"><img src=\"https://colab.research.google.com/assets/colab-badge.svg\" alt=\"Open In Colab\"/></a>"
      ]
    },
    {
      "cell_type": "code",
      "execution_count": null,
      "metadata": {
        "id": "RQaqzaDOFL5K"
      },
      "outputs": [],
      "source": [
        "N = int(input())\n",
        "nums = ['_' + input() for _ in range(N)] \n",
        "\n",
        "result = len(nums[0])\n",
        "\n",
        "for l in range(result-1, 0, -1): \n",
        "    nums_split = [nums[i][l:result] for i in range(N)]\n",
        "    if len(set(nums_split)) == N: \n",
        "        break\n",
        "\n",
        "print(len(nums_split[0]))"
      ]
    }
  ]
}