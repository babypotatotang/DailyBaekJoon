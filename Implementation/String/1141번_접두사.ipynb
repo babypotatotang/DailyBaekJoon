{
 "cells": [
  {
   "cell_type": "code",
   "execution_count": 10,
   "metadata": {},
   "outputs": [
    {
     "name": "stdout",
     "output_type": "stream",
     "text": [
      "1\n"
     ]
    }
   ],
   "source": [
    "def CheckInclude(checking_word_index):\n",
    "    check_word = Words[checking_word_index]\n",
    "    for index in range(checking_word_index+1,T):\n",
    "        if check_word == Words[index][0:len(check_word)]:\n",
    "                return False # 부분집합에 포함 안됨 \n",
    "    return True # 부분집합에 포함됨\n",
    "\n",
    "T = int(input()); Words=[]; cnt=0\n",
    "\n",
    "for _ in range(T):\n",
    "    Words.append(input())\n",
    "\n",
    "Words.sort(key=len)\n",
    "\n",
    "for index in range(T):\n",
    "    if CheckInclude(index):\n",
    "        cnt+=1\n",
    "        \n",
    "print(cnt)\n"
   ]
  }
 ],
 "metadata": {
  "kernelspec": {
   "display_name": "Python 3.9.5 64-bit",
   "language": "python",
   "name": "python3"
  },
  "language_info": {
   "codemirror_mode": {
    "name": "ipython",
    "version": 3
   },
   "file_extension": ".py",
   "mimetype": "text/x-python",
   "name": "python",
   "nbconvert_exporter": "python",
   "pygments_lexer": "ipython3",
   "version": "3.9.5"
  },
  "orig_nbformat": 4,
  "vscode": {
   "interpreter": {
    "hash": "15d62748266f8ea3611532b4892b57da5cd2aa28e021beffc1d944f2abb52c0e"
   }
  }
 },
 "nbformat": 4,
 "nbformat_minor": 2
}
