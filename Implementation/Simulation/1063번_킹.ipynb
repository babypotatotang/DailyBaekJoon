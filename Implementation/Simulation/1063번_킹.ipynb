{
 "cells": [
  {
   "cell_type": "code",
   "execution_count": 28,
   "metadata": {},
   "outputs": [
    {
     "name": "stdout",
     "output_type": "stream",
     "text": [
      "H1\n",
      "I0\n"
     ]
    }
   ],
   "source": [
    "# silver5\n",
    "import sys\n",
    "\n",
    "#sys.stdin = open(\"input.txt\",\"r\")\n",
    "\n",
    "dx = [1,-1,0,0,1,-1,1,-1]\n",
    "dy = [0,0,-1,1,1,1,-1,-1]\n",
    "move = ['R','L','B','T','RT','LT','RB','LB']\n",
    "alpha = ['A','B','C','D','E','F','G','H']\n",
    "king, stone, N = map(str,input().split())\n",
    "\n",
    "k_pos = [alpha.index(king[0]), int(king[1])] # 0 ~ 7, 1 ~ 8\n",
    "s_pos = [alpha.index(stone[0]), int(stone[1])] # 0 ~ 7, 1 ~ 8\n",
    "for _ in range(int(N)):\n",
    "    idx = move.index(input())\n",
    "\n",
    "    # 다음 좌표를 정의\n",
    "    nx = k_pos[0] + dx[idx]\n",
    "    ny = k_pos[1] + dy[idx]\n",
    "    \n",
    "    if nx < 0 or ny < 1 or nx > 7 or ny > 8:\n",
    "        continue\n",
    "    if nx == s_pos[0] and ny == s_pos[1]:\n",
    "        px = s_pos[0] + dx[idx]\n",
    "        py = s_pos[1] + dy[idx]\n",
    "\n",
    "        if px < 0 or py < 1 or px > 7 or py > 8:\n",
    "            continue\n",
    "\n",
    "        # 현재 좌표를 갱신\n",
    "        s_pos[0] = px\n",
    "        s_pos[1] = pys\n",
    "    k_pos[0] = nx\n",
    "    k_pos[1] = ny\n",
    "k_result = alpha[k_pos[0]] + str(k_pos[1])\n",
    "s_result = alpha[s_pos[0]] + str(s_pos[1])\n",
    "print(k_result)\n",
    "print(s_result)"
   ]
  }
 ],
 "metadata": {
  "kernelspec": {
   "display_name": "Python 3.9.5 64-bit",
   "language": "python",
   "name": "python3"
  },
  "language_info": {
   "codemirror_mode": {
    "name": "ipython",
    "version": 3
   },
   "file_extension": ".py",
   "mimetype": "text/x-python",
   "name": "python",
   "nbconvert_exporter": "python",
   "pygments_lexer": "ipython3",
   "version": "3.9.5"
  },
  "orig_nbformat": 4,
  "vscode": {
   "interpreter": {
    "hash": "15d62748266f8ea3611532b4892b57da5cd2aa28e021beffc1d944f2abb52c0e"
   }
  }
 },
 "nbformat": 4,
 "nbformat_minor": 2
}
