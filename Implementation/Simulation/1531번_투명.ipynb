{
  "nbformat": 4,
  "nbformat_minor": 0,
  "metadata": {
    "colab": {
      "private_outputs": true,
      "provenance": [],
      "authorship_tag": "ABX9TyMJ7TDkWCgR3f3AYFiGfg/M",
      "include_colab_link": true
    },
    "kernelspec": {
      "name": "python3",
      "display_name": "Python 3"
    },
    "language_info": {
      "name": "python"
    }
  },
  "cells": [
    {
      "cell_type": "markdown",
      "metadata": {
        "id": "view-in-github",
        "colab_type": "text"
      },
      "source": [
        "<a href=\"https://colab.research.google.com/github/babypotatotang/DailyBaekJoon/blob/main/Implementation/Simulation/1531%EB%B2%88_%ED%88%AC%EB%AA%85.ipynb\" target=\"_parent\"><img src=\"https://colab.research.google.com/assets/colab-badge.svg\" alt=\"Open In Colab\"/></a>"
      ]
    },
    {
      "cell_type": "code",
      "execution_count": null,
      "metadata": {
        "id": "RQaqzaDOFL5K"
      },
      "outputs": [],
      "source": [
        "N,M = map(int,input().split())\n",
        "mosiac = []\n",
        "\n",
        "for _ in range(N): \n",
        "    mosiac.append(list(map(int,input().split())))\n",
        "\n",
        "pic = [[0 for _ in range(101)] for _ in range(101)]\n",
        "\n",
        "for m in mosiac: \n",
        "    lx, ly, rx, ry = m\n",
        "    for y in range(ly, ry+1):\n",
        "        for x in range(lx, rx+1):\n",
        "            pic[y][x] +=1 \n",
        "\n",
        "result = 0\n",
        "for p in pic[1:]: \n",
        "    result += sum(1 for pi in p if pi>M)\n",
        "\n",
        "print(result)"
      ]
    }
  ]
}