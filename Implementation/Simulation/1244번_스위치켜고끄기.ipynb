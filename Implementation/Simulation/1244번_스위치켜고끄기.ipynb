{
 "cells": [
  {
   "cell_type": "code",
   "execution_count": 22,
   "metadata": {},
   "outputs": [
    {
     "name": "stdout",
     "output_type": "stream",
     "text": [
      "1 0 0 0 1 1 0 1\n"
     ]
    }
   ],
   "source": [
    "def CheckBetween(index):\n",
    "    i =1 \n",
    "    ResultBetween = [index]\n",
    "    while(1): # 범위 확인 (같은게 있는지 없는지)\n",
    "        if 1<=index+i<=N and 1<=index-i<=N:\n",
    "            if Switch[index+i] == Switch[index-i]:\n",
    "                ResultBetween.append(index+i)\n",
    "                ResultBetween.append(index-i)\n",
    "                i+=1\n",
    "            else:\n",
    "                return ResultBetween\n",
    "        else: \n",
    "            return ResultBetween\n",
    "\n",
    "N = int(input())\n",
    "Switch = [0]\n",
    "Switch += list(map(int,input().split()))\n",
    "\n",
    "M = int(input())\n",
    "for _ in range(M):\n",
    "    gender, num = map(int,input().split())\n",
    "    if gender == 1: # 남자인 경우 \n",
    "        for i in range(1, N+1):\n",
    "            if i%num ==0 : # 배수인경우\n",
    "                Switch[i] = abs(Switch[i]-1)\n",
    "    else: # 여자인 경우 \n",
    "        ResultBetween = CheckBetween(num)\n",
    "        for R in ResultBetween:\n",
    "            Switch[R] = abs(Switch[R]-1)\n",
    "\n",
    "for i in range(1, N+1): # 20개씩 출력하는 형식 \n",
    "    print(Switch[i], end = \" \")\n",
    "    if i % 20 == 0 :\n",
    "        print()\n"
   ]
  },
  {
   "cell_type": "code",
   "execution_count": 18,
   "metadata": {},
   "outputs": [
    {
     "name": "stdout",
     "output_type": "stream",
     "text": [
      "[0, 0, 1, 1, 1, 0, 1, 0, 1]\n",
      "[0, 0, 1, 1, 1, 0, 0, 0, 1]\n",
      "[0, 1, 0, 0, 0, 1, 0, 0, 1]\n",
      "[0, 1, 0, 0, 0, 1, 0, 0, 1]\n"
     ]
    }
   ],
   "source": []
  },
  {
   "cell_type": "code",
   "execution_count": 16,
   "metadata": {},
   "outputs": [
    {
     "data": {
      "text/plain": [
       "[0, 0, 1, 0, 1, 0, 1, 0, 1]"
      ]
     },
     "execution_count": 16,
     "metadata": {},
     "output_type": "execute_result"
    }
   ],
   "source": [
    "Switch"
   ]
  },
  {
   "cell_type": "code",
   "execution_count": 12,
   "metadata": {},
   "outputs": [
    {
     "data": {
      "text/plain": [
       "[0, 11, 12, 13, 14, 15, 16, 17, 18, 19]"
      ]
     },
     "execution_count": 12,
     "metadata": {},
     "output_type": "execute_result"
    }
   ],
   "source": [
    "ss"
   ]
  },
  {
   "cell_type": "code",
   "execution_count": 17,
   "metadata": {},
   "outputs": [
    {
     "data": {
      "text/plain": [
       "[3, 4, 2, 5, 1]"
      ]
     },
     "execution_count": 17,
     "metadata": {},
     "output_type": "execute_result"
    }
   ],
   "source": [
    "ResultBetween"
   ]
  }
 ],
 "metadata": {
  "kernelspec": {
   "display_name": "Python 3.9.5 64-bit",
   "language": "python",
   "name": "python3"
  },
  "language_info": {
   "codemirror_mode": {
    "name": "ipython",
    "version": 3
   },
   "file_extension": ".py",
   "mimetype": "text/x-python",
   "name": "python",
   "nbconvert_exporter": "python",
   "pygments_lexer": "ipython3",
   "version": "3.9.5"
  },
  "orig_nbformat": 4,
  "vscode": {
   "interpreter": {
    "hash": "15d62748266f8ea3611532b4892b57da5cd2aa28e021beffc1d944f2abb52c0e"
   }
  }
 },
 "nbformat": 4,
 "nbformat_minor": 2
}
