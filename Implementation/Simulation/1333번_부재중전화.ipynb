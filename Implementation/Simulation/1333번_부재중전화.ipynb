{
 "cells": [
  {
   "cell_type": "code",
   "execution_count": 1,
   "metadata": {},
   "outputs": [
    {
     "name": "stdout",
     "output_type": "stream",
     "text": [
      "40\n"
     ]
    }
   ],
   "source": [
    "N,L,D = map(int,input().split())\n",
    "interval = 5 # 노래 사이 쉬는 시간\n",
    "TotalTime = N*L + (N-1)*interval\n",
    "Rest = L-1\n",
    "Ring = D\n",
    "while(1):\n",
    "    if (Rest<= Ring < Rest+interval-1) or Ring>=TotalTime: # 쉬는 시간이거나, 앨범이 모두 끝났다면 \n",
    "        print(Ring); break\n",
    "    \n",
    "    if Rest + interval > Ring:\n",
    "        Ring+=D\n",
    "\n",
    "    Rest += L+interval"
   ]
  }
 ],
 "metadata": {
  "kernelspec": {
   "display_name": "Python 3.9.13 64-bit (windows store)",
   "language": "python",
   "name": "python3"
  },
  "language_info": {
   "codemirror_mode": {
    "name": "ipython",
    "version": 3
   },
   "file_extension": ".py",
   "mimetype": "text/x-python",
   "name": "python",
   "nbconvert_exporter": "python",
   "pygments_lexer": "ipython3",
   "version": "3.9.13"
  },
  "orig_nbformat": 4,
  "vscode": {
   "interpreter": {
    "hash": "c4ee998c70f70a549d0057c5c83759d1ee0011729abbf2e9d9293192e01b9309"
   }
  }
 },
 "nbformat": 4,
 "nbformat_minor": 2
}
