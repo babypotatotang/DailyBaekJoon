{
 "cells": [
  {
   "cell_type": "code",
   "execution_count": 2,
   "metadata": {},
   "outputs": [
    {
     "name": "stdout",
     "output_type": "stream",
     "text": [
      "3\n"
     ]
    }
   ],
   "source": [
    "def swap(a,b): # 위치 바꾸는 함수 \n",
    "    tmp = cups[a]\n",
    "    cups[a] = cups[b]\n",
    "    cups[b] = tmp\n",
    "\n",
    "n = int(input())\n",
    "cups = [-1,1,0,0] # 공이 있는 자리에 1\n",
    "for _ in range(n):\n",
    "    a, b = map(int,input().split())\n",
    "    swap(a,b)\n",
    "\n",
    "print(cups.index(1)) # 리스트 값이 1인 index 출력 "
   ]
  }
 ],
 "metadata": {
  "kernelspec": {
   "display_name": "Python 3.9.5 64-bit",
   "language": "python",
   "name": "python3"
  },
  "language_info": {
   "codemirror_mode": {
    "name": "ipython",
    "version": 3
   },
   "file_extension": ".py",
   "mimetype": "text/x-python",
   "name": "python",
   "nbconvert_exporter": "python",
   "pygments_lexer": "ipython3",
   "version": "3.9.5"
  },
  "orig_nbformat": 4,
  "vscode": {
   "interpreter": {
    "hash": "15d62748266f8ea3611532b4892b57da5cd2aa28e021beffc1d944f2abb52c0e"
   }
  }
 },
 "nbformat": 4,
 "nbformat_minor": 2
}
