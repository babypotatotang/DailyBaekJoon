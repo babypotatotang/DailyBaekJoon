{
  "nbformat": 4,
  "nbformat_minor": 0,
  "metadata": {
    "colab": {
      "private_outputs": true,
      "provenance": [],
      "authorship_tag": "ABX9TyORvospcRKTNfpRTWsDgLjE",
      "include_colab_link": true
    },
    "kernelspec": {
      "name": "python3",
      "display_name": "Python 3"
    },
    "language_info": {
      "name": "python"
    }
  },
  "cells": [
    {
      "cell_type": "markdown",
      "metadata": {
        "id": "view-in-github",
        "colab_type": "text"
      },
      "source": [
        "<a href=\"https://colab.research.google.com/github/babypotatotang/DailyBaekJoon/blob/main/Implementation/Simulation/1331%EB%B2%88_%EB%82%98%EC%9D%B4%ED%8A%B8%20%ED%88%AC%EC%96%B4.ipynb\" target=\"_parent\"><img src=\"https://colab.research.google.com/assets/colab-badge.svg\" alt=\"Open In Colab\"/></a>"
      ]
    },
    {
      "cell_type": "code",
      "execution_count": null,
      "metadata": {
        "id": "gw0pxIyIIq3e"
      },
      "outputs": [],
      "source": [
        "from sys import stdin\n",
        "input = stdin.readline\n",
        "\n",
        "tour = [input() for _ in range(36)]\n",
        "board = [[0 for _ in range(6)] for _ in range(6)]\n",
        "sx, sy = ord(tour[0][0]) - 65, int(tour[0][1]) - 1\n",
        "board[sx][sy] = 1\n",
        "\n",
        "flag = True\n",
        "\n",
        "if abs(ord(tour[0][0]) - ord(tour[-1][0])) == 2 and abs(int(tour[0][1]) - int(tour[-1][1])) == 1 \\\n",
        "            or abs(ord(tour[0][0]) - ord(tour[-1][0])) == 1 and abs(int(tour[0][1]) - int(tour[-1][1])) == 2:\n",
        "    for i in range(1, len(tour)):\n",
        "        nx, ny = ord(tour[i][0]) - 65, int(tour[i][1]) - 1\n",
        "        if abs(nx - sx) == 2 and abs(ny - sy) == 1 or abs(nx - sx) == 1 and abs(ny - sy) == 2:\n",
        "            board[nx][ny] += 1\n",
        "            if board[nx][ny] != 1:\n",
        "                flag = False\n",
        "                break\n",
        "        else:\n",
        "            flag = False\n",
        "            break\n",
        "        sx, sy = nx, ny\n",
        "else:\n",
        "    flag = False\n",
        "\n",
        "if flag:\n",
        "    print(\"Valid\")\n",
        "else:\n",
        "    print(\"Invalid\")"
      ]
    }
  ]
}