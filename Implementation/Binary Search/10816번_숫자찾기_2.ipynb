{
  "nbformat": 4,
  "nbformat_minor": 0,
  "metadata": {
    "colab": {
      "name": "10816번: 숫자찾기 2",
      "private_outputs": true,
      "provenance": [],
      "authorship_tag": "ABX9TyMiF8XAdySnjLfgCqtpYO09",
      "include_colab_link": true
    },
    "kernelspec": {
      "name": "python3",
      "display_name": "Python 3"
    },
    "language_info": {
      "name": "python"
    }
  },
  "cells": [
    {
      "cell_type": "markdown",
      "metadata": {
        "id": "view-in-github",
        "colab_type": "text"
      },
      "source": [
        "<a href=\"https://colab.research.google.com/github/babypotatotang/BaekJoon/blob/main/10816%EB%B2%88_%EC%88%AB%EC%9E%90%EC%B0%BE%EA%B8%B0_2.ipynb\" target=\"_parent\"><img src=\"https://colab.research.google.com/assets/colab-badge.svg\" alt=\"Open In Colab\"/></a>"
      ]
    },
    {
      "cell_type": "code",
      "execution_count": null,
      "metadata": {
        "id": "CHVJig5eGxo6"
      },
      "outputs": [],
      "source": [
        "#10816번: 숫자찾기 2\n",
        "def BinarySearch(target):\n",
        "    global array\n",
        "    start=0; end=len(array)-1\n",
        "\n",
        "    while(start<=end):\n",
        "        mid=(start+end)//2\n",
        "        if array[mid]==target:\n",
        "            return array[start:end+1].count(target)\n",
        "        elif array[mid]>target:\n",
        "            end=mid-1\n",
        "        else:\n",
        "            start=mid+1\n",
        "    return 0\n",
        "            \n",
        "N=int(input())\n",
        "array=list(map(int,input().split()))\n",
        "array=sorted(array) #정렬된 배열 만들기\n",
        "\n",
        "M=int(input())\n",
        "search=list(map(int,input().split()))\n",
        "answer={}\n",
        "\n",
        "for num in list(search):\n",
        "    answer[num]=BinarySearch(num)\n",
        "\n",
        "for i in search:\n",
        "    print(answer[i], end=' ')"
      ]
    }
  ]
}