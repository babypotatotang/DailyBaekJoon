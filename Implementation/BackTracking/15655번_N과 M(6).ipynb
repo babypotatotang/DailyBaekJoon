{
 "cells": [
  {
   "cell_type": "code",
   "execution_count": 4,
   "metadata": {},
   "outputs": [
    {
     "name": "stdout",
     "output_type": "stream",
     "text": [
      "1231 1232 1233 1234\n"
     ]
    }
   ],
   "source": [
    "def BackTrack(array,depth):\n",
    "    if depth == M:\n",
    "        print(*array)\n",
    "        return\n",
    "    \n",
    "    for n in Nums:\n",
    "        if n > array[-1] :\n",
    "            array.append(n)\n",
    "            BackTrack(array,depth+1)\n",
    "            array.pop()\n",
    "\n",
    "N,M = list(map(int,input().split()))\n",
    "Nums = sorted(list(map(int,input().split())))\n",
    "\n",
    "for n in Nums:\n",
    "    array=[n]\n",
    "    BackTrack(array,1)"
   ]
  }
 ],
 "metadata": {
  "kernelspec": {
   "display_name": "Python 3.9.5 64-bit",
   "language": "python",
   "name": "python3"
  },
  "language_info": {
   "codemirror_mode": {
    "name": "ipython",
    "version": 3
   },
   "file_extension": ".py",
   "mimetype": "text/x-python",
   "name": "python",
   "nbconvert_exporter": "python",
   "pygments_lexer": "ipython3",
   "version": "3.9.5"
  },
  "orig_nbformat": 4,
  "vscode": {
   "interpreter": {
    "hash": "15d62748266f8ea3611532b4892b57da5cd2aa28e021beffc1d944f2abb52c0e"
   }
  }
 },
 "nbformat": 4,
 "nbformat_minor": 2
}
