{
  "nbformat": 4,
  "nbformat_minor": 0,
  "metadata": {
    "colab": {
      "name": "2580번: 스도쿠",
      "private_outputs": true,
      "provenance": [],
      "authorship_tag": "ABX9TyOEo2Qj7yT81SVRREZ4ieg+",
      "include_colab_link": true
    },
    "kernelspec": {
      "name": "python3",
      "display_name": "Python 3"
    },
    "language_info": {
      "name": "python"
    }
  },
  "cells": [
    {
      "cell_type": "markdown",
      "metadata": {
        "id": "view-in-github",
        "colab_type": "text"
      },
      "source": [
        "<a href=\"https://colab.research.google.com/github/babypotatotang/BaekJoon/blob/main/2580%EB%B2%88_%EC%8A%A4%EB%8F%84%EC%BF%A0.ipynb\" target=\"_parent\"><img src=\"https://colab.research.google.com/assets/colab-badge.svg\" alt=\"Open In Colab\"/></a>"
      ]
    },
    {
      "cell_type": "code",
      "execution_count": null,
      "metadata": {
        "id": "oMu5BXscVHCq"
      },
      "outputs": [],
      "source": [
        "#2580번: 스도쿠\n",
        "import sys\n",
        "r = sys.stdin.readline\n",
        "\n",
        "sdoku = [list(map(int, r().split())) for _ in range(9)]\n",
        "\n",
        "zeros = [(i, j) for i in range(9) for j in range(9) if sdoku[i][j] == 0]\n",
        "\n",
        "def inrow(rownum,index):\n",
        "    row=sdoku[rownum]\n",
        "    if index in row: return False\n",
        "    return True\n",
        "\n",
        "def incol(colnum,index):\n",
        "    for i in sdoku:\n",
        "        if index==i[colnum]: return False\n",
        "    return True\n",
        "    \n",
        "def inbox(rownum,colnum,index):\n",
        "    rownum//=3; colnum//=3\n",
        "    for i in range(rownum*3,rownum*3+3):\n",
        "        for j in range(colnum*3,colnum*3+3):\n",
        "            if index==sdoku[i][j]: return False\n",
        "    return True\n",
        "    \n",
        "def fill(num):\n",
        "    if num==len(zeros):  \n",
        "        for i in sdoku:\n",
        "            print(*i)\n",
        "        sys.exit(0)\n",
        "    else: \n",
        "        p=zeros[num]\n",
        "\n",
        "        rownum=p[0]; colnum=p[1]\n",
        "\n",
        "        for index in range(1,10):\n",
        "            if(inrow(rownum,index) and incol(colnum,index) and inbox(rownum,colnum,index)):\n",
        "                sdoku[rownum][colnum]=index\n",
        "                fill(num+1)\n",
        "                sdoku[rownum][colnum]=0\n",
        "                \n",
        "fill(0)"
      ]
    }
  ]
}