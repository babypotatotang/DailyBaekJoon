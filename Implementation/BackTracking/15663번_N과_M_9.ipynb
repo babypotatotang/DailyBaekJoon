{
  "nbformat": 4,
  "nbformat_minor": 0,
  "metadata": {
    "colab": {
      "name": "15663번: N과 M 9",
      "private_outputs": true,
      "provenance": [],
      "authorship_tag": "ABX9TyMH17zAC14CTJV002tac9wA",
      "include_colab_link": true
    },
    "kernelspec": {
      "name": "python3",
      "display_name": "Python 3"
    },
    "language_info": {
      "name": "python"
    }
  },
  "cells": [
    {
      "cell_type": "markdown",
      "metadata": {
        "id": "view-in-github",
        "colab_type": "text"
      },
      "source": [
        "<a href=\"https://colab.research.google.com/github/babypotatotang/DailyBaekJoon/blob/main/%EB%82%9C%EC%9D%B4%EB%8F%84%20%EC%A4%91/%2015663%EB%B2%88_N%EA%B3%BC_M_9.ipynb\" target=\"_parent\"><img src=\"https://colab.research.google.com/assets/colab-badge.svg\" alt=\"Open In Colab\"/></a>"
      ]
    },
    {
      "cell_type": "code",
      "execution_count": null,
      "metadata": {
        "id": "CHVJig5eGxo6"
      },
      "outputs": [],
      "source": [
        "#15663번: N과 M 9\n",
        "N,M=list(map(int,input().split()))\n",
        "array=list(map(int,input().split()))\n",
        "array=sorted(array)\n",
        "results=[]\n",
        "\n",
        "def search(tmp,depth):\n",
        "    if depth==M:\n",
        "        print(*tmp)\n",
        "        return tmp\n",
        "    \n",
        "    rm=0\n",
        "    for i in range(N):\n",
        "        if not checked[i] and rm!=array[i]:\n",
        "            tmp.append(array[i])\n",
        "            checked[i]=True\n",
        "            rm=array[i]\n",
        "            search(tmp,depth+1)\n",
        "            tmp.pop()\n",
        "            checked[i]=False\n",
        "\n",
        "checked=[False]*N\n",
        "head=[]\n",
        "for i in range(N):\n",
        "    if array[i] not in head:\n",
        "        head.append(array[i])\n",
        "        tmp=[array[i]] # 이미 depth는 1\n",
        "        checked[i]=True\n",
        "        search(tmp,1)\n",
        "        checked[i]=False\n",
        "    "
      ]
    }
  ]
}