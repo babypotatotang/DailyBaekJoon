{
  "nbformat": 4,
  "nbformat_minor": 0,
  "metadata": {
    "colab": {
      "name": "15666번: N과 M(12)",
      "private_outputs": true,
      "provenance": [],
      "authorship_tag": "ABX9TyMG1Oae5zK0+CbziIoctZ8n",
      "include_colab_link": true
    },
    "kernelspec": {
      "name": "python3",
      "display_name": "Python 3"
    },
    "language_info": {
      "name": "python"
    }
  },
  "cells": [
    {
      "cell_type": "markdown",
      "metadata": {
        "id": "view-in-github",
        "colab_type": "text"
      },
      "source": [
        "<a href=\"https://colab.research.google.com/github/babypotatotang/DailyBaekJoon/blob/main/%EB%82%9C%EC%9D%B4%EB%8F%84%20%EC%A4%91/%2015666%EB%B2%88_N%EA%B3%BC_M(12).ipynb\" target=\"_parent\"><img src=\"https://colab.research.google.com/assets/colab-badge.svg\" alt=\"Open In Colab\"/></a>"
      ]
    },
    {
      "cell_type": "code",
      "execution_count": null,
      "metadata": {
        "id": "CHVJig5eGxo6"
      },
      "outputs": [],
      "source": [
        "# 15666번: N과 M(12)\n",
        "def search(depth):\n",
        "    global result\n",
        "    if depth==M:\n",
        "        print(*result)\n",
        "        return \n",
        "    rm=0\n",
        "    for i in range(N):\n",
        "        if array[i]>=result[depth-1] and array[i]!=rm:\n",
        "            rm=array[i]\n",
        "            result.append(array[i])\n",
        "            search(depth+1)\n",
        "            result.pop() \n",
        "\n",
        "N,M=list(map(int,input().split()))\n",
        "array=list(map(int,input().split()))\n",
        "array=sorted(array)\n",
        "head=sorted(list(set(array)))\n",
        "\n",
        "result=[]\n",
        "for i in range(len(head)):\n",
        "    result.append(head[i])\n",
        "    search(1)\n",
        "    result.pop()"
      ]
    }
  ]
}