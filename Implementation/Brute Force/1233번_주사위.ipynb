{
 "cells": [
  {
   "cell_type": "code",
   "execution_count": 28,
   "metadata": {},
   "outputs": [
    {
     "name": "stdout",
     "output_type": "stream",
     "text": [
      "5\n"
     ]
    }
   ],
   "source": [
    "# 1233번: 주사위\n",
    "S1,S2,S3=list(map(int,input().split()))\n",
    "result=dict(); AnswerNum=10000; AnswerCnt=0\n",
    "for s1 in range(1,S1+1):\n",
    "    for s2 in range(1,S2+1):\n",
    "        for s3 in range(1,S3+1):\n",
    "            tmp=s1+s2+s3\n",
    "            if tmp in result.keys():\n",
    "                result[tmp]+=1\n",
    "            else:\n",
    "                result[tmp]=1\n",
    "sortedresult=sorted(result.items(),key=lambda item: item[1],reverse=True)\n",
    "print(sortedresult[0][0])"
   ]
  },
  {
   "cell_type": "code",
   "execution_count": 25,
   "metadata": {},
   "outputs": [],
   "source": []
  },
  {
   "cell_type": "code",
   "execution_count": 27,
   "metadata": {},
   "outputs": [
    {
     "data": {
      "text/plain": [
       "5"
      ]
     },
     "execution_count": 27,
     "metadata": {},
     "output_type": "execute_result"
    }
   ],
   "source": [
    "sortedresult"
   ]
  }
 ],
 "metadata": {
  "kernelspec": {
   "display_name": "Python 3.9.5 64-bit",
   "language": "python",
   "name": "python3"
  },
  "language_info": {
   "codemirror_mode": {
    "name": "ipython",
    "version": 3
   },
   "file_extension": ".py",
   "mimetype": "text/x-python",
   "name": "python",
   "nbconvert_exporter": "python",
   "pygments_lexer": "ipython3",
   "version": "3.9.5"
  },
  "orig_nbformat": 4,
  "vscode": {
   "interpreter": {
    "hash": "15d62748266f8ea3611532b4892b57da5cd2aa28e021beffc1d944f2abb52c0e"
   }
  }
 },
 "nbformat": 4,
 "nbformat_minor": 2
}
