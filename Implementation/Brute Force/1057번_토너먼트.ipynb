{
 "cells": [
  {
   "cell_type": "code",
   "execution_count": 4,
   "metadata": {},
   "outputs": [
    {
     "name": "stdout",
     "output_type": "stream",
     "text": [
      "10\n"
     ]
    }
   ],
   "source": [
    "N, JM, HS = list(map(int,input().split()))\n",
    "round = 0 \n",
    "Ntmp = N\n",
    "Fight = False\n",
    "\n",
    "Tornament = ['Normal' for _ in range(N+1)]\n",
    "Tornament[JM] = 'Star'; Tornament[HS] = 'Star'\n",
    "\n",
    "while Ntmp>1:\n",
    "    \n",
    "    if Ntmp % 2 !=0: Ntmp+=1\n",
    "\n",
    "    NewTornament = ['Normal']\n",
    "    round +=1\n",
    "\n",
    "    for index in range(1, Ntmp, 2):\n",
    "        try:\n",
    "            if Tornament[index] == 'Normal' and Tornament[index+1] =='Normal': # 둘다 없는 경우 \n",
    "                NewTornament.append('Normal')\n",
    "            elif (Tornament[index] == 'Normal' and Tornament[index+1] != 'Normal') or (Tornament[index] != 'Normal' and Tornament[index+1] == 'Normal'): # 둘 중 하나만 있는 경우 \n",
    "                NewTornament.append('Star')\n",
    "            elif (Tornament[index]=='Star' and Tornament[index+1] == 'Star'): # 둘 다 있는 경우 \n",
    "                Fight = True\n",
    "                break\n",
    "        except:\n",
    "            NewTornament.append(Tornament[-1]) # 마지막 인덱스 값 \n",
    "\n",
    "    Ntmp //=2\n",
    "    Tornament = NewTornament\n",
    "    if Fight: break\n",
    "\n",
    "if Fight:\n",
    "    print(round)\n",
    "else: print(-1)"
   ]
  }
 ],
 "metadata": {
  "kernelspec": {
   "display_name": "Python 3.9.5 64-bit",
   "language": "python",
   "name": "python3"
  },
  "language_info": {
   "codemirror_mode": {
    "name": "ipython",
    "version": 3
   },
   "file_extension": ".py",
   "mimetype": "text/x-python",
   "name": "python",
   "nbconvert_exporter": "python",
   "pygments_lexer": "ipython3",
   "version": "3.9.5"
  },
  "orig_nbformat": 4,
  "vscode": {
   "interpreter": {
    "hash": "15d62748266f8ea3611532b4892b57da5cd2aa28e021beffc1d944f2abb52c0e"
   }
  }
 },
 "nbformat": 4,
 "nbformat_minor": 2
}
