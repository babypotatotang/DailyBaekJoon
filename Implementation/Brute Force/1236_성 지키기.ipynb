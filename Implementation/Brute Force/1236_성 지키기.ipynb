{
 "cells": [
  {
   "cell_type": "code",
   "execution_count": 16,
   "metadata": {},
   "outputs": [
    {
     "name": "stdout",
     "output_type": "stream",
     "text": [
      "1\n"
     ]
    }
   ],
   "source": [
    "# 1236번: 성 지키기 \n",
    "N,M=list(map(int,input().split()))\n",
    "RowCheck=0; ColCheck=0\n",
    "CastleLayers=[]\n",
    "\n",
    "for _ in range(N):\n",
    "    CastleLayers.append(list(input()))\n",
    "\n",
    "for i in range(N):\n",
    "    CastleRow=CastleLayers[i]\n",
    "    if 'X' not in CastleRow:\n",
    "        RowCheck+=1\n",
    "\n",
    "for j in range(M):\n",
    "    CastleCol=[CastleLayers[i][j] for i in range(N)]\n",
    "    if 'X' not in CastleCol:\n",
    "        ColCheck+=1\n",
    "\n",
    "print(max(RowCheck,ColCheck))"
   ]
  }
 ],
 "metadata": {
  "kernelspec": {
   "display_name": "Python 3.9.5 64-bit",
   "language": "python",
   "name": "python3"
  },
  "language_info": {
   "codemirror_mode": {
    "name": "ipython",
    "version": 3
   },
   "file_extension": ".py",
   "mimetype": "text/x-python",
   "name": "python",
   "nbconvert_exporter": "python",
   "pygments_lexer": "ipython3",
   "version": "3.9.5"
  },
  "orig_nbformat": 4,
  "vscode": {
   "interpreter": {
    "hash": "15d62748266f8ea3611532b4892b57da5cd2aa28e021beffc1d944f2abb52c0e"
   }
  }
 },
 "nbformat": 4,
 "nbformat_minor": 2
}
