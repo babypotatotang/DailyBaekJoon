{
 "cells": [
  {
   "cell_type": "code",
   "execution_count": 9,
   "metadata": {},
   "outputs": [
    {
     "name": "stdout",
     "output_type": "stream",
     "text": [
      "49\n"
     ]
    }
   ],
   "source": [
    "N,M = list(map(int,input().split()))\n",
    "Field = []\n",
    "\n",
    "for _ in range(N):\n",
    "    Field.append(list(input()))\n",
    "    \n",
    "LineMax = min(N,M) # 정사각형의 최대 라인 길이 \n",
    "Line = 1 # 정사각형 초기 라인 값\n",
    "Result = 1\n",
    "\n",
    "for Line in range(Line, LineMax+1):\n",
    "    for i in range(N):\n",
    "        for j in range(M):\n",
    "            if 0<=(i+(Line-1))<N and 0<=(j+(Line-1))<M:\n",
    "                if Field[i][j] == Field[i+(Line-1)][j] == Field[i][j+(Line-1)] == Field[i+(Line-1)][j+(Line-1)]:\n",
    "                    Result=Line**2\n",
    "\n",
    "print(Result)"
   ]
  }
 ],
 "metadata": {
  "kernelspec": {
   "display_name": "Python 3.9.5 64-bit",
   "language": "python",
   "name": "python3"
  },
  "language_info": {
   "codemirror_mode": {
    "name": "ipython",
    "version": 3
   },
   "file_extension": ".py",
   "mimetype": "text/x-python",
   "name": "python",
   "nbconvert_exporter": "python",
   "pygments_lexer": "ipython3",
   "version": "3.9.5"
  },
  "orig_nbformat": 4,
  "vscode": {
   "interpreter": {
    "hash": "15d62748266f8ea3611532b4892b57da5cd2aa28e021beffc1d944f2abb52c0e"
   }
  }
 },
 "nbformat": 4,
 "nbformat_minor": 2
}
