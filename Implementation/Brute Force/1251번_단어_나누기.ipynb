{
  "nbformat": 4,
  "nbformat_minor": 0,
  "metadata": {
    "colab": {
      "private_outputs": true,
      "provenance": [],
      "authorship_tag": "ABX9TyN1kDZkpet0sWzt39MAwW2Z",
      "include_colab_link": true
    },
    "kernelspec": {
      "name": "python3",
      "display_name": "Python 3"
    },
    "language_info": {
      "name": "python"
    }
  },
  "cells": [
    {
      "cell_type": "markdown",
      "metadata": {
        "id": "view-in-github",
        "colab_type": "text"
      },
      "source": [
        "<a href=\"https://colab.research.google.com/github/babypotatotang/DailyBaekJoon/blob/main/Implementation/Brute%20Force/1251%EB%B2%88_%EB%8B%A8%EC%96%B4_%EB%82%98%EB%88%84%EA%B8%B0.ipynb\" target=\"_parent\"><img src=\"https://colab.research.google.com/assets/colab-badge.svg\" alt=\"Open In Colab\"/></a>"
      ]
    },
    {
      "cell_type": "code",
      "execution_count": null,
      "metadata": {
        "id": "vwHU2m3sUfHx"
      },
      "outputs": [],
      "source": [
        "original = input()\n",
        "first_index = 0\n",
        "result = ''\n",
        "\n",
        "for second_index in range(1, len(original)-1):\n",
        "    for third_index in range(second_index+1, len(original)):\n",
        "        # split into three groups \n",
        "        first_word = original[first_index: second_index]\n",
        "        second_word = original[second_index:third_index]\n",
        "        third_word = original[third_index:]\n",
        "\n",
        "        # reverse\n",
        "        first_word = \"\".join(reversed(first_word));\n",
        "        second_word = \"\".join(reversed(second_word))\n",
        "        third_word = \"\".join(reversed(third_word))\n",
        "\n",
        "        new_word = first_word+second_word+third_word\n",
        "        \n",
        "        # order by dictionary \n",
        "        if result=='': result = new_word\n",
        "        else: result = min(result, new_word)\n",
        "\n",
        "print(result)"
      ]
    }
  ]
}