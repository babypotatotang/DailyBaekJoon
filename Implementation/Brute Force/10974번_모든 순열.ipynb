{
  "nbformat": 4,
  "nbformat_minor": 0,
  "metadata": {
    "colab": {
      "private_outputs": true,
      "provenance": [],
      "authorship_tag": "ABX9TyP2b0n9N6ZHedPJSPyn5kMA",
      "include_colab_link": true
    },
    "kernelspec": {
      "name": "python3",
      "display_name": "Python 3"
    },
    "language_info": {
      "name": "python"
    }
  },
  "cells": [
    {
      "cell_type": "markdown",
      "metadata": {
        "id": "view-in-github",
        "colab_type": "text"
      },
      "source": [
        "<a href=\"https://colab.research.google.com/github/babypotatotang/DailyBaekJoon/blob/main/Implementation/Brute%20Force/10974%EB%B2%88_%EB%AA%A8%EB%93%A0%20%EC%88%9C%EC%97%B4.ipynb\" target=\"_parent\"><img src=\"https://colab.research.google.com/assets/colab-badge.svg\" alt=\"Open In Colab\"/></a>"
      ]
    },
    {
      "cell_type": "code",
      "source": [
        "from itertools import permutations\n",
        "\n",
        "N = int(input())\n",
        "\n",
        "nums = [i for i in range(1, N+1)]\n",
        "per_nums = list(permutations(nums, N))\n",
        "\n",
        "for per_num in per_nums:\n",
        "    print(*per_num)"
      ],
      "metadata": {
        "id": "7_p4m00bxDLk"
      },
      "execution_count": null,
      "outputs": []
    }
  ]
}