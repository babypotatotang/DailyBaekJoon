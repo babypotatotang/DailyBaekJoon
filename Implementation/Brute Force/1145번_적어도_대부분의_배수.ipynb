{
 "cells": [
  {
   "cell_type": "code",
   "execution_count": null,
   "metadata": {},
   "outputs": [],
   "source": [
    "#1145번: 적어도 대부분의 배수\n",
    "array=list(map(int,input().split()))\n",
    "result=1\n",
    "\n",
    "while 1:\n",
    "    chk=0\n",
    "    for num in array:\n",
    "        if result%num==0:\n",
    "            chk+=1\n",
    "\n",
    "    if chk>=3:\n",
    "        print(result)\n",
    "        break\n",
    "\n",
    "    result+=1"
   ]
  }
 ],
 "metadata": {
  "language_info": {
   "name": "python"
  },
  "orig_nbformat": 4
 },
 "nbformat": 4,
 "nbformat_minor": 2
}
