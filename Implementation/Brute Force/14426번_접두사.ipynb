{
 "cells": [
  {
   "cell_type": "code",
   "execution_count": 3,
   "metadata": {},
   "outputs": [
    {
     "name": "stdout",
     "output_type": "stream",
     "text": [
      "7\n"
     ]
    }
   ],
   "source": [
    "def Check(String):\n",
    "    for s in S: # String의 길이와 동일한 s가 있는지 \n",
    "        if s[0:len(String)] == String: return True # 있다면 바로 True 반환 \n",
    "    return False\n",
    "\n",
    "N, M = map(int,input().split())\n",
    "S = []; Count =0 \n",
    "for _ in range(N):\n",
    "    S.append(input())\n",
    "\n",
    "for _ in range(M):\n",
    "    CheckString = input()\n",
    "    if Check(CheckString): \n",
    "        Count+=1\n",
    "\n",
    "print(Count)"
   ]
  }
 ],
 "metadata": {
  "kernelspec": {
   "display_name": "Python 3.9.5 64-bit",
   "language": "python",
   "name": "python3"
  },
  "language_info": {
   "codemirror_mode": {
    "name": "ipython",
    "version": 3
   },
   "file_extension": ".py",
   "mimetype": "text/x-python",
   "name": "python",
   "nbconvert_exporter": "python",
   "pygments_lexer": "ipython3",
   "version": "3.9.5"
  },
  "orig_nbformat": 4,
  "vscode": {
   "interpreter": {
    "hash": "15d62748266f8ea3611532b4892b57da5cd2aa28e021beffc1d944f2abb52c0e"
   }
  }
 },
 "nbformat": 4,
 "nbformat_minor": 2
}
