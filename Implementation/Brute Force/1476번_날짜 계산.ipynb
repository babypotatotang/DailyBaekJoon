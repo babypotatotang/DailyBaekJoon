{
  "nbformat": 4,
  "nbformat_minor": 0,
  "metadata": {
    "colab": {
      "private_outputs": true,
      "provenance": [],
      "authorship_tag": "ABX9TyM4L7X7zGuyZV0O6w268Vlt",
      "include_colab_link": true
    },
    "kernelspec": {
      "name": "python3",
      "display_name": "Python 3"
    },
    "language_info": {
      "name": "python"
    }
  },
  "cells": [
    {
      "cell_type": "markdown",
      "metadata": {
        "id": "view-in-github",
        "colab_type": "text"
      },
      "source": [
        "<a href=\"https://colab.research.google.com/github/babypotatotang/DailyBaekJoon/blob/main/Implementation/Brute%20Force/1476%EB%B2%88_%EB%82%A0%EC%A7%9C%20%EA%B3%84%EC%82%B0.ipynb\" target=\"_parent\"><img src=\"https://colab.research.google.com/assets/colab-badge.svg\" alt=\"Open In Colab\"/></a>"
      ]
    },
    {
      "cell_type": "code",
      "source": [
        "E, S, M = map(int,input().split())\n",
        "\n",
        "year = 1\n",
        "\n",
        "while True:\n",
        "    if (year - E) % 15 == 0 and (year - S) % 28 == 0 and (year - M) % 19 == 0:\n",
        "        break \n",
        "    year += 1\n",
        "\n",
        "print(year)    "
      ],
      "metadata": {
        "id": "FoFm31adbciy"
      },
      "execution_count": null,
      "outputs": []
    }
  ]
}