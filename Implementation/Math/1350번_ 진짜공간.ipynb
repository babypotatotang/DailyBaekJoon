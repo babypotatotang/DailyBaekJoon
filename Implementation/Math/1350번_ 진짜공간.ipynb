{
 "cells": [
  {
   "cell_type": "code",
   "execution_count": 18,
   "metadata": {},
   "outputs": [
    {
     "name": "stdout",
     "output_type": "stream",
     "text": [
      "1\n",
      "1\n",
      "1\n",
      "1\n",
      "0\n",
      "131072\n"
     ]
    }
   ],
   "source": [
    "N = int(input()) # 파일의 개수 \n",
    "Disk = list(map(int,input().split()))\n",
    "Size = int(input())\n",
    "num = 0 \n",
    "for D in Disk:\n",
    "    tmp = 0 \n",
    "    if D != 0: \n",
    "        tmp = D//Size+1 if D%Size else D//Size\n",
    "\n",
    "    num += tmp\n",
    "\n",
    "print(Size * num)\n"
   ]
  }
 ],
 "metadata": {
  "kernelspec": {
   "display_name": "Python 3.9.13 64-bit (windows store)",
   "language": "python",
   "name": "python3"
  },
  "language_info": {
   "codemirror_mode": {
    "name": "ipython",
    "version": 3
   },
   "file_extension": ".py",
   "mimetype": "text/x-python",
   "name": "python",
   "nbconvert_exporter": "python",
   "pygments_lexer": "ipython3",
   "version": "3.9.13"
  },
  "orig_nbformat": 4,
  "vscode": {
   "interpreter": {
    "hash": "c4ee998c70f70a549d0057c5c83759d1ee0011729abbf2e9d9293192e01b9309"
   }
  }
 },
 "nbformat": 4,
 "nbformat_minor": 2
}
