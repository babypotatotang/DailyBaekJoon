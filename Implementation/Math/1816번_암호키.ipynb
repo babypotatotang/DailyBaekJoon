{
  "nbformat": 4,
  "nbformat_minor": 0,
  "metadata": {
    "colab": {
      "private_outputs": true,
      "provenance": [],
      "authorship_tag": "ABX9TyNlAiDxP7o+U/KDrfTRSFQd",
      "include_colab_link": true
    },
    "kernelspec": {
      "name": "python3",
      "display_name": "Python 3"
    },
    "language_info": {
      "name": "python"
    }
  },
  "cells": [
    {
      "cell_type": "markdown",
      "metadata": {
        "id": "view-in-github",
        "colab_type": "text"
      },
      "source": [
        "<a href=\"https://colab.research.google.com/github/babypotatotang/DailyBaekJoon/blob/main/Implementation/Math/1816%EB%B2%88_%EC%95%94%ED%98%B8%ED%82%A4.ipynb\" target=\"_parent\"><img src=\"https://colab.research.google.com/assets/colab-badge.svg\" alt=\"Open In Colab\"/></a>"
      ]
    },
    {
      "cell_type": "code",
      "execution_count": null,
      "metadata": {
        "id": "_iJWbprt0nGg"
      },
      "outputs": [],
      "source": [
        "3\n",
        "1000036000099\n",
        "1500035500153\n",
        "20000000000002"
      ]
    },
    {
      "cell_type": "code",
      "source": [
        "flag = [False, False, ]  + [True] * 1000001\n",
        "\n",
        "prime = [] \n",
        "\n",
        "for i in range(2, 1000001):\n",
        "    if flag[i]: \n",
        "        prime.append(i)\n",
        "        for j in range(2*i, 1000001, i):\n",
        "            flag[j] = False\n",
        "\n",
        "N = int(input())\n",
        "for _ in range(N):\n",
        "    S = int(input())\n",
        "    for p in prime:\n",
        "        if S % p == 0 :\n",
        "            print(\"NO\")\n",
        "            S = 0 \n",
        "            break\n",
        "\n",
        "    if S != 0 : print(\"YES\")"
      ],
      "metadata": {
        "id": "BI3w9YQGBqg6"
      },
      "execution_count": null,
      "outputs": []
    }
  ]
}