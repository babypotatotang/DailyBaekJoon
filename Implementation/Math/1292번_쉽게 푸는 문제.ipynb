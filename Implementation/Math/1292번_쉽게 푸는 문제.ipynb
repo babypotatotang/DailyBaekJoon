{
 "cells": [
  {
   "cell_type": "code",
   "execution_count": 1,
   "metadata": {},
   "outputs": [],
   "source": [
    "A, B = map(int,input().split())\n",
    "Array = []\n",
    "for i in range(1,1000): # 최대 범위 1000까지 i 값 돌리기 \n",
    "    for j in range(0,i): # i번 만큼 i값을 넣어줌 \n",
    "        Array.append(i)\n",
    "        if len(Array) == B : break # 탈출 \n",
    "    if len(Array) == B : break\n",
    "\n",
    "print(sum(Array[A-1:B+1])) # 구간합 구하기 "
   ]
  }
 ],
 "metadata": {
  "kernelspec": {
   "display_name": "Python 3.9.5 64-bit",
   "language": "python",
   "name": "python3"
  },
  "language_info": {
   "codemirror_mode": {
    "name": "ipython",
    "version": 3
   },
   "file_extension": ".py",
   "mimetype": "text/x-python",
   "name": "python",
   "nbconvert_exporter": "python",
   "pygments_lexer": "ipython3",
   "version": "3.9.5"
  },
  "orig_nbformat": 4,
  "vscode": {
   "interpreter": {
    "hash": "15d62748266f8ea3611532b4892b57da5cd2aa28e021beffc1d944f2abb52c0e"
   }
  }
 },
 "nbformat": 4,
 "nbformat_minor": 2
}
