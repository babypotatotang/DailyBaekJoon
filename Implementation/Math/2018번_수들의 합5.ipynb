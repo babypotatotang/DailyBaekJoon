{
  "nbformat": 4,
  "nbformat_minor": 0,
  "metadata": {
    "colab": {
      "private_outputs": true,
      "provenance": [],
      "collapsed_sections": [],
      "authorship_tag": "ABX9TyOB9GCwyaHjqA0cj0h9dF74",
      "include_colab_link": true
    },
    "kernelspec": {
      "name": "python3",
      "display_name": "Python 3"
    },
    "language_info": {
      "name": "python"
    }
  },
  "cells": [
    {
      "cell_type": "markdown",
      "metadata": {
        "id": "view-in-github",
        "colab_type": "text"
      },
      "source": [
        "<a href=\"https://colab.research.google.com/github/babypotatotang/DailyBaekJoon/blob/main/Implementation/Math/2018%EB%B2%88_%EC%88%98%EB%93%A4%EC%9D%98%20%ED%95%A95.ipynb\" target=\"_parent\"><img src=\"https://colab.research.google.com/assets/colab-badge.svg\" alt=\"Open In Colab\"/></a>"
      ]
    },
    {
      "cell_type": "code",
      "execution_count": null,
      "metadata": {
        "id": "_iJWbprt0nGg"
      },
      "outputs": [],
      "source": [
        "N = int(input())\n",
        "i = 1\n",
        "sum = 0\n",
        "result = 0\n",
        "\n",
        "while(1):\n",
        "    # 범위 체크 \n",
        "    if sum > N : break \n",
        "    sum += i\n",
        "\n",
        "    # N이 sum의 양의 배수라면 \n",
        "    if ((N-sum) >= 0 and (N-sum) % i == 0): \n",
        "        result +=1 \n",
        "\n",
        "    i+=1\n",
        "\n",
        "print(result)"
      ]
    }
  ]
}