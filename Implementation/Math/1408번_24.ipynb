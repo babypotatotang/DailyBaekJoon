{
  "nbformat": 4,
  "nbformat_minor": 0,
  "metadata": {
    "colab": {
      "private_outputs": true,
      "provenance": [],
      "authorship_tag": "ABX9TyOJNsV/e/aGoLoZ2Tw7RllP",
      "include_colab_link": true
    },
    "kernelspec": {
      "name": "python3",
      "display_name": "Python 3"
    },
    "language_info": {
      "name": "python"
    }
  },
  "cells": [
    {
      "cell_type": "markdown",
      "metadata": {
        "id": "view-in-github",
        "colab_type": "text"
      },
      "source": [
        "<a href=\"https://colab.research.google.com/github/babypotatotang/DailyBaekJoon/blob/main/Implementation/Math/1408%EB%B2%88_24.ipynb\" target=\"_parent\"><img src=\"https://colab.research.google.com/assets/colab-badge.svg\" alt=\"Open In Colab\"/></a>"
      ]
    },
    {
      "cell_type": "code",
      "execution_count": null,
      "metadata": {
        "id": "RQaqzaDOFL5K"
      },
      "outputs": [],
      "source": [
        "h1, m1, s1 = map(int, input().split(':'))\n",
        "h2, m2, s2 = map(int, input().split(':'))\n",
        "t = h2*3600+m2*60+s2 - (h1*3600+m1*60+s1)\n",
        "if t < 0:\n",
        "    t += 60*60*24\n",
        "h = t//3600 \n",
        "m = (t%3600)//60 \n",
        "s = t%60\n",
        "print(\"%02d:%02d:%02d\" % (h,m,s))"
      ]
    }
  ]
}