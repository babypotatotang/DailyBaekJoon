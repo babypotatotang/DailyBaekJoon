{
  "nbformat": 4,
  "nbformat_minor": 0,
  "metadata": {
    "colab": {
      "name": "11659번: 구간 합 구하기 ",
      "private_outputs": true,
      "provenance": [],
      "authorship_tag": "ABX9TyMAWy3y85CAkZFkWEj3czyr",
      "include_colab_link": true
    },
    "kernelspec": {
      "name": "python3",
      "display_name": "Python 3"
    },
    "language_info": {
      "name": "python"
    }
  },
  "cells": [
    {
      "cell_type": "markdown",
      "metadata": {
        "id": "view-in-github",
        "colab_type": "text"
      },
      "source": [
        "<a href=\"https://colab.research.google.com/github/babypotatotang/BaekJoon/blob/main/%EB%82%9C%EC%9D%B4%EB%8F%84%20%ED%95%98/%2011659%EB%B2%88_%EA%B5%AC%EA%B0%84_%ED%95%A9_%EA%B5%AC%ED%95%98%EA%B8%B0.ipynb\" target=\"_parent\"><img src=\"https://colab.research.google.com/assets/colab-badge.svg\" alt=\"Open In Colab\"/></a>"
      ]
    },
    {
      "cell_type": "code",
      "execution_count": null,
      "metadata": {
        "id": "CHVJig5eGxo6"
      },
      "outputs": [],
      "source": [
        "#11659번: 구간 합 구하기 \n",
        "N,M=map(int,input().split())\n",
        "nums=list(map(int,input().split())); sums=[0,nums[0]]\n",
        "\n",
        "for i in range(1,N):\n",
        "    sums.append(sums[i]+nums[i])\n",
        "\n",
        "for _ in range(M):\n",
        "    i,j=map(int,input().split())\n",
        "    print(sums[j]-sums[i-1])"
      ]
    }
  ]
}