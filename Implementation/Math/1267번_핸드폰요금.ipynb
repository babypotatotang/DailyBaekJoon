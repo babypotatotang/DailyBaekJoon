{
 "cells": [
  {
   "cell_type": "code",
   "execution_count": 11,
   "metadata": {},
   "outputs": [
    {
     "name": "stdout",
     "output_type": "stream",
     "text": [
      "Y M 60\n"
     ]
    }
   ],
   "source": [
    "N = int(input())\n",
    "Tels = list(map(int,input().split()))\n",
    "\n",
    "Listkids = [[30,10], [60,15]]\n",
    "total = []\n",
    "\n",
    "for i in range(2):\n",
    "    sum_tmp = 0\n",
    "    time_tmp = Listkids[i][0]\n",
    "    money_tmp = Listkids[i][1]\n",
    "\n",
    "    for t in Tels:\n",
    "        sum_tmp += money_tmp *((t//time_tmp)+1)\n",
    "    \n",
    "    total.append(sum_tmp)\n",
    "\n",
    "if total[0] == total[1]:\n",
    "    print('Y M '+str(total[0]))\n",
    "else:\n",
    "    if total[0] < total[1]:\n",
    "        print('Y '+str(total[0]))\n",
    "    else:\n",
    "        print('M '+str(total[1]))\n",
    "    \n"
   ]
  },
  {
   "cell_type": "code",
   "execution_count": 3,
   "metadata": {},
   "outputs": [
    {
     "data": {
      "text/plain": [
       "[30, 0]"
      ]
     },
     "execution_count": 3,
     "metadata": {},
     "output_type": "execute_result"
    }
   ],
   "source": [
    "total"
   ]
  }
 ],
 "metadata": {
  "kernelspec": {
   "display_name": "Python 3.9.13 64-bit (windows store)",
   "language": "python",
   "name": "python3"
  },
  "language_info": {
   "codemirror_mode": {
    "name": "ipython",
    "version": 3
   },
   "file_extension": ".py",
   "mimetype": "text/x-python",
   "name": "python",
   "nbconvert_exporter": "python",
   "pygments_lexer": "ipython3",
   "version": "3.9.13"
  },
  "orig_nbformat": 4,
  "vscode": {
   "interpreter": {
    "hash": "c4ee998c70f70a549d0057c5c83759d1ee0011729abbf2e9d9293192e01b9309"
   }
  }
 },
 "nbformat": 4,
 "nbformat_minor": 2
}
