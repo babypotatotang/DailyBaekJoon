{
 "cells": [
  {
   "cell_type": "code",
   "execution_count": 9,
   "metadata": {},
   "outputs": [
    {
     "name": "stdout",
     "output_type": "stream",
     "text": [
      "217\n"
     ]
    }
   ],
   "source": [
    "A, B = map(int,input().split())\n",
    "\n",
    "check = [True] * 100001 # 소수인지 확인하는 배열\n",
    "check[0] = False; check[1] = False # 0과 1은 소수가 아님\n",
    "array = [0] * 100001 # 소인수분해 시 남아있는 소수의 개수 \n",
    "\n",
    "result=0\n",
    "for i in range(2,100001):\n",
    "    if check[i]: # 소수인 num에 대해서\n",
    "        for j in range(2*i,100001,i): #i의 배수들에 대해서 \n",
    "            check[j]=False\n",
    "            num = j\n",
    "            while(num%i==0): # 소수인 i를 기준으로 나누면서 소인수분해\n",
    "                num/=i\n",
    "                array[j]+=1\n",
    "\n",
    "for i in range(A,B+1): #주어진 범위 A,B에서 \n",
    "    # 숫자 i에 대해 소인수분해한 소수의 개수가 소수인 경우 \n",
    "    if check[array[i]]: result+=1\n",
    "\n",
    "print(result)\n"
   ]
  }
 ],
 "metadata": {
  "kernelspec": {
   "display_name": "Python 3.9.5 64-bit",
   "language": "python",
   "name": "python3"
  },
  "language_info": {
   "codemirror_mode": {
    "name": "ipython",
    "version": 3
   },
   "file_extension": ".py",
   "mimetype": "text/x-python",
   "name": "python",
   "nbconvert_exporter": "python",
   "pygments_lexer": "ipython3",
   "version": "3.9.5"
  },
  "orig_nbformat": 4,
  "vscode": {
   "interpreter": {
    "hash": "15d62748266f8ea3611532b4892b57da5cd2aa28e021beffc1d944f2abb52c0e"
   }
  }
 },
 "nbformat": 4,
 "nbformat_minor": 2
}
