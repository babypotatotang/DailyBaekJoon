{
  "nbformat": 4,
  "nbformat_minor": 0,
  "metadata": {
    "colab": {
      "private_outputs": true,
      "provenance": [],
      "authorship_tag": "ABX9TyOcaORgyUxmTlEZbzxP1CHk",
      "include_colab_link": true
    },
    "kernelspec": {
      "name": "python3",
      "display_name": "Python 3"
    },
    "language_info": {
      "name": "python"
    }
  },
  "cells": [
    {
      "cell_type": "markdown",
      "metadata": {
        "id": "view-in-github",
        "colab_type": "text"
      },
      "source": [
        "<a href=\"https://colab.research.google.com/github/babypotatotang/DailyBaekJoon/blob/main/Implementation/Math/2033%EB%B2%88_%EB%B0%98%EC%98%AC%EB%A6%BC.ipynb\" target=\"_parent\"><img src=\"https://colab.research.google.com/assets/colab-badge.svg\" alt=\"Open In Colab\"/></a>"
      ]
    },
    {
      "cell_type": "code",
      "execution_count": null,
      "metadata": {
        "id": "RQaqzaDOFL5K"
      },
      "outputs": [],
      "source": [
        "num = int(input())\n",
        "\n",
        "stand = 10\n",
        "\n",
        "while(1): \n",
        "    if num < stand: \n",
        "        break \n",
        "    \n",
        "    if num % stand >= stand//2:\n",
        "        num = (num//stand + 1) * stand\n",
        "    else:\n",
        "        num = (num//stand) * stand\n",
        "    stand = stand * 10\n",
        "\n",
        "print(num)"
      ]
    }
  ]
}