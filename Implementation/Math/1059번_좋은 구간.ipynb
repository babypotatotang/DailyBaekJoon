{
 "cells": [
  {
   "cell_type": "code",
   "execution_count": 1,
   "metadata": {},
   "outputs": [],
   "source": [
    "n = int(input())\n",
    "S = sorted(list(map(int,input().split())))\n",
    "x = int(input())\n",
    "\n",
    "A=0; B=0\n",
    "if x in S:\n",
    "    print(0)\n",
    "else:\n",
    "    for num in S:\n",
    "        if num < x:\n",
    "            A = num\n",
    "        elif num > x and B==0:\n",
    "            B = num\n",
    "        \n",
    "    A+=1; B-=1\n",
    "\n",
    "    print((x-A)*(B-x+1)+(B-x))"
   ]
  }
 ],
 "metadata": {
  "kernelspec": {
   "display_name": "Python 3.9.5 64-bit",
   "language": "python",
   "name": "python3"
  },
  "language_info": {
   "codemirror_mode": {
    "name": "ipython",
    "version": 3
   },
   "file_extension": ".py",
   "mimetype": "text/x-python",
   "name": "python",
   "nbconvert_exporter": "python",
   "pygments_lexer": "ipython3",
   "version": "3.9.5"
  },
  "orig_nbformat": 4,
  "vscode": {
   "interpreter": {
    "hash": "15d62748266f8ea3611532b4892b57da5cd2aa28e021beffc1d944f2abb52c0e"
   }
  }
 },
 "nbformat": 4,
 "nbformat_minor": 2
}
