{
 "cells": [
  {
   "cell_type": "code",
   "execution_count": 15,
   "metadata": {},
   "outputs": [
    {
     "name": "stdout",
     "output_type": "stream",
     "text": [
      "0\n",
      "[0, 0, 0, 0, 0]\n",
      "2\n",
      "[1, 0, 0, 0, 0]\n",
      "4\n",
      "[1, 0, 1, 0, 0]\n",
      "1\n",
      "[1, 0, 1, 0, 1]\n",
      "3\n",
      "[1, 1, 1, 0, 1]\n",
      "0\n",
      "[1, 1, 1, 1, 1]\n",
      "3\n",
      "[2, 1, 1, 1, 1]\n",
      "1\n",
      "[2, 1, 1, 2, 1]\n",
      "4\n",
      "[2, 2, 1, 2, 1]\n",
      "2\n",
      "[2, 2, 1, 2, 2]\n",
      "10\n"
     ]
    }
   ],
   "source": [
    "N,M,L = map(int,input().split())\n",
    "Balls = [0] * (N)\n",
    "count = 0; index = 0 # index와 공을 던진 횟수\n",
    "\n",
    "while(Balls[index]<M-1):\n",
    "    Balls[index]+=1\n",
    "    count+=1\n",
    "    index = (index+L) % N if Balls[index]%2 else (index-L) % N\n",
    "    \n",
    "print(count)"
   ]
  },
  {
   "cell_type": "code",
   "execution_count": 2,
   "metadata": {},
   "outputs": [
    {
     "name": "stdout",
     "output_type": "stream",
     "text": [
      "2\n",
      "1\n"
     ]
    }
   ],
   "source": [
    "ss = [1,2,3,1]\n",
    "print(ss[0+1])\n",
    "print(ss[0-1])"
   ]
  }
 ],
 "metadata": {
  "kernelspec": {
   "display_name": "Python 3.9.13 64-bit (windows store)",
   "language": "python",
   "name": "python3"
  },
  "language_info": {
   "codemirror_mode": {
    "name": "ipython",
    "version": 3
   },
   "file_extension": ".py",
   "mimetype": "text/x-python",
   "name": "python",
   "nbconvert_exporter": "python",
   "pygments_lexer": "ipython3",
   "version": "3.9.13"
  },
  "orig_nbformat": 4,
  "vscode": {
   "interpreter": {
    "hash": "c4ee998c70f70a549d0057c5c83759d1ee0011729abbf2e9d9293192e01b9309"
   }
  }
 },
 "nbformat": 4,
 "nbformat_minor": 2
}
