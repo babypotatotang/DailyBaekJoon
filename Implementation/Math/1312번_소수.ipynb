{
  "nbformat": 4,
  "nbformat_minor": 0,
  "metadata": {
    "colab": {
      "private_outputs": true,
      "provenance": [],
      "authorship_tag": "ABX9TyM9x7SCtwA7em6M6FjFgVcw",
      "include_colab_link": true
    },
    "kernelspec": {
      "name": "python3",
      "display_name": "Python 3"
    },
    "language_info": {
      "name": "python"
    }
  },
  "cells": [
    {
      "cell_type": "markdown",
      "metadata": {
        "id": "view-in-github",
        "colab_type": "text"
      },
      "source": [
        "<a href=\"https://colab.research.google.com/github/babypotatotang/DailyBaekJoon/blob/main/Implementation/Math/1312%EB%B2%88_%EC%86%8C%EC%88%98.ipynb\" target=\"_parent\"><img src=\"https://colab.research.google.com/assets/colab-badge.svg\" alt=\"Open In Colab\"/></a>"
      ]
    },
    {
      "cell_type": "code",
      "execution_count": null,
      "metadata": {
        "id": "ulyEhXcmNwV-"
      },
      "outputs": [],
      "source": [
        "'''\n",
        "파이썬의 경우 모든 자리의 소수점까지 정보를 저장하지 않음. \n",
        "찾아야하는 숫자의 개수(N)만큼 반복적으로 나누며 나머지 값을 찾는 방식으로 문제를 해결할 수 있음. \n",
        "'''\n",
        "A, B ,N = map(int,input().split())\n",
        "result = 0 \n",
        "\n",
        "for _ in range(N): \n",
        "    A = (A%B) * 10 \n",
        "    result = A // B\n",
        "\n",
        "print(result)"
      ]
    }
  ]
}