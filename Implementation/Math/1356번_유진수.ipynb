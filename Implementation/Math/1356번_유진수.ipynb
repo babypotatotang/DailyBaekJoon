{
 "cells": [
  {
   "cell_type": "code",
   "execution_count": 11,
   "metadata": {},
   "outputs": [
    {
     "name": "stdout",
     "output_type": "stream",
     "text": [
      "YES\n"
     ]
    }
   ],
   "source": [
    "def mul(nums):\n",
    "    result = 1\n",
    "    for num in nums:\n",
    "        result*=int(num)\n",
    "    return result\n",
    "\n",
    "\n",
    "num = input()\n",
    "ck=False\n",
    "\n",
    "for i in range(1,len(num)):\n",
    "    front = mul(num[:i])\n",
    "    end = mul(num[i:])\n",
    "    if front == end: ck = True; break\n",
    "\n",
    "print(\"YES\") if ck else print(\"NO\")"
   ]
  }
 ],
 "metadata": {
  "kernelspec": {
   "display_name": "Python 3.9.13 64-bit (windows store)",
   "language": "python",
   "name": "python3"
  },
  "language_info": {
   "codemirror_mode": {
    "name": "ipython",
    "version": 3
   },
   "file_extension": ".py",
   "mimetype": "text/x-python",
   "name": "python",
   "nbconvert_exporter": "python",
   "pygments_lexer": "ipython3",
   "version": "3.9.13"
  },
  "orig_nbformat": 4,
  "vscode": {
   "interpreter": {
    "hash": "c4ee998c70f70a549d0057c5c83759d1ee0011729abbf2e9d9293192e01b9309"
   }
  }
 },
 "nbformat": 4,
 "nbformat_minor": 2
}
