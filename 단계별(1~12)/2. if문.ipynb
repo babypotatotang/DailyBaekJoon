{
 "cells": [
  {
   "cell_type": "code",
   "execution_count": 2,
   "id": "266d7f22",
   "metadata": {},
   "outputs": [
    {
     "name": "stdout",
     "output_type": "stream",
     "text": [
      "1 5\n",
      "<\n"
     ]
    }
   ],
   "source": [
    "#1330\n",
    "\n",
    "a,b=map(int,input().split())\n",
    "\n",
    "if a>b:\n",
    "    print(\">\")\n",
    "elif a<b:\n",
    "    print(\"<\")\n",
    "else:\n",
    "    print(\"==\")"
   ]
  },
  {
   "cell_type": "code",
   "execution_count": 8,
   "id": "78b4a492",
   "metadata": {},
   "outputs": [
    {
     "name": "stdout",
     "output_type": "stream",
     "text": [
      "100\n",
      "A\n"
     ]
    }
   ],
   "source": [
    "#9498\n",
    "\n",
    "#시험 점수를 입력받아 90 ~ 100점은 A, 80 ~ 89점은 B, 70 ~ 79점은 C, 60 ~ 69점은 D, 나머지 점수는 F를 출력하는 프로그램을 작성하시오.\n",
    "\n",
    "score=int(input())\n",
    "if score>=90: print(\"A\")\n",
    "elif score>=80: print(\"B\")\n",
    "elif score>=70: print(\"C\")\n",
    "elif score>=60: print(\"D\")\n",
    "else: print(\"F\")"
   ]
  },
  {
   "cell_type": "code",
   "execution_count": 10,
   "id": "6a8c7c85",
   "metadata": {},
   "outputs": [
    {
     "name": "stdout",
     "output_type": "stream",
     "text": [
      "1999\n",
      "0\n"
     ]
    }
   ],
   "source": [
    "#2753\n",
    "#윤년은 연도가 4의 배수이면서, 100의 배수가 아닐 때 또는 400의 배수일 때이다.\n",
    "year=int(input())\n",
    "\n",
    "if year%4==0 and year%100!=0 or year%400==0: print(1)\n",
    "else: print(0)"
   ]
  },
  {
   "cell_type": "code",
   "execution_count": 13,
   "id": "27325d71",
   "metadata": {},
   "outputs": [
    {
     "name": "stdout",
     "output_type": "stream",
     "text": [
      "9\n",
      "-13\n",
      "4\n"
     ]
    }
   ],
   "source": [
    "#14681\n",
    "\n",
    "x=int(input()); y=int(input())\n",
    "\n",
    "if x>0 and y>0: print(1)\n",
    "elif x<0 and y>0: print(2)\n",
    "elif x>0 and y<0: print(4)\n",
    "elif x<0 and y<0: print(3)"
   ]
  },
  {
   "cell_type": "code",
   "execution_count": 34,
   "id": "90136588",
   "metadata": {},
   "outputs": [
    {
     "name": "stdout",
     "output_type": "stream",
     "text": [
      "0 30\n",
      "-1 45\n"
     ]
    }
   ],
   "source": [
    "#2884\n",
    "Hour,Min=map(int,input().split())\n",
    "\n",
    "if Min>=45:\n",
    "    Min=Min-45\n",
    "else:\n",
    "    Hour=Hour-1\n",
    "    Min=(Min+60)-45\n",
    "    \n",
    "print(Hour,Min)"
   ]
  },
  {
   "cell_type": "code",
   "execution_count": 34,
   "id": "a9413519",
   "metadata": {},
   "outputs": [
    {
     "name": "stdout",
     "output_type": "stream",
     "text": [
      "25 3\n",
      "20\n",
      "1 23\n"
     ]
    }
   ],
   "source": [
    "# 2525: 오븐 시계\n",
    "Hour,Min=map(int,input().split())\n",
    "Time=int(input())\n",
    "\n",
    "if Time>=60:\n",
    "    HTime=int(Time/60)\n",
    "    MTime=Time%60\n",
    "else:\n",
    "    HTime=0\n",
    "    MTime=Time\n",
    "    \n",
    "Hour+=HTime\n",
    "Min+=MTime\n",
    "\n",
    "if Min>=60: \n",
    "    Hour+=1; Min=Min%60 \n",
    "if Hour>=24: Hour=Hour%24\n",
    "    \n",
    "print(Hour,Min)"
   ]
  },
  {
   "cell_type": "code",
   "execution_count": 15,
   "id": "2bfc7add",
   "metadata": {},
   "outputs": [
    {
     "name": "stdout",
     "output_type": "stream",
     "text": [
      "6 2 5\n",
      "600\n"
     ]
    }
   ],
   "source": [
    "# 2480: 주사위 세개\n",
    "a=list(map(int,input().split())) #list 형으로 저장\n",
    "seta=set(a) #집합으로 저장 : 같은 숫자를 없앰\n",
    "\n",
    "if len(seta)==1: ## 세가지 수가 모두 같은 경우 \n",
    "    num=seta.pop()\n",
    "    score=10000+num*1000\n",
    "elif len(seta)==2: # 두가지 수가 같은 경우 \n",
    "    for i in seta:\n",
    "        #같은 수가 나왔던 num을 찾음 \n",
    "        if a.count(i)==2: num=i\n",
    "    score=1000+num*100\n",
    "else: #한가지 수가 같은 경우 \n",
    "    num=max(a)\n",
    "    score=num*100\n",
    "\n",
    "print(score)"
   ]
  },
  {
   "cell_type": "code",
   "execution_count": 22,
   "id": "6c04bfba",
   "metadata": {},
   "outputs": [
    {
     "name": "stdout",
     "output_type": "stream",
     "text": [
      "2 2 1\n",
      "200\n"
     ]
    }
   ],
   "source": [
    "# 2480: 주사위 세개\n",
    "a=list(map(int,input().split())) #list 형으로 저장\n",
    "\n",
    "for i in a:\n",
    "    if a.count(i)==3:\n",
    "        score=10000+i*1000\n",
    "    elif a.count(i)==2:\n",
    "        score=1000+i*100\n",
    "    else:\n",
    "        score=max(score,i*100)\n",
    "print(score)"
   ]
  }
 ],
 "metadata": {
  "kernelspec": {
   "display_name": "Python 3 (ipykernel)",
   "language": "python",
   "name": "python3"
  },
  "language_info": {
   "codemirror_mode": {
    "name": "ipython",
    "version": 3
   },
   "file_extension": ".py",
   "mimetype": "text/x-python",
   "name": "python",
   "nbconvert_exporter": "python",
   "pygments_lexer": "ipython3",
   "version": "3.9.7"
  }
 },
 "nbformat": 4,
 "nbformat_minor": 5
}
