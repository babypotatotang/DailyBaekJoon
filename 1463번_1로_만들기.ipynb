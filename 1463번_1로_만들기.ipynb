{
  "nbformat": 4,
  "nbformat_minor": 0,
  "metadata": {
    "colab": {
      "name": "1463번: 1로 만들기",
      "private_outputs": true,
      "provenance": [],
      "authorship_tag": "ABX9TyNGG4TXq8i1sCVSNr7j4d6a",
      "include_colab_link": true
    },
    "kernelspec": {
      "name": "python3",
      "display_name": "Python 3"
    },
    "language_info": {
      "name": "python"
    }
  },
  "cells": [
    {
      "cell_type": "markdown",
      "metadata": {
        "id": "view-in-github",
        "colab_type": "text"
      },
      "source": [
        "<a href=\"https://colab.research.google.com/github/babypotatotang/BaekJoon/blob/main/1463%EB%B2%88_1%EB%A1%9C_%EB%A7%8C%EB%93%A4%EA%B8%B0.ipynb\" target=\"_parent\"><img src=\"https://colab.research.google.com/assets/colab-badge.svg\" alt=\"Open In Colab\"/></a>"
      ]
    },
    {
      "cell_type": "code",
      "execution_count": null,
      "metadata": {
        "id": "CHVJig5eGxo6"
      },
      "outputs": [],
      "source": [
        "#1463번: 1로 만들기\n",
        "N=int(input())\n",
        "count=[0]*10000000\n",
        "count[1]=0; count[2]=1; count[3]=1\n",
        "\n",
        "for i in range(4,N+1):\n",
        "    count[i]=count[i-1]+1 # 1을 빼는 경우 \n",
        "    if i%2==0: #2로 나누어 떨어지는 경우\n",
        "        count[i]=min(count[int(i/2)]+1, count[i])\n",
        "    if i%3==0: #3으로 나누어 떨어지는 경우 \n",
        "        count[i]=min(count[int(i/3)]+1, count[i])\n",
        "\n",
        "print(count[N])"
      ]
    }
  ]
}