{
  "nbformat": 4,
  "nbformat_minor": 0,
  "metadata": {
    "colab": {
      "private_outputs": true,
      "provenance": [],
      "authorship_tag": "ABX9TyNyGgRAsBAs+WnxFRS0fpuO",
      "include_colab_link": true
    },
    "kernelspec": {
      "name": "python3",
      "display_name": "Python 3"
    },
    "language_info": {
      "name": "python"
    }
  },
  "cells": [
    {
      "cell_type": "markdown",
      "metadata": {
        "id": "view-in-github",
        "colab_type": "text"
      },
      "source": [
        "<a href=\"https://colab.research.google.com/github/babypotatotang/DailyBaekJoon/blob/main/Search/Binary%20Search/13777%EB%B2%88_Hunt_the_rabbit.ipynb\" target=\"_parent\"><img src=\"https://colab.research.google.com/assets/colab-badge.svg\" alt=\"Open In Colab\"/></a>"
      ]
    },
    {
      "cell_type": "code",
      "execution_count": null,
      "metadata": {
        "id": "G757UIqILDi3"
      },
      "outputs": [],
      "source": [
        "while(1):\n",
        "    num = int(input())\n",
        "\n",
        "    if num == 0 : break \n",
        "\n",
        "    low = 1; high = 50 \n",
        "\n",
        "    while(low<=high): \n",
        "        mid = (low + high) // 2 \n",
        "        \n",
        "        print(mid, end = ' ')\n",
        "\n",
        "        if mid == num: break \n",
        "        elif mid < num: low = mid + 1\n",
        "        else: high = mid - 1 \n",
        "        \n",
        "    print('')"
      ]
    }
  ]
}