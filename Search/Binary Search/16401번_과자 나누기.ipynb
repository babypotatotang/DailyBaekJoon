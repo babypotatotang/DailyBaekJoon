{
 "cells": [
  {
   "cell_type": "code",
   "execution_count": 15,
   "id": "67455ac7",
   "metadata": {},
   "outputs": [
    {
     "name": "stdout",
     "output_type": "stream",
     "text": [
      "8\n"
     ]
    }
   ],
   "source": [
    "M, N = map(int,input().split())\n",
    "snacks = list(map(int,input().split()))\n",
    "\n",
    "pl = 1; pr = max(snacks)\n",
    "\n",
    "if pr == 1:\n",
    "    if N == M: print(1)\n",
    "    else: print(0)\n",
    "else: \n",
    "    res = 0 \n",
    "    while(pl <= pr):\n",
    "        pc = (pl+pr) // 2\n",
    "        cnt = 0\n",
    "        for snack in snacks:\n",
    "            cnt += snack // pc\n",
    "            \n",
    "        if cnt >= M:\n",
    "            pl = pc +1\n",
    "            res = pc \n",
    "        else:\n",
    "            pr = pc - 1\n",
    "            \n",
    "    print(res)"
   ]
  }
 ],
 "metadata": {
  "kernelspec": {
   "display_name": "Python 3 (ipykernel)",
   "language": "python",
   "name": "python3"
  },
  "language_info": {
   "codemirror_mode": {
    "name": "ipython",
    "version": 3
   },
   "file_extension": ".py",
   "mimetype": "text/x-python",
   "name": "python",
   "nbconvert_exporter": "python",
   "pygments_lexer": "ipython3",
   "version": "3.9.7"
  }
 },
 "nbformat": 4,
 "nbformat_minor": 5
}
