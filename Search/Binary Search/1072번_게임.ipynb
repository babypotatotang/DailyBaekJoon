{
 "cells": [
  {
   "cell_type": "code",
   "execution_count": 3,
   "metadata": {},
   "outputs": [
    {
     "name": "stdout",
     "output_type": "stream",
     "text": [
      "0.8626451529562473\n"
     ]
    }
   ],
   "source": [
    "from math import floor\n",
    "\n",
    "X , Y = map(int,input().split())\n",
    "Z = floor(Y*100/X)\n",
    "low = 0; high =1000000000\n",
    "if Z >= 99: print(-1)\n",
    "else: \n",
    "    while low<=high:\n",
    "        mid = (low+high)/2\n",
    "        tx,ty = X + mid, Y+mid\n",
    "        newZ = floor(100*ty/tx)\n",
    "        if newZ > Z: high = mid -1\n",
    "        else: low = mid+1\n",
    "    print(high+1)\n"
   ]
  }
 ],
 "metadata": {
  "kernelspec": {
   "display_name": "Python 3.9.5 64-bit",
   "language": "python",
   "name": "python3"
  },
  "language_info": {
   "codemirror_mode": {
    "name": "ipython",
    "version": 3
   },
   "file_extension": ".py",
   "mimetype": "text/x-python",
   "name": "python",
   "nbconvert_exporter": "python",
   "pygments_lexer": "ipython3",
   "version": "3.9.5"
  },
  "orig_nbformat": 4,
  "vscode": {
   "interpreter": {
    "hash": "15d62748266f8ea3611532b4892b57da5cd2aa28e021beffc1d944f2abb52c0e"
   }
  }
 },
 "nbformat": 4,
 "nbformat_minor": 2
}
