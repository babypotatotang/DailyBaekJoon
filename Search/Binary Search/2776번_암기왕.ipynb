{
  "nbformat": 4,
  "nbformat_minor": 0,
  "metadata": {
    "colab": {
      "private_outputs": true,
      "provenance": [],
      "authorship_tag": "ABX9TyPI924RKEas/AV/Bf1nMGY5",
      "include_colab_link": true
    },
    "kernelspec": {
      "name": "python3",
      "display_name": "Python 3"
    },
    "language_info": {
      "name": "python"
    }
  },
  "cells": [
    {
      "cell_type": "markdown",
      "metadata": {
        "id": "view-in-github",
        "colab_type": "text"
      },
      "source": [
        "<a href=\"https://colab.research.google.com/github/babypotatotang/DailyBaekJoon/blob/main/Search/Binary%20Search/2776%EB%B2%88_%EC%95%94%EA%B8%B0%EC%99%95.ipynb\" target=\"_parent\"><img src=\"https://colab.research.google.com/assets/colab-badge.svg\" alt=\"Open In Colab\"/></a>"
      ]
    },
    {
      "cell_type": "code",
      "execution_count": null,
      "metadata": {
        "id": "eGCsnLpExhML"
      },
      "outputs": [],
      "source": [
        "def search(num): \n",
        "    start = 0; end = N-1\n",
        "\n",
        "    while(start<=end): \n",
        "        mid = (start + end) // 2\n",
        "        \n",
        "        if note1[mid] == num: return 1\n",
        "        elif note1[mid]>num : \n",
        "            end = mid-1\n",
        "        else:\n",
        "            start = mid+1\n",
        "\n",
        "    return 0\n",
        "\n",
        "\n",
        "T = int(input())\n",
        "\n",
        "for _ in range(T):\n",
        "\n",
        "    N = int(input())\n",
        "    note1 = sorted(list(map(int,input().split())))\n",
        "\n",
        "    M = int(input())\n",
        "    note2 = list(map(int,input().split()))\n",
        "\n",
        "    for num in note2: \n",
        "        print(search(num))\n"
      ]
    }
  ]
}