{
  "nbformat": 4,
  "nbformat_minor": 0,
  "metadata": {
    "colab": {
      "private_outputs": true,
      "provenance": [],
      "authorship_tag": "ABX9TyNorXKZEpDKy6p12Myx2sdA",
      "include_colab_link": true
    },
    "kernelspec": {
      "name": "python3",
      "display_name": "Python 3"
    },
    "language_info": {
      "name": "python"
    }
  },
  "cells": [
    {
      "cell_type": "markdown",
      "metadata": {
        "id": "view-in-github",
        "colab_type": "text"
      },
      "source": [
        "<a href=\"https://colab.research.google.com/github/babypotatotang/DailyBaekJoon/blob/main/Search/Binary%20Search/10815%EB%B2%88_%EC%88%AB%EC%9E%90%EC%B9%B4%EB%93%9C.ipynb\" target=\"_parent\"><img src=\"https://colab.research.google.com/assets/colab-badge.svg\" alt=\"Open In Colab\"/></a>"
      ]
    },
    {
      "cell_type": "code",
      "execution_count": null,
      "metadata": {
        "id": "ulyEhXcmNwV-"
      },
      "outputs": [],
      "source": [
        "import sys \n",
        "input = sys.stdin.readline\n",
        "\n",
        "def binary_search(array, target, start, end): \n",
        "    while(start<=end): \n",
        "        mid = (start + end)//2\n",
        "        if array[mid] == target:\n",
        "            return 1\n",
        "        elif array[mid] > target: \n",
        "            end = mid - 1\n",
        "        elif array[mid] < target: \n",
        "            start = mid + 1\n",
        "\n",
        "    return 0 \n",
        "\n",
        "N = int(input())\n",
        "Cards = list(map(int,input().split()))\n",
        "M = int(input())\n",
        "Nums = list(map(int,input().split()))\n",
        "\n",
        "Cards = sorted(Cards)\n",
        "result = []\n",
        "for num in Nums: \n",
        "    result.append(binary_search(Cards, num, 0,N-1))\n",
        "\n",
        "print(*result)"
      ]
    }
  ]
}