{
  "nbformat": 4,
  "nbformat_minor": 0,
  "metadata": {
    "colab": {
      "private_outputs": true,
      "provenance": [],
      "authorship_tag": "ABX9TyP3tp94JqLOECmJYX/i6E4P",
      "include_colab_link": true
    },
    "kernelspec": {
      "name": "python3",
      "display_name": "Python 3"
    },
    "language_info": {
      "name": "python"
    }
  },
  "cells": [
    {
      "cell_type": "markdown",
      "metadata": {
        "id": "view-in-github",
        "colab_type": "text"
      },
      "source": [
        "<a href=\"https://colab.research.google.com/github/babypotatotang/DailyBaekJoon/blob/main/Search/Binary%20Search/7795%EB%B2%88_%EB%A8%B9%EC%9D%84_%EA%B2%83%EC%9D%B8%EA%B0%80_%EB%A8%B9%ED%9E%90_%EA%B2%83%EC%9D%B8%EA%B0%80.ipynb\" target=\"_parent\"><img src=\"https://colab.research.google.com/assets/colab-badge.svg\" alt=\"Open In Colab\"/></a>"
      ]
    },
    {
      "cell_type": "code",
      "source": [
        "test = int(input())\n",
        "\n",
        "for _ in range(test): \n",
        "    N,M = map(int,input().split())\n",
        "    A = list(map(int,input().split()))\n",
        "    B = list(map(int, input().split()))\n",
        "\n",
        "    cnt = 0; res = 0 \n",
        "\n",
        "    A = sorted(A); B = sorted(B)\n",
        "\n",
        "    for a in A:\n",
        "        while(1):\n",
        "            if cnt == M or a <= B[cnt]: \n",
        "                res += cnt \n",
        "                break\n",
        "            else:\n",
        "                cnt += 1\n",
        "    \n",
        "    print(res)\n",
        "        \n"
      ],
      "metadata": {
        "id": "EDqz8ZJadTgU"
      },
      "execution_count": null,
      "outputs": []
    }
  ]
}