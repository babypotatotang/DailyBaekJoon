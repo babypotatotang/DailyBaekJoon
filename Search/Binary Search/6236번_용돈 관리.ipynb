{
  "nbformat": 4,
  "nbformat_minor": 0,
  "metadata": {
    "colab": {
      "private_outputs": true,
      "provenance": [],
      "authorship_tag": "ABX9TyP+AU3ceqWk97fAeyA0hrZz",
      "include_colab_link": true
    },
    "kernelspec": {
      "name": "python3",
      "display_name": "Python 3"
    },
    "language_info": {
      "name": "python"
    }
  },
  "cells": [
    {
      "cell_type": "markdown",
      "metadata": {
        "id": "view-in-github",
        "colab_type": "text"
      },
      "source": [
        "<a href=\"https://colab.research.google.com/github/babypotatotang/DailyBaekJoon/blob/main/Search/Binary%20Search/6236%EB%B2%88_%EC%9A%A9%EB%8F%88%20%EA%B4%80%EB%A6%AC.ipynb\" target=\"_parent\"><img src=\"https://colab.research.google.com/assets/colab-badge.svg\" alt=\"Open In Colab\"/></a>"
      ]
    },
    {
      "cell_type": "code",
      "execution_count": null,
      "metadata": {
        "id": "4ZrJcxk5_2p8"
      },
      "outputs": [],
      "source": [
        "def check():\n",
        "    money = 0 \n",
        "    num = 0 \n",
        "    for day in daily:\n",
        "        if money>=day: \n",
        "            money -= day\n",
        "        else:\n",
        "            money = mid - day\n",
        "            num += 1\n",
        "    \n",
        "    return num\n",
        "\n",
        "N, M = map(int,input().split())\n",
        "daily = [int(input()) for _ in range(N)]\n",
        "low = max(daily) # 뽑을 수 있는 최소 금액은 max(daily) : 인출하는 돈의 양이 하루 쓸 돈 보다 적으면 모순 \n",
        "high = 100000000000000\n",
        "\n",
        "ans = high\n",
        "\n",
        "while(low<=high):\n",
        "    mid = (low + high)//2\n",
        "    res = check() # 총 몇번 인출해야 하는지 확인 \n",
        "    if res>M:\n",
        "        low = mid + 1\n",
        "    else:\n",
        "        ans = min(ans, mid)\n",
        "        high = mid-1\n",
        "\n",
        "print(ans)"
      ]
    }
  ]
}