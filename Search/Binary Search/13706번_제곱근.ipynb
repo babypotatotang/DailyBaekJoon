{
  "nbformat": 4,
  "nbformat_minor": 0,
  "metadata": {
    "colab": {
      "private_outputs": true,
      "provenance": [],
      "authorship_tag": "ABX9TyOz1CZQO2/1Hv0rMkzPSmPB",
      "include_colab_link": true
    },
    "kernelspec": {
      "name": "python3",
      "display_name": "Python 3"
    },
    "language_info": {
      "name": "python"
    }
  },
  "cells": [
    {
      "cell_type": "markdown",
      "metadata": {
        "id": "view-in-github",
        "colab_type": "text"
      },
      "source": [
        "<a href=\"https://colab.research.google.com/github/babypotatotang/DailyBaekJoon/blob/main/Search/Binary%20Search/13706%EB%B2%88_%EC%A0%9C%EA%B3%B1%EA%B7%BC.ipynb\" target=\"_parent\"><img src=\"https://colab.research.google.com/assets/colab-badge.svg\" alt=\"Open In Colab\"/></a>"
      ]
    },
    {
      "cell_type": "code",
      "execution_count": null,
      "metadata": {
        "id": "B6GB-Scc8Ny9"
      },
      "outputs": [],
      "source": [
        "n = int(input())\n",
        "\n",
        "low = 1; high = n\n",
        "\n",
        "while(low <= high):\n",
        "    mid = (low + high) // 2\n",
        "    if mid**2 == n: break\n",
        "    elif mid**2 < n : \n",
        "        low = mid \n",
        "    else:\n",
        "        high = mid + 1\n",
        "\n",
        "print(mid)"
      ]
    }
  ]
}