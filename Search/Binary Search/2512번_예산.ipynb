{
  "nbformat": 4,
  "nbformat_minor": 0,
  "metadata": {
    "colab": {
      "private_outputs": true,
      "provenance": [],
      "authorship_tag": "ABX9TyOWXryCX6rUJ5g+EtLs/xVj",
      "include_colab_link": true
    },
    "kernelspec": {
      "name": "python3",
      "display_name": "Python 3"
    },
    "language_info": {
      "name": "python"
    }
  },
  "cells": [
    {
      "cell_type": "markdown",
      "metadata": {
        "id": "view-in-github",
        "colab_type": "text"
      },
      "source": [
        "<a href=\"https://colab.research.google.com/github/babypotatotang/DailyBaekJoon/blob/main/Search/Binary%20Search/2512%EB%B2%88_%EC%98%88%EC%82%B0.ipynb\" target=\"_parent\"><img src=\"https://colab.research.google.com/assets/colab-badge.svg\" alt=\"Open In Colab\"/></a>"
      ]
    },
    {
      "cell_type": "code",
      "execution_count": null,
      "metadata": {
        "id": "RQaqzaDOFL5K"
      },
      "outputs": [],
      "source": [
        "import sys \n",
        "input = sys.stdin.readline \n",
        "\n",
        "N = int(input())\n",
        "money = list(map(int,input().split()))\n",
        "budget = int(input())\n",
        "\n",
        "max_ = max(money) # 초기 상한액의 max \n",
        "min_ = 1  # 초기 상한액의 min\n",
        "\n",
        "while max_ >= min_: \n",
        "    mid_ = (min_ + max_) // 2 # 상한액의 중간값\n",
        "    res = 0 \n",
        "    # 상한액에 따라 예산 계산 \n",
        "    for m in money: \n",
        "        if mid_ < m :  \n",
        "            res += mid_ \n",
        "        else: res += m\n",
        "    \n",
        "    # 에산을 넘는지 안넘는지에 따라 min max 조절 \n",
        "    if res > budget: max_ = mid_ - 1\n",
        "    else: min_ = mid_ + 1\n",
        "\n",
        "print(max_)"
      ]
    }
  ]
}