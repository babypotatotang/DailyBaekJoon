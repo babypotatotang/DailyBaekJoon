{
  "nbformat": 4,
  "nbformat_minor": 0,
  "metadata": {
    "colab": {
      "private_outputs": true,
      "provenance": [],
      "authorship_tag": "ABX9TyO3UD785iBAaSYRlwUsf2QL",
      "include_colab_link": true
    },
    "kernelspec": {
      "name": "python3",
      "display_name": "Python 3"
    },
    "language_info": {
      "name": "python"
    }
  },
  "cells": [
    {
      "cell_type": "markdown",
      "metadata": {
        "id": "view-in-github",
        "colab_type": "text"
      },
      "source": [
        "<a href=\"https://colab.research.google.com/github/babypotatotang/DailyBaekJoon/blob/main/Search/Binary%20Search/2343%EB%B2%88_%EA%B8%B0%ED%83%80%EB%A0%88%EC%8A%A8.ipynb\" target=\"_parent\"><img src=\"https://colab.research.google.com/assets/colab-badge.svg\" alt=\"Open In Colab\"/></a>"
      ]
    },
    {
      "cell_type": "code",
      "source": [
        "N,M = map(int,input().split())\n",
        "blues = list(map(int,input().split()))\n",
        "\n",
        "low = max(blues) ; high = sum(blues)\n",
        "res = high\n",
        "\n",
        "while (low<=high): \n",
        "    mid = (low + high) // 2\n",
        "    cnt = 0; bsum = 0\n",
        "    for i in range(N):\n",
        "        if bsum + blues[i] <= mid:\n",
        "            bsum += blues[i]\n",
        "        else:\n",
        "            bsum = blues[i]\n",
        "            cnt += 1\n",
        "\n",
        "    if bsum != 0: cnt +=1\n",
        "\n",
        "    if cnt <= M: \n",
        "        high = mid - 1\n",
        "        res = min(res, mid)\n",
        "    else:\n",
        "        low = mid + 1\n",
        "\n",
        "print(res)"
      ],
      "metadata": {
        "id": "EDqz8ZJadTgU"
      },
      "execution_count": null,
      "outputs": []
    }
  ]
}