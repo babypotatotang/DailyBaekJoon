{
  "nbformat": 4,
  "nbformat_minor": 0,
  "metadata": {
    "colab": {
      "private_outputs": true,
      "provenance": [],
      "authorship_tag": "ABX9TyPKCJdE6sJ9QgSxJNOwfNJL",
      "include_colab_link": true
    },
    "kernelspec": {
      "name": "python3",
      "display_name": "Python 3"
    },
    "language_info": {
      "name": "python"
    }
  },
  "cells": [
    {
      "cell_type": "markdown",
      "metadata": {
        "id": "view-in-github",
        "colab_type": "text"
      },
      "source": [
        "<a href=\"https://colab.research.google.com/github/babypotatotang/DailyBaekJoon/blob/main/Search/Binary%20Search/4158%EB%B2%88_CD.ipynb\" target=\"_parent\"><img src=\"https://colab.research.google.com/assets/colab-badge.svg\" alt=\"Open In Colab\"/></a>"
      ]
    },
    {
      "cell_type": "code",
      "execution_count": null,
      "metadata": {
        "id": "G757UIqILDi3"
      },
      "outputs": [],
      "source": [
        "from collections import defaultdict\n",
        "import sys\n",
        "input = sys.stdin.readline\n",
        "\n",
        "while True:\n",
        "    cd = defaultdict(bool)\n",
        "    n, m = map(int,input().split())\n",
        "    cnt = 0 \n",
        "\n",
        "    if n == m == 0: break\n",
        "\n",
        "    for _ in range(n):\n",
        "        cd[int(input())] = True\n",
        "\n",
        "    for _ in range(m):\n",
        "        if cd[int(input())]: \n",
        "            cnt += 1\n",
        "\n",
        "    print(cnt)"
      ]
    }
  ]
}