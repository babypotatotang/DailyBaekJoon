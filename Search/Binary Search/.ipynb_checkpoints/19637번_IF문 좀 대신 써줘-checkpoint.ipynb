{
 "cells": [
  {
   "cell_type": "code",
   "execution_count": 20,
   "id": "5b627d46",
   "metadata": {},
   "outputs": [
    {
     "name": "stdout",
     "output_type": "stream",
     "text": [
      "3 5\n",
      "B 100\n",
      "A 100\n",
      "C 1000\n",
      "99\n",
      "B\n",
      "100\n",
      "B\n",
      "101\n",
      "C\n",
      "500\n",
      "C\n",
      "1000\n",
      "C\n"
     ]
    }
   ],
   "source": [
    "import sys \n",
    "input = sys.stdin.readline\n",
    "\n",
    "def search(value, values):\n",
    "    low = 0\n",
    "    high = len(values) - 1\n",
    "    t = 0\n",
    "    \n",
    "    while low <= high: \n",
    "        mid = (low + high) // 2\n",
    "        if values[mid] >= value: \n",
    "            high = mid -1\n",
    "            t = mid \n",
    "        else:\n",
    "            low = mid +1\n",
    "            \n",
    "    return t \n",
    "\n",
    "N, M = map(int,input().split())\n",
    "words = []\n",
    "levels = []\n",
    "\n",
    "for _ in range(N):\n",
    "    word, level = input().split()\n",
    "    level = int(level)\n",
    "    \n",
    "    if level not in levels: \n",
    "        words.append(word)\n",
    "        levels.append(level)\n",
    "             \n",
    "for _ in range(M):\n",
    "    value = int(input())\n",
    "    index = search(value, levels)\n",
    "    print(words[index])"
   ]
  }
 ],
 "metadata": {
  "kernelspec": {
   "display_name": "Python 3 (ipykernel)",
   "language": "python",
   "name": "python3"
  },
  "language_info": {
   "codemirror_mode": {
    "name": "ipython",
    "version": 3
   },
   "file_extension": ".py",
   "mimetype": "text/x-python",
   "name": "python",
   "nbconvert_exporter": "python",
   "pygments_lexer": "ipython3",
   "version": "3.9.7"
  }
 },
 "nbformat": 4,
 "nbformat_minor": 5
}
