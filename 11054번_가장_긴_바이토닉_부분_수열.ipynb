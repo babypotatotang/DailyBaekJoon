{
  "nbformat": 4,
  "nbformat_minor": 0,
  "metadata": {
    "colab": {
      "name": "11054번: 가장 긴 바이토닉 부분 수열",
      "private_outputs": true,
      "provenance": [],
      "authorship_tag": "ABX9TyNjaZHcDxxGCRqmxjYa131b",
      "include_colab_link": true
    },
    "kernelspec": {
      "name": "python3",
      "display_name": "Python 3"
    },
    "language_info": {
      "name": "python"
    }
  },
  "cells": [
    {
      "cell_type": "markdown",
      "metadata": {
        "id": "view-in-github",
        "colab_type": "text"
      },
      "source": [
        "<a href=\"https://colab.research.google.com/github/babypotatotang/BaekJoon/blob/main/11054%EB%B2%88_%EA%B0%80%EC%9E%A5_%EA%B8%B4_%EB%B0%94%EC%9D%B4%ED%86%A0%EB%8B%89_%EB%B6%80%EB%B6%84_%EC%88%98%EC%97%B4.ipynb\" target=\"_parent\"><img src=\"https://colab.research.google.com/assets/colab-badge.svg\" alt=\"Open In Colab\"/></a>"
      ]
    },
    {
      "cell_type": "code",
      "execution_count": null,
      "metadata": {
        "id": "CHVJig5eGxo6"
      },
      "outputs": [],
      "source": [
        "#11054번: 가장 긴 바이토닉 부분 수열\n",
        "N = int(input())\n",
        "A = list(map(int, input().split()))\n",
        "reverseA=A[::-1]\n",
        "increase=[1]*N\n",
        "decrease=[1]*N\n",
        "\n",
        "for i in range(N):\n",
        "    for j in range(i):\n",
        "        if A[j] < A[i]:\n",
        "            increase[i] = max(increase[i],increase[j]+1)\n",
        "        if reverseA[j] < reverseA[i]:\n",
        "            decrease[i] = max(decrease[i],decrease[j]+1)\n",
        "\n",
        "decrease=decrease[::-1]\n",
        "\n",
        "result=0\n",
        "for i in range(N):\n",
        "    result=max(increase[i]+decrease[i]-1,result)\n",
        "\n",
        "print(result)"
      ]
    }
  ]
}