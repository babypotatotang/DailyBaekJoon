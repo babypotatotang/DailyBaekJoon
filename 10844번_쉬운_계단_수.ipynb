{
  "nbformat": 4,
  "nbformat_minor": 0,
  "metadata": {
    "colab": {
      "name": "10844번: 쉬운 계단 수",
      "private_outputs": true,
      "provenance": [],
      "authorship_tag": "ABX9TyOXOXaSMXpweDl4oLxI4NQ2",
      "include_colab_link": true
    },
    "kernelspec": {
      "name": "python3",
      "display_name": "Python 3"
    },
    "language_info": {
      "name": "python"
    }
  },
  "cells": [
    {
      "cell_type": "markdown",
      "metadata": {
        "id": "view-in-github",
        "colab_type": "text"
      },
      "source": [
        "<a href=\"https://colab.research.google.com/github/babypotatotang/BaekJoon/blob/main/10844%EB%B2%88_%EC%89%AC%EC%9A%B4_%EA%B3%84%EB%8B%A8_%EC%88%98.ipynb\" target=\"_parent\"><img src=\"https://colab.research.google.com/assets/colab-badge.svg\" alt=\"Open In Colab\"/></a>"
      ]
    },
    {
      "cell_type": "code",
      "execution_count": null,
      "metadata": {
        "id": "CHVJig5eGxo6"
      },
      "outputs": [],
      "source": [
        "# 10844번: 쉬운 계단 수\n",
        "N=int(input())\n",
        "count=[[0 for _ in range(10)] for _ in range(N+1)]; Mod=1000000000; result=0\n",
        "\n",
        "for i in range(0,10):\n",
        "    count[1][i]=1 # 모두 1로 세팅\n",
        "\n",
        "for n in range(2,N+1):\n",
        "    for i in range(10):\n",
        "        if i==0: count[n][i]=count[n-1][i+1]\n",
        "        elif i==9: count[n][i]=count[n-1][i-1]\n",
        "        else: count[n][i]=count[n-1][i-1]+count[n-1][i+1]\n",
        "\n",
        "result+=sum(count[N][1:10])\n",
        "result%=Mod\n",
        "\n",
        "print(result)\n"
      ]
    }
  ]
}