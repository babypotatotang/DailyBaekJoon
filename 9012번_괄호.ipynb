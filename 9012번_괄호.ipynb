{
  "nbformat": 4,
  "nbformat_minor": 0,
  "metadata": {
    "colab": {
      "name": "9012번: 괄호",
      "private_outputs": true,
      "provenance": [],
      "authorship_tag": "ABX9TyPCfJITejMnabvevVZ0zR6q",
      "include_colab_link": true
    },
    "kernelspec": {
      "name": "python3",
      "display_name": "Python 3"
    },
    "language_info": {
      "name": "python"
    }
  },
  "cells": [
    {
      "cell_type": "markdown",
      "metadata": {
        "id": "view-in-github",
        "colab_type": "text"
      },
      "source": [
        "<a href=\"https://colab.research.google.com/github/babypotatotang/BaekJoon/blob/main/9012%EB%B2%88_%EA%B4%84%ED%98%B8.ipynb\" target=\"_parent\"><img src=\"https://colab.research.google.com/assets/colab-badge.svg\" alt=\"Open In Colab\"/></a>"
      ]
    },
    {
      "cell_type": "code",
      "execution_count": null,
      "metadata": {
        "id": "CHVJig5eGxo6"
      },
      "outputs": [],
      "source": [
        "# 9012번: 괄호\n",
        "\n",
        "N=int(input())\n",
        "\n",
        "for _ in range(N):\n",
        "    s=input()\n",
        "    ls=list(s); stack=[]; checker=False\n",
        "    \n",
        "    for i in ls:\n",
        "        if i==\"(\": stack.append(i)\n",
        "        elif i==\")\": \n",
        "            if stack: stack.pop()\n",
        "            else: print(\"NO\"); checker=True; break\n",
        "    \n",
        "    if stack: print(\"NO\")\n",
        "    elif not checker and not stack: print(\"YES\")"
      ]
    }
  ]
}