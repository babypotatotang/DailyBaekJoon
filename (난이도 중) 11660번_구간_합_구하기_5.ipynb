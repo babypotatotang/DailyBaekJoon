{
  "nbformat": 4,
  "nbformat_minor": 0,
  "metadata": {
    "colab": {
      "name": "11660번: 구간 합 구하기 5",
      "private_outputs": true,
      "provenance": [],
      "authorship_tag": "ABX9TyOPWTv+/MemeAhOKG4ZeAjn",
      "include_colab_link": true
    },
    "kernelspec": {
      "name": "python3",
      "display_name": "Python 3"
    },
    "language_info": {
      "name": "python"
    }
  },
  "cells": [
    {
      "cell_type": "markdown",
      "metadata": {
        "id": "view-in-github",
        "colab_type": "text"
      },
      "source": [
        "<a href=\"https://colab.research.google.com/github/babypotatotang/DailyBaekJoon/blob/main/(%EB%82%9C%EC%9D%B4%EB%8F%84%20%EC%A4%91)%2011660%EB%B2%88_%EA%B5%AC%EA%B0%84_%ED%95%A9_%EA%B5%AC%ED%95%98%EA%B8%B0_5.ipynb\" target=\"_parent\"><img src=\"https://colab.research.google.com/assets/colab-badge.svg\" alt=\"Open In Colab\"/></a>"
      ]
    },
    {
      "cell_type": "code",
      "execution_count": null,
      "metadata": {
        "id": "CHVJig5eGxo6"
      },
      "outputs": [],
      "source": [
        "#11660번: 구간 합 구하기 5\n",
        "# import sys\n",
        "# input=sys.stdin.readline\n",
        "\n",
        "N,M=list(map(int,input().split())); graph=[]\n",
        "for _ in range(N):\n",
        "    graph.append(list(map(int,input().split())))\n",
        "\n",
        "#누적합 구하기 \n",
        "cumsum=[]\n",
        "for i in range(N):\n",
        "    tmp=[0]*N\n",
        "    for j in range(N):\n",
        "        tmp[j]=tmp[j-1]+graph[i][j]\n",
        "    cumsum.append(tmp)\n",
        "\n",
        "for _ in range(M):\n",
        "    x1,y1,x2,y2=list(map(int,input().split()))\n",
        "    result=0\n",
        "    for xi in range(x1-1,x2):\n",
        "        if y1!=1:\n",
        "            result-=cumsum[xi][y1-2]\n",
        "\n",
        "        result+=cumsum[xi][y2-1]\n",
        "    \n",
        "    print(result)"
      ]
    }
  ]
}