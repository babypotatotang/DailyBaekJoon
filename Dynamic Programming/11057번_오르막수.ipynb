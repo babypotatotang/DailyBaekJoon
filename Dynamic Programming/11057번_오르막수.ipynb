{
 "cells": [
  {
   "cell_type": "code",
   "execution_count": 38,
   "metadata": {},
   "outputs": [
    {
     "name": "stdout",
     "output_type": "stream",
     "text": [
      "1433\n"
     ]
    }
   ],
   "source": [
    "n = int(input())\n",
    "dp = [[0] * 10 for _ in range(10000)]\n",
    "\n",
    "for row in range(1,n+2):\n",
    "    for col in range(0,10):\n",
    "        if col == 0: \n",
    "            dp[row][col] = 1\n",
    "            continue\n",
    "        dp[row][col] = dp[row-1][col] + dp[row][col-1]\n",
    "        dp[row][col] %=10007\n",
    "\n",
    "print(dp[n+1][9])"
   ]
  }
 ],
 "metadata": {
  "kernelspec": {
   "display_name": "Python 3.9.5 64-bit",
   "language": "python",
   "name": "python3"
  },
  "language_info": {
   "codemirror_mode": {
    "name": "ipython",
    "version": 3
   },
   "file_extension": ".py",
   "mimetype": "text/x-python",
   "name": "python",
   "nbconvert_exporter": "python",
   "pygments_lexer": "ipython3",
   "version": "3.9.5"
  },
  "orig_nbformat": 4,
  "vscode": {
   "interpreter": {
    "hash": "15d62748266f8ea3611532b4892b57da5cd2aa28e021beffc1d944f2abb52c0e"
   }
  }
 },
 "nbformat": 4,
 "nbformat_minor": 2
}
