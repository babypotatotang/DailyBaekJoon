{
  "nbformat": 4,
  "nbformat_minor": 0,
  "metadata": {
    "colab": {
      "name": "12865번: 평범한 배낭",
      "private_outputs": true,
      "provenance": [],
      "authorship_tag": "ABX9TyMDotgK+lRvCmp1MWZABwgO",
      "include_colab_link": true
    },
    "kernelspec": {
      "name": "python3",
      "display_name": "Python 3"
    },
    "language_info": {
      "name": "python"
    }
  },
  "cells": [
    {
      "cell_type": "markdown",
      "metadata": {
        "id": "view-in-github",
        "colab_type": "text"
      },
      "source": [
        "<a href=\"https://colab.research.google.com/github/babypotatotang/BaekJoon/blob/main/12865%EB%B2%88_%ED%8F%89%EB%B2%94%ED%95%9C_%EB%B0%B0%EB%82%AD.ipynb\" target=\"_parent\"><img src=\"https://colab.research.google.com/assets/colab-badge.svg\" alt=\"Open In Colab\"/></a>"
      ]
    },
    {
      "cell_type": "code",
      "execution_count": null,
      "metadata": {
        "id": "CHVJig5eGxo6"
      },
      "outputs": [],
      "source": [
        "# 12865번: 평범한 배낭\n",
        "\n",
        "setlist=list(map(int,input().split()))\n",
        "N=setlist[0]; K=setlist[1]\n",
        "W=[-1]; V=[-1]; \n",
        "for _ in range(N):\n",
        "    tmp=(list(map(int,input().split())))\n",
        "    W.append(tmp[0]); V.append(tmp[1]) \n",
        "\n",
        "dp=[[0 for _ in range(K+1)] for _ in range(N+1)]\n",
        "\n",
        "for i in range(1,N+1):\n",
        "    for j in range(1,K+1):\n",
        "        if j<W[i]:\n",
        "            dp[i][j]=dp[i-1][j]\n",
        "        else:\n",
        "            dp[i][j]=max(dp[i-1][j-W[i]]+V[i],dp[i-1][j])\n",
        "\n",
        "\n",
        "\n",
        "print(dp[-1][-1])"
      ]
    }
  ]
}