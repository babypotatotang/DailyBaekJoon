{
  "nbformat": 4,
  "nbformat_minor": 0,
  "metadata": {
    "colab": {
      "name": "9095번: 1,2,3 더하기",
      "private_outputs": true,
      "provenance": [],
      "authorship_tag": "ABX9TyMMSH+C/IriIzA7NMgY9uqq",
      "include_colab_link": true
    },
    "kernelspec": {
      "name": "python3",
      "display_name": "Python 3"
    },
    "language_info": {
      "name": "python"
    }
  },
  "cells": [
    {
      "cell_type": "markdown",
      "metadata": {
        "id": "view-in-github",
        "colab_type": "text"
      },
      "source": [
        "<a href=\"https://colab.research.google.com/github/babypotatotang/BaekJoon/blob/main/%EB%82%9C%EC%9D%B4%EB%8F%84%20%EC%A4%91/9095%EB%B2%88_1%2C2%2C3_%EB%8D%94%ED%95%98%EA%B8%B0.ipynb\" target=\"_parent\"><img src=\"https://colab.research.google.com/assets/colab-badge.svg\" alt=\"Open In Colab\"/></a>"
      ]
    },
    {
      "cell_type": "code",
      "execution_count": null,
      "metadata": {
        "id": "CHVJig5eGxo6"
      },
      "outputs": [],
      "source": [
        "#9095번: 1,2,3 더하기\n",
        "\n",
        "n=int(input())\n",
        "dp=[]\n",
        "for _ in range(n):\n",
        "    num=int(input())\n",
        "    dp=[0]*(12)\n",
        "    dp[0]=1; dp[1]=1; dp[2]=2; dp[3]=4\n",
        "    for i in range(4,num+1):\n",
        "        dp[i]=dp[i-1]+dp[i-2]+dp[i-3]\n",
        "\n",
        "    print(dp[num])"
      ]
    }
  ]
}