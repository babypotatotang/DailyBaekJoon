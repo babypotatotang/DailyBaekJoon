{
  "nbformat": 4,
  "nbformat_minor": 0,
  "metadata": {
    "colab": {
      "name": "1912번: 연속합",
      "private_outputs": true,
      "provenance": [],
      "authorship_tag": "ABX9TyNwG/BsU1wnTfay5BqV2sgl",
      "include_colab_link": true
    },
    "kernelspec": {
      "name": "python3",
      "display_name": "Python 3"
    },
    "language_info": {
      "name": "python"
    }
  },
  "cells": [
    {
      "cell_type": "markdown",
      "metadata": {
        "id": "view-in-github",
        "colab_type": "text"
      },
      "source": [
        "<a href=\"https://colab.research.google.com/github/babypotatotang/BaekJoon/blob/main/1912%EB%B2%88_%EC%97%B0%EC%86%8D%ED%95%A9.ipynb\" target=\"_parent\"><img src=\"https://colab.research.google.com/assets/colab-badge.svg\" alt=\"Open In Colab\"/></a>"
      ]
    },
    {
      "cell_type": "code",
      "execution_count": null,
      "metadata": {
        "id": "CHVJig5eGxo6"
      },
      "outputs": [],
      "source": [
        "#1912번: 연속합\n",
        "n = int(input())\n",
        "data = list(map(int, input().split()))\n",
        "\n",
        "for i in range(1, n):\n",
        "    data[i] = max(data[i], data[i] + data[i-1])\n",
        "  \n",
        "print(max(data))"
      ]
    }
  ]
}