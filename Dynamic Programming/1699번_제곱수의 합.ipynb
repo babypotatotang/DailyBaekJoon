{
 "cells": [
  {
   "cell_type": "code",
   "execution_count": 47,
   "metadata": {},
   "outputs": [
    {
     "name": "stdout",
     "output_type": "stream",
     "text": [
      "1\n"
     ]
    }
   ],
   "source": [
    "n = int(input())\n",
    "dp = [i for i in range(n+1)]\n",
    "\n",
    "for i in range(1,n+1):\n",
    "    for j in range(1,i):\n",
    "        if j*j > i: break\n",
    "        if dp[i] > dp[i-j*j] + 1:\n",
    "            dp[i] = dp[i-j*j] + 1\n",
    "\n",
    "print(dp[n])"
   ]
  }
 ],
 "metadata": {
  "kernelspec": {
   "display_name": "Python 3.9.13 64-bit (windows store)",
   "language": "python",
   "name": "python3"
  },
  "language_info": {
   "codemirror_mode": {
    "name": "ipython",
    "version": 3
   },
   "file_extension": ".py",
   "mimetype": "text/x-python",
   "name": "python",
   "nbconvert_exporter": "python",
   "pygments_lexer": "ipython3",
   "version": "3.9.13"
  },
  "orig_nbformat": 4,
  "vscode": {
   "interpreter": {
    "hash": "c4ee998c70f70a549d0057c5c83759d1ee0011729abbf2e9d9293192e01b9309"
   }
  }
 },
 "nbformat": 4,
 "nbformat_minor": 2
}
