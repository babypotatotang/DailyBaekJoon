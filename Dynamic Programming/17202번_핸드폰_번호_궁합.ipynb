{
  "nbformat": 4,
  "nbformat_minor": 0,
  "metadata": {
    "colab": {
      "name": "17202번: 핸드폰 번호 궁합",
      "private_outputs": true,
      "provenance": [],
      "authorship_tag": "ABX9TyMqS0OUeEcBfnO8YcRiGk/w",
      "include_colab_link": true
    },
    "kernelspec": {
      "name": "python3",
      "display_name": "Python 3"
    },
    "language_info": {
      "name": "python"
    }
  },
  "cells": [
    {
      "cell_type": "markdown",
      "metadata": {
        "id": "view-in-github",
        "colab_type": "text"
      },
      "source": [
        "<a href=\"https://colab.research.google.com/github/babypotatotang/DailyBaekJoon/blob/main/%EB%82%9C%EC%9D%B4%EB%8F%84%20%ED%95%98/%2017202%EB%B2%88_%ED%95%B8%EB%93%9C%ED%8F%B0_%EB%B2%88%ED%98%B8_%EA%B6%81%ED%95%A9.ipynb\" target=\"_parent\"><img src=\"https://colab.research.google.com/assets/colab-badge.svg\" alt=\"Open In Colab\"/></a>"
      ]
    },
    {
      "cell_type": "code",
      "execution_count": null,
      "metadata": {
        "id": "CHVJig5eGxo6"
      },
      "outputs": [],
      "source": [
        "#17202번: 핸드폰 번호 궁합\n",
        "A=input()\n",
        "B=input()\n",
        "dp=[]\n",
        "for i in range(len(A)):\n",
        "    dp.append(int(A[i]))\n",
        "    dp.append(int(B[i]))\n",
        "\n",
        "while(1):\n",
        "    if len(dp)==2: \n",
        "        print(str(dp[0])+str(dp[1]))\n",
        "        break\n",
        "\n",
        "    tmp=[]\n",
        "    for i in range(1,len(dp)):\n",
        "        num=(dp[i-1]+dp[i])%10\n",
        "        tmp.append(num)\n",
        "    dp=tmp"
      ]
    }
  ]
}