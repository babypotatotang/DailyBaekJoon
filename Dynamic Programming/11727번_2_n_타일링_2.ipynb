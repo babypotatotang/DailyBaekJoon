{
  "nbformat": 4,
  "nbformat_minor": 0,
  "metadata": {
    "colab": {
      "name": "11727번: 2*n 타일링 2",
      "private_outputs": true,
      "provenance": [],
      "authorship_tag": "ABX9TyMijohox6NCEof0e1abT4Qe",
      "include_colab_link": true
    },
    "kernelspec": {
      "name": "python3",
      "display_name": "Python 3"
    },
    "language_info": {
      "name": "python"
    }
  },
  "cells": [
    {
      "cell_type": "markdown",
      "metadata": {
        "id": "view-in-github",
        "colab_type": "text"
      },
      "source": [
        "<a href=\"https://colab.research.google.com/github/babypotatotang/BaekJoon/blob/main/%EB%82%9C%EC%9D%B4%EB%8F%84%20%EC%A4%91/%2011727%EB%B2%88_2_n_%ED%83%80%EC%9D%BC%EB%A7%81_2.ipynb\" target=\"_parent\"><img src=\"https://colab.research.google.com/assets/colab-badge.svg\" alt=\"Open In Colab\"/></a>"
      ]
    },
    {
      "cell_type": "code",
      "execution_count": null,
      "metadata": {
        "id": "CHVJig5eGxo6"
      },
      "outputs": [],
      "source": [
        "#11727번: 2*n 타일링\n",
        "\n",
        "n=int(input())\n",
        "dp=[0 for _ in range(10001)]\n",
        "dp[1]=1; dp[2]=3\n",
        "for i in range(3,n+1):\n",
        "    dp[i]=(2*dp[i-2]%10007)+(dp[i-1]%10007)\n",
        "    dp[i]=dp[i]%10007\n",
        "\n",
        "print(dp[n])"
      ]
    }
  ]
}