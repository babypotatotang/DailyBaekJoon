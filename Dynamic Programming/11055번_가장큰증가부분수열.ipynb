{
  "nbformat": 4,
  "nbformat_minor": 0,
  "metadata": {
    "colab": {
      "private_outputs": true,
      "provenance": [],
      "authorship_tag": "ABX9TyOKu/QQJtxliP/aCR75aHcs",
      "include_colab_link": true
    },
    "kernelspec": {
      "name": "python3",
      "display_name": "Python 3"
    },
    "language_info": {
      "name": "python"
    }
  },
  "cells": [
    {
      "cell_type": "markdown",
      "metadata": {
        "id": "view-in-github",
        "colab_type": "text"
      },
      "source": [
        "<a href=\"https://colab.research.google.com/github/babypotatotang/DailyBaekJoon/blob/main/Dynamic%20Programming/11055%EB%B2%88_%EA%B0%80%EC%9E%A5%ED%81%B0%EC%A6%9D%EA%B0%80%EB%B6%80%EB%B6%84%EC%88%98%EC%97%B4.ipynb\" target=\"_parent\"><img src=\"https://colab.research.google.com/assets/colab-badge.svg\" alt=\"Open In Colab\"/></a>"
      ]
    },
    {
      "cell_type": "code",
      "source": [
        "N = int(input())\n",
        "Nums = list(map(int,input().split()))\n",
        "\n",
        "dp = Nums[:]\n",
        "\n",
        "for i in range(N):\n",
        "    for j in range(i):\n",
        "        if Nums[i] > Nums[j]:\n",
        "            dp[i] = max(dp[i], dp[j] + Nums[i])\n",
        "\n",
        "print(max(dp))"
      ],
      "metadata": {
        "id": "dIIcjAnzJwQ6"
      },
      "execution_count": null,
      "outputs": []
    }
  ]
}