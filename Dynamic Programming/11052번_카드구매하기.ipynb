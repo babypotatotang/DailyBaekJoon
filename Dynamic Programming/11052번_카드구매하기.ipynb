{
 "cells": [
  {
   "cell_type": "code",
   "execution_count": 1,
   "metadata": {},
   "outputs": [
    {
     "name": "stdout",
     "output_type": "stream",
     "text": [
      "20\n"
     ]
    }
   ],
   "source": [
    "# 11052번 카드구매하기\n",
    "\n",
    "N = int(input())\n",
    "Price = [0] + list(map(int,input().split()))\n",
    "\n",
    "Dp = [0] * (N+1)\n",
    "Dp[1] = Price[1]\n",
    "Dp[2] = max(Price[2], Price[1]*2)\n",
    "\n",
    "for i in range(3, N+1):\n",
    "    for j in range(1,i+1):\n",
    "        Dp[i] = max(Dp[i], Dp[i-j] + Price[j])\n",
    "\n",
    "print(Dp[N])"
   ]
  }
 ],
 "metadata": {
  "kernelspec": {
   "display_name": "Python 3.9.5 64-bit",
   "language": "python",
   "name": "python3"
  },
  "language_info": {
   "codemirror_mode": {
    "name": "ipython",
    "version": 3
   },
   "file_extension": ".py",
   "mimetype": "text/x-python",
   "name": "python",
   "nbconvert_exporter": "python",
   "pygments_lexer": "ipython3",
   "version": "3.9.5"
  },
  "orig_nbformat": 4,
  "vscode": {
   "interpreter": {
    "hash": "15d62748266f8ea3611532b4892b57da5cd2aa28e021beffc1d944f2abb52c0e"
   }
  }
 },
 "nbformat": 4,
 "nbformat_minor": 2
}
