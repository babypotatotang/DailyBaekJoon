{
  "nbformat": 4,
  "nbformat_minor": 0,
  "metadata": {
    "colab": {
      "name": "9251번: LCS",
      "private_outputs": true,
      "provenance": [],
      "authorship_tag": "ABX9TyPewdF815t7HmfKoid3UuwI",
      "include_colab_link": true
    },
    "kernelspec": {
      "name": "python3",
      "display_name": "Python 3"
    },
    "language_info": {
      "name": "python"
    }
  },
  "cells": [
    {
      "cell_type": "markdown",
      "metadata": {
        "id": "view-in-github",
        "colab_type": "text"
      },
      "source": [
        "<a href=\"https://colab.research.google.com/github/babypotatotang/BaekJoon/blob/main/9251%EB%B2%88_LCS.ipynb\" target=\"_parent\"><img src=\"https://colab.research.google.com/assets/colab-badge.svg\" alt=\"Open In Colab\"/></a>"
      ]
    },
    {
      "cell_type": "code",
      "execution_count": null,
      "metadata": {
        "id": "CHVJig5eGxo6"
      },
      "outputs": [],
      "source": [
        "#9251번: LCS\n",
        "\n",
        "stra=input(); strb=input()\n",
        "\n",
        "lista=['a']; listb=['z']\n",
        "lista.extend([a for a in stra])\n",
        "listb.extend([b for b in strb])\n",
        "\n",
        "h,w=len(stra), len(strb)\n",
        "\n",
        "dp=[[0 for _ in range(w+1) ] for _ in range(h+1)]\n",
        "\n",
        "for i in range(1,h+1):\n",
        "    for j in range(1,w+1):\n",
        "        if lista[i]==listb[j]:\n",
        "            dp[i][j]=dp[i-1][j-1]+1\n",
        "        else:\n",
        "            dp[i][j]= max(dp[i][j-1],dp[i-1][j])\n",
        "\n",
        "print(dp[-1][-1])"
      ]
    }
  ]
}