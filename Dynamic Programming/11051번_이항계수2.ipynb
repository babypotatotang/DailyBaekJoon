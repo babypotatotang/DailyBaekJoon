{
  "nbformat": 4,
  "nbformat_minor": 0,
  "metadata": {
    "colab": {
      "private_outputs": true,
      "provenance": [],
      "authorship_tag": "ABX9TyMrtPVv2Vj+BqjNILC1suGv",
      "include_colab_link": true
    },
    "kernelspec": {
      "name": "python3",
      "display_name": "Python 3"
    },
    "language_info": {
      "name": "python"
    }
  },
  "cells": [
    {
      "cell_type": "markdown",
      "metadata": {
        "id": "view-in-github",
        "colab_type": "text"
      },
      "source": [
        "<a href=\"https://colab.research.google.com/github/babypotatotang/DailyBaekJoon/blob/main/Dynamic%20Programming/11051%EB%B2%88_%EC%9D%B4%ED%95%AD%EA%B3%84%EC%88%982.ipynb\" target=\"_parent\"><img src=\"https://colab.research.google.com/assets/colab-badge.svg\" alt=\"Open In Colab\"/></a>"
      ]
    },
    {
      "cell_type": "code",
      "source": [
        "N,K = map(int,input().split())\n",
        "\n",
        "dp = [1] * (N+1)\n",
        "\n",
        "for i in range(2,N+1):\n",
        "    dp[i] = dp[i-1] * i\n",
        "\n",
        "res = dp[N] // (dp[K] * dp[N-K])\n",
        "print(res % 10007)"
      ],
      "metadata": {
        "id": "dIIcjAnzJwQ6"
      },
      "execution_count": null,
      "outputs": []
    }
  ]
}