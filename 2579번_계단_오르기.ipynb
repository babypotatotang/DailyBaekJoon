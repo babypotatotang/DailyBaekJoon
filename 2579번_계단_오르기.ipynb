{
  "nbformat": 4,
  "nbformat_minor": 0,
  "metadata": {
    "colab": {
      "name": "2579번: 계단 오르기",
      "private_outputs": true,
      "provenance": [],
      "authorship_tag": "ABX9TyOXChW0UGH3VTkLO7xdoTHG",
      "include_colab_link": true
    },
    "kernelspec": {
      "name": "python3",
      "display_name": "Python 3"
    },
    "language_info": {
      "name": "python"
    }
  },
  "cells": [
    {
      "cell_type": "markdown",
      "metadata": {
        "id": "view-in-github",
        "colab_type": "text"
      },
      "source": [
        "<a href=\"https://colab.research.google.com/github/babypotatotang/BaekJoon/blob/main/2579%EB%B2%88_%EA%B3%84%EB%8B%A8_%EC%98%A4%EB%A5%B4%EA%B8%B0.ipynb\" target=\"_parent\"><img src=\"https://colab.research.google.com/assets/colab-badge.svg\" alt=\"Open In Colab\"/></a>"
      ]
    },
    {
      "cell_type": "code",
      "execution_count": null,
      "metadata": {
        "id": "CHVJig5eGxo6"
      },
      "outputs": [],
      "source": [
        "#2579번: 계단 오르기\n",
        "num=int(input()); steps=[]\n",
        "for _ in range(num):\n",
        "    steps.append(int(input()))\n",
        "\n",
        "score=[]\n",
        "if num==1: print(steps[0])\n",
        "else:\n",
        "    score.append(steps[0]); score.append(steps[0]+steps[1])\n",
        "\n",
        "    for n in range(2,num):\n",
        "        if n==2: value=max(score[n-2]+steps[n], steps[n-1]+steps[n])\n",
        "        else: value=max(score[n-3] + steps[n-1] + steps[n],score[n-2] + steps[n])\n",
        "\n",
        "        score.append(value)\n",
        "\n",
        "    print(score[num-1])"
      ]
    }
  ]
}