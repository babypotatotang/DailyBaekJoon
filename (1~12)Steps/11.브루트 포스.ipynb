{
 "cells": [
  {
   "cell_type": "code",
   "execution_count": null,
   "id": "50d1ccfd",
   "metadata": {},
   "outputs": [],
   "source": [
    "#2798번: 블랙잭\n",
    "N,M=map(int,input().split())\n",
    "Nums=list(map(int,input().split()))\n",
    "Sums=[]; answer=0\n",
    "\n",
    "for i in Nums:\n",
    "    for j in Nums[Nums.index(i)+1:]:\n",
    "        for k in Nums[Nums.index(j)+1:]:\n",
    "            if (i+j+k)<=M:\n",
    "                answer=max(answer,i+j+k)\n",
    "            else: continue\n",
    "\n",
    "print(answer)"
   ]
  },
  {
   "cell_type": "code",
   "execution_count": null,
   "id": "04859c19",
   "metadata": {},
   "outputs": [],
   "source": [
    "#2231번: 분해합\n",
    "N=input(); cnt=len(N); answer=100000000\n",
    "\n",
    "for i in range(int(N)-9*cnt,int(N)):\n",
    "    sum=0\n",
    "    if i>0:\n",
    "        for j in str(i): sum+=int(j)\n",
    "    sum+=int(i)\n",
    "    #print(i,sum)\n",
    "    if sum==int(N): answer=min(answer,int(i))\n",
    "\n",
    "print(answer if answer!=100000000 else 0)"
   ]
  },
  {
   "cell_type": "code",
   "execution_count": null,
   "id": "223358a9",
   "metadata": {},
   "outputs": [],
   "source": [
    "#7568번: 덩치\n",
    "N=int(input()); Weight=[]; Height=[]; score=[]\n",
    "\n",
    "for _ in range(N):\n",
    "    tmp=list(map(int,input().split()))\n",
    "    Weight.append(tmp[0])\n",
    "    Height.append(tmp[1])\n",
    "\n",
    "for i in range(N):\n",
    "    k=1\n",
    "    for j in range(N):\n",
    "        if i!=j:\n",
    "            if Weight[i]<Weight[j] and Height[i]<Height[j]: k+=1\n",
    "\n",
    "    score.append(k)\n",
    "\n",
    "for i in score:\n",
    "    print(i,end=' ')"
   ]
  },
  {
   "cell_type": "code",
   "execution_count": null,
   "id": "cc6eec06",
   "metadata": {},
   "outputs": [],
   "source": [
    "#1018번: 체스판 다시 칠하기\n",
    "N, M = map(int, input().split())\n",
    "board = list()\n",
    "for i in range(N):\n",
    "    board.append(input())\n",
    "repair = list()\n",
    "\n",
    "for i in range(N-7):\n",
    "    for j in range(M-7):\n",
    "        first_W = 0\n",
    "        first_B = 0\n",
    "        for k in range(i,i+8):\n",
    "            for l in range(j,j + 8):\n",
    "                if (k + l) % 2 == 0:\n",
    "                    if board[k][l] != 'W':\n",
    "                        first_W = first_W+1\n",
    "                    if board[k][l] != 'B':\n",
    "                        first_B = first_B + 1\n",
    "                else:\n",
    "                    if board[k][l] != 'B':\n",
    "                        first_W = first_W+1\n",
    "                    if board[k][l] != 'W':\n",
    "                        first_B = first_B + 1\n",
    "        repair.append(first_W)\n",
    "        repair.append(first_B)\n",
    "\n",
    "print(min(repair))"
   ]
  },
  {
   "cell_type": "code",
   "execution_count": null,
   "id": "666df8e8",
   "metadata": {},
   "outputs": [],
   "source": [
    "#1436번: 영화감독 숌\n",
    "\n",
    "N=int(input()); cnt=0; i=0\n",
    "\n",
    "while(1):\n",
    "    if cnt==N:\n",
    "        print(num)\n",
    "        break\n",
    "    i+=1\n",
    "    if '666' in str(i): \n",
    "        cnt+=1\n",
    "        num=i"
   ]
  }
 ],
 "metadata": {
  "kernelspec": {
   "display_name": "Python 3 (ipykernel)",
   "language": "python",
   "name": "python3"
  },
  "language_info": {
   "codemirror_mode": {
    "name": "ipython",
    "version": 3
   },
   "file_extension": ".py",
   "mimetype": "text/x-python",
   "name": "python",
   "nbconvert_exporter": "python",
   "pygments_lexer": "ipython3",
   "version": "3.9.7"
  }
 },
 "nbformat": 4,
 "nbformat_minor": 5
}
