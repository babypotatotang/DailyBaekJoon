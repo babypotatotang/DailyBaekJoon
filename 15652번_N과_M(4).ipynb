{
  "nbformat": 4,
  "nbformat_minor": 0,
  "metadata": {
    "colab": {
      "name": "15652번: N과 M(4)",
      "private_outputs": true,
      "provenance": [],
      "authorship_tag": "ABX9TyMjuEu40/hU/4cPJ+PY3Y+4",
      "include_colab_link": true
    },
    "kernelspec": {
      "name": "python3",
      "display_name": "Python 3"
    },
    "language_info": {
      "name": "python"
    }
  },
  "cells": [
    {
      "cell_type": "markdown",
      "metadata": {
        "id": "view-in-github",
        "colab_type": "text"
      },
      "source": [
        "<a href=\"https://colab.research.google.com/github/babypotatotang/BaekJoon/blob/main/15652%EB%B2%88_N%EA%B3%BC_M(4).ipynb\" target=\"_parent\"><img src=\"https://colab.research.google.com/assets/colab-badge.svg\" alt=\"Open In Colab\"/></a>"
      ]
    },
    {
      "cell_type": "code",
      "execution_count": null,
      "metadata": {
        "id": "EzW-1fAc1K0B"
      },
      "outputs": [],
      "source": [
        "#15652번 N과 M(4)\n",
        "\n",
        "n,m = list(map(int,input().split()))\n",
        "s=[]; \n",
        "def dfs(start):\n",
        "    if len(s)==m:\n",
        "        print(' '.join(map(str,sorted(s))))\n",
        "        return\n",
        "    \n",
        "    for i in range(start,n+1):\n",
        "            s.append(i)\n",
        "            dfs(i)\n",
        "            s.pop()\n",
        "\n",
        "dfs(1)"
      ]
    }
  ]
}