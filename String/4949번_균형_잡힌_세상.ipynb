{
  "nbformat": 4,
  "nbformat_minor": 0,
  "metadata": {
    "colab": {
      "name": "4949번: 균형 잡힌 세상",
      "private_outputs": true,
      "provenance": [],
      "authorship_tag": "ABX9TyMRLjfqegd/LMoDwukwnJtE",
      "include_colab_link": true
    },
    "kernelspec": {
      "name": "python3",
      "display_name": "Python 3"
    },
    "language_info": {
      "name": "python"
    }
  },
  "cells": [
    {
      "cell_type": "markdown",
      "metadata": {
        "id": "view-in-github",
        "colab_type": "text"
      },
      "source": [
        "<a href=\"https://colab.research.google.com/github/babypotatotang/BaekJoon/blob/main/4949%EB%B2%88_%EA%B7%A0%ED%98%95_%EC%9E%A1%ED%9E%8C_%EC%84%B8%EC%83%81.ipynb\" target=\"_parent\"><img src=\"https://colab.research.google.com/assets/colab-badge.svg\" alt=\"Open In Colab\"/></a>"
      ]
    },
    {
      "cell_type": "code",
      "execution_count": null,
      "metadata": {
        "id": "CHVJig5eGxo6"
      },
      "outputs": [],
      "source": [
        "#4949번: 균형 잡힌 세상\n",
        "while(1):\n",
        "    S=input()\n",
        "    if S=='.': break\n",
        "\n",
        "    array=[s for s in S if s == '(' or s==\")\" or s==\"[\" or s==\"]\"]\n",
        "    if len(array)==0: print('yes'); continue\n",
        "\n",
        "    stack=[]\n",
        "    for i in array:\n",
        "        if i=='[' or i=='(' or len(stack)==0: stack.append(i); continue\n",
        "        if i==']' and stack[-1]=='[':\n",
        "            stack.pop();\n",
        "        elif i==')' and stack[-1]=='(':\n",
        "            stack.pop();\n",
        "        else: stack.append(i)\n",
        "\n",
        "    if len(stack)==0: print('yes')\n",
        "    else: print('no')"
      ]
    }
  ]
}