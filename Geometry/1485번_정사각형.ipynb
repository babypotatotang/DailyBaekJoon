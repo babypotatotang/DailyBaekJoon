{
 "cells": [
  {
   "cell_type": "code",
   "execution_count": 11,
   "metadata": {},
   "outputs": [
    {
     "name": "stdout",
     "output_type": "stream",
     "text": [
      "1\n",
      "0\n"
     ]
    }
   ],
   "source": [
    "def check_square(squares):\n",
    "    side_A = (squares[1][0]-squares[0][0])**2 + (squares[1][1]-squares[0][1])**2\n",
    "    side_B = (squares[3][0]-squares[1][0])**2 + (squares[3][1]-squares[1][1])**2\n",
    "    side_C = (squares[3][0]-squares[2][0])**2 + (squares[3][1]-squares[2][1])**2\n",
    "    side_D = (squares[2][0]-squares[0][0])**2 + (squares[2][1]- squares[0][1])**2\n",
    "\n",
    "    # 네 변의 길이가 같은지 확인\n",
    "    if side_A != side_C: return False\n",
    "    elif side_B != side_C: return False\n",
    "    elif side_C != side_D: return False\n",
    "    else:\n",
    "        # 대각선 길이가 같을때 \n",
    "        Dia_A = (squares[1][0]-squares[2][0])**2 + (squares[1][1]-squares[2][1])**2\n",
    "        Dia_B = (squares[3][0]-squares[0][0])**2 + (squares[3][1]-squares[0][1])**2\n",
    "        if Dia_A != Dia_B or side_A + side_B != Dia_B: return False\n",
    "        else: return True\n",
    "\n",
    "T = int(input())\n",
    "for _ in range(T):\n",
    "    squares =[]\n",
    "    for _ in range(4):\n",
    "        squares.append(list(map(int,input().split())))\n",
    "    squares.sort(key = lambda a:(a[0],a[1]))\n",
    "\n",
    "    if check_square(squares):print(1)\n",
    "    else: print(0)"
   ]
  }
 ],
 "metadata": {
  "kernelspec": {
   "display_name": "Python 3.9.5 64-bit",
   "language": "python",
   "name": "python3"
  },
  "language_info": {
   "codemirror_mode": {
    "name": "ipython",
    "version": 3
   },
   "file_extension": ".py",
   "mimetype": "text/x-python",
   "name": "python",
   "nbconvert_exporter": "python",
   "pygments_lexer": "ipython3",
   "version": "3.9.5"
  },
  "orig_nbformat": 4,
  "vscode": {
   "interpreter": {
    "hash": "15d62748266f8ea3611532b4892b57da5cd2aa28e021beffc1d944f2abb52c0e"
   }
  }
 },
 "nbformat": 4,
 "nbformat_minor": 2
}
