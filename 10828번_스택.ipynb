{
  "nbformat": 4,
  "nbformat_minor": 0,
  "metadata": {
    "colab": {
      "name": "10828번 스택",
      "private_outputs": true,
      "provenance": [],
      "authorship_tag": "ABX9TyPft0pLIy/HplbuwshdLr1E",
      "include_colab_link": true
    },
    "kernelspec": {
      "name": "python3",
      "display_name": "Python 3"
    },
    "language_info": {
      "name": "python"
    }
  },
  "cells": [
    {
      "cell_type": "markdown",
      "metadata": {
        "id": "view-in-github",
        "colab_type": "text"
      },
      "source": [
        "<a href=\"https://colab.research.google.com/github/babypotatotang/BaekJoon/blob/main/10828%EB%B2%88_%EC%8A%A4%ED%83%9D.ipynb\" target=\"_parent\"><img src=\"https://colab.research.google.com/assets/colab-badge.svg\" alt=\"Open In Colab\"/></a>"
      ]
    },
    {
      "cell_type": "code",
      "execution_count": null,
      "metadata": {
        "id": "CHVJig5eGxo6"
      },
      "outputs": [],
      "source": [
        "#10828번 스택\n",
        "import sys\n",
        "input=sys.stdin.readline\n",
        "\n",
        "Num= int(input()); stack=[]\n",
        "\n",
        "for _ in range(Num):\n",
        "    order=input().split()\n",
        "\n",
        "    if len(order)>=2:\n",
        "        Sorder=order[0]; Norder=order[1]\n",
        "\n",
        "        if Sorder==\"push\": stack.append(Norder)\n",
        "    else:\n",
        "        Sorder=order[0]\n",
        "        if Sorder==\"pop\": \n",
        "            try: \n",
        "                print(stack.pop())\n",
        "            except:\n",
        "                print(\"-1\")\n",
        "        elif Sorder==\"size\": print(len(stack))\n",
        "        elif Sorder==\"empty\": \n",
        "            if len(stack)==0: print(\"1\") \n",
        "            else: print(\"0\")\n",
        "        elif Sorder==\"top\":\n",
        "            if len(stack)>0: print(stack[-1])\n",
        "            else: print(\"-1\")\n"
      ]
    }
  ]
}