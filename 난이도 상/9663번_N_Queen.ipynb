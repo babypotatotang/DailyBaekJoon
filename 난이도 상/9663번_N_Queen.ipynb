{
  "nbformat": 4,
  "nbformat_minor": 0,
  "metadata": {
    "colab": {
      "name": "9663번: N-Queen",
      "private_outputs": true,
      "provenance": [],
      "authorship_tag": "ABX9TyNfACTAKgJhZ3ypIf73Nbmz",
      "include_colab_link": true
    },
    "kernelspec": {
      "name": "python3",
      "display_name": "Python 3"
    },
    "language_info": {
      "name": "python"
    }
  },
  "cells": [
    {
      "cell_type": "markdown",
      "metadata": {
        "id": "view-in-github",
        "colab_type": "text"
      },
      "source": [
        "<a href=\"https://colab.research.google.com/github/babypotatotang/BaekJoon/blob/main/9663%EB%B2%88_N_Queen.ipynb\" target=\"_parent\"><img src=\"https://colab.research.google.com/assets/colab-badge.svg\" alt=\"Open In Colab\"/></a>"
      ]
    },
    {
      "cell_type": "code",
      "execution_count": null,
      "metadata": {
        "id": "oMu5BXscVHCq"
      },
      "outputs": [],
      "source": [
        "#9663번: N-Queen\n",
        "def check(rownum,colnum,rows):\n",
        "    for i in range(len(rows)):\n",
        "        if abs(i-colnum)==abs(rows[i]-rownum):\n",
        "            return False\n",
        "\n",
        "    return True\n",
        "\n",
        "def queen(colnum): #몇번째 열을 체크하는지 의미\n",
        "    global answer\n",
        "    if len(rows)==n: \n",
        "        answer+=1\n",
        "        return \n",
        "    for rownum in range(0, n): #각 행에 대해서 \n",
        "        if rownum not in rows and check(rownum,colnum,rows): #1. 다른 행 2. 대각선 관계 x\n",
        "            rows.append(rownum)\n",
        "            queen(colnum+1) #다음 열에 대해서 체크\n",
        "            rows.pop()\n",
        "   \n",
        "n=int(input())\n",
        "rows=[] #i번째 열에는 row[i]번째 행에 퀸이 위치한다.\n",
        "answer=0\n",
        "queen(0) #0번째 열부터\n",
        "print(answer)"
      ]
    }
  ]
}