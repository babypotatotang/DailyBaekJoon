{
  "nbformat": 4,
  "nbformat_minor": 0,
  "metadata": {
    "colab": {
      "name": "1003번: 피보나치 함수",
      "private_outputs": true,
      "provenance": [],
      "authorship_tag": "ABX9TyNQrDw4x11HHGP2z+pcrSwy",
      "include_colab_link": true
    },
    "kernelspec": {
      "name": "python3",
      "display_name": "Python 3"
    },
    "language_info": {
      "name": "python"
    }
  },
  "cells": [
    {
      "cell_type": "markdown",
      "metadata": {
        "id": "view-in-github",
        "colab_type": "text"
      },
      "source": [
        "<a href=\"https://colab.research.google.com/github/babypotatotang/BaekJoon/blob/main/1003%EB%B2%88_%ED%94%BC%EB%B3%B4%EB%82%98%EC%B9%98_%ED%95%A8%EC%88%98.ipynb\" target=\"_parent\"><img src=\"https://colab.research.google.com/assets/colab-badge.svg\" alt=\"Open In Colab\"/></a>"
      ]
    },
    {
      "cell_type": "code",
      "execution_count": null,
      "metadata": {
        "id": "CHVJig5eGxo6"
      },
      "outputs": [],
      "source": [
        "#1003번: 피보나치 함수\n",
        "N=int(input()); \n",
        "\n",
        "for _ in range(N):\n",
        "    num=int(input()); \n",
        "    fibosum=[0]*(num+1); zero=[0]*(num+1); one=[0]*(num+1)\n",
        "    zero[0]=1\n",
        "    if num>0: \n",
        "        fibosum[1]=1; one[1]=1;\n",
        "    index=num;\n",
        "\n",
        "    def fibo(num,index):\n",
        "        if index in [0,1]: return fibosum[index],zero[index],one[index]\n",
        "\n",
        "        if fibosum[index]==0: #연산을 하지 않은 경우 \n",
        "            f2,z2,o2=fibo(index,index-2)\n",
        "            f1,z1,o1=fibo(index,index-1)\n",
        "\n",
        "            fibosum[index]=f1+f2\n",
        "            \n",
        "            zero[index]=z2+z1\n",
        "            one[index]=o2+o1\n",
        "\n",
        "        return fibosum[index],zero[index],one[index]\n",
        "\n",
        "    fibo(num,index)\n",
        "    print(zero[num],one[num])"
      ]
    }
  ]
}