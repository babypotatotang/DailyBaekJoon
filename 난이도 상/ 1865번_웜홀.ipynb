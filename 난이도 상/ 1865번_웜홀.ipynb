{
  "nbformat": 4,
  "nbformat_minor": 0,
  "metadata": {
    "colab": {
      "name": "1865번: 웜홀",
      "private_outputs": true,
      "provenance": [],
      "authorship_tag": "ABX9TyMzKgl+V6uaxOIguq7FUvyi",
      "include_colab_link": true
    },
    "kernelspec": {
      "name": "python3",
      "display_name": "Python 3"
    },
    "language_info": {
      "name": "python"
    }
  },
  "cells": [
    {
      "cell_type": "markdown",
      "metadata": {
        "id": "view-in-github",
        "colab_type": "text"
      },
      "source": [
        "<a href=\"https://colab.research.google.com/github/babypotatotang/DailyBaekJoon/blob/main/%EB%82%9C%EC%9D%B4%EB%8F%84%20%EC%83%81/%201865%EB%B2%88_%EC%9B%9C%ED%99%80.ipynb\" target=\"_parent\"><img src=\"https://colab.research.google.com/assets/colab-badge.svg\" alt=\"Open In Colab\"/></a>"
      ]
    },
    {
      "cell_type": "code",
      "execution_count": null,
      "metadata": {
        "id": "CHVJig5eGxo6"
      },
      "outputs": [],
      "source": [
        "#1865번: 웜홀\n",
        "inf = 2000000000\n",
        "def check():\n",
        "    dist=[inf]*(N+1)\n",
        "    dist[1]=0\n",
        "\n",
        "    for _ in range(N-1):\n",
        "        for v in range(1,N+1):\n",
        "            for e,edist in graph[v]:\n",
        "                dist[e]=min(dist[e],dist[v]+edist)\n",
        "\n",
        "    for v in range(1,N+1):\n",
        "        for e,edist in graph[v]:\n",
        "            if dist[e]>dist[v]+edist: return True\n",
        "    return False\n",
        "\n",
        "TC=int(input())\n",
        "\n",
        "for _ in range(TC):\n",
        "    N,M,W=list(map(int,input().split()))\n",
        "    graph=[[] for _ in range(N+1)]\n",
        "    for i in range(1,M+W+1):\n",
        "        S,E,T=list(map(int,input().split()))\n",
        "        if i>M: # 웜홀에 대한 정보\n",
        "            T=-T\n",
        "        else:\n",
        "            graph[E].append([S,T])\n",
        "        graph[S].append([E,T])\n",
        "\n",
        "    if check():\n",
        "        print('YES')\n",
        "    else: print('NO')"
      ]
    }
  ]
}