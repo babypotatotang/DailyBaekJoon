{
  "nbformat": 4,
  "nbformat_minor": 0,
  "metadata": {
    "colab": {
      "name": "14500번: 테트로미노",
      "private_outputs": true,
      "provenance": [],
      "authorship_tag": "ABX9TyN/pM8+EPwC2ifObpauL9ga",
      "include_colab_link": true
    },
    "kernelspec": {
      "name": "python3",
      "display_name": "Python 3"
    },
    "language_info": {
      "name": "python"
    }
  },
  "cells": [
    {
      "cell_type": "markdown",
      "metadata": {
        "id": "view-in-github",
        "colab_type": "text"
      },
      "source": [
        "<a href=\"https://colab.research.google.com/github/babypotatotang/DailyBaekJoon/blob/main/%EB%82%9C%EC%9D%B4%EB%8F%84%20%EC%83%81/%2014500%EB%B2%88_%ED%85%8C%ED%8A%B8%EB%A1%9C%EB%AF%B8%EB%85%B8.ipynb\" target=\"_parent\"><img src=\"https://colab.research.google.com/assets/colab-badge.svg\" alt=\"Open In Colab\"/></a>"
      ]
    },
    {
      "cell_type": "code",
      "execution_count": null,
      "metadata": {
        "id": "CHVJig5eGxo6"
      },
      "outputs": [],
      "source": [
        "# 14500번: 테트로미노\n",
        "mino=[[[0,0],[0,1],[0,2],[0,3]],\n",
        "            [[0,0],[1,0],[2,0],[3,0]],\n",
        "            [[0,0],[1,0],[1,1],[2,1]],\n",
        "            [[0,0],[0,1],[-1,1],[-1,2]],\n",
        "            [[0,0],[0,1],[0,2],[1,1]],\n",
        "            [[0,0],[1,-1],[1,0],[2,0]],\n",
        "            [[0,0],[-1,-1],[0,-1],[0,-2]],\n",
        "            [[0,0],[-1,0],[-1,1],[-2,0]],\n",
        "            [[0,0],[0,1],[1,0],[1,1]],\n",
        "            [[0,0],[1,0],[2,0],[2,1]],\n",
        "            [[0,0],[1,0],[0,1],[0,2]],\n",
        "            [[0,0],[0,1],[1,1],[2,1]],\n",
        "            [[0,0],[0,1],[0,2],[-1,2]],\n",
        "            [[0,0],[0,1],[-1,1],[-2,1]],\n",
        "            [[0,0],[1,0],[1,1],[1,2]],\n",
        "            [[0,0],[0,1],[1,0],[2,0]],\n",
        "            [[0,0],[0,1],[0,2],[1,2]],\n",
        "            [[0,0],[1,0],[1,-1],[2,-1]],\n",
        "            [[0,0],[0,1],[1,1],[1,2]]]\n",
        "\n",
        "def search(x,y):\n",
        "    global mino\n",
        "    result=0\n",
        "    for m in mino:\n",
        "        tmp=0\n",
        "        for d in m:\n",
        "            if 0<=x+d[0]<N and 0<=y+d[1]<M:\n",
        "                tmp+=graph[x+d[0]][y+d[1]]\n",
        "            else:\n",
        "                tmp=-1; break\n",
        "        result=max(tmp,result)\n",
        "    \n",
        "    return result\n",
        "\n",
        "\n",
        "N,M=list(map(int,input().split()))\n",
        "graph=[]\n",
        "for _ in range(N):\n",
        "    graph.append(list(map(int,input().split())))\n",
        "\n",
        "result=-1\n",
        "for i in range(N):\n",
        "    for j in range(M):\n",
        "        result=max(result,search(i,j))\n",
        "\n",
        "print(result)"
      ]
    }
  ]
}