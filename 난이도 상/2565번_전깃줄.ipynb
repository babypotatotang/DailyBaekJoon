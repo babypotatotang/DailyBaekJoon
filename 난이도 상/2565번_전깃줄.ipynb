{
  "nbformat": 4,
  "nbformat_minor": 0,
  "metadata": {
    "colab": {
      "name": "2565번: 전깃줄",
      "private_outputs": true,
      "provenance": [],
      "authorship_tag": "ABX9TyPW3olL3CJdEmzq+o9Zr5vi",
      "include_colab_link": true
    },
    "kernelspec": {
      "name": "python3",
      "display_name": "Python 3"
    },
    "language_info": {
      "name": "python"
    }
  },
  "cells": [
    {
      "cell_type": "markdown",
      "metadata": {
        "id": "view-in-github",
        "colab_type": "text"
      },
      "source": [
        "<a href=\"https://colab.research.google.com/github/babypotatotang/BaekJoon/blob/main/2565%EB%B2%88_%EC%A0%84%EA%B9%83%EC%A4%84.ipynb\" target=\"_parent\"><img src=\"https://colab.research.google.com/assets/colab-badge.svg\" alt=\"Open In Colab\"/></a>"
      ]
    },
    {
      "cell_type": "code",
      "execution_count": null,
      "metadata": {
        "id": "CHVJig5eGxo6"
      },
      "outputs": [],
      "source": [
        "#2565번: 전깃줄\n",
        "N=int(input())\n",
        "lines=[list(map(int,input().split())) for _ in range(N)]\n",
        "\n",
        "newstarts=sorted([line[0] for line in lines])\n",
        "newlines=[]\n",
        "\n",
        "for i in newstarts:\n",
        "    for j in lines:\n",
        "        if j[0]==i: newlines.append(j[1])    \n",
        "\n",
        "dp=[1]*N\n",
        "\n",
        "for i in range(N):\n",
        "    for j in range(i):\n",
        "        if newlines[i]>newlines[j]:\n",
        "            dp[i]=max(dp[i],dp[j]+1)\n",
        "\n",
        "print(N-max(dp))"
      ]
    }
  ]
}