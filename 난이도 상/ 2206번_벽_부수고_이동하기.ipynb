{
  "nbformat": 4,
  "nbformat_minor": 0,
  "metadata": {
    "colab": {
      "name": "2206번: 벽 부수고 이동하기",
      "private_outputs": true,
      "provenance": [],
      "authorship_tag": "ABX9TyNX9cvzU21ehjfAbRsupV8x",
      "include_colab_link": true
    },
    "kernelspec": {
      "name": "python3",
      "display_name": "Python 3"
    },
    "language_info": {
      "name": "python"
    }
  },
  "cells": [
    {
      "cell_type": "markdown",
      "metadata": {
        "id": "view-in-github",
        "colab_type": "text"
      },
      "source": [
        "<a href=\"https://colab.research.google.com/github/babypotatotang/DailyBaekJoon/blob/main/%EB%82%9C%EC%9D%B4%EB%8F%84%20%EC%83%81/%202206%EB%B2%88_%EB%B2%BD_%EB%B6%80%EC%88%98%EA%B3%A0_%EC%9D%B4%EB%8F%99%ED%95%98%EA%B8%B0.ipynb\" target=\"_parent\"><img src=\"https://colab.research.google.com/assets/colab-badge.svg\" alt=\"Open In Colab\"/></a>"
      ]
    },
    {
      "cell_type": "code",
      "execution_count": null,
      "metadata": {
        "id": "CHVJig5eGxo6"
      },
      "outputs": [],
      "source": [
        "#2206번: 벽 부수고 이동하기\n",
        "from collections import deque\n",
        "\n",
        "N,M=list(map(int,input().split()))\n",
        "graph=[]\n",
        "for i in range(1,N+1):\n",
        "    graph.append(list(map(int,input())))\n",
        "\n",
        "dx=[1,-1,0,0]; dy=[0,0,-1,1]\n",
        "cnt=0 #벽을 부순 횟수 \n",
        "\n",
        "def bfs():\n",
        "    q=deque()\n",
        "    q.append([0,0,cnt])\n",
        "\n",
        "    visited = [[[0] * 2 for _ in range(M)] for _ in range(N)]\n",
        "\n",
        "    visited[0][0][cnt]=1\n",
        "\n",
        "    while q:\n",
        "        x,y,ncnt=q.popleft()\n",
        "\n",
        "        if x==N-1 and y==M-1: return visited[x][y][ncnt]\n",
        "        for i in range(4):\n",
        "            tmpx=x+dx[i]; tmpy=y+dy[i]\n",
        "            if 0<=tmpx<N and 0<=tmpy<M:\n",
        "                if graph[tmpx][tmpy]==0 and visited[tmpx][tmpy][ncnt]==0:\n",
        "                    visited[tmpx][tmpy][ncnt]=visited[x][y][ncnt]+1\n",
        "                    q.append([tmpx,tmpy,ncnt])\n",
        "                if graph[tmpx][tmpy]==1 and ncnt==0: #벽이 있고, 한번도 벽을 부순 적이 없다면 \n",
        "                    visited[tmpx][tmpy][ncnt+1]=visited[x][y][ncnt]+1\n",
        "                    q.append([tmpx,tmpy,ncnt+1])\n",
        "    return -1\n",
        "\n",
        "print(bfs())"
      ]
    }
  ]
}