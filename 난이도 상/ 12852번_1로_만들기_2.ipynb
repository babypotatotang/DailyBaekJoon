{
  "nbformat": 4,
  "nbformat_minor": 0,
  "metadata": {
    "colab": {
      "name": "12852번: 1로 만들기 2",
      "private_outputs": true,
      "provenance": [],
      "authorship_tag": "ABX9TyO37R2od3hYZR0DKsq03FsZ",
      "include_colab_link": true
    },
    "kernelspec": {
      "name": "python3",
      "display_name": "Python 3"
    },
    "language_info": {
      "name": "python"
    }
  },
  "cells": [
    {
      "cell_type": "markdown",
      "metadata": {
        "id": "view-in-github",
        "colab_type": "text"
      },
      "source": [
        "<a href=\"https://colab.research.google.com/github/babypotatotang/DailyBaekJoon/blob/main/%EB%82%9C%EC%9D%B4%EB%8F%84%20%EC%83%81/%2012852%EB%B2%88_1%EB%A1%9C_%EB%A7%8C%EB%93%A4%EA%B8%B0_2.ipynb\" target=\"_parent\"><img src=\"https://colab.research.google.com/assets/colab-badge.svg\" alt=\"Open In Colab\"/></a>"
      ]
    },
    {
      "cell_type": "code",
      "execution_count": null,
      "metadata": {
        "id": "CHVJig5eGxo6"
      },
      "outputs": [],
      "source": [
        "#12852번: 1로 만들기 2\n",
        "from collections import deque\n",
        "\n",
        "X=int(input())\n",
        "result=[X] \n",
        "\n",
        "q=deque()\n",
        "q.append([X,result])\n",
        "visited=[False]*(X+1)\n",
        "\n",
        "while q:\n",
        "    v,result=q.popleft()\n",
        "    if v==1:\n",
        "        print(len(result)-1)\n",
        "        print(*result)\n",
        "        break\n",
        "\n",
        "    if not visited[v]:\n",
        "        visited[v]=True\n",
        "        if v%3==0:\n",
        "            q.append([v//3,result+[v//3]])\n",
        "        if v%2==0:\n",
        "            q.append([v//2,result+[v//2]])\n",
        "        q.append([v-1,result+[v-1]])"
      ]
    }
  ]
}