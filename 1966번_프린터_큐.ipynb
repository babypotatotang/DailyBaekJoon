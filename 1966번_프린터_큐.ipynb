{
  "nbformat": 4,
  "nbformat_minor": 0,
  "metadata": {
    "colab": {
      "name": "1966번: 프린터 큐",
      "private_outputs": true,
      "provenance": [],
      "authorship_tag": "ABX9TyNfqElJIZCLX05BZQX7kcJL",
      "include_colab_link": true
    },
    "kernelspec": {
      "name": "python3",
      "display_name": "Python 3"
    },
    "language_info": {
      "name": "python"
    }
  },
  "cells": [
    {
      "cell_type": "markdown",
      "metadata": {
        "id": "view-in-github",
        "colab_type": "text"
      },
      "source": [
        "<a href=\"https://colab.research.google.com/github/babypotatotang/BaekJoon/blob/main/1966%EB%B2%88_%ED%94%84%EB%A6%B0%ED%84%B0_%ED%81%90.ipynb\" target=\"_parent\"><img src=\"https://colab.research.google.com/assets/colab-badge.svg\" alt=\"Open In Colab\"/></a>"
      ]
    },
    {
      "cell_type": "code",
      "execution_count": null,
      "metadata": {
        "id": "CHVJig5eGxo6"
      },
      "outputs": [],
      "source": [
        "#1966번: 프린터 큐\n",
        "from collections import deque\n",
        "import sys\n",
        "input=sys.stdin.readline\n",
        "\n",
        "Num=int(input()) # 테스트케이스 개수\n",
        "for _ in range(Num):\n",
        "    sets=list(map(int,input().split())); N=sets[0]; M=sets[1] # 찾고자하능 숫자의 인덱스 \n",
        "    array=list(map(int,input().split())); #입력받은 수 리스트\n",
        "\n",
        "    queue=deque(array)\n",
        "    cnt=0\n",
        "    while(1): \n",
        "        MaxNum=max(list(queue)); N=len(queue)\n",
        "\n",
        "        M-=1 # 내 위치가 한 칸 앞으로 이동 \n",
        "        if M<0 : M=N+M\n",
        "\n",
        "        if queue[0]!=MaxNum:\n",
        "            queue.rotate(-1) #왼쪽으로 한칸씩 이동\n",
        "\n",
        "        else: # 중요도가 높은 숫자와 같다면\n",
        "            cnt+=1\n",
        "            if M==N-1: print(cnt); break\n",
        "            queue.popleft()"
      ]
    }
  ]
}