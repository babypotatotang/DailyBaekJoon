{
 "cells": [
  {
   "cell_type": "code",
   "execution_count": 24,
   "metadata": {},
   "outputs": [
    {
     "name": "stdout",
     "output_type": "stream",
     "text": [
      "11\n"
     ]
    }
   ],
   "source": [
    "n = int(input())\n",
    "\n",
    "layers = []\n",
    "for _ in range(n):\n",
    "    layers.append(list(map(int, input().split()))) \n",
    "\n",
    "def pooling(rowhead, colhead, length):\n",
    "    if length == 2: \n",
    "        layer = sorted([layers[i][j] for j in range(colhead,colhead+2) for i in range(rowhead,rowhead+2)], reverse=True)\n",
    "        return layer[1]\n",
    "\n",
    "    LT = pooling(rowhead, colhead, length//2)\n",
    "    RT = pooling(rowhead, colhead+length//2, length//2)\n",
    "    LB = pooling(rowhead +length//2, colhead, length//2)\n",
    "    RB = pooling(rowhead+length//2, colhead+length//2, length//2)\n",
    "\n",
    "    ans = [LT, RT, LB, RB]\n",
    "    return sorted(ans)[-2]\n",
    "\n",
    "print(pooling(0,0,n))"
   ]
  }
 ],
 "metadata": {
  "kernelspec": {
   "display_name": "Python 3.8.13 ('ai_marketing')",
   "language": "python",
   "name": "python3"
  },
  "language_info": {
   "codemirror_mode": {
    "name": "ipython",
    "version": 3
   },
   "file_extension": ".py",
   "mimetype": "text/x-python",
   "name": "python",
   "nbconvert_exporter": "python",
   "pygments_lexer": "ipython3",
   "version": "3.8.13"
  },
  "orig_nbformat": 4,
  "vscode": {
   "interpreter": {
    "hash": "14422a93a2cc343cc2dcec205ad51085d737385c42547ee9af3fd84986365dd5"
   }
  }
 },
 "nbformat": 4,
 "nbformat_minor": 2
}
