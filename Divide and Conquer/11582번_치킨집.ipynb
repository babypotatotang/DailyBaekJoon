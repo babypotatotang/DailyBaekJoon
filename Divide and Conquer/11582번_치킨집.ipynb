{
  "nbformat": 4,
  "nbformat_minor": 0,
  "metadata": {
    "colab": {
      "private_outputs": true,
      "provenance": [],
      "authorship_tag": "ABX9TyNWFe48TB2gvFSy75i52Qx6",
      "include_colab_link": true
    },
    "kernelspec": {
      "name": "python3",
      "display_name": "Python 3"
    },
    "language_info": {
      "name": "python"
    }
  },
  "cells": [
    {
      "cell_type": "markdown",
      "metadata": {
        "id": "view-in-github",
        "colab_type": "text"
      },
      "source": [
        "<a href=\"https://colab.research.google.com/github/babypotatotang/DailyBaekJoon/blob/main/Divide%20and%20Conquer/11582%EB%B2%88_%EC%B9%98%ED%82%A8%EC%A7%91.ipynb\" target=\"_parent\"><img src=\"https://colab.research.google.com/assets/colab-badge.svg\" alt=\"Open In Colab\"/></a>"
      ]
    },
    {
      "cell_type": "code",
      "execution_count": null,
      "metadata": {
        "id": "RQaqzaDOFL5K"
      },
      "outputs": [],
      "source": [
        "N = int(input())\n",
        "c = list(map(int,input().split()))\n",
        "k = int(input())\n",
        "\n",
        "index = N // k\n",
        "arr = []\n",
        "\n",
        "for i in range(N, index):\n",
        "    arr = c[i:i+index]\n",
        "    arr.sort()\n",
        "    for j in arr:\n",
        "        print(j, end = ' ')"
      ]
    }
  ]
}