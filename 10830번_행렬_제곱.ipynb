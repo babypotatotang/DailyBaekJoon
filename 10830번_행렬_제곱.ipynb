{
  "nbformat": 4,
  "nbformat_minor": 0,
  "metadata": {
    "colab": {
      "name": "10830번: 행렬 제곱",
      "private_outputs": true,
      "provenance": [],
      "authorship_tag": "ABX9TyPdl0b1rr6tbu4OY64dNV2M",
      "include_colab_link": true
    },
    "kernelspec": {
      "name": "python3",
      "display_name": "Python 3"
    },
    "language_info": {
      "name": "python"
    }
  },
  "cells": [
    {
      "cell_type": "markdown",
      "metadata": {
        "id": "view-in-github",
        "colab_type": "text"
      },
      "source": [
        "<a href=\"https://colab.research.google.com/github/babypotatotang/BaekJoonMaster/blob/main/10830%EB%B2%88_%ED%96%89%EB%A0%AC_%EC%A0%9C%EA%B3%B1.ipynb\" target=\"_parent\"><img src=\"https://colab.research.google.com/assets/colab-badge.svg\" alt=\"Open In Colab\"/></a>"
      ]
    },
    {
      "cell_type": "code",
      "execution_count": null,
      "metadata": {
        "id": "HiV2szJtOEf6"
      },
      "outputs": [],
      "source": [
        "#10830번 행렬 제곱\n",
        "\n",
        "N,B=map(int,input().split()); q=1000\n",
        "A=[list(map(int,input().split()))for i in range(N)]\n",
        "\n",
        "def mul(mata,matb): #행렬 곱 \n",
        "    mattmp=[[0]*len(mata[0]) for _ in range(len(matb))]\n",
        "\n",
        "    for i in range(len(mata)):\n",
        "        for j in range(len(mata)):\n",
        "            for k in range(len(mata)):\n",
        "                mattmp[i][k]+=(mata[i][j]*matb[j][k])\n",
        "                mattmp[i][k]%=q\n",
        "\n",
        "    return mattmp\n",
        "\n",
        "def sum(a,b):\n",
        "    if b==1:\n",
        "        for i in range(len(a)):\n",
        "            for j in range(len(a)):\n",
        "                a[i][j]%=q\n",
        "        return a\n",
        "    else:\n",
        "        tmp= sum(a,b//2)\n",
        "        if b%2==0: \n",
        "            return mul(tmp,tmp)\n",
        "        else: \n",
        "            return mul(mul(tmp,tmp),a)\n",
        "\n",
        "result=sum(A,B)\n",
        "\n",
        "for i in result:\n",
        "    for j in i:\n",
        "        print(j,end=' ')\n",
        "    print('')\n"
      ]
    }
  ]
}