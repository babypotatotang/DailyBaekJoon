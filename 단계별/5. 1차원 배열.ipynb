{
 "cells": [
  {
   "cell_type": "code",
   "execution_count": null,
   "id": "1ec1bdd1",
   "metadata": {},
   "outputs": [],
   "source": [
    "# 10818 최소, 최대\n",
    "\n",
    "ISize=int(input())\n",
    "LArray=list(map(int,input().split()))\n",
    "\n",
    "print(str(min(LArray))+\" \"+str(max(LArray)))"
   ]
  },
  {
   "cell_type": "code",
   "execution_count": 2,
   "id": "4ba0e16b",
   "metadata": {},
   "outputs": [
    {
     "name": "stdout",
     "output_type": "stream",
     "text": [
      "3\n",
      "29\n",
      "38\n",
      "12\n",
      "57\n",
      "74\n",
      "40\n",
      "85\n",
      "61\n",
      "85\n",
      "8\n"
     ]
    }
   ],
   "source": [
    "# 2562 최댓값\n",
    "LArray=[]\n",
    "for _ in range(9):\n",
    "    LArray.append(int(input()))\n",
    "    \n",
    "print(max(LArray))\n",
    "print(LArray.index(max(LArray))+1)"
   ]
  },
  {
   "cell_type": "code",
   "execution_count": 6,
   "id": "044939b1",
   "metadata": {},
   "outputs": [
    {
     "name": "stdout",
     "output_type": "stream",
     "text": [
      "3\n",
      "1\n",
      "0\n",
      "2\n",
      "0\n",
      "0\n",
      "0\n",
      "2\n",
      "0\n",
      "0\n"
     ]
    }
   ],
   "source": [
    "#2577 숫자의 개수\n",
    "\n",
    "INumA=int(input()); INumB=int(input()); INumC=int(input())\n",
    "\n",
    "SNum_Mul=str(INumA *INumB * INumC)\n",
    "LArray=[0]*10\n",
    "\n",
    "for i in SNum_Mul:\n",
    "    if i=='0': LArray[0]+=1\n",
    "    elif i=='1': LArray[1]+=1\n",
    "    elif i=='2': LArray[2]+=1\n",
    "    elif i=='3': LArray[3]+=1\n",
    "    elif i=='4': LArray[4]+=1\n",
    "    elif i=='5': LArray[5]+=1\n",
    "    elif i=='6': LArray[6]+=1\n",
    "    elif i=='7': LArray[7]+=1\n",
    "    elif i=='8': LArray[8]+=1\n",
    "    elif i=='9': LArray[9]+=1\n",
    "        \n",
    "for i in LArray: print(i)"
   ]
  },
  {
   "cell_type": "code",
   "execution_count": 27,
   "id": "79c0006a",
   "metadata": {},
   "outputs": [
    {
     "name": "stdout",
     "output_type": "stream",
     "text": [
      "42\n",
      "84\n",
      "252\n",
      "420\n",
      "840\n",
      "126\n",
      "42\n",
      "84\n",
      "420\n",
      "126\n",
      "1\n"
     ]
    }
   ],
   "source": [
    "# 3052_나머지\n",
    "\n",
    "LArray=[int(input())%42 for _ in range(10)]\n",
    "Set_Array=set(LArray)\n",
    "\n",
    "print(len(Set_Array))"
   ]
  },
  {
   "cell_type": "code",
   "execution_count": 39,
   "id": "19c2e9eb",
   "metadata": {},
   "outputs": [
    {
     "name": "stdout",
     "output_type": "stream",
     "text": [
      "1\n",
      "50\n",
      "100.0\n"
     ]
    }
   ],
   "source": [
    "#1546: 평균\n",
    "\n",
    "INum=int(input())\n",
    "LArray=[0]*INum\n",
    "LArray=list(map(int,input().split()))\n",
    "IMax=max(LArray)\n",
    "LArray2=[]\n",
    "\n",
    "LArray2=[i/IMax*100  for i in LArray]\n",
    "\n",
    "print(sum(LArray2)/INum)"
   ]
  },
  {
   "cell_type": "code",
   "execution_count": 39,
   "id": "2044e2f1",
   "metadata": {},
   "outputs": [
    {
     "name": "stdout",
     "output_type": "stream",
     "text": [
      "5\n",
      "OXOXOXOXOXOXOX\n",
      "7\n",
      "OOOOOOOOOO\n",
      "55\n",
      "OOOOXOOOOXOOOOX\n",
      "30\n",
      "OOXXOOXXOO\n",
      "9\n",
      "OOXXOXXOOO\n",
      "10\n"
     ]
    }
   ],
   "source": [
    "#8958: ox 문제\n",
    "INum=int(input())\n",
    "for i in range(INum): \n",
    "    SArray=input()\n",
    "    LScore=[]\n",
    "\n",
    "    for j in range(len(SArray)):\n",
    "        if SArray[j] =='O':\n",
    "            if len(LScore)==0:\n",
    "                LScore.append(1)\n",
    "            else:\n",
    "                LScore.append(LScore[j-1]+1)\n",
    "        elif SArray[j] =='X':\n",
    "            LScore.append(0)\n",
    "            \n",
    "    print(sum(LScore))"
   ]
  }
 ],
 "metadata": {
  "kernelspec": {
   "display_name": "Python 3 (ipykernel)",
   "language": "python",
   "name": "python3"
  },
  "language_info": {
   "codemirror_mode": {
    "name": "ipython",
    "version": 3
   },
   "file_extension": ".py",
   "mimetype": "text/x-python",
   "name": "python",
   "nbconvert_exporter": "python",
   "pygments_lexer": "ipython3",
   "version": "3.9.7"
  }
 },
 "nbformat": 4,
 "nbformat_minor": 5
}
