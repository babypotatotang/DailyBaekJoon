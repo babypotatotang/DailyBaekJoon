{
 "cells": [
  {
   "cell_type": "code",
   "execution_count": null,
   "id": "1ec1bdd1",
   "metadata": {},
   "outputs": [],
   "source": [
    "# 10818 최소, 최대\n",
    "\n",
    "ISize=int(input())\n",
    "LArray=list(map(int,input().split()))\n",
    "\n",
    "print(str(min(LArray))+\" \"+str(max(LArray)))"
   ]
  },
  {
   "cell_type": "code",
   "execution_count": 2,
   "id": "4ba0e16b",
   "metadata": {},
   "outputs": [
    {
     "name": "stdout",
     "output_type": "stream",
     "text": [
      "3\n",
      "29\n",
      "38\n",
      "12\n",
      "57\n",
      "74\n",
      "40\n",
      "85\n",
      "61\n",
      "85\n",
      "8\n"
     ]
    }
   ],
   "source": [
    "# 2562 최댓값\n",
    "LArray=[]\n",
    "for _ in range(9):\n",
    "    LArray.append(int(input()))\n",
    "    \n",
    "print(max(LArray))\n",
    "print(LArray.index(max(LArray))+1)"
   ]
  },
  {
   "cell_type": "code",
   "execution_count": 6,
   "id": "044939b1",
   "metadata": {},
   "outputs": [
    {
     "name": "stdout",
     "output_type": "stream",
     "text": [
      "3\n",
      "1\n",
      "0\n",
      "2\n",
      "0\n",
      "0\n",
      "0\n",
      "2\n",
      "0\n",
      "0\n"
     ]
    }
   ],
   "source": [
    "#2577 숫자의 개수\n",
    "\n",
    "INumA=int(input()); INumB=int(input()); INumC=int(input())\n",
    "\n",
    "SNum_Mul=str(INumA *INumB * INumC)\n",
    "LArray=[0]*10\n",
    "\n",
    "for i in SNum_Mul:\n",
    "    if i=='0': LArray[0]+=1\n",
    "    elif i=='1': LArray[1]+=1\n",
    "    elif i=='2': LArray[2]+=1\n",
    "    elif i=='3': LArray[3]+=1\n",
    "    elif i=='4': LArray[4]+=1\n",
    "    elif i=='5': LArray[5]+=1\n",
    "    elif i=='6': LArray[6]+=1\n",
    "    elif i=='7': LArray[7]+=1\n",
    "    elif i=='8': LArray[8]+=1\n",
    "    elif i=='9': LArray[9]+=1\n",
    "        \n",
    "for i in LArray: print(i)"
   ]
  },
  {
   "cell_type": "code",
   "execution_count": 27,
   "id": "79c0006a",
   "metadata": {},
   "outputs": [
    {
     "name": "stdout",
     "output_type": "stream",
     "text": [
      "42\n",
      "84\n",
      "252\n",
      "420\n",
      "840\n",
      "126\n",
      "42\n",
      "84\n",
      "420\n",
      "126\n",
      "1\n"
     ]
    }
   ],
   "source": [
    "# 3052_나머지\n",
    "\n",
    "LArray=[int(input())%42 for _ in range(10)]\n",
    "Set_Array=set(LArray)\n",
    "\n",
    "print(len(Set_Array))"
   ]
  },
  {
   "cell_type": "code",
   "execution_count": 39,
   "id": "19c2e9eb",
   "metadata": {},
   "outputs": [
    {
     "name": "stdout",
     "output_type": "stream",
     "text": [
      "1\n",
      "50\n",
      "100.0\n"
     ]
    }
   ],
   "source": [
    "#1546: 평균\n",
    "\n",
    "INum=int(input())\n",
    "LArray=[0]*INum\n",
    "LArray=list(map(int,input().split()))\n",
    "IMax=max(LArray)\n",
    "LArray2=[]\n",
    "\n",
    "LArray2=[i/IMax*100  for i in LArray]\n",
    "\n",
    "print(sum(LArray2)/INum)"
   ]
  },
  {
   "cell_type": "code",
   "execution_count": 39,
   "id": "2044e2f1",
   "metadata": {},
   "outputs": [
    {
     "name": "stdout",
     "output_type": "stream",
     "text": [
      "5\n",
      "OXOXOXOXOXOXOX\n",
      "7\n",
      "OOOOOOOOOO\n",
      "55\n",
      "OOOOXOOOOXOOOOX\n",
      "30\n",
      "OOXXOOXXOO\n",
      "9\n",
      "OOXXOXXOOO\n",
      "10\n"
     ]
    }
   ],
   "source": [
    "#8958: ox 문제\n",
    "INum=int(input())\n",
    "for i in range(INum): \n",
    "    SArray=input()\n",
    "    LScore=[]\n",
    "\n",
    "    for j in range(len(SArray)):\n",
    "        if SArray[j] =='O':\n",
    "            if len(LScore)==0:\n",
    "                LScore.append(1)\n",
    "            else:\n",
    "                LScore.append(LScore[j-1]+1)\n",
    "        elif SArray[j] =='X':\n",
    "            LScore.append(0)\n",
    "            \n",
    "    print(sum(LScore))"
   ]
  },
  {
   "cell_type": "code",
   "execution_count": 8,
   "id": "07bc4985",
   "metadata": {},
   "outputs": [
    {
     "name": "stdout",
     "output_type": "stream",
     "text": [
      "1\n",
      "5 50 50 70 80 100\n",
      "40.000%\n"
     ]
    }
   ],
   "source": [
    "#4344: \n",
    "C=int(input()) #테스트 개수 \n",
    " \n",
    "for _ in range(C):\n",
    "    List=list(map(int,input().split()))\n",
    "    avg=sum(List[1:])/List[0]\n",
    "    count=0\n",
    "    for i in List[1:]: # 평균이 넘는 학생 수 count \n",
    "        if i>avg: count+=1\n",
    "    print(\"{:.3f}%\".format(count/List[0]*100))"
   ]
  },
  {
   "cell_type": "code",
   "execution_count": 25,
   "id": "d5c5e446",
   "metadata": {},
   "outputs": [
    {
     "ename": "SyntaxError",
     "evalue": "invalid syntax (Temp/ipykernel_19956/266372119.py, line 6)",
     "output_type": "error",
     "traceback": [
      "\u001b[1;36m  File \u001b[1;32m\"C:\\Users\\gwons\\AppData\\Local\\Temp/ipykernel_19956/266372119.py\"\u001b[1;36m, line \u001b[1;32m6\u001b[0m\n\u001b[1;33m    count=count+1 for i in List[1:] if i>avg\u001b[0m\n\u001b[1;37m                  ^\u001b[0m\n\u001b[1;31mSyntaxError\u001b[0m\u001b[1;31m:\u001b[0m invalid syntax\n"
     ]
    }
   ],
   "source": [
    "5\n",
    "5 50 50 70 80 100\n",
    "7 100 95 90 80 70 60 50\n",
    "3 70 90 80\n",
    "3 70 90 81\n",
    "9 100 99 98 97 96 95 94 93 91"
   ]
  },
  {
   "cell_type": "code",
   "execution_count": 15,
   "id": "d346ac40",
   "metadata": {},
   "outputs": [
    {
     "name": "stdout",
     "output_type": "stream",
     "text": [
      "40.0\n",
      "40.000\n"
     ]
    }
   ],
   "source": [
    "print(round(40.0000,3)) # 40.0\n",
    "print(\"{:.3f}\".format(40.0000)) #40.000"
   ]
  },
  {
   "cell_type": "code",
   "execution_count": 9,
   "id": "a1943987",
   "metadata": {},
   "outputs": [
    {
     "name": "stdout",
     "output_type": "stream",
     "text": [
      "5\n",
      "5 50 50 70 80 100\n",
      "40.000%\n"
     ]
    },
    {
     "ename": "KeyboardInterrupt",
     "evalue": "Interrupted by user",
     "output_type": "error",
     "traceback": [
      "\u001b[1;31m---------------------------------------------------------------------------\u001b[0m",
      "\u001b[1;31mKeyboardInterrupt\u001b[0m                         Traceback (most recent call last)",
      "\u001b[1;32m~\\AppData\\Local\\Temp/ipykernel_13744/4248240985.py\u001b[0m in \u001b[0;36m<module>\u001b[1;34m\u001b[0m\n\u001b[1;32m----> 1\u001b[1;33m \u001b[1;32mfor\u001b[0m \u001b[0mT\u001b[0m \u001b[1;32min\u001b[0m \u001b[0mrange\u001b[0m\u001b[1;33m(\u001b[0m\u001b[0mint\u001b[0m\u001b[1;33m(\u001b[0m\u001b[0minput\u001b[0m\u001b[1;33m(\u001b[0m\u001b[1;33m)\u001b[0m\u001b[1;33m)\u001b[0m\u001b[1;33m)\u001b[0m\u001b[1;33m:\u001b[0m\u001b[0mn\u001b[0m\u001b[1;33m,\u001b[0m\u001b[1;33m*\u001b[0m\u001b[0ml\u001b[0m\u001b[1;33m=\u001b[0m\u001b[0mmap\u001b[0m\u001b[1;33m(\u001b[0m\u001b[0mint\u001b[0m\u001b[1;33m,\u001b[0m\u001b[0minput\u001b[0m\u001b[1;33m(\u001b[0m\u001b[1;33m)\u001b[0m\u001b[1;33m.\u001b[0m\u001b[0msplit\u001b[0m\u001b[1;33m(\u001b[0m\u001b[1;33m)\u001b[0m\u001b[1;33m)\u001b[0m\u001b[1;33m;\u001b[0m\u001b[0ms\u001b[0m\u001b[1;33m=\u001b[0m\u001b[0msum\u001b[0m\u001b[1;33m(\u001b[0m\u001b[0ml\u001b[0m\u001b[1;33m)\u001b[0m\u001b[1;33m/\u001b[0m\u001b[0mn\u001b[0m\u001b[1;33m;\u001b[0m\u001b[0mprint\u001b[0m\u001b[1;33m(\u001b[0m\u001b[1;34m'%.3f%%'\u001b[0m\u001b[1;33m%\u001b[0m\u001b[1;33m(\u001b[0m\u001b[0msum\u001b[0m\u001b[1;33m(\u001b[0m\u001b[0mi\u001b[0m\u001b[1;33m>\u001b[0m\u001b[0ms\u001b[0m \u001b[1;32mfor\u001b[0m \u001b[0mi\u001b[0m \u001b[1;32min\u001b[0m \u001b[0ml\u001b[0m\u001b[1;33m)\u001b[0m\u001b[1;33m*\u001b[0m\u001b[1;36m100\u001b[0m\u001b[1;33m/\u001b[0m\u001b[0mn\u001b[0m\u001b[1;33m)\u001b[0m\u001b[1;33m)\u001b[0m\u001b[1;33m\u001b[0m\u001b[1;33m\u001b[0m\u001b[0m\n\u001b[0m",
      "\u001b[1;32m~\\anaconda3\\lib\\site-packages\\ipykernel\\kernelbase.py\u001b[0m in \u001b[0;36mraw_input\u001b[1;34m(self, prompt)\u001b[0m\n\u001b[0;32m   1004\u001b[0m                 \u001b[1;34m\"raw_input was called, but this frontend does not support input requests.\"\u001b[0m\u001b[1;33m\u001b[0m\u001b[1;33m\u001b[0m\u001b[0m\n\u001b[0;32m   1005\u001b[0m             )\n\u001b[1;32m-> 1006\u001b[1;33m         return self._input_request(\n\u001b[0m\u001b[0;32m   1007\u001b[0m             \u001b[0mstr\u001b[0m\u001b[1;33m(\u001b[0m\u001b[0mprompt\u001b[0m\u001b[1;33m)\u001b[0m\u001b[1;33m,\u001b[0m\u001b[1;33m\u001b[0m\u001b[1;33m\u001b[0m\u001b[0m\n\u001b[0;32m   1008\u001b[0m             \u001b[0mself\u001b[0m\u001b[1;33m.\u001b[0m\u001b[0m_parent_ident\u001b[0m\u001b[1;33m[\u001b[0m\u001b[1;34m\"shell\"\u001b[0m\u001b[1;33m]\u001b[0m\u001b[1;33m,\u001b[0m\u001b[1;33m\u001b[0m\u001b[1;33m\u001b[0m\u001b[0m\n",
      "\u001b[1;32m~\\anaconda3\\lib\\site-packages\\ipykernel\\kernelbase.py\u001b[0m in \u001b[0;36m_input_request\u001b[1;34m(self, prompt, ident, parent, password)\u001b[0m\n\u001b[0;32m   1049\u001b[0m             \u001b[1;32mexcept\u001b[0m \u001b[0mKeyboardInterrupt\u001b[0m\u001b[1;33m:\u001b[0m\u001b[1;33m\u001b[0m\u001b[1;33m\u001b[0m\u001b[0m\n\u001b[0;32m   1050\u001b[0m                 \u001b[1;31m# re-raise KeyboardInterrupt, to truncate traceback\u001b[0m\u001b[1;33m\u001b[0m\u001b[1;33m\u001b[0m\u001b[0m\n\u001b[1;32m-> 1051\u001b[1;33m                 \u001b[1;32mraise\u001b[0m \u001b[0mKeyboardInterrupt\u001b[0m\u001b[1;33m(\u001b[0m\u001b[1;34m\"Interrupted by user\"\u001b[0m\u001b[1;33m)\u001b[0m \u001b[1;32mfrom\u001b[0m \u001b[1;32mNone\u001b[0m\u001b[1;33m\u001b[0m\u001b[1;33m\u001b[0m\u001b[0m\n\u001b[0m\u001b[0;32m   1052\u001b[0m             \u001b[1;32mexcept\u001b[0m \u001b[0mException\u001b[0m\u001b[1;33m:\u001b[0m\u001b[1;33m\u001b[0m\u001b[1;33m\u001b[0m\u001b[0m\n\u001b[0;32m   1053\u001b[0m                 \u001b[0mself\u001b[0m\u001b[1;33m.\u001b[0m\u001b[0mlog\u001b[0m\u001b[1;33m.\u001b[0m\u001b[0mwarning\u001b[0m\u001b[1;33m(\u001b[0m\u001b[1;34m\"Invalid Message:\"\u001b[0m\u001b[1;33m,\u001b[0m \u001b[0mexc_info\u001b[0m\u001b[1;33m=\u001b[0m\u001b[1;32mTrue\u001b[0m\u001b[1;33m)\u001b[0m\u001b[1;33m\u001b[0m\u001b[1;33m\u001b[0m\u001b[0m\n",
      "\u001b[1;31mKeyboardInterrupt\u001b[0m: Interrupted by user"
     ]
    }
   ],
   "source": [
    "for T in range(int(input())):\n",
    "    n,*l=map(int,input().split());\n",
    "    s=sum(l)/n;\n",
    "    print('%.3f%%'%(sum(i>s for i in l)*100/n))"
   ]
  }
 ],
 "metadata": {
  "kernelspec": {
   "display_name": "Python 3 (ipykernel)",
   "language": "python",
   "name": "python3"
  },
  "language_info": {
   "codemirror_mode": {
    "name": "ipython",
    "version": 3
   },
   "file_extension": ".py",
   "mimetype": "text/x-python",
   "name": "python",
   "nbconvert_exporter": "python",
   "pygments_lexer": "ipython3",
   "version": "3.9.7"
  }
 },
 "nbformat": 4,
 "nbformat_minor": 5
}
