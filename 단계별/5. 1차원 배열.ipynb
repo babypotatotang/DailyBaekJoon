{
 "cells": [
  {
   "cell_type": "code",
   "execution_count": null,
   "id": "1ec1bdd1",
   "metadata": {},
   "outputs": [],
   "source": [
    "# 10818 최소, 최대\n",
    "\n",
    "ISize=int(input())\n",
    "LArray=list(map(int,input().split()))\n",
    "\n",
    "print(str(min(LArray))+\" \"+str(max(LArray)))"
   ]
  },
  {
   "cell_type": "code",
   "execution_count": 2,
   "id": "4ba0e16b",
   "metadata": {},
   "outputs": [
    {
     "name": "stdout",
     "output_type": "stream",
     "text": [
      "3\n",
      "29\n",
      "38\n",
      "12\n",
      "57\n",
      "74\n",
      "40\n",
      "85\n",
      "61\n",
      "85\n",
      "8\n"
     ]
    }
   ],
   "source": [
    "# 2562 최댓값\n",
    "LArray=[]\n",
    "for _ in range(9):\n",
    "    LArray.append(int(input()))\n",
    "    \n",
    "print(max(LArray))\n",
    "print(LArray.index(max(LArray))+1)"
   ]
  },
  {
   "cell_type": "code",
   "execution_count": 6,
   "id": "044939b1",
   "metadata": {},
   "outputs": [
    {
     "name": "stdout",
     "output_type": "stream",
     "text": [
      "3\n",
      "1\n",
      "0\n",
      "2\n",
      "0\n",
      "0\n",
      "0\n",
      "2\n",
      "0\n",
      "0\n"
     ]
    }
   ],
   "source": [
    "#2577 숫자의 개수\n",
    "\n",
    "INumA=int(input()); INumB=int(input()); INumC=int(input())\n",
    "\n",
    "SNum_Mul=str(INumA *INumB * INumC)\n",
    "LArray=[0]*10\n",
    "\n",
    "for i in SNum_Mul:\n",
    "    if i=='0': LArray[0]+=1\n",
    "    elif i=='1': LArray[1]+=1\n",
    "    elif i=='2': LArray[2]+=1\n",
    "    elif i=='3': LArray[3]+=1\n",
    "    elif i=='4': LArray[4]+=1\n",
    "    elif i=='5': LArray[5]+=1\n",
    "    elif i=='6': LArray[6]+=1\n",
    "    elif i=='7': LArray[7]+=1\n",
    "    elif i=='8': LArray[8]+=1\n",
    "    elif i=='9': LArray[9]+=1\n",
    "        \n",
    "for i in LArray: print(i)"
   ]
  },
  {
   "cell_type": "code",
   "execution_count": 27,
   "id": "79c0006a",
   "metadata": {},
   "outputs": [
    {
     "name": "stdout",
     "output_type": "stream",
     "text": [
      "42\n",
      "84\n",
      "252\n",
      "420\n",
      "840\n",
      "126\n",
      "42\n",
      "84\n",
      "420\n",
      "126\n",
      "1\n"
     ]
    }
   ],
   "source": [
    "# 3052_나머지\n",
    "\n",
    "LArray=[int(input())%42 for _ in range(10)]\n",
    "Set_Array=set(LArray)\n",
    "\n",
    "print(len(Set_Array))"
   ]
  },
  {
   "cell_type": "code",
   "execution_count": 26,
   "id": "19c2e9eb",
   "metadata": {},
   "outputs": [
    {
     "data": {
      "text/plain": [
       "6"
      ]
     },
     "execution_count": 26,
     "metadata": {},
     "output_type": "execute_result"
    }
   ],
   "source": [
    "len(Set_Array)"
   ]
  },
  {
   "cell_type": "code",
   "execution_count": 10,
   "id": "05f8c760",
   "metadata": {},
   "outputs": [
    {
     "name": "stdout",
     "output_type": "stream",
     "text": [
      "1 1\n",
      "1 2\n",
      "1 3\n",
      "1 4\n",
      "2 1\n",
      "2 2\n",
      "2 3\n",
      "2 4\n",
      "3 1\n",
      "3 2\n",
      "3 3\n",
      "3 4\n",
      "4 1\n",
      "4 2\n",
      "4 3\n",
      "4 4\n"
     ]
    }
   ],
   "source": [
    "a=[1,2,3,4]\n",
    "\n",
    "for i in a:\n",
    "    for j in a:\n",
    "        print(i,j)"
   ]
  }
 ],
 "metadata": {
  "kernelspec": {
   "display_name": "Python 3 (ipykernel)",
   "language": "python",
   "name": "python3"
  },
  "language_info": {
   "codemirror_mode": {
    "name": "ipython",
    "version": 3
   },
   "file_extension": ".py",
   "mimetype": "text/x-python",
   "name": "python",
   "nbconvert_exporter": "python",
   "pygments_lexer": "ipython3",
   "version": "3.9.7"
  }
 },
 "nbformat": 4,
 "nbformat_minor": 5
}
