{
 "cells": [
  {
   "cell_type": "code",
   "execution_count": 3,
   "id": "073ab676",
   "metadata": {},
   "outputs": [
    {
     "name": "stdout",
     "output_type": "stream",
     "text": [
      "z\n",
      "122\n"
     ]
    }
   ],
   "source": [
    "#11654번: 아스키코드\n",
    "string=input(); print(ord(string))"
   ]
  },
  {
   "cell_type": "code",
   "execution_count": 6,
   "id": "07e32a8c",
   "metadata": {},
   "outputs": [
    {
     "name": "stdout",
     "output_type": "stream",
     "text": [
      "2\n",
      "70\n",
      "7\n"
     ]
    }
   ],
   "source": [
    "#11720번: 숫자의 합\n",
    "n=input();nums=map(int,input()); \n",
    "print(sum(nums))"
   ]
  },
  {
   "cell_type": "code",
   "execution_count": 10,
   "id": "003777f9",
   "metadata": {},
   "outputs": [
    {
     "name": "stdout",
     "output_type": "stream",
     "text": [
      "1\n",
      "0\n",
      "-1\n",
      "-1\n",
      "2\n",
      "-1\n",
      "-1\n",
      "-1\n",
      "-1\n",
      "4\n",
      "3\n",
      "-1\n",
      "-1\n",
      "7\n",
      "5\n",
      "-1\n",
      "-1\n",
      "-1\n",
      "-1\n",
      "-1\n",
      "-1\n",
      "-1\n",
      "-1\n",
      "-1\n",
      "-1\n",
      "-1\n"
     ]
    }
   ],
   "source": [
    "#10809번: 알파벳 찾기 \n",
    "string=input()\n",
    "allstring='abcdefghijklmnopqrstuvwxyz'\n",
    "\n",
    "for i in allstring:\n",
    "    print(string.find(i))\n"
   ]
  }
 ],
 "metadata": {
  "kernelspec": {
   "display_name": "pykernel",
   "language": "python",
   "name": "pykernel3.7.3"
  },
  "language_info": {
   "codemirror_mode": {
    "name": "ipython",
    "version": 3
   },
   "file_extension": ".py",
   "mimetype": "text/x-python",
   "name": "python",
   "nbconvert_exporter": "python",
   "pygments_lexer": "ipython3",
   "version": "3.7.3"
  }
 },
 "nbformat": 4,
 "nbformat_minor": 5
}
