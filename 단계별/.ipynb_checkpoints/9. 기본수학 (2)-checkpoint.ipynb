{
 "cells": [
  {
   "cell_type": "code",
   "execution_count": 30,
   "id": "671c2128",
   "metadata": {},
   "outputs": [
    {
     "name": "stdout",
     "output_type": "stream",
     "text": [
      "10\n",
      "1 2 3 4 5 6 7 8 9 10\n",
      "4\n"
     ]
    }
   ],
   "source": [
    "#1978번\n",
    "cnt=int(input());\n",
    "nums=list(map(int,input().split())); prime=[2,3,5,7]; cnt=len(nums)\n",
    "\n",
    "for i in nums:\n",
    "    tmp=[int(i%j) for j in prime] #나머지를 저장한 리스트 생성\n",
    "    if 0 in tmp or i==1: cnt-=1 #i가 1이거나 나머지가 0인 숫자가 있으면 소수에서 제외\n",
    "    if i in prime: cnt+=1 #i가 prime list에 있으면 소수에 다시 추가 \n",
    "\n",
    "print(cnt)"
   ]
  },
  {
   "cell_type": "code",
   "execution_count": 44,
   "id": "2797a202",
   "metadata": {},
   "outputs": [
    {
     "name": "stdout",
     "output_type": "stream",
     "text": [
      "3\n",
      "12 16 20\n",
      "0\n"
     ]
    }
   ],
   "source": [
    "#1978번 \n",
    "cnt=int(input());\n",
    "nums=[i for i in list(map(int,input().split())) if i!=1]; cnt=0;\n",
    "\n",
    "for i in nums:\n",
    "    error=0\n",
    "    for j in range(2,i):\n",
    "            if i%j==0: error+=1\n",
    "    if error==0:\n",
    "        cnt+=1\n",
    "                \n",
    "print(cnt)"
   ]
  },
  {
   "cell_type": "code",
   "execution_count": 18,
   "id": "a7fe40eb",
   "metadata": {},
   "outputs": [
    {
     "name": "stdout",
     "output_type": "stream",
     "text": [
      "100\n",
      "1000\n",
      "75067\n",
      "101\n"
     ]
    }
   ],
   "source": [
    "#2581번: 소수\n",
    "a=int(input()); b=int(input()); prime=[]\n",
    "\n",
    "for i in range(a,b+1):\n",
    "    err=0\n",
    "    if i>1: \n",
    "        for j in range(2,i):\n",
    "            if i%j==0: \n",
    "                err+=1 #1과 자기자신 이외에도 다른 나누어떨어지는 수가 존재한다면 \n",
    "        if err==0: prime.append(i)\n",
    "\n",
    "if len(prime)>0: \n",
    "    print(sum(prime)); print(min(prime))\n",
    "else: print(-1)"
   ]
  }
 ],
 "metadata": {
  "kernelspec": {
   "display_name": "Python 3 (ipykernel)",
   "language": "python",
   "name": "python3"
  },
  "language_info": {
   "codemirror_mode": {
    "name": "ipython",
    "version": 3
   },
   "file_extension": ".py",
   "mimetype": "text/x-python",
   "name": "python",
   "nbconvert_exporter": "python",
   "pygments_lexer": "ipython3",
   "version": "3.9.7"
  }
 },
 "nbformat": 4,
 "nbformat_minor": 5
}
