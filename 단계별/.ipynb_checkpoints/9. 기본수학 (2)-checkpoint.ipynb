{
 "cells": [
  {
   "cell_type": "code",
   "execution_count": 30,
   "id": "671c2128",
   "metadata": {},
   "outputs": [
    {
     "name": "stdout",
     "output_type": "stream",
     "text": [
      "10\n",
      "1 2 3 4 5 6 7 8 9 10\n",
      "4\n"
     ]
    }
   ],
   "source": [
    "#1978번\n",
    "cnt=int(input());\n",
    "nums=list(map(int,input().split())); prime=[2,3,5,7]; cnt=len(nums)\n",
    "\n",
    "for i in nums:\n",
    "    tmp=[int(i%j) for j in prime] #나머지를 저장한 리스트 생성\n",
    "    if 0 in tmp or i==1: cnt-=1 #i가 1이거나 나머지가 0인 숫자가 있으면 소수에서 제외\n",
    "    if i in prime: cnt+=1 #i가 prime list에 있으면 소수에 다시 추가 \n",
    "\n",
    "print(cnt)"
   ]
  },
  {
   "cell_type": "code",
   "execution_count": 44,
   "id": "2797a202",
   "metadata": {},
   "outputs": [
    {
     "name": "stdout",
     "output_type": "stream",
     "text": [
      "3\n",
      "12 16 20\n",
      "0\n"
     ]
    }
   ],
   "source": [
    "#1978번 \n",
    "cnt=int(input());\n",
    "nums=[i for i in list(map(int,input().split())) if i!=1]; cnt=0;\n",
    "\n",
    "for i in nums:\n",
    "    error=0\n",
    "    for j in range(2,i):\n",
    "            if i%j==0: error+=1\n",
    "    if error==0:\n",
    "        cnt+=1\n",
    "                \n",
    "print(cnt)"
   ]
  },
  {
   "cell_type": "code",
   "execution_count": 18,
   "id": "a7fe40eb",
   "metadata": {},
   "outputs": [
    {
     "name": "stdout",
     "output_type": "stream",
     "text": [
      "100\n",
      "1000\n",
      "75067\n",
      "101\n"
     ]
    }
   ],
   "source": [
    "#2581번: 소수\n",
    "a=int(input()); b=int(input()); prime=[]\n",
    "\n",
    "for i in range(a,b+1):\n",
    "    err=0\n",
    "    if i>1: \n",
    "        for j in range(2,i):\n",
    "            if i%j==0: \n",
    "                err+=1 #1과 자기자신 이외에도 다른 나누어떨어지는 수가 존재한다면 \n",
    "        if err==0: prime.append(i)\n",
    "\n",
    "if len(prime)>0: \n",
    "    print(sum(prime)); print(min(prime))\n",
    "else: print(-1)"
   ]
  },
  {
   "cell_type": "code",
   "execution_count": 78,
   "id": "bb47e9d7",
   "metadata": {},
   "outputs": [
    {
     "name": "stdout",
     "output_type": "stream",
     "text": [
      "121\n",
      "11\n",
      "11\n"
     ]
    }
   ],
   "source": [
    "## 11653번: 소인수분해 \n",
    "\n",
    "a=int(input()); primes=[]; answer=a;\n",
    "while(1):\n",
    "    nums=[i for i in range(2,a) if int(a%i)==0]\n",
    "    if a==1 or len(nums)==0:\n",
    "        break\n",
    "        \n",
    "    primes.append(nums[0])\n",
    "    a=int(a/nums[0])\n",
    "    \n",
    "mul=1\n",
    "for i in primes:\n",
    "    mul*=i\n",
    "if mul!=answer: primes.append(int(answer/mul))\n",
    "\n",
    "for i in sorted(primes): print(i)"
   ]
  },
  {
   "cell_type": "code",
   "execution_count": 113,
   "id": "8e485a09",
   "metadata": {},
   "outputs": [
    {
     "name": "stdout",
     "output_type": "stream",
     "text": [
      "4 9\n",
      "5\n",
      "7\n"
     ]
    }
   ],
   "source": [
    "# 1929번: 소수 구하기\n",
    "\n",
    "a,b=map(int,input().split());\n",
    "b+=1\n",
    "primes=[True]*(b)\n",
    "\n",
    "for i in range(2,int(b**0.5)+1):\n",
    "    if primes[i]:\n",
    "        for j in range(i+i,b,i):\n",
    "                primes[j]=False\n",
    "\n",
    "for i in range(a,b):\n",
    "    if i>1 and primes[i]==True:\n",
    "        print(i)"
   ]
  },
  {
   "cell_type": "code",
   "execution_count": 191,
   "id": "d3017f65",
   "metadata": {},
   "outputs": [],
   "source": [
    "#4948번: 베르트랑 공준 \n",
    "\n",
    "while(1):\n",
    "    n=int(input()); m=2*n+1; cnt=0\n",
    "    if n==0: break   \n",
    "    primes=[True]*m\n",
    "    \n",
    "    for i in range(2,m):\n",
    "        if primes[i]:\n",
    "            for j in range(i+i,m,i):\n",
    "                primes[j]=False\n",
    "    for i in range(n+1,m):\n",
    "        if i>1 and primes[i]==True:\n",
    "            cnt+=1\n",
    "            \n",
    "    print(cnt)"
   ]
  },
  {
   "cell_type": "code",
   "execution_count": 232,
   "id": "9b4fce32",
   "metadata": {},
   "outputs": [
    {
     "name": "stdout",
     "output_type": "stream",
     "text": [
      "3\n",
      "8\n",
      "3 5\n",
      "10\n",
      "5 5\n",
      "16\n",
      "5 11\n"
     ]
    }
   ],
   "source": [
    "## 9020번: 골드바흐의 추측\n",
    "\n",
    "for _ in range(int(input())):\n",
    "    n=int(input()); n+=1\n",
    "    chk=[True]*n\n",
    "    for i in range(2,int(n**0.5)+1):\n",
    "        if chk[i]:\n",
    "            for j in range(i+i,n,i):\n",
    "                chk[j]=False   \n",
    "    primes=[i for i in range(2,n) if chk[i]==True]\n",
    "    \n",
    "    idx=max(i for i in range(len(primes)) if primes[i]<=n/2);\n",
    "    i=idx;j=i\n",
    "    \n",
    "    while(1):\n",
    "        if primes[i]+primes[j]==(n-1):\n",
    "            print(str(primes[i])+\" \"+str(primes[j]))\n",
    "            break\n",
    "        if j==len(primes)-1:\n",
    "            i-=1; j=i\n",
    "        j+=1"
   ]
  },
  {
   "cell_type": "code",
   "execution_count": 238,
   "id": "7c7fefc2",
   "metadata": {},
   "outputs": [
    {
     "name": "stdout",
     "output_type": "stream",
     "text": [
      "161 181 762 375\n",
      "161\n"
     ]
    }
   ],
   "source": [
    "#1085번: 직사각형에서 탈출 \n",
    "x,y,w,h=map(int,input().split())\n",
    "\n",
    "points=[]\n",
    "points.append(w-x); points.append(h-y); points.append(x); points.append(y)\n",
    "\n",
    "print(min(points))"
   ]
  },
  {
   "cell_type": "code",
   "execution_count": 280,
   "id": "40f6c0eb",
   "metadata": {},
   "outputs": [
    {
     "name": "stdout",
     "output_type": "stream",
     "text": [
      "30 20\n",
      "10 20\n",
      "10 10\n",
      "10\n",
      "30\n",
      "30 10\n"
     ]
    }
   ],
   "source": [
    "## 3009번: 네 번째 점 \n",
    "pointx=[]; pointy=[];\n",
    "for _ in range(3):\n",
    "    x,y=map(int,input().split())\n",
    "    pointx.append(x); pointy.append(y)\n",
    "    \n",
    "for i in set(pointx):\n",
    "    if pointx.count(i)==1: fx=i\n",
    "for i in set(pointy):\n",
    "    if pointy.count(i)==1: fy=i\n",
    "    \n",
    "print(fx, fy)"
   ]
  },
  {
   "cell_type": "code",
   "execution_count": 293,
   "id": "8eaea974",
   "metadata": {},
   "outputs": [
    {
     "name": "stdout",
     "output_type": "stream",
     "text": [
      "0 0 0\n"
     ]
    }
   ],
   "source": [
    "#4153번: 직각삼각형\n",
    "while(1):\n",
    "    nums=list(map(int,input().split()))\n",
    "    if nums[0]==0 and nums[1]==0 and nums[2]==0: break\n",
    "    \n",
    "    maxnum=max(nums)\n",
    "    if maxnum**2==sum(i**2 for i in nums if i != maxnum): print('right')\n",
    "    else: print('wrong')"
   ]
  }
 ],
 "metadata": {
  "kernelspec": {
   "display_name": "Python 3 (ipykernel)",
   "language": "python",
   "name": "python3"
  },
  "language_info": {
   "codemirror_mode": {
    "name": "ipython",
    "version": 3
   },
   "file_extension": ".py",
   "mimetype": "text/x-python",
   "name": "python",
   "nbconvert_exporter": "python",
   "pygments_lexer": "ipython3",
   "version": "3.9.7"
  }
 },
 "nbformat": 4,
 "nbformat_minor": 5
}
