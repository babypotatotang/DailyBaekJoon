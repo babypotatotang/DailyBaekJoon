{
 "cells": [
  {
   "cell_type": "code",
   "execution_count": 3,
   "id": "073ab676",
   "metadata": {},
   "outputs": [
    {
     "name": "stdout",
     "output_type": "stream",
     "text": [
      "z\n",
      "122\n"
     ]
    }
   ],
   "source": [
    "#11654번: 아스키코드\n",
    "string=input(); print(ord(string))"
   ]
  },
  {
   "cell_type": "code",
   "execution_count": 6,
   "id": "07e32a8c",
   "metadata": {},
   "outputs": [
    {
     "name": "stdout",
     "output_type": "stream",
     "text": [
      "2\n",
      "70\n",
      "7\n"
     ]
    }
   ],
   "source": [
    "#11720번: 숫자의 합\n",
    "n=input();nums=map(int,input()); \n",
    "print(sum(nums))"
   ]
  },
  {
   "cell_type": "code",
   "execution_count": 4,
   "id": "003777f9",
   "metadata": {},
   "outputs": [],
   "source": [
    "#10809번: 알파벳 찾기 \n",
    "string=input()\n",
    "allstring='abcdefghijklmnopqrstuvwxyz'\n",
    "\n",
    "for i in allstring:\n",
    "    print(string.find(i))"
   ]
  },
  {
   "cell_type": "code",
   "execution_count": 10,
   "id": "71b604ea",
   "metadata": {},
   "outputs": [
    {
     "name": "stdout",
     "output_type": "stream",
     "text": [
      "2\n",
      "3 ABC\n",
      "AAABBBCCC5 /HPC\n",
      "/////HHHHHPPPPPCCCCC"
     ]
    }
   ],
   "source": [
    "#2675번: 문자열 반복\n",
    "num=input()\n",
    "for _ in range(int(num)):\n",
    "    s=input().split()\n",
    "    ls=[i for i in s[1] for _ in range(int(s[0]))]\n",
    "    print(''.join(ls))"
   ]
  },
  {
   "cell_type": "code",
   "execution_count": 15,
   "id": "a182bdeb",
   "metadata": {},
   "outputs": [
    {
     "name": "stdout",
     "output_type": "stream",
     "text": [
      "z\n",
      "Z\n"
     ]
    }
   ],
   "source": [
    "#1157번: 단어공부\n",
    "a=input()\n",
    "alpha=list(map(chr,range(65,91))); check=[0]*len(alpha)\n",
    "for i in a.upper():\n",
    "    if i in alpha: \n",
    "        check[alpha.index(i)]+=1\n",
    "num=0\n",
    "for i in check: \n",
    "    if i==max(check): num+=1\n",
    "        \n",
    "if num>1: print(\"?\")\n",
    "else: print(alpha[check.index(max(check))])"
   ]
  },
  {
   "cell_type": "code",
   "execution_count": 43,
   "id": "f462c429",
   "metadata": {},
   "outputs": [
    {
     "name": "stdout",
     "output_type": "stream",
     "text": [
      "[0, 0, 0, 0, 0, 0, 0, 0, 0, 0, 0, 0, 0, 0, 0, 0, 0, 0, 0, 0, 0, 0, 0, 0, 0, 0]\n",
      "?\n",
      "?\n"
     ]
    }
   ],
   "source": [
    "#1157번: 단어공부\n",
    "a='zZAam'\n",
    "alpha=list(map(chr,range(65,91))); check=[0]*len(alpha)\n",
    "\n",
    "for i in a.upper():\n",
    "    if i in alpha: \n",
    "        check[alpha.index(i)]+=1\n",
    "        \n",
    "num=0\n",
    "for i in check: \n",
    "    if i==max(check): num+=1\n",
    "        \n",
    "if num>1: print(\"?\")\n",
    "else: print(alpha[check.index(max(check))])"
   ]
  },
  {
   "cell_type": "code",
   "execution_count": 42,
   "id": "adfbf5d3",
   "metadata": {},
   "outputs": [
    {
     "name": "stdout",
     "output_type": "stream",
     "text": [
      "zzaa\n",
      "?\n"
     ]
    }
   ],
   "source": [
    "#1157번: 단어공부(숏코딩)\n",
    "l=[0]*99\n",
    "for i in input(): l[ord(i)&95]+=1\n",
    "m=max(l); print(\"?\"if l.count(m)>1 else \"%c\"%l.index(m))"
   ]
  },
  {
   "cell_type": "code",
   "execution_count": 46,
   "id": "0fb5816c",
   "metadata": {},
   "outputs": [
    {
     "name": "stdout",
     "output_type": "stream",
     "text": [
      " The first character is a blank\n",
      "6\n"
     ]
    }
   ],
   "source": [
    "#1152번: 단어의 개수\n",
    "a=input()\n",
    "print(len(a.split()))"
   ]
  },
  {
   "cell_type": "code",
   "execution_count": 70,
   "id": "9ab14b2a",
   "metadata": {},
   "outputs": [
    {
     "name": "stdout",
     "output_type": "stream",
     "text": [
      "110 392\n",
      "293\n"
     ]
    }
   ],
   "source": [
    "#2908번: 상수\n",
    "a=input().split()\n",
    "print(max([i[::-1] for i in a]))"
   ]
  },
  {
   "cell_type": "code",
   "execution_count": 73,
   "id": "47d4c536",
   "metadata": {},
   "outputs": [
    {
     "name": "stdout",
     "output_type": "stream",
     "text": [
      "WA\n",
      "13\n"
     ]
    }
   ],
   "source": [
    "#5622번: 다이얼\n",
    "a=input()\n",
    "dial=[]\n",
    "for i in a:\n",
    "    if i =='A' or i=='B' or i=='C': dial.append(3)\n",
    "    elif i=='D' or i=='E' or i=='F': dial.append(4)\n",
    "    elif i=='G' or i=='H' or i=='I': dial.append(5)\n",
    "    elif i=='J' or i=='K' or i=='L': dial.append(6)\n",
    "    elif i=='M' or i=='N' or i=='O': dial.append(7)\n",
    "    elif i=='P' or i=='Q' or i=='R' or i=='S': dial.append(8)\n",
    "    elif i=='T' or i=='U' or i=='V':dial.append(9)\n",
    "    elif i=='W' or i=='X' or i=='Y' or i=='Z': dial.append(10)\n",
    "    \n",
    "print(sum(dial))"
   ]
  },
  {
   "cell_type": "code",
   "execution_count": 87,
   "id": "11505024",
   "metadata": {},
   "outputs": [
    {
     "name": "stdout",
     "output_type": "stream",
     "text": [
      "qwe\n"
     ]
    }
   ],
   "source": [
    "a='qwe'\n",
    "a.replace('q',')')\n",
    "print(a)"
   ]
  },
  {
   "cell_type": "code",
   "execution_count": 97,
   "id": "af2ba94b",
   "metadata": {},
   "outputs": [
    {
     "name": "stdout",
     "output_type": "stream",
     "text": [
      "dz=ak\n",
      "3\n"
     ]
    }
   ],
   "source": [
    "#2941번: 크로아티아 알파벳 \n",
    "a=input()\n",
    "croatia=['c=','c-','dz=','d-','lj','nj','s=','z=']\n",
    "\n",
    "for i in croatia: a=a.replace(i,'*')    \n",
    "print(len(a))"
   ]
  },
  {
   "cell_type": "code",
   "execution_count": 142,
   "id": "bc239109",
   "metadata": {},
   "outputs": [
    {
     "name": "stdout",
     "output_type": "stream",
     "text": [
      "1\n",
      "z\n",
      "1\n"
     ]
    }
   ],
   "source": [
    "#1316번: 그룹단어 체커 \n",
    "num=input(); cnt=int(num)\n",
    "\n",
    "for _ in range(int(num)):\n",
    "    check=[0]*150;a=input()\n",
    "    for i in range(int(len(a))):\n",
    "        check[ord(a[i])]+=1\n",
    "        if check[ord(a[i])]>=2 and a[i-1]!=a[i] and i!=0: \n",
    "            cnt-=1\n",
    "            break\n",
    "\n",
    "print(cnt)"
   ]
  }
 ],
 "metadata": {
  "kernelspec": {
   "display_name": "pykernel",
   "language": "python",
   "name": "pykernel3.7.3"
  },
  "language_info": {
   "codemirror_mode": {
    "name": "ipython",
    "version": 3
   },
   "file_extension": ".py",
   "mimetype": "text/x-python",
   "name": "python",
   "nbconvert_exporter": "python",
   "pygments_lexer": "ipython3",
   "version": "3.7.3"
  }
 },
 "nbformat": 4,
 "nbformat_minor": 5
}
