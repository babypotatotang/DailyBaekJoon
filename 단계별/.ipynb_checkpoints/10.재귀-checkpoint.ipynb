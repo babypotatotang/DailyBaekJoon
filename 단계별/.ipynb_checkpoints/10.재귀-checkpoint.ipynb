{
 "cells": [
  {
   "cell_type": "code",
   "execution_count": null,
   "id": "e90c89e7",
   "metadata": {},
   "outputs": [],
   "source": [
    "#2447번: 별찍기 -10\n",
    "import sys \n",
    "\n",
    "def blank(blanks,N,M):\n",
    "    blanks=blanks\n",
    "\n",
    "    for i in range(N):\n",
    "        if int(i/(M/3))%3==1:\n",
    "                blanks.append(i)\n",
    "\n",
    "    if M!=1:\n",
    "        return blank(blanks,N,M/3)\n",
    "    else:\n",
    "        return blanks\n",
    "    \n",
    "N=int(input()); M=N; blanks=[]; stars = [[True]*N for i in range(N)]\n",
    "\n",
    "blanks=blank(blanks,N,M)\n",
    "\n",
    "for i in (i*int(N/3) for i in range(0,N)):\n",
    "    blk=blanks[i:int(i+N/3)]\n",
    "    for a in blk:\n",
    "        for b in blk:\n",
    "            stars[a][b]=False\n",
    "    if int(i+N/3)==(len(blanks)):break\n",
    "\n",
    "for i in range(N):\n",
    "    for j in range(N):\n",
    "        if stars[i][j]: sys.stdout.write(\"*\")\n",
    "        else: sys.stdout.write(\" \")\n",
    "    sys.stdout.write(\"\\n\")"
   ]
  },
  {
   "cell_type": "code",
   "execution_count": null,
   "id": "f21ba921",
   "metadata": {},
   "outputs": [],
   "source": [
    "#11729번: 하노이 탑 이동 순서\n",
    "def hanoi(n,start,stop,final,hanoilist):\n",
    "    tmp=hanoilist\n",
    "    if n==1:\n",
    "        hanoilist.append([start,final])\n",
    "        #print(start,final)\n",
    "    else:\n",
    "        hanoi(n-1,start,final,stop,hanoilist)\n",
    "        hanoilist.append([start,final])\n",
    "        hanoi(n-1,stop,start,final,hanoilist)\n",
    "\n",
    "hanoilist=[]\n",
    "hanoi(int(input()),1,2,3,hanoilist)\n",
    "print(len(hanoilist))\n",
    "for i in hanoilist:\n",
    "    print(' '.join(map(str,i)))"
   ]
  }
 ],
 "metadata": {
  "kernelspec": {
   "display_name": "Python 3 (ipykernel)",
   "language": "python",
   "name": "python3"
  },
  "language_info": {
   "codemirror_mode": {
    "name": "ipython",
    "version": 3
   },
   "file_extension": ".py",
   "mimetype": "text/x-python",
   "name": "python",
   "nbconvert_exporter": "python",
   "pygments_lexer": "ipython3",
   "version": "3.9.7"
  }
 },
 "nbformat": 4,
 "nbformat_minor": 5
}
