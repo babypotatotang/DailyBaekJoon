{
 "cells": [
  {
   "cell_type": "code",
   "execution_count": null,
   "id": "b640baef",
   "metadata": {},
   "outputs": [],
   "source": [
    "#2750번 수 정렬하기\n",
    "\n",
    "N=int(input()); nums=[]\n",
    "for i in range(N):\n",
    "    nums.append(int(input()))\n",
    "\n",
    "nums=sorted(nums)\n",
    "for i in nums:\n",
    "    print(i)"
   ]
  },
  {
   "cell_type": "code",
   "execution_count": null,
   "id": "e2c52273",
   "metadata": {},
   "outputs": [],
   "source": [
    "#2751번: 수 정렬하기 2\n",
    "import sys\n",
    "n = int(sys.stdin.readline()); tmp=[]\n",
    "\n",
    "for i in range(n):\n",
    "    a=int(sys.stdin.readline())\n",
    "    tmp.append(a)\n",
    "    \n",
    "data=sorted(set(tmp))\n",
    "\n",
    "for i in data:\n",
    "    print(i)"
   ]
  },
  {
   "cell_type": "code",
   "execution_count": null,
   "id": "f498f858",
   "metadata": {},
   "outputs": [],
   "source": [
    "#10989번: 수 정렬하기 3\n",
    "import sys \n",
    "\n",
    "N=int(sys.stdin.readline()); \n",
    "count=[0]*10001\n",
    "\n",
    "for _ in range(N): \n",
    "    i=int(sys.stdin.readline())\n",
    "    count[i]+=1\n",
    "\n",
    "for i in range(1,10001):\n",
    "    if count[i]!=0:\n",
    "        for j in range(count[i]):\n",
    "            sys.stdout.write(str(i)+\"\\n\")"
   ]
  },
  {
   "cell_type": "code",
   "execution_count": null,
   "id": "13b908e3",
   "metadata": {},
   "outputs": [],
   "source": [
    "#2108번: 통계학\n",
    "import sys\n",
    "N=int(sys.stdin.readline()); nums=[int(sys.stdin.readline()) for _ in range(N)]\n",
    "\n",
    "print(round(sum(nums)/N))#평균\n",
    "print(sorted(nums)[int(N/2)]) #중앙값\n",
    "\n",
    "numdic={}; cnt=[0]*(50001)\n",
    "\n",
    "for i in nums:\n",
    "    cnt[i]+=1\n",
    "    numdic[i]=cnt[i]\n",
    "\n",
    "tmp=[i[0] for i in numdic.items() if i[1]==max(numdic.values())]\n",
    "\n",
    "print(sorted(tmp)[1] if len(tmp)>1 else tmp[0])\n",
    "print(sorted(nums)[N-1]-sorted(nums)[0])"
   ]
  }
 ],
 "metadata": {
  "kernelspec": {
   "display_name": "Python 3 (ipykernel)",
   "language": "python",
   "name": "python3"
  },
  "language_info": {
   "codemirror_mode": {
    "name": "ipython",
    "version": 3
   },
   "file_extension": ".py",
   "mimetype": "text/x-python",
   "name": "python",
   "nbconvert_exporter": "python",
   "pygments_lexer": "ipython3",
   "version": "3.9.7"
  }
 },
 "nbformat": 4,
 "nbformat_minor": 5
}
