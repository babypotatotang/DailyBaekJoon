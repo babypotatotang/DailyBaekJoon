{
 "cells": [
  {
   "cell_type": "code",
   "execution_count": 2,
   "id": "266d7f22",
   "metadata": {},
   "outputs": [
    {
     "name": "stdout",
     "output_type": "stream",
     "text": [
      "1 5\n",
      "<\n"
     ]
    }
   ],
   "source": [
    "#1330\n",
    "\n",
    "a,b=map(int,input().split())\n",
    "\n",
    "if a>b:\n",
    "    print(\">\")\n",
    "elif a<b:\n",
    "    print(\"<\")\n",
    "else:\n",
    "    print(\"==\")"
   ]
  },
  {
   "cell_type": "code",
   "execution_count": 8,
   "id": "78b4a492",
   "metadata": {},
   "outputs": [
    {
     "name": "stdout",
     "output_type": "stream",
     "text": [
      "100\n",
      "A\n"
     ]
    }
   ],
   "source": [
    "#9498\n",
    "\n",
    "#시험 점수를 입력받아 90 ~ 100점은 A, 80 ~ 89점은 B, 70 ~ 79점은 C, 60 ~ 69점은 D, 나머지 점수는 F를 출력하는 프로그램을 작성하시오.\n",
    "\n",
    "score=int(input())\n",
    "if score>=90: print(\"A\")\n",
    "elif score>=80: print(\"B\")\n",
    "elif score>=70: print(\"C\")\n",
    "elif score>=60: print(\"D\")\n",
    "else: print(\"F\")"
   ]
  },
  {
   "cell_type": "code",
   "execution_count": 10,
   "id": "6a8c7c85",
   "metadata": {},
   "outputs": [
    {
     "name": "stdout",
     "output_type": "stream",
     "text": [
      "1999\n",
      "0\n"
     ]
    }
   ],
   "source": [
    "#2753\n",
    "#윤년은 연도가 4의 배수이면서, 100의 배수가 아닐 때 또는 400의 배수일 때이다.\n",
    "year=int(input())\n",
    "\n",
    "if year%4==0 and year%100!=0 or year%400==0: print(1)\n",
    "else: print(0)"
   ]
  },
  {
   "cell_type": "code",
   "execution_count": 13,
   "id": "27325d71",
   "metadata": {},
   "outputs": [
    {
     "name": "stdout",
     "output_type": "stream",
     "text": [
      "9\n",
      "-13\n",
      "4\n"
     ]
    }
   ],
   "source": [
    "#14681\n",
    "\n",
    "x=int(input()); y=int(input())\n",
    "\n",
    "if x>0 and y>0: print(1)\n",
    "elif x<0 and y>0: print(2)\n",
    "elif x>0 and y<0: print(4)\n",
    "elif x<0 and y<0: print(3)"
   ]
  },
  {
   "cell_type": "code",
   "execution_count": 34,
   "id": "90136588",
   "metadata": {},
   "outputs": [
    {
     "name": "stdout",
     "output_type": "stream",
     "text": [
      "0 30\n",
      "-1 45\n"
     ]
    }
   ],
   "source": [
    "#2884\n",
    "Hour,Min=map(int,input().split())\n",
    "\n",
    "if Min>=45:\n",
    "    Min=Min-45\n",
    "else:\n",
    "    Hour=Hour-1\n",
    "    Min=(Min+60)-45\n",
    "    \n",
    "if Hour<\n",
    "print(Hour,Min)"
   ]
  }
 ],
 "metadata": {
  "kernelspec": {
   "display_name": "Python 3 (ipykernel)",
   "language": "python",
   "name": "python3"
  },
  "language_info": {
   "codemirror_mode": {
    "name": "ipython",
    "version": 3
   },
   "file_extension": ".py",
   "mimetype": "text/x-python",
   "name": "python",
   "nbconvert_exporter": "python",
   "pygments_lexer": "ipython3",
   "version": "3.9.7"
  }
 },
 "nbformat": 4,
 "nbformat_minor": 5
}
