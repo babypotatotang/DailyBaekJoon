{
 "cells": [
  {
   "cell_type": "code",
   "execution_count": null,
   "id": "b01f3943",
   "metadata": {},
   "outputs": [],
   "source": [
    "#1992번: 쿼드트리\n",
    "result=[]\n",
    "\n",
    "def Quad(dots,size,x,y):\n",
    "    dots=dots; tmpdots=[]; global result\n",
    "\n",
    "    for i in range(int(size)):\n",
    "        tmpdots.append(dots[x+i][y:y+size])\n",
    "\n",
    "    tt=sum(tmpdots,[])\n",
    "\n",
    "    if size==1:\n",
    "        return result.append(str(tt[0]))\n",
    "    \n",
    "    if tt.count(0)==size**2: return result.append('0')\n",
    "    elif tt.count(1)==size**2: return result.append('1')\n",
    "    else:\n",
    "        result.append(\"(\")\n",
    "        Quad(tmpdots,size//2,0,0)\n",
    "        Quad(tmpdots,size//2,0,size//2)\n",
    "        Quad(tmpdots,size//2,size//2,0)\n",
    "        Quad(tmpdots,size//2,size//2,size//2)\n",
    "        result.append(\")\")\n",
    "\n",
    "size=int(input())\n",
    "dots = [list(map(int,(input()))) for _ in range(size)]\n",
    "\n",
    "Quad(dots,size,0,0)\n",
    "for i in result:\n",
    "    print(i,end=\"\")\n"
   ]
  }
 ],
 "metadata": {
  "kernelspec": {
   "display_name": "pykernel",
   "language": "python",
   "name": "pykernel3.7.3"
  },
  "language_info": {
   "codemirror_mode": {
    "name": "ipython",
    "version": 3
   },
   "file_extension": ".py",
   "mimetype": "text/x-python",
   "name": "python",
   "nbconvert_exporter": "python",
   "pygments_lexer": "ipython3",
   "version": "3.7.3"
  }
 },
 "nbformat": 4,
 "nbformat_minor": 5
}
