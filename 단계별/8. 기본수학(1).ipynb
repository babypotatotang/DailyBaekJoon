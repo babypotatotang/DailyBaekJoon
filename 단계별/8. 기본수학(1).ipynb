{
 "cells": [
  {
   "cell_type": "code",
   "execution_count": 19,
   "id": "7b31216d",
   "metadata": {},
   "outputs": [
    {
     "name": "stdout",
     "output_type": "stream",
     "text": [
      "1000 80 80\n",
      "-1\n"
     ]
    }
   ],
   "source": [
    "#1712번: 손익분기점\n",
    "a,b,c=map(int,input().split())\n",
    "if c-b<=0: print(-1)\n",
    "else: print(int(a/(c-b)+1))"
   ]
  },
  {
   "cell_type": "code",
   "execution_count": 16,
   "id": "a048298e",
   "metadata": {},
   "outputs": [
    {
     "name": "stdout",
     "output_type": "stream",
     "text": [
      "58\n",
      "7\n",
      "19\n",
      "37\n",
      "61\n",
      "5\n"
     ]
    }
   ],
   "source": [
    "##### 2292번: 벌집\n",
    "num=int(input()); cnt=1; i=1\n",
    "\n",
    "while(cnt<num):\n",
    "    cnt+=6*i\n",
    "    i+=1\n",
    "\n",
    "print(i)"
   ]
  },
  {
   "cell_type": "code",
   "execution_count": 43,
   "id": "1e74786a",
   "metadata": {},
   "outputs": [
    {
     "name": "stdout",
     "output_type": "stream",
     "text": [
      "12\n",
      "4/2\n",
      "11 5\n"
     ]
    }
   ],
   "source": [
    "# 1193번: 분수찾기\n",
    "answer=int(input()); num=1;i=1;\n",
    "\n",
    "while(1):\n",
    "    if num>answer: \n",
    "        i-=1; num-=i\n",
    "        break\n",
    "    if num==answer: \n",
    "        break\n",
    "        \n",
    "    num+=i; i+=1\n",
    "\n",
    "if answer==1: son=1; mom=1\n",
    "elif i%2==0:\n",
    "    son=1+ (answer-num); mom=i-(answer-num)\n",
    "elif i%2==1:\n",
    "    son=i-(answer-num); mom=1+(answer-num)\n",
    "\n",
    "    \n",
    "print(str(son)+'/'+str(mom))"
   ]
  },
  {
   "cell_type": "code",
   "execution_count": 26,
   "id": "c0059837",
   "metadata": {},
   "outputs": [
    {
     "name": "stdout",
     "output_type": "stream",
     "text": [
      "7\n",
      "4\n"
     ]
    }
   ],
   "source": [
    "print(answer)\n",
    "print(num)"
   ]
  },
  {
   "cell_type": "code",
   "execution_count": 53,
   "id": "a4dc6e07",
   "metadata": {},
   "outputs": [
    {
     "name": "stdout",
     "output_type": "stream",
     "text": [
      "11\n"
     ]
    }
   ],
   "source": [
    "# 1193번: 분수찾기\n",
    "answer=8; num=1;i=0;\n",
    "\n",
    "while(1):\n",
    "    if num>=answer:\n",
    "        num=num-i; i=i-1\n",
    "        break\n",
    "    i+=1\n",
    "    \n",
    "print(num)\n",
    "print(i)  \n",
    "\n",
    "if (i-1)%2==0:\n",
    "    son=(1)+(answer-num); mom=(i-1)+(answer-num)\n",
    "    \n",
    "print(str(son)+'/'+str(mom))"
   ]
  }
 ],
 "metadata": {
  "kernelspec": {
   "display_name": "pykernel",
   "language": "python",
   "name": "pykernel3.7.3"
  },
  "language_info": {
   "codemirror_mode": {
    "name": "ipython",
    "version": 3
   },
   "file_extension": ".py",
   "mimetype": "text/x-python",
   "name": "python",
   "nbconvert_exporter": "python",
   "pygments_lexer": "ipython3",
   "version": "3.7.3"
  }
 },
 "nbformat": 4,
 "nbformat_minor": 5
}
