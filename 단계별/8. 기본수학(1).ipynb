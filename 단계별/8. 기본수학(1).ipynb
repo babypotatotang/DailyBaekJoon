{
 "cells": [
  {
   "cell_type": "code",
   "execution_count": 19,
   "id": "7b31216d",
   "metadata": {},
   "outputs": [
    {
     "name": "stdout",
     "output_type": "stream",
     "text": [
      "1000 80 80\n",
      "-1\n"
     ]
    }
   ],
   "source": [
    "#1712번: 손익분기점\n",
    "a,b,c=map(int,input().split())\n",
    "if c-b<=0: print(-1)\n",
    "else: print(int(a/(c-b)+1))"
   ]
  },
  {
   "cell_type": "code",
   "execution_count": 16,
   "id": "a048298e",
   "metadata": {},
   "outputs": [
    {
     "name": "stdout",
     "output_type": "stream",
     "text": [
      "58\n",
      "7\n",
      "19\n",
      "37\n",
      "61\n",
      "5\n"
     ]
    }
   ],
   "source": [
    "##### 2292번: 벌집\n",
    "num=int(input()); cnt=1; i=1\n",
    "\n",
    "while(cnt<num):\n",
    "    cnt+=6*i\n",
    "    i+=1\n",
    "\n",
    "print(i)"
   ]
  },
  {
   "cell_type": "code",
   "execution_count": 43,
   "id": "1e74786a",
   "metadata": {},
   "outputs": [
    {
     "name": "stdout",
     "output_type": "stream",
     "text": [
      "12\n",
      "4/2\n",
      "11 5\n"
     ]
    }
   ],
   "source": [
    "# 1193번: 분수찾기\n",
    "answer=int(input()); num=1;i=1;\n",
    "\n",
    "while(1):\n",
    "    if num>answer: \n",
    "        i-=1; num-=i\n",
    "        break\n",
    "    if num==answer: \n",
    "        break\n",
    "        \n",
    "    num+=i; i+=1\n",
    "\n",
    "if answer==1: son=1; mom=1\n",
    "elif i%2==0:\n",
    "    son=1+ (answer-num); mom=i-(answer-num)\n",
    "elif i%2==1:\n",
    "    son=i-(answer-num); mom=1+(answer-num)\n",
    "\n",
    "    \n",
    "print(str(son)+'/'+str(mom))"
   ]
  },
  {
   "cell_type": "code",
   "execution_count": 41,
   "id": "2b6927cf",
   "metadata": {},
   "outputs": [
    {
     "name": "stdout",
     "output_type": "stream",
     "text": [
      "5 1 6\n",
      "2\n"
     ]
    }
   ],
   "source": [
    "#2869번 달팽이는 올라가고 싶다. \n",
    "a,b,v=map(int,input().split()); print(int((v-b)/(a-b)+1) if (v-b)%(a-b)!=0 else int((v-b)/(a-b)))"
   ]
  },
  {
   "cell_type": "code",
   "execution_count": 72,
   "id": "7428043d",
   "metadata": {},
   "outputs": [
    {
     "name": "stdout",
     "output_type": "stream",
     "text": [
      "4\n",
      "6 12 7\n",
      "102\n",
      "6 12 12\n",
      "602\n",
      "6 12 72\n",
      "612\n",
      "6 12 66\n",
      "611\n"
     ]
    }
   ],
   "source": [
    "#10250번: ACM 호텔 \n",
    "t=int(input());   \n",
    "for _ in range(t):\n",
    "    h,w,n=map(int, input().split()); n-=1\n",
    "    print(int(n%h+1)*100+int(n/h+1))"
   ]
  },
  {
   "cell_type": "code",
   "execution_count": 175,
   "id": "2b365f6b",
   "metadata": {},
   "outputs": [
    {
     "name": "stdout",
     "output_type": "stream",
     "text": [
      "1\n",
      "3\n",
      "4\n",
      "35\n"
     ]
    }
   ],
   "source": [
    "#2775번: 부녀회장이 되고싶어 \n",
    "\n",
    "t=int(input())\n",
    "\n",
    "for _ in range(t):\n",
    "    k=int(input()); n=int(input())\n",
    "    p=[i for i in range(1,n+1)]\n",
    "    for _ in range(k):\n",
    "        for j in range(1,n):\n",
    "            p[j]+=p[j-1]\n",
    "            \n",
    "    print(p[-1])"
   ]
  }
 ],
 "metadata": {
  "kernelspec": {
   "display_name": "pykernel",
   "language": "python",
   "name": "pykernel3.7.3"
  },
  "language_info": {
   "codemirror_mode": {
    "name": "ipython",
    "version": 3
   },
   "file_extension": ".py",
   "mimetype": "text/x-python",
   "name": "python",
   "nbconvert_exporter": "python",
   "pygments_lexer": "ipython3",
   "version": "3.7.3"
  }
 },
 "nbformat": 4,
 "nbformat_minor": 5
}
