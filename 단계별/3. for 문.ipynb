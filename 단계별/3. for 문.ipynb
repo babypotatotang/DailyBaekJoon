{
 "cells": [
  {
   "cell_type": "code",
   "execution_count": 2,
   "id": "6fbfdc05",
   "metadata": {},
   "outputs": [
    {
     "name": "stdout",
     "output_type": "stream",
     "text": [
      "2\n",
      "2 * 1 = 2\n",
      "2 * 2 = 4\n",
      "2 * 3 = 6\n",
      "2 * 4 = 8\n",
      "2 * 5 = 10\n",
      "2 * 6 = 12\n",
      "2 * 7 = 14\n",
      "2 * 8 = 16\n",
      "2 * 9 = 18\n"
     ]
    }
   ],
   "source": [
    "#2739\n",
    "SNum=input()\n",
    "INum=int(SNum)\n",
    "\n",
    "for i in range(1,10):\n",
    "    print(SNum+\" * \"+str(i)+\" = \"+str(INum*i))"
   ]
  },
  {
   "cell_type": "code",
   "execution_count": 4,
   "id": "6bf21ccf",
   "metadata": {},
   "outputs": [
    {
     "name": "stdout",
     "output_type": "stream",
     "text": [
      "5\n",
      "1 2 \n",
      "3\n",
      "3 4\n",
      "7\n",
      "5 6\n",
      "11\n",
      "7 8\n",
      "15\n",
      "9 10\n",
      "19\n"
     ]
    }
   ],
   "source": [
    "#10950\n",
    "\n",
    "ISize=int(input())\n",
    "\n",
    "for i in range(ISize):\n",
    "    LNumA,LNumB=map(int,input().split())\n",
    "    print(LNumA+LNumB)"
   ]
  },
  {
   "cell_type": "code",
   "execution_count": 6,
   "id": "4d6c6870",
   "metadata": {},
   "outputs": [
    {
     "name": "stdout",
     "output_type": "stream",
     "text": [
      "10\n",
      "55\n"
     ]
    }
   ],
   "source": [
    "#8393\n",
    "\n",
    "INum=int(input())\n",
    "ITotal=0\n",
    "\n",
    "for i in range(1,INum+1):\n",
    "    ITotal+=i\n",
    "    \n",
    "print(ITotal)"
   ]
  },
  {
   "cell_type": "code",
   "execution_count": 33,
   "id": "58b44f91",
   "metadata": {},
   "outputs": [
    {
     "data": {
      "text/plain": [
       "sys.version_info(major=3, minor=9, micro=7, releaselevel='final', serial=0)"
      ]
     },
     "execution_count": 33,
     "metadata": {},
     "output_type": "execute_result"
    }
   ],
   "source": [
    "import sys\n",
    "\n",
    "sys.version_info"
   ]
  },
  {
   "cell_type": "code",
   "execution_count": 35,
   "id": "b3d948a6",
   "metadata": {},
   "outputs": [],
   "source": [
    "#15552\n",
    "import sys\n",
    "\n",
    "ISize=int(input())\n",
    "\n",
    "for i in range(ISize):\n",
    "    INumA,INumB=map(int,sys.stdin.readline().split())\n",
    "    print(INumA+INumB)"
   ]
  },
  {
   "cell_type": "code",
   "execution_count": null,
   "id": "7f68f1b9",
   "metadata": {},
   "outputs": [],
   "source": [
    "#383843\n",
    "\n",
    "INum=int(input())\n",
    "\n",
    "for i in range(1,INum+1):\n",
    "    print(i)"
   ]
  },
  {
   "cell_type": "code",
   "execution_count": 42,
   "id": "aa5b2736",
   "metadata": {},
   "outputs": [
    {
     "name": "stdout",
     "output_type": "stream",
     "text": [
      "5\n",
      "5\n",
      "4\n",
      "3\n",
      "2\n",
      "1\n"
     ]
    }
   ],
   "source": [
    "#2742\n",
    "\n",
    "INum=int(input())\n",
    "\n",
    "for i in range(INum,0,-1):\n",
    "    print(i)"
   ]
  },
  {
   "cell_type": "code",
   "execution_count": 46,
   "id": "8215d7aa",
   "metadata": {},
   "outputs": [
    {
     "name": "stdout",
     "output_type": "stream",
     "text": [
      "2\n",
      "1 2\n",
      "Case #1: 3\n",
      "9 8\n",
      "Case #2: 17\n"
     ]
    }
   ],
   "source": [
    "#11021\n",
    "\n",
    "INum=int(input())\n",
    "\n",
    "for i in range(INum):\n",
    "    INumA,INumB=map(int,input().split())\n",
    "    print(\"Case #\"+str(i+1)+\": \"+str(INumA+INumB))"
   ]
  },
  {
   "cell_type": "code",
   "execution_count": 48,
   "id": "17eb8f87",
   "metadata": {},
   "outputs": [
    {
     "name": "stdout",
     "output_type": "stream",
     "text": [
      "2 \n",
      "1 2\n",
      "Case #1: 1 + 2 = 3\n",
      "3 4\n",
      "Case #2: 3 + 4 = 7\n"
     ]
    }
   ],
   "source": [
    "#11022\n",
    "\n",
    "INum=int(input())\n",
    "\n",
    "for i in range(INum):\n",
    "    INumA,INumB=map(int,input().split())\n",
    "    print(\"Case #\"+str(i+1)+\": \"+str(INumA)+\" + \"+str(INumB)+\" = \"+str(INumA+INumB))"
   ]
  }
 ],
 "metadata": {
  "kernelspec": {
   "display_name": "Python 3 (ipykernel)",
   "language": "python",
   "name": "python3"
  },
  "language_info": {
   "codemirror_mode": {
    "name": "ipython",
    "version": 3
   },
   "file_extension": ".py",
   "mimetype": "text/x-python",
   "name": "python",
   "nbconvert_exporter": "python",
   "pygments_lexer": "ipython3",
   "version": "3.9.7"
  }
 },
 "nbformat": 4,
 "nbformat_minor": 5
}
