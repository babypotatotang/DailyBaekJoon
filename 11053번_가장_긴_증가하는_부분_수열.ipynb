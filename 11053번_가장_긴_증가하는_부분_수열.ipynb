{
  "nbformat": 4,
  "nbformat_minor": 0,
  "metadata": {
    "colab": {
      "name": "11053번: 가장 긴 증가하는 부분 수열",
      "private_outputs": true,
      "provenance": [],
      "authorship_tag": "ABX9TyOq76OL9cIlHiIGqakNDvLI",
      "include_colab_link": true
    },
    "kernelspec": {
      "name": "python3",
      "display_name": "Python 3"
    },
    "language_info": {
      "name": "python"
    }
  },
  "cells": [
    {
      "cell_type": "markdown",
      "metadata": {
        "id": "view-in-github",
        "colab_type": "text"
      },
      "source": [
        "<a href=\"https://colab.research.google.com/github/babypotatotang/BaekJoon/blob/main/11053%EB%B2%88_%EA%B0%80%EC%9E%A5_%EA%B8%B4_%EC%A6%9D%EA%B0%80%ED%95%98%EB%8A%94_%EB%B6%80%EB%B6%84_%EC%88%98%EC%97%B4.ipynb\" target=\"_parent\"><img src=\"https://colab.research.google.com/assets/colab-badge.svg\" alt=\"Open In Colab\"/></a>"
      ]
    },
    {
      "cell_type": "code",
      "execution_count": null,
      "metadata": {
        "id": "CHVJig5eGxo6"
      },
      "outputs": [],
      "source": [
        "#11053번: 가장 긴 증가하는 부분 수열\n",
        "N = int(input())\n",
        "\n",
        "A = list(map(int, input().split()))\n",
        "\n",
        "dp = [1] * N\n",
        "\n",
        "for i in range(N):\n",
        "    for j in range(i):\n",
        "        if A[j] < A[i]:\n",
        "            dp[i] = max(dp[i],dp[j]+1)\n",
        "\n",
        "print(max(dp))"
      ]
    }
  ]
}