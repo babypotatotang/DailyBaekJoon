{
 "cells": [
  {
   "cell_type": "code",
   "execution_count": 34,
   "metadata": {},
   "outputs": [
    {
     "name": "stdout",
     "output_type": "stream",
     "text": [
      "625\n"
     ]
    }
   ],
   "source": [
    "N = int(input())\n",
    "ScoreAvg = []\n",
    "for _ in range(N):\n",
    "    ScoreAvg.append(float(input()))\n",
    "num = 1\n",
    "\n",
    "while(1):\n",
    "    check = 0\n",
    "    isint = True\n",
    "\n",
    "    for SA in ScoreAvg:\n",
    "        ScoreSum = SA * num\n",
    "\n",
    "        ScoreSum_int = int(ScoreSum)\n",
    "        ScoreSum_float = ScoreSum - ScoreSum_int\n",
    "\n",
    "        if ScoreSum.is_integer(): # 정수라면\n",
    "            check +=1\n",
    "        elif f'{(ScoreSum_int+1) / num:.4f}'[:5] == str(SA):\n",
    "            check +=1 \n",
    "        else: # 정수가 아니라면 \n",
    "            break\n",
    "\n",
    "    if check == N:\n",
    "        break\n",
    "\n",
    "    num +=1\n",
    "\n",
    "print(num)\n",
    "        "
   ]
  },
  {
   "cell_type": "code",
   "execution_count": 28,
   "metadata": {},
   "outputs": [
    {
     "name": "stdout",
     "output_type": "stream",
     "text": [
      "53.0\n",
      "53\n",
      "31.906\n",
      "31\n"
     ]
    }
   ],
   "source": [
    "num = 106\n",
    "for SA in ScoreAvg:\n",
    "    ScoreSum = SA * num\n",
    "\n",
    "    ScoreSum_int = int(ScoreSum)\n",
    "    ScoreSum_float = ScoreSum - ScoreSum_int\n",
    "\n",
    "    print(ScoreSum)\n",
    "    print(ScoreSum_int)\n",
    "\n",
    "    # if ScoreSum.is_integer() or f'{(ScoreSum_int+1) / num:.3f}' == str(SA) : # 정수라면\n",
    "    #     check +=1\n",
    "\n",
    "    #     print(f'{(ScoreSum_int+1) / num:.3f}')\n",
    "    #     print(str(SA))\n",
    "    #     check +=1 \n"
   ]
  },
  {
   "cell_type": "code",
   "execution_count": 32,
   "metadata": {},
   "outputs": [
    {
     "data": {
      "text/plain": [
       "'0.301'"
      ]
     },
     "execution_count": 32,
     "metadata": {},
     "output_type": "execute_result"
    }
   ],
   "source": [
    "f'{((ScoreSum_int+1)/106):.4f}'[:5]"
   ]
  }
 ],
 "metadata": {
  "kernelspec": {
   "display_name": "Python 3.9.5 64-bit",
   "language": "python",
   "name": "python3"
  },
  "language_info": {
   "codemirror_mode": {
    "name": "ipython",
    "version": 3
   },
   "file_extension": ".py",
   "mimetype": "text/x-python",
   "name": "python",
   "nbconvert_exporter": "python",
   "pygments_lexer": "ipython3",
   "version": "3.9.5"
  },
  "orig_nbformat": 4,
  "vscode": {
   "interpreter": {
    "hash": "15d62748266f8ea3611532b4892b57da5cd2aa28e021beffc1d944f2abb52c0e"
   }
  }
 },
 "nbformat": 4,
 "nbformat_minor": 2
}
