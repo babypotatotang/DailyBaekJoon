{
  "nbformat": 4,
  "nbformat_minor": 0,
  "metadata": {
    "colab": {
      "name": "1780번: 종이의 개수",
      "private_outputs": true,
      "provenance": [],
      "authorship_tag": "ABX9TyPzO0IT1XpCxaAq4nkvw5jB",
      "include_colab_link": true
    },
    "kernelspec": {
      "name": "python3",
      "display_name": "Python 3"
    },
    "language_info": {
      "name": "python"
    }
  },
  "cells": [
    {
      "cell_type": "markdown",
      "metadata": {
        "id": "view-in-github",
        "colab_type": "text"
      },
      "source": [
        "<a href=\"https://colab.research.google.com/github/babypotatotang/BaekJoonMaster/blob/main/1780%EB%B2%88_%EC%A2%85%EC%9D%B4%EC%9D%98_%EA%B0%9C%EC%88%98.ipynb\" target=\"_parent\"><img src=\"https://colab.research.google.com/assets/colab-badge.svg\" alt=\"Open In Colab\"/></a>"
      ]
    },
    {
      "cell_type": "code",
      "execution_count": null,
      "metadata": {
        "id": "HiV2szJtOEf6"
      },
      "outputs": [],
      "source": [
        "#1780번: 종이의 개수 \n",
        "result={-1:0,0:0,1:0}\n",
        "\n",
        "def Quad(size,x,y):\n",
        "    global result\n",
        "\n",
        "    chk=dots[x][y]\n",
        "    for i in range(x,x+size):\n",
        "        for j in range(y,y+size):\n",
        "         if chk!=dots[i][j]:\n",
        "            chk = -2\n",
        "            break\n",
        "\n",
        "    if chk==0: \n",
        "        result[0]+=1\n",
        "        return 0\n",
        "    elif chk==1: \n",
        "        result[1]+=1\n",
        "        return 0\n",
        "    elif chk==-1: \n",
        "        result[-1]+=1\n",
        "        return 0\n",
        "    else:\n",
        "        size=size//3\n",
        "        Quad(size,x,y)\n",
        "        Quad(size,x,y+size)\n",
        "        Quad(size,x,y+size*2)\n",
        "\n",
        "        Quad(size,x+size,y)\n",
        "        Quad(size,x+size,y+size)\n",
        "        Quad(size,x+size,y+size*2)\n",
        "\n",
        "        Quad(size,x+size*2,y)\n",
        "        Quad(size,x+size*2,y+size)\n",
        "        Quad(size,x+size*2,y+size*2)\n",
        "\n",
        "size=int(input())\n",
        "dots = [list(map(int,(input().split()))) for _ in range(size)]\n",
        "\n",
        "Quad(size,0,0)\n",
        "\n",
        "print(result[-1])\n",
        "print(result[0])\n",
        "print(result[1])"
      ]
    }
  ]
}