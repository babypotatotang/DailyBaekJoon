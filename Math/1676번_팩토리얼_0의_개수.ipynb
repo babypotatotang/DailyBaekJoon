{
  "nbformat": 4,
  "nbformat_minor": 0,
  "metadata": {
    "colab": {
      "name": "1676번: 팩토리얼 0의 개수",
      "private_outputs": true,
      "provenance": [],
      "authorship_tag": "ABX9TyOLPPjhTwCR/jrsPuWcHNfl",
      "include_colab_link": true
    },
    "kernelspec": {
      "name": "python3",
      "display_name": "Python 3"
    },
    "language_info": {
      "name": "python"
    }
  },
  "cells": [
    {
      "cell_type": "markdown",
      "metadata": {
        "id": "view-in-github",
        "colab_type": "text"
      },
      "source": [
        "<a href=\"https://colab.research.google.com/github/babypotatotang/BaekJoon/blob/main/%EB%82%9C%EC%9D%B4%EB%8F%84%20%EC%A4%91/1676%EB%B2%88_%ED%8C%A9%ED%86%A0%EB%A6%AC%EC%96%BC_0%EC%9D%98_%EA%B0%9C%EC%88%98.ipynb\" target=\"_parent\"><img src=\"https://colab.research.google.com/assets/colab-badge.svg\" alt=\"Open In Colab\"/></a>"
      ]
    },
    {
      "cell_type": "code",
      "execution_count": null,
      "metadata": {
        "id": "CHVJig5eGxo6"
      },
      "outputs": [],
      "source": [
        "# 1676번: 팩토리얼 0의 개수\n",
        "n=int(input())\n",
        "cnt=0\n",
        "\n",
        "while(n>=5):\n",
        "    n=n//5\n",
        "    cnt+=n\n",
        "print(cnt)"
      ]
    }
  ]
}