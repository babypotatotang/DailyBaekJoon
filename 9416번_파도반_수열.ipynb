{
  "nbformat": 4,
  "nbformat_minor": 0,
  "metadata": {
    "colab": {
      "name": "9416번: 파도반 수열",
      "private_outputs": true,
      "provenance": [],
      "authorship_tag": "ABX9TyN7Gs1AHi+MDGK8livAZ/O5",
      "include_colab_link": true
    },
    "kernelspec": {
      "name": "python3",
      "display_name": "Python 3"
    },
    "language_info": {
      "name": "python"
    }
  },
  "cells": [
    {
      "cell_type": "markdown",
      "metadata": {
        "id": "view-in-github",
        "colab_type": "text"
      },
      "source": [
        "<a href=\"https://colab.research.google.com/github/babypotatotang/BaekJoon/blob/main/9416%EB%B2%88_%ED%8C%8C%EB%8F%84%EB%B0%98_%EC%88%98%EC%97%B4.ipynb\" target=\"_parent\"><img src=\"https://colab.research.google.com/assets/colab-badge.svg\" alt=\"Open In Colab\"/></a>"
      ]
    },
    {
      "cell_type": "code",
      "execution_count": null,
      "metadata": {
        "id": "CHVJig5eGxo6"
      },
      "outputs": [],
      "source": [
        "#9416번: 파도반 수열\n",
        "\n",
        "def cal(num):\n",
        "    if num<=2: return 1\n",
        "\n",
        "    for i in range(3,num+1):\n",
        "        array.append(array[i-3]+array[i-2])\n",
        "\n",
        "    return array[num-1]\n",
        "\n",
        "N=int(input())\n",
        "for _ in range(N):\n",
        "    array=[]\n",
        "    array=[1,1,1]\n",
        "    num=int(input())\n",
        "    print(cal(num))"
      ]
    }
  ]
}