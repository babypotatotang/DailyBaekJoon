{
  "nbformat": 4,
  "nbformat_minor": 0,
  "metadata": {
    "colab": {
      "name": "24416번: 알고리즘 수업(피보나치 수 1)",
      "private_outputs": true,
      "provenance": [],
      "authorship_tag": "ABX9TyMBoSOWmCeeusIvjpnL9JgK",
      "include_colab_link": true
    },
    "kernelspec": {
      "name": "python3",
      "display_name": "Python 3"
    },
    "language_info": {
      "name": "python"
    }
  },
  "cells": [
    {
      "cell_type": "markdown",
      "metadata": {
        "id": "view-in-github",
        "colab_type": "text"
      },
      "source": [
        "<a href=\"https://colab.research.google.com/github/babypotatotang/DailyBaekJoon/blob/main/%EB%82%9C%EC%9D%B4%EB%8F%84%20%ED%95%98/%2024416%EB%B2%88_%EC%95%8C%EA%B3%A0%EB%A6%AC%EC%A6%98_%EC%88%98%EC%97%85(%ED%94%BC%EB%B3%B4%EB%82%98%EC%B9%98_%EC%88%98_1).ipynb\" target=\"_parent\"><img src=\"https://colab.research.google.com/assets/colab-badge.svg\" alt=\"Open In Colab\"/></a>"
      ]
    },
    {
      "cell_type": "code",
      "execution_count": null,
      "metadata": {
        "id": "CHVJig5eGxo6"
      },
      "outputs": [],
      "source": [
        "# 24416번: 알고리즘 수업(피보나치 수 1)\n",
        "def fibo1(num):\n",
        "    global result1\n",
        "    if num==1 or num==2: result1+=1; return 1\n",
        "    else: return fibo1(num-1)+fibo1(num-2)\n",
        "\n",
        "def fibo2(num):\n",
        "    global result2\n",
        "    dp=[0]*41\n",
        "    dp[1]=1; dp[2]=1\n",
        "    for i in range(3,num+1):\n",
        "        result2+=1\n",
        "        dp[i]=dp[i-1]+dp[i-2]\n",
        "    \n",
        "n=int(input())\n",
        "result1=0; result2=0\n",
        "fibo1(n)\n",
        "fibo2(n)\n",
        "\n",
        "print(result1, result2)"
      ]
    }
  ]
}