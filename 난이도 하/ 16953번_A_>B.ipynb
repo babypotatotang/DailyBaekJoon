{
  "nbformat": 4,
  "nbformat_minor": 0,
  "metadata": {
    "colab": {
      "name": "16953번: A->B",
      "private_outputs": true,
      "provenance": [],
      "authorship_tag": "ABX9TyPPeHB+7vsuTlZ+cPTU/XlL",
      "include_colab_link": true
    },
    "kernelspec": {
      "name": "python3",
      "display_name": "Python 3"
    },
    "language_info": {
      "name": "python"
    }
  },
  "cells": [
    {
      "cell_type": "markdown",
      "metadata": {
        "id": "view-in-github",
        "colab_type": "text"
      },
      "source": [
        "<a href=\"https://colab.research.google.com/github/babypotatotang/DailyBaekJoon/blob/main/%EB%82%9C%EC%9D%B4%EB%8F%84%20%ED%95%98/%2016953%EB%B2%88_A_%3EB.ipynb\" target=\"_parent\"><img src=\"https://colab.research.google.com/assets/colab-badge.svg\" alt=\"Open In Colab\"/></a>"
      ]
    },
    {
      "cell_type": "code",
      "execution_count": null,
      "metadata": {
        "id": "CHVJig5eGxo6"
      },
      "outputs": [],
      "source": [
        "#16953번: A->B\n",
        "from collections import deque\n",
        "\n",
        "def bfs(root,depth):\n",
        "    q=deque()\n",
        "    q.append([root,depth])\n",
        "\n",
        "    while q:\n",
        "        v,pdepth=q.popleft()\n",
        "        \n",
        "        if v==M:\n",
        "            print(pdepth)\n",
        "            return \n",
        "        e1=2*v; e2=v*10+1\n",
        "        if e1<=M:\n",
        "            q.append([e1,pdepth+1])\n",
        "        if e2<=M:\n",
        "            q.append([e2,pdepth+1])\n",
        "    print(-1)\n",
        "\n",
        "N,M=list(map(int,input().split()))\n",
        "bfs(N,1)"
      ]
    }
  ]
}