{
  "nbformat": 4,
  "nbformat_minor": 0,
  "metadata": {
    "colab": {
      "name": "1009번: 분산처리",
      "private_outputs": true,
      "provenance": [],
      "authorship_tag": "ABX9TyOfAAZZTVheG/PR9+EEX/3f",
      "include_colab_link": true
    },
    "kernelspec": {
      "name": "python3",
      "display_name": "Python 3"
    },
    "language_info": {
      "name": "python"
    }
  },
  "cells": [
    {
      "cell_type": "markdown",
      "metadata": {
        "id": "view-in-github",
        "colab_type": "text"
      },
      "source": [
        "<a href=\"https://colab.research.google.com/github/babypotatotang/DailyBaekJoon/blob/main/%EB%82%9C%EC%9D%B4%EB%8F%84%20%ED%95%98/%201009%EB%B2%88_%EB%B6%84%EC%82%B0%EC%B2%98%EB%A6%AC.ipynb\" target=\"_parent\"><img src=\"https://colab.research.google.com/assets/colab-badge.svg\" alt=\"Open In Colab\"/></a>"
      ]
    },
    {
      "cell_type": "code",
      "execution_count": null,
      "metadata": {
        "id": "CHVJig5eGxo6"
      },
      "outputs": [],
      "source": [
        "#1009번: 분산처리\n",
        "\n",
        "N=int(input())\n",
        "for _ in range(N):\n",
        "    a,b=list(map(int,input().split()))\n",
        "    onea=a%10; \n",
        "    if onea == 0: print(10)\n",
        "    elif onea in [1,5,6]: print(onea)\n",
        "    elif onea in [4,9]:\n",
        "        oneb=b%2\n",
        "        if oneb==0: print((onea*onea)%10)\n",
        "        else: print(onea)\n",
        "    elif onea in [2,3,7,8]:\n",
        "        oneb=b%4\n",
        "        if oneb==0: print((onea**4)%10)\n",
        "        else: print((onea**oneb)%10)"
      ]
    }
  ]
}