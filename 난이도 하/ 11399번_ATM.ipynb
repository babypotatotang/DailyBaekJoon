{
  "nbformat": 4,
  "nbformat_minor": 0,
  "metadata": {
    "colab": {
      "name": "11399번: ATM",
      "private_outputs": true,
      "provenance": [],
      "authorship_tag": "ABX9TyMYF/vXZeKyBx2lsuy9oUqr",
      "include_colab_link": true
    },
    "kernelspec": {
      "name": "python3",
      "display_name": "Python 3"
    },
    "language_info": {
      "name": "python"
    }
  },
  "cells": [
    {
      "cell_type": "markdown",
      "metadata": {
        "id": "view-in-github",
        "colab_type": "text"
      },
      "source": [
        "<a href=\"https://colab.research.google.com/github/babypotatotang/BaekJoon/blob/main/%EB%82%9C%EC%9D%B4%EB%8F%84%20%ED%95%98/%2011399%EB%B2%88_ATM.ipynb\" target=\"_parent\"><img src=\"https://colab.research.google.com/assets/colab-badge.svg\" alt=\"Open In Colab\"/></a>"
      ]
    },
    {
      "cell_type": "code",
      "execution_count": null,
      "metadata": {
        "id": "CHVJig5eGxo6"
      },
      "outputs": [],
      "source": [
        "# 11399번: ATM\n",
        "n=int(input())\n",
        "time=list(map(int,input().split()))\n",
        "time=sorted(time)\n",
        "total=0\n",
        "\n",
        "for i in range(n):\n",
        "    for j in range(i+1):\n",
        "        total+=time[j]\n",
        "\n",
        "print(total)"
      ]
    }
  ]
}