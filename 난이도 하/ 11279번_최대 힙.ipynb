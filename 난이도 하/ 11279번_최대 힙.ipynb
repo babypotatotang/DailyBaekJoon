{
  "nbformat": 4,
  "nbformat_minor": 0,
  "metadata": {
    "colab": {
      "name": "11279번: 최대힙",
      "private_outputs": true,
      "provenance": [],
      "authorship_tag": "ABX9TyMIQBU8pY4S+aJDtCx8QGUM",
      "include_colab_link": true
    },
    "kernelspec": {
      "name": "python3",
      "display_name": "Python 3"
    },
    "language_info": {
      "name": "python"
    }
  },
  "cells": [
    {
      "cell_type": "markdown",
      "metadata": {
        "id": "view-in-github",
        "colab_type": "text"
      },
      "source": [
        "<a href=\"https://colab.research.google.com/github/babypotatotang/BaekJoon/blob/main/%EB%82%9C%EC%9D%B4%EB%8F%84%20%ED%95%98/%2011279%EB%B2%88_%EC%B5%9C%EB%8C%80%20%ED%9E%99.ipynb\" target=\"_parent\"><img src=\"https://colab.research.google.com/assets/colab-badge.svg\" alt=\"Open In Colab\"/></a>"
      ]
    },
    {
      "cell_type": "code",
      "execution_count": null,
      "metadata": {
        "id": "CHVJig5eGxo6"
      },
      "outputs": [],
      "source": [
        "#11279번: 최대힙\n",
        "\n",
        "import heapq\n",
        "import sys\n",
        "\n",
        "input=sys.stdin.readline\n",
        "\n",
        "N=int(input())\n",
        "hq=[]\n",
        "\n",
        "for _ in range(N):\n",
        "    num=int(input())\n",
        "    if num==0:\n",
        "        try:\n",
        "            print(heapq.heappop(hq)*(-1))\n",
        "        except:\n",
        "            print(0)\n",
        "    else:\n",
        "        num=num*(-1)\n",
        "        heapq.heappush(hq,num)"
      ]
    }
  ]
}