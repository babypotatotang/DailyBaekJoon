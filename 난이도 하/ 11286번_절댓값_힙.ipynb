{
  "nbformat": 4,
  "nbformat_minor": 0,
  "metadata": {
    "colab": {
      "name": "11286번: 절댓값 힙",
      "private_outputs": true,
      "provenance": [],
      "authorship_tag": "ABX9TyP71U4iAXoxuViBIvaBvRg/",
      "include_colab_link": true
    },
    "kernelspec": {
      "name": "python3",
      "display_name": "Python 3"
    },
    "language_info": {
      "name": "python"
    }
  },
  "cells": [
    {
      "cell_type": "markdown",
      "metadata": {
        "id": "view-in-github",
        "colab_type": "text"
      },
      "source": [
        "<a href=\"https://colab.research.google.com/github/babypotatotang/DailyBaekJoon/blob/main/%EB%82%9C%EC%9D%B4%EB%8F%84%20%ED%95%98/%2011286%EB%B2%88_%EC%A0%88%EB%8C%93%EA%B0%92_%ED%9E%99.ipynb\" target=\"_parent\"><img src=\"https://colab.research.google.com/assets/colab-badge.svg\" alt=\"Open In Colab\"/></a>"
      ]
    },
    {
      "cell_type": "code",
      "execution_count": null,
      "metadata": {
        "id": "CHVJig5eGxo6"
      },
      "outputs": [],
      "source": [
        "#11286번: 절댓값 힙\n",
        "import sys\n",
        "input=sys.stdin.readline\n",
        "\n",
        "import heapq\n",
        "\n",
        "heap=[]\n",
        "t=int(input())\n",
        "\n",
        "for _ in range(t):\n",
        "    num=int(input())\n",
        "    if num!=0:\n",
        "        heapq.heappush(heap,(abs(num),num))\n",
        "    else:\n",
        "        try: \n",
        "            print(heapq.heappop(heap)[1])\n",
        "        except:\n",
        "            print(0)\n"
      ]
    }
  ]
}