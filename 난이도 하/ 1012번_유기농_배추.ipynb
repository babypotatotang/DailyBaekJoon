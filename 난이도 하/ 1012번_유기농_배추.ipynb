{
  "nbformat": 4,
  "nbformat_minor": 0,
  "metadata": {
    "colab": {
      "name": "1012번: 유기농 배추 ",
      "private_outputs": true,
      "provenance": [],
      "authorship_tag": "ABX9TyNxXWoffI7Uf3bhGsFQWU94",
      "include_colab_link": true
    },
    "kernelspec": {
      "name": "python3",
      "display_name": "Python 3"
    },
    "language_info": {
      "name": "python"
    }
  },
  "cells": [
    {
      "cell_type": "markdown",
      "metadata": {
        "id": "view-in-github",
        "colab_type": "text"
      },
      "source": [
        "<a href=\"https://colab.research.google.com/github/babypotatotang/BaekJoon/blob/main/%EB%82%9C%EC%9D%B4%EB%8F%84%20%ED%95%98/%201012%EB%B2%88_%EC%9C%A0%EA%B8%B0%EB%86%8D_%EB%B0%B0%EC%B6%94.ipynb\" target=\"_parent\"><img src=\"https://colab.research.google.com/assets/colab-badge.svg\" alt=\"Open In Colab\"/></a>"
      ]
    },
    {
      "cell_type": "code",
      "execution_count": null,
      "metadata": {
        "id": "CHVJig5eGxo6"
      },
      "outputs": [],
      "source": [
        "#1012번: 유기농 배추 \n",
        "from collections import deque \n",
        "T=int(input())\n",
        "for _ in range(T):\n",
        "    array=list(map(int,input().split()))\n",
        "    N=array[0]; M=array[1]; K=array[2]\n",
        "    ground=[[0 for _ in range(M)] for _ in range(N)]\n",
        "    visited=[[False for _ in range(M)] for _ in range(N)]\n",
        "\n",
        "    for _ in range(K):\n",
        "        array=list(map(int,input().split()))\n",
        "        ground[array[0]][array[1]]=1\n",
        "\n",
        "    dx = [0,1,0,-1]; dy = [-1,0,1,0]\n",
        "\n",
        "    def bfs(x,y):\n",
        "        global visited \n",
        "        q=deque()\n",
        "        q.append([x,y])\n",
        "\n",
        "        while q:\n",
        "            vx,vy=q.popleft()\n",
        "\n",
        "            for i in range(4):\n",
        "                tmpx=vx+dx[i]; tmpy=vy+dy[i]\n",
        "    \n",
        "                if 0<=tmpx<N and 0<=tmpy<M:\n",
        "                    if ground[tmpx][tmpy]==1:\n",
        "                        ground[tmpx][tmpy]=0\n",
        "                        q.append([tmpx,tmpy])\n",
        "\n",
        "    cnt=0\n",
        "\n",
        "    for i in range(N):\n",
        "        for j in range(M):\n",
        "            if ground[i][j]==1:\n",
        "                bfs(i,j)\n",
        "                cnt+=1\n",
        "\n",
        "    print(cnt)"
      ]
    }
  ]
}