{
  "nbformat": 4,
  "nbformat_minor": 0,
  "metadata": {
    "colab": {
      "name": "11047번: 동전 0 ",
      "private_outputs": true,
      "provenance": [],
      "authorship_tag": "ABX9TyNBzt9AAKVtup+ZZz2ZovFP",
      "include_colab_link": true
    },
    "kernelspec": {
      "name": "python3",
      "display_name": "Python 3"
    },
    "language_info": {
      "name": "python"
    }
  },
  "cells": [
    {
      "cell_type": "markdown",
      "metadata": {
        "id": "view-in-github",
        "colab_type": "text"
      },
      "source": [
        "<a href=\"https://colab.research.google.com/github/babypotatotang/BaekJoon/blob/main/%EB%82%9C%EC%9D%B4%EB%8F%84%20%ED%95%98/%2011047%EB%B2%88_%EB%8F%99%EC%A0%84_0.ipynb\" target=\"_parent\"><img src=\"https://colab.research.google.com/assets/colab-badge.svg\" alt=\"Open In Colab\"/></a>"
      ]
    },
    {
      "cell_type": "code",
      "execution_count": null,
      "metadata": {
        "id": "CHVJig5eGxo6"
      },
      "outputs": [],
      "source": [
        "#11047번: 동전 0 \n",
        "array=list(map(int,input().split()))\n",
        "N=array[0]; K=array[1]\n",
        "Lcoin=[int(input()) for _ in range(N)]\n",
        "\n",
        "Lcoin=reversed(Lcoin)\n",
        "\n",
        "cnt=0\n",
        "\n",
        "for i in Lcoin:\n",
        "    cnt+=(K//i)\n",
        "    K=K-((K//i)*i)\n",
        "\n",
        "print(cnt)"
      ]
    }
  ]
}