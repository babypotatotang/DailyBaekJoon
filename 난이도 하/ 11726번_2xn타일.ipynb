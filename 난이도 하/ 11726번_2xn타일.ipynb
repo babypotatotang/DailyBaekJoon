{
  "nbformat": 4,
  "nbformat_minor": 0,
  "metadata": {
    "colab": {
      "name": "11726번: 2xn타일",
      "private_outputs": true,
      "provenance": [],
      "authorship_tag": "ABX9TyPuHJuUx0Vj2lfOtv17XTpS",
      "include_colab_link": true
    },
    "kernelspec": {
      "name": "python3",
      "display_name": "Python 3"
    },
    "language_info": {
      "name": "python"
    }
  },
  "cells": [
    {
      "cell_type": "markdown",
      "metadata": {
        "id": "view-in-github",
        "colab_type": "text"
      },
      "source": [
        "<a href=\"https://colab.research.google.com/github/babypotatotang/BaekJoon/blob/main/%EB%82%9C%EC%9D%B4%EB%8F%84%20%ED%95%98/%2011726%EB%B2%88_2xn%ED%83%80%EC%9D%BC.ipynb\" target=\"_parent\"><img src=\"https://colab.research.google.com/assets/colab-badge.svg\" alt=\"Open In Colab\"/></a>"
      ]
    },
    {
      "cell_type": "code",
      "execution_count": null,
      "metadata": {
        "id": "CHVJig5eGxo6"
      },
      "outputs": [],
      "source": [
        "#11726번: 2xn타일\n",
        "\n",
        "n=int(input())\n",
        "dp=[0]*1001\n",
        "dp[1]=1; dp[2]=2\n",
        "\n",
        "for i in range(3,n+1):\n",
        "    dp[i]=dp[i-1]+dp[i-2]\n",
        "\n",
        "print(dp[n]%10007)\n",
        "n=int(input())\n",
        "dp=[0]*1001\n",
        "dp[1]=1; dp[2]=2\n",
        "\n",
        "for i in range(3,n+1):\n",
        "    dp[i]=dp[i-1]+dp[i-2]\n",
        "\n",
        "print(dp[n]%10007)"
      ]
    }
  ]
}