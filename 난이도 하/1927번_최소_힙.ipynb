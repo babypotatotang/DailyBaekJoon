{
  "nbformat": 4,
  "nbformat_minor": 0,
  "metadata": {
    "colab": {
      "name": "1927번: 최소 힙.ipynb",
      "private_outputs": true,
      "provenance": [],
      "authorship_tag": "ABX9TyNFZSTpgSU21yUtlvdwsyF6",
      "include_colab_link": true
    },
    "kernelspec": {
      "name": "python3",
      "display_name": "Python 3"
    },
    "language_info": {
      "name": "python"
    }
  },
  "cells": [
    {
      "cell_type": "markdown",
      "metadata": {
        "id": "view-in-github",
        "colab_type": "text"
      },
      "source": [
        "<a href=\"https://colab.research.google.com/github/babypotatotang/BaekJoon/blob/main/%EB%82%9C%EC%9D%B4%EB%8F%84%20%ED%95%98/1927%EB%B2%88_%EC%B5%9C%EC%86%8C_%ED%9E%99.ipynb\" target=\"_parent\"><img src=\"https://colab.research.google.com/assets/colab-badge.svg\" alt=\"Open In Colab\"/></a>"
      ]
    },
    {
      "cell_type": "code",
      "execution_count": null,
      "metadata": {
        "id": "CHVJig5eGxo6"
      },
      "outputs": [],
      "source": [
        "#1927번: 최소 힙\n",
        "\n",
        "import heapq\n",
        "import sys\n",
        "\n",
        "input=sys.stdin.readline\n",
        "\n",
        "N=int(input())\n",
        "hq=[]\n",
        "\n",
        "for _ in range(N):\n",
        "    num=int(input())\n",
        "    if num==0:\n",
        "        try:\n",
        "            print(heapq.heappop(hq))\n",
        "        except:\n",
        "            print(0)\n",
        "    else:\n",
        "        heapq.heappush(hq,num)"
      ]
    }
  ]
}