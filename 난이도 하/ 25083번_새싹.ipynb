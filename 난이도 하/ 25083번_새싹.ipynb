{
  "nbformat": 4,
  "nbformat_minor": 0,
  "metadata": {
    "colab": {
      "name": "25083번: 새싹",
      "private_outputs": true,
      "provenance": [],
      "authorship_tag": "ABX9TyN52GS3Pa6BagltfICrtFiO",
      "include_colab_link": true
    },
    "kernelspec": {
      "name": "python3",
      "display_name": "Python 3"
    },
    "language_info": {
      "name": "python"
    }
  },
  "cells": [
    {
      "cell_type": "markdown",
      "metadata": {
        "id": "view-in-github",
        "colab_type": "text"
      },
      "source": [
        "<a href=\"https://colab.research.google.com/github/babypotatotang/DailyBaekJoon/blob/main/%EB%82%9C%EC%9D%B4%EB%8F%84%20%ED%95%98/%2025083%EB%B2%88_%EC%83%88%EC%8B%B9.ipynb\" target=\"_parent\"><img src=\"https://colab.research.google.com/assets/colab-badge.svg\" alt=\"Open In Colab\"/></a>"
      ]
    },
    {
      "cell_type": "code",
      "execution_count": null,
      "metadata": {
        "id": "CHVJig5eGxo6"
      },
      "outputs": [],
      "source": [
        "#25083번: 새싹\n",
        "print('         ,r\\'\\\"7')\n",
        "print('r`-_   ,\\'  ,/')\n",
        "print(' \\. \\\". L_r\\'')\n",
        "print('   `~\\/')\n",
        "print('      |')\n",
        "print('      |')"
      ]
    }
  ]
}