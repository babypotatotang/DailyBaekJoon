{
  "nbformat": 4,
  "nbformat_minor": 0,
  "metadata": {
    "colab": {
      "name": "2407번: 조합 ",
      "private_outputs": true,
      "provenance": [],
      "authorship_tag": "ABX9TyOEyUaksvIWxzR4B0svmPj9",
      "include_colab_link": true
    },
    "kernelspec": {
      "name": "python3",
      "display_name": "Python 3"
    },
    "language_info": {
      "name": "python"
    }
  },
  "cells": [
    {
      "cell_type": "markdown",
      "metadata": {
        "id": "view-in-github",
        "colab_type": "text"
      },
      "source": [
        "<a href=\"https://colab.research.google.com/github/babypotatotang/DailyBaekJoon/blob/main/%EB%82%9C%EC%9D%B4%EB%8F%84%20%ED%95%98/%202407%EB%B2%88_%EC%A1%B0%ED%95%A9.ipynb\" target=\"_parent\"><img src=\"https://colab.research.google.com/assets/colab-badge.svg\" alt=\"Open In Colab\"/></a>"
      ]
    },
    {
      "cell_type": "code",
      "execution_count": null,
      "metadata": {
        "id": "CHVJig5eGxo6"
      },
      "outputs": [],
      "source": [
        "# 2407번: 조합 \n",
        "n,m=list(map(int,input().split()))\n",
        "dp=[0]*102\n",
        "dp[0]=1; dp[1]=1\n",
        "for i in range(2,n+1):\n",
        "    dp[i]=dp[i-1]*i\n",
        "\n",
        "print(dp[n]//(dp[m]*dp[n-m]))"
      ]
    }
  ]
}