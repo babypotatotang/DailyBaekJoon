{
  "nbformat": 4,
  "nbformat_minor": 0,
  "metadata": {
    "colab": {
      "name": "1931번: 회의실 배정",
      "private_outputs": true,
      "provenance": [],
      "authorship_tag": "ABX9TyOBNqrzTfx8kjowcOn4G7K3",
      "include_colab_link": true
    },
    "kernelspec": {
      "name": "python3",
      "display_name": "Python 3"
    },
    "language_info": {
      "name": "python"
    }
  },
  "cells": [
    {
      "cell_type": "markdown",
      "metadata": {
        "id": "view-in-github",
        "colab_type": "text"
      },
      "source": [
        "<a href=\"https://colab.research.google.com/github/babypotatotang/BaekJoon/blob/main/%EB%82%9C%EC%9D%B4%EB%8F%84%20%ED%95%98/%201931%EB%B2%88_%ED%9A%8C%EC%9D%98%EC%8B%A4_%EB%B0%B0%EC%A0%95.ipynb\" target=\"_parent\"><img src=\"https://colab.research.google.com/assets/colab-badge.svg\" alt=\"Open In Colab\"/></a>"
      ]
    },
    {
      "cell_type": "code",
      "execution_count": null,
      "metadata": {
        "id": "CHVJig5eGxo6"
      },
      "outputs": [],
      "source": [
        "#1931번: 회의실 배정\n",
        "N=int(input())\n",
        "Lists=[]\n",
        "for _ in range(N):\n",
        "    Lists.append(list(map(int,input().split())))\n",
        "\n",
        "Lists=sorted(Lists,key=lambda end:(end[1],end[0]))\n",
        "\n",
        "cnt=1\n",
        "Class=Lists[0]\n",
        "\n",
        "for i in range(1,N):\n",
        "    if Lists[i][0]>=Class[1]:\n",
        "        cnt+=1\n",
        "        Class=Lists[i]\n",
        "\n",
        "print(cnt)"
      ]
    }
  ]
}