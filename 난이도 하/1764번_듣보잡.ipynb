{
  "nbformat": 4,
  "nbformat_minor": 0,
  "metadata": {
    "colab": {
      "name": "1764번: 듣보잡",
      "private_outputs": true,
      "provenance": [],
      "authorship_tag": "ABX9TyNlGYAU7C5JfXfogrtJhyQC",
      "include_colab_link": true
    },
    "kernelspec": {
      "name": "python3",
      "display_name": "Python 3"
    },
    "language_info": {
      "name": "python"
    }
  },
  "cells": [
    {
      "cell_type": "markdown",
      "metadata": {
        "id": "view-in-github",
        "colab_type": "text"
      },
      "source": [
        "<a href=\"https://colab.research.google.com/github/babypotatotang/BaekJoon/blob/main/%EB%82%9C%EC%9D%B4%EB%8F%84%20%ED%95%98/1764%EB%B2%88_%EB%93%A3%EB%B3%B4%EC%9E%A1.ipynb\" target=\"_parent\"><img src=\"https://colab.research.google.com/assets/colab-badge.svg\" alt=\"Open In Colab\"/></a>"
      ]
    },
    {
      "cell_type": "code",
      "execution_count": null,
      "metadata": {
        "id": "CHVJig5eGxo6"
      },
      "outputs": [],
      "source": [
        "# 1764번: 듣보잡\n",
        "import sys\n",
        "input=sys.stdin.readline\n",
        "\n",
        "array=list(map(int,input().split()))\n",
        "N=array[0]; M=array[1]\n",
        "\n",
        "S1=set(); S2=set()\n",
        "for _ in range(N):\n",
        "    S1.add(input().rstrip())\n",
        "\n",
        "for _ in range(M):\n",
        "    S2.add(input().rstrip())\n",
        "\n",
        "S3=list(S1 & S2)\n",
        "print(len(S3))\n",
        "for i in sorted(S3):\n",
        "    print(i)"
      ]
    }
  ]
}