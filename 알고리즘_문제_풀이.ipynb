{
  "nbformat": 4,
  "nbformat_minor": 0,
  "metadata": {
    "colab": {
      "name": "알고리즘 문제 풀이",
      "private_outputs": true,
      "provenance": [],
      "collapsed_sections": [],
      "authorship_tag": "ABX9TyNNuhMWUkMyxsaPFFe2r27+",
      "include_colab_link": true
    },
    "kernelspec": {
      "name": "python3",
      "display_name": "Python 3"
    },
    "language_info": {
      "name": "python"
    }
  },
  "cells": [
    {
      "cell_type": "markdown",
      "metadata": {
        "id": "view-in-github",
        "colab_type": "text"
      },
      "source": [
        "<a href=\"https://colab.research.google.com/github/babypotatotang/BaekJoonMaster/blob/main/%EC%95%8C%EA%B3%A0%EB%A6%AC%EC%A6%98_%EB%AC%B8%EC%A0%9C_%ED%92%80%EC%9D%B4.ipynb\" target=\"_parent\"><img src=\"https://colab.research.google.com/assets/colab-badge.svg\" alt=\"Open In Colab\"/></a>"
      ]
    },
    {
      "cell_type": "code",
      "execution_count": null,
      "metadata": {
        "id": "14WSQLsg0sJc"
      },
      "outputs": [],
      "source": [
        "\n",
        "r=int(input())\n",
        "pi=3.14159265359\n",
        "print(\"%.6f\"%(r**2*pi))\n",
        "print(\"%.6f\"%(float(r**2*2)))"
      ]
    },
    {
      "cell_type": "code",
      "source": [
        "for _ in range(int(input())):\n",
        "    x1,y1,r1,x2,y2,r2=map(int,input().split())\n",
        "    d=((x1-x2)**2+(y1-y2)**2)**0.5; maxr=max([r1,r2]); minr=min([r1,r2]); \n",
        "    if d>maxr: maxd=d; rsum=maxr+minr\n",
        "    else: maxd=maxr; rsum=d+minr\n",
        "\n",
        "    if d==0 and r1==r2: print(-1) #같은 원일 경우 무수히 많음\n",
        "    elif maxd>rsum: print(0) #만나지 않는 경우 \n",
        "    elif d==r1+r2 or maxr==d+minr: print(1) #외접 혹은 내접인 경우 \n",
        "    elif maxr-minr<d<minr+maxr: print(2) #두 점이 닿는 경우 "
      ],
      "metadata": {
        "id": "mKE3g7KFVAwT"
      },
      "execution_count": null,
      "outputs": []
    },
    {
      "cell_type": "code",
      "source": [
        ""
      ],
      "metadata": {
        "id": "d7WDI4FApaNT"
      },
      "execution_count": null,
      "outputs": []
    },
    {
      "cell_type": "code",
      "source": [
        "#2447번: 별 찍기\n",
        "\n",
        "N=9\n",
        "stars=[[\"*\" for _ in range(N)]for _ in range(N)]\n",
        "\n",
        "def star(stars,N):\n",
        "    for i in range(N):\n",
        "        for j in range(N):\n",
        "            if int((i/3)%3)==1 and int((j/3)%3)==1:\n",
        "                stars[i][j]=\"_\"\n",
        "                \n",
        "    if N!=1: star(stars,int(N/3))\n",
        "    else: return stars\n",
        "\n",
        "    print(stars)\n",
        "\n",
        "print(star(stars,N))\n",
        "\n",
        "\n",
        "#for i in range(N):\n",
        "#    for j in range(N):\n",
        "#        print(newstars[i][j])"
      ],
      "metadata": {
        "id": "GlJMvvs4gJIG"
      },
      "execution_count": null,
      "outputs": []
    },
    {
      "cell_type": "code",
      "source": [
        "import sys \n",
        "\n",
        "def blank(stars,N,M):\n",
        "    stars=stars\n",
        "    for i in range(N):\n",
        "        for j in range(N):\n",
        "            if int(i/(M/3))%3==1 and int(j/(M/3))%3==1:\n",
        "                stars[i][j]=False\n",
        "\n",
        "    if M!=1:\n",
        "        return blank(stars,N,M/3)\n",
        "    else:\n",
        "        return stars\n",
        "    \n",
        "N=int(input()); M=N\n",
        "stars = [[True]*N for i in range(N)]\n",
        "newstars=blank(stars,N,M)\n",
        "\n",
        "for i in range(N):\n",
        "    for j in range(N):\n",
        "        if newstars[i][j]: sys.stdout.write(\"*\")\n",
        "        else: sys.stdout.write(\" \")\n",
        "    sys.stdout.write(\"\\n\")\n"
      ],
      "metadata": {
        "id": "T6eGHqonwTqL"
      },
      "execution_count": null,
      "outputs": []
    },
    {
      "cell_type": "code",
      "source": [
        "import sys \n",
        "\n",
        "def blank(blanks,N,M):\n",
        "    blanks=blanks\n",
        "\n",
        "    for i in range(N):\n",
        "        if int(i/(M/3))%3==1:\n",
        "                blanks.append(i)\n",
        "\n",
        "    if M!=1:\n",
        "        return blank(blanks,N,M/3)\n",
        "    else:\n",
        "        return blanks\n",
        "    \n",
        "N=int(input()); M=N; blanks=[]\n",
        "blanks=blank(blanks,N,M)\n",
        "\n",
        "for i in range(-1,0,-1):\n",
        "    print(blanks[i])\n",
        "\n",
        "# for i in range(N):\n",
        "#     for j in range(N):\n",
        "#         if newstars[i][j]: sys.stdout.write(\"*\")\n",
        "#         else: sys.stdout.write(\" \")\n",
        "#     sys.stdout.write(\"\\n\")\n"
      ],
      "metadata": {
        "id": "PZgHeow26WiE"
      },
      "execution_count": null,
      "outputs": []
    },
    {
      "cell_type": "code",
      "source": [
        "import sys \n",
        "\n",
        "def blank(blanks,N,M):\n",
        "    blanks=blanks\n",
        "\n",
        "    for i in range(N):\n",
        "        if int(i/(M/3))%3==1:\n",
        "                blanks.append(i)\n",
        "\n",
        "    if M!=1:\n",
        "        return blank(blanks,N,M/3)\n",
        "    else:\n",
        "        return blanks\n",
        "    \n",
        "N=int(input()); M=N; blanks=[]; stars = [[True]*N for i in range(N)]\n",
        "\n",
        "blanks=blank(blanks,N,M)\n",
        "\n",
        "for i in (i*int(N/3) for i in range(0,N)):\n",
        "    blk=blanks[i:int(i+N/3)]\n",
        "    for a in blk:\n",
        "        for b in blk:\n",
        "            stars[a][b]=False\n",
        "    if int(i+N/3)==(len(blanks)):break\n",
        "\n",
        "for i in range(N):\n",
        "    for j in range(N):\n",
        "        if stars[i][j]: sys.stdout.write(\"*\")\n",
        "        else: sys.stdout.write(\" \")\n",
        "    sys.stdout.write(\"\\n\")\n"
      ],
      "metadata": {
        "id": "Cwazc_2Ix2zG"
      },
      "execution_count": null,
      "outputs": []
    },
    {
      "cell_type": "code",
      "source": [
        "def hanoi(n,start,stop,final,hanoilist):\n",
        "    tmp=hanoilist\n",
        "    if n==1:\n",
        "        hanoilist.append([start,final])\n",
        "        #print(start,final)\n",
        "    else:\n",
        "        hanoi(n-1,start,final,stop,hanoilist)\n",
        "        hanoilist.append([start,final])\n",
        "        hanoi(n-1,stop,start,final,hanoilist)\n",
        "\n",
        "hanoilist=[]\n",
        "hanoi(int(input()),1,2,3,hanoilist)\n",
        "print(len(hanoilist))\n",
        "for i in hanoilist:\n",
        "    print(' '.join(map(str,i)))"
      ],
      "metadata": {
        "id": "nOTgulY_x3Ht"
      },
      "execution_count": null,
      "outputs": []
    },
    {
      "cell_type": "code",
      "source": [
        "#2798번: 블랙잭\n",
        "N,M=map(int,input().split())\n",
        "Nums=list(map(int,input().split()))\n",
        "Sums=[]; answer=0\n",
        "\n",
        "for i in Nums:\n",
        "    for j in Nums[Nums.index(i)+1:]:\n",
        "        for k in Nums[Nums.index(j)+1:]:\n",
        "            if (i+j+k)<=M:\n",
        "                answer=max(answer,i+j+k)\n",
        "            else: continue\n",
        "\n",
        "print(answer)"
      ],
      "metadata": {
        "id": "f1gg4iTNH66O"
      },
      "execution_count": null,
      "outputs": []
    },
    {
      "cell_type": "code",
      "source": [
        "#2231번: 분해합\n",
        "N=input(); cnt=len(N); answer=100000000\n",
        "\n",
        "for i in range(int(N)-9*cnt,int(N)):\n",
        "    sum=0\n",
        "    if i>0:\n",
        "        for j in str(i): sum+=int(j)\n",
        "    sum+=int(i)\n",
        "    #print(i,sum)\n",
        "    if sum==int(N): answer=min(answer,int(i))\n",
        "\n",
        "print(answer if answer!=100000000 else 0)"
      ],
      "metadata": {
        "id": "sjDRO0wmOTXN"
      },
      "execution_count": null,
      "outputs": []
    },
    {
      "cell_type": "code",
      "source": [
        "n = int(input())\n",
        "x = 0\n",
        "for i in range(1, n+1):         # 1부터 n까지\n",
        "    a = list(map(int, str(i)))  # 각 자리 수를 분해\n",
        "    s = i + sum(a)              # 분해합을 구함\n",
        "    if(s == n):                 # 만약 분해합이 n과 같다면\n",
        "        x = i                   # x = i, 종료\n",
        "        break\n",
        "\n",
        "print(x)"
      ],
      "metadata": {
        "id": "8xikCRl_Um8a"
      },
      "execution_count": null,
      "outputs": []
    },
    {
      "cell_type": "code",
      "source": [
        "N=int(input()); Weight=[]; Height=[]; score=[]\n",
        "\n",
        "for _ in range(N):\n",
        "    tmp=list(map(int,input().split()))\n",
        "    Weight.append(tmp[0])\n",
        "    Height.append(tmp[1])\n",
        "\n",
        "for i in range(N):\n",
        "    k=1\n",
        "    for j in range(N):\n",
        "        if i!=j:\n",
        "            if Weight[i]<Weight[j] and Height[i]<Height[j]: k+=1\n",
        "\n",
        "    score.append(k)\n",
        "\n",
        "for i in score:\n",
        "    print(i,end=' ')"
      ],
      "metadata": {
        "id": "TblAIi1uegpQ"
      },
      "execution_count": null,
      "outputs": []
    },
    {
      "cell_type": "code",
      "source": [
        "#1018번: 체스\n",
        "\n",
        "N,M=map(int,input().split()); Board=[]; result=1000000\n",
        "# for _ in range(N):\n",
        "#     tmp=[i for i in input()]\n",
        "#     Board.append(tmp)\n",
        "Board=[['B', 'B', 'B', 'B', 'B', 'B', 'B', 'B', 'W', 'B', 'W', 'B', 'W'], ['B', 'B', 'B', 'B', 'B', 'B', 'B', 'B', 'B', 'W', 'B', 'W', 'B'], ['B', 'B', 'B', 'B', 'B', 'B', 'B', 'B', 'W', 'B', 'W', 'B', 'W'], ['B', 'B', 'B', 'B', 'B', 'B', 'B', 'B', 'B', 'W', 'B', 'W', 'B'], ['B', 'B', 'B', 'B', 'B', 'B', 'B', 'B', 'W', 'B', 'W', 'B', 'W'], ['B', 'B', 'B', 'B', 'B', 'B', 'B', 'B', 'B', 'W', 'B', 'W', 'B'], ['B', 'B', 'B', 'B', 'B', 'B', 'B', 'B', 'W', 'B', 'W', 'B', 'W'], ['B', 'B', 'B', 'B', 'B', 'B', 'B', 'B', 'B', 'W', 'B', 'W', 'B'], ['W', 'W', 'W', 'W', 'W', 'W', 'W', 'W', 'W', 'W', 'B', 'W', 'B'], ['W', 'W', 'W', 'W', 'W', 'W', 'W', 'W', 'W', 'W', 'B', 'W', 'B']]\n",
        "\n",
        "for I in range(0,N-8):\n",
        "    for J in range(0,M-8): \n",
        "        cnt=0\n",
        "        for i in range(0+I,I+8):\n",
        "            for j in range(0+J,J+8):    \n",
        "                if i==I and j==J:#원점\n",
        "                     #홀짝 확인 \n",
        "                    if (i+j)%2==0: chk=True #짝수\n",
        "                    else: chk=False #홀수 \n",
        "                    Original=Board[i][j]; \n",
        "                elif chk: #짝수일때 \n",
        "                    if (((i+j)%2)!=0): #i,j 가 홀수라면 \n",
        "                        if Board[i][j]==Original: # 원점의 값과 같을때 \n",
        "                            cnt+=1\n",
        "                    else:\n",
        "                        if Board[i][j]!=Original: cnt+=1\n",
        "                elif not(chk):\n",
        "                    if (((i+j)%2)==0):\n",
        "                        if Board[i][j]==Original: cnt+=1\n",
        "                    else:\n",
        "                        if Board[i][j]!=Original: cnt+=1\n",
        "\n",
        "        result=min(result,cnt)\n",
        "    print(result)\n",
        "\n",
        "print(result)"
      ],
      "metadata": {
        "id": "M2sBPcs_dwgp"
      },
      "execution_count": null,
      "outputs": []
    },
    {
      "cell_type": "code",
      "source": [
        "#1018번: 체스\n",
        "\n",
        "N,M=map(int,input().split()); Board=[]; result=1000000\n",
        "# for _ in range(N):\n",
        "#     tmp=[i for i in input()]\n",
        "#     Board.append(tmp)\n",
        "# print(Board)\n",
        "#Board=[['B', 'B', 'B', 'B', 'B', 'B', 'B', 'B', 'W', 'B', 'W', 'B', 'W'], ['B', 'B', 'B', 'B', 'B', 'B', 'B', 'B', 'B', 'W', 'B', 'W', 'B'], ['B', 'B', 'B', 'B', 'B', 'B', 'B', 'B', 'W', 'B', 'W', 'B', 'W'], ['B', 'B', 'B', 'B', 'B', 'B', 'B', 'B', 'B', 'W', 'B', 'W', 'B'], ['B', 'B', 'B', 'B', 'B', 'B', 'B', 'B', 'W', 'B', 'W', 'B', 'W'], ['B', 'B', 'B', 'B', 'B', 'B', 'B', 'B', 'B', 'W', 'B', 'W', 'B'], ['B', 'B', 'B', 'B', 'B', 'B', 'B', 'B', 'W', 'B', 'W', 'B', 'W'], ['B', 'B', 'B', 'B', 'B', 'B', 'B', 'B', 'B', 'W', 'B', 'W', 'B'], ['W', 'W', 'W', 'W', 'W', 'W', 'W', 'W', 'W', 'W', 'B', 'W', 'B'], ['W', 'W', 'W', 'W', 'W', 'W', 'W', 'W', 'W', 'W', 'B', 'W', 'B']]\n",
        "Board=[['W', 'B', 'W', 'B', 'W'], ['B', 'W', 'B', 'W', 'B'], ['W', 'B', 'W', 'W', 'B'], ['B', 'W', 'B', 'W', 'B'], ['W', 'W', 'B', 'B', 'W'], ['B', 'W', 'B', 'B', 'W']]\n",
        "for I in range(0,N-4):\n",
        "    for J in range(0,M-4): \n",
        "        cnt=0\n",
        "        for i in range(0+I,I+4):\n",
        "            for j in range(0+J,J+4):    \n",
        "                if i==I and j==J:#원점\n",
        "                     #홀짝 확인 \n",
        "                    if (i+j)%2==0: chk=True #짝수\n",
        "                    else: chk=False #홀수 \n",
        "                    Original=Board[i][j]; \n",
        "                elif chk: #짝수일때 \n",
        "                    if (((i+j)%2)!=0): #i,j 가 홀수라면 \n",
        "                        if Board[i][j]==Original: # 원점의 값과 같을때 \n",
        "                            cnt+=1\n",
        "                    else:\n",
        "                        if Board[i][j]!=Original: cnt+=1\n",
        "                elif not(chk):\n",
        "                    if (((i+j)%2)==0):\n",
        "                        if Board[i][j]==Original: cnt+=1\n",
        "                    else:\n",
        "                        if Board[i][j]!=Original: cnt+=1\n",
        "\n",
        "        result=min(result,cnt)\n",
        "    print(result)\n",
        "\n",
        "print(result)"
      ],
      "metadata": {
        "id": "ZQrT-gZruoav"
      },
      "execution_count": null,
      "outputs": []
    },
    {
      "cell_type": "code",
      "source": [
        "#1436번: 영화감독 숌\n",
        "\n",
        "N=int(input()); cnt=0; i=0\n",
        "\n",
        "while(1):\n",
        "    if cnt==N:\n",
        "        print(num)\n",
        "        break\n",
        "    i+=1\n",
        "    if '666' in str(i): \n",
        "        cnt+=1\n",
        "        num=i"
      ],
      "metadata": {
        "id": "meOe5Wr7YZgV"
      },
      "execution_count": null,
      "outputs": []
    },
    {
      "cell_type": "code",
      "source": [
        "#2750번 수 정렬하기\n",
        "#시간 복잡도가 O(nlogn)인 정렬 알고리즘으로 풀 수 있습니다. 예를 들면 병합 정렬, 힙 정렬 등이 있지만, 어려운 알고리즘이므로 지금은 언어에 내장된 정렬 함수를 쓰는 것을 추천드립니다.\n",
        "#버블 정렬\n",
        "N=int(input()); nums=[]\n",
        "\n",
        "nums=[int(input()) for i in range(N)]\n",
        "\n",
        "while(1):\n",
        "    cnt=0\n",
        "    for i in range(N-1):\n",
        "        if nums[i] > nums[i+1]:\n",
        "           tmp=nums[i]\n",
        "           nums[i]=nums[i+1]\n",
        "           nums[i+1]=tmp\n",
        "           cnt+=1\n",
        "\n",
        "    if cnt==0: break\n",
        "\n",
        "for i in nums:\n",
        "    print(i)"
      ],
      "metadata": {
        "id": "2VQO6QysYZk_"
      },
      "execution_count": null,
      "outputs": []
    },
    {
      "cell_type": "code",
      "source": [
        "def sort(L,i,j,N):\n",
        "    if abs(i-j)==1:\n",
        "        tmp=L[i]\n",
        "        L[i]=L[i+1]\n",
        "        L[i+1]=tmp\n",
        "        return L[i:j]\n",
        "    else:\n",
        "        sort(L,0,N/2,N)\n",
        "        sort(N/2+1,N,N)\n",
        "\n",
        "ss=[7,5,1,2,3,10,2]\n",
        "new=sort(ss,0,len(ss),len(ss))\n",
        "print(new)"
      ],
      "metadata": {
        "id": "cu4YYHGqgZuk"
      },
      "execution_count": null,
      "outputs": []
    },
    {
      "cell_type": "code",
      "source": [
        "#2309번: 일곱 난쟁이\n",
        "\n",
        "dwafs=[int(input()) for _ in range(9)]\n",
        "nums=[]; ilist=[]\n",
        "\n",
        "for i in range(9):\n",
        "    for j in range(i+1,9):\n",
        "        nums.append([dwafs[i],dwafs[j]])\n",
        "    if i==7: break\n",
        "\n",
        "for i in nums:\n",
        "    if sum(dwafs)-sum(i)==100: \n",
        "        ilist=list(set(dwafs)-set(i))\n",
        "        break\n",
        "\n",
        "for i in sorted(ilist):\n",
        "    print(i)"
      ],
      "metadata": {
        "id": "2T-1Frwwg1f1"
      },
      "execution_count": null,
      "outputs": []
    },
    {
      "cell_type": "code",
      "source": [
        "ss=[0,1,23,4,5,6,7,8]; t=[]\n",
        "for i in ss:\n",
        "    for j in ss:\n",
        "        if i!=j:\n",
        "            t.append([i,j])\n",
        "for i in t:\n",
        "    for j in ss:\n",
        "        if i[0]!=j and i[1]!=j: isum+=j\n",
        "    \n",
        "    if isum==10: break"
      ],
      "metadata": {
        "id": "7oZQUgQLFP4L"
      },
      "execution_count": null,
      "outputs": []
    },
    {
      "cell_type": "code",
      "source": [
        "tmp=[]\n",
        "ss=[0,1,2,3,4,5,6,7,8];\n",
        "for i in range(9):\n",
        "    for j in range(i+1,9):\n",
        "        tmp.append([ss[i],ss[j]])\n",
        "    if i==7: break\n",
        "\n",
        "print(tmp)"
      ],
      "metadata": {
        "id": "ZIn7wa3FEmda"
      },
      "execution_count": null,
      "outputs": []
    },
    {
      "cell_type": "code",
      "source": [
        "#2751번: 수 정렬하기 2\n",
        "import sys\n",
        "n = int(input())\n",
        "data = [int(input()) for i in range(n)]\n",
        "\n",
        "def sort(a):\n",
        "    n=len(a)\n",
        "    if n==1:  \n",
        "        return a\n",
        "    elif n>1:\n",
        "        return merge(sort(a[0:int(n/2)]),sort(a[int(n/2):n]))\n",
        "\n",
        "def merge(x,y):\n",
        "    if len(x)==0: return y\n",
        "    if len(y)==0: return x\n",
        "\n",
        "    if x[0]<y[0]:\n",
        "        return x[0:1]+merge(x[1:],y)\n",
        "    else:\n",
        "        return y[0:1]+merge(x,y[1:])\n",
        "\n",
        "answer=sort(data)\n",
        "print(answer)"
      ],
      "metadata": {
        "id": "VsE-H24sUCRP"
      },
      "execution_count": null,
      "outputs": []
    },
    {
      "cell_type": "code",
      "source": [
        "import sys\n",
        "\n",
        "n = int(input()) #입력받는 수의 개수 n\n",
        "nums=[input() for i in input().split()]\n",
        "\n",
        "sorted_list = sorted(set(unsorted_list))\n",
        "for i in sorted_list:\n",
        "    sys.stdout.write(str(i)+'\\n')"
      ],
      "metadata": {
        "id": "-T5AgxY1WbS-"
      },
      "execution_count": null,
      "outputs": []
    },
    {
      "cell_type": "code",
      "source": [
        "#2751번: 수 정렬하기 2\n",
        "import sys\n",
        "n = int(input())\n",
        "data = [int(input()) for i in range(n)]\n",
        "\n",
        "def sort(a):\n",
        "    n=len(a)\n",
        "    if n==1:  \n",
        "        return a\n",
        "    elif n>1:\n",
        "        return merge(sort(a[0:int(n/2)]),sort(a[int(n/2):n]))\n",
        "\n",
        "def merge(x,y):\n",
        "    if len(x)==0: return y\n",
        "    if len(y)==0: return x\n",
        "\n",
        "    if x[0]<y[0]:\n",
        "        return x[0:1]+merge(x[1:],y)\n",
        "    else:\n",
        "        return y[0:1]+merge(x,y[1:])\n",
        "    \n",
        "    \n",
        "answer=sort(data)\n",
        "print(answer)"
      ],
      "metadata": {
        "id": "5v1iZAcVHMAP"
      },
      "execution_count": null,
      "outputs": []
    },
    {
      "cell_type": "code",
      "source": [
        "#10989번: 수 정렬하기 3\n",
        "import sys \n",
        "\n",
        "N=int(sys.stdin.readline()); \n",
        "count=[0]*10001\n",
        "\n",
        "for _ in range(N): \n",
        "    i=int(sys.stdin.readline())\n",
        "    count[i]+=1\n",
        "\n",
        "for i in range(1,10001):\n",
        "    if count[i]!=0:\n",
        "        for j in range(count[i]):\n",
        "            sys.stdout.write(i)"
      ],
      "metadata": {
        "id": "cqo8xcENAq3n"
      },
      "execution_count": null,
      "outputs": []
    },
    {
      "cell_type": "code",
      "source": [
        "#2108번: 통계학\n",
        "import sys\n",
        "N=int(input()); index=[0]*500001;numsum=0\n",
        "\n",
        "for _ in range(N):\n",
        "    num=int(input())\n",
        "    if _==0:\n",
        "        maxnum=num\n",
        "        minnum=num-\n",
        "    if _==int(N/2):\n",
        "        most=num\n",
        "    index[num]+=1\n",
        "    \n",
        "    if _ > 0: \n",
        "        maxnum=max(num,maxnum)\n",
        "        minnum=min(num,minnum)\n",
        "\n",
        "    numsum+=num\n",
        "\n",
        "print(round(numsum/N))\n",
        "print(maxnum)\n",
        "print(most)\n",
        "print(maxnum-minnum)"
      ],
      "metadata": {
        "id": "qAzqar8jBvHf"
      },
      "execution_count": null,
      "outputs": []
    },
    {
      "cell_type": "code",
      "source": [
        "#2108번: 통계학\n",
        "import sys\n",
        "N=int(input()); nums=[int(input()) for _ in range(N)]\n",
        "\n",
        "print(round(sum(nums)/N))#평균\n",
        "print(sorted(nums)[int(N/2)\n",
        "]) #중앙값\n",
        "\n",
        "numdic={}; cnt=[0]*(50001)\n",
        "\n",
        "for i in nums:\n",
        "    cnt[i]+=1\n",
        "    numdic[i]=cnt[i]\n",
        "\n",
        "tmp=[i[0] for i in numdic.items() if i[1]==max(numdic.values())]\n",
        "\n",
        "print(sorted(tmp)[1] if len(tmp)>1 else tmp[0])\n",
        "print(sorted(nums)[N-1]-sorted(nums)[0])"
      ],
      "metadata": {
        "id": "J5UQ1lr49TZF"
      },
      "execution_count": null,
      "outputs": []
    },
    {
      "cell_type": "code",
      "source": [
        "nums=[-40,20,30,-90]; maxi=-40001\n",
        "\n",
        "for i in nums:\n",
        "    maxi=max(abs(i),maxi)\n",
        "\n",
        "cnt=[0]*(2*maxi+1)\n",
        "for i in nums:\n",
        "    cnt[abs(i)+maxi]+=1\n",
        "    numdic[i]=cnt[abs(i)+maxi]"
      ],
      "metadata": {
        "id": "by2E5KGp939a"
      },
      "execution_count": null,
      "outputs": []
    },
    {
      "cell_type": "code",
      "source": [
        "#1427번. 소트인사이드\n",
        "\n",
        "s=input()\n",
        "StringList=[int(i) for i in s]\n",
        "StringList.sort(reverse=True)\n",
        "\n",
        "for i in StringList:\n",
        "    print(i,end='')"
      ],
      "metadata": {
        "id": "WJmj2UNHAWFd"
      },
      "execution_count": null,
      "outputs": []
    },
    {
      "cell_type": "code",
      "source": [
        "#11650 좌표정렬하기\n",
        "N=int(input()); nums=[]\n",
        "\n",
        "for i in range(N):\n",
        "    tmp=list(map(int,input().split()))\n",
        "    nums.append(tmp)\n",
        "\n",
        "for i in sorted(nums):\n",
        "    for j in i:\n",
        "        print(j,end=' ')\n",
        "    print()"
      ],
      "metadata": {
        "id": "kVyqq6556LLG"
      },
      "execution_count": null,
      "outputs": []
    },
    {
      "cell_type": "code",
      "source": [
        "tmp=[20,30]\n",
        "tmp2=[tmp[i] for i in range(1,-1,-1)]\n",
        "for i in range(1,-1,-1):\n",
        "    print(tmp[i])"
      ],
      "metadata": {
        "id": "cQyJSojeCMWa"
      },
      "execution_count": null,
      "outputs": []
    },
    {
      "cell_type": "code",
      "source": [
        "5\n",
        "0 4\n",
        "1 2\n",
        "1 -1\n",
        "2 2\n",
        "3 3"
      ],
      "metadata": {
        "id": "DIXoBi5JDmwt"
      },
      "execution_count": null,
      "outputs": []
    },
    {
      "cell_type": "code",
      "source": [
        "#11651번: 좌표정렬하기 2\n",
        "N=int(input()); nums=[]; results=[]\n",
        "\n",
        "for i in range(N):\n",
        "    tmp=list(map(int,input().split()))\n",
        "    tmp2=[tmp[i] for i in range(1,-1,-1)]\n",
        "    nums.append(tmp2)\n",
        "    \n",
        "for num in sorted(nums):\n",
        "    tmp2=[num[i] for i in range(1,-1,-1)]\n",
        "    results.append(tmp2)\n",
        "\n",
        "for i in results:\n",
        "    for j in i:\n",
        "        print(j,end=' ')\n",
        "    print('')"
      ],
      "metadata": {
        "id": "feKakDYh7xQW"
      },
      "execution_count": null,
      "outputs": []
    },
    {
      "cell_type": "code",
      "source": [
        "#1181번: 단어 정렬\n",
        "N=int(input())\n",
        "words=[input() for i in range(N)]; words=list(set(words))\n",
        "wordlist=[ (i,len(i)) for i in words]\n",
        "\n",
        "sort1=sorted(wordlist,key=lambda x:x[0])\n",
        "sort2=sorted(sort1,key=lambda x:x[1])\n",
        "\n",
        "for i in sort2:\n",
        "    print(i[0])"
      ],
      "metadata": {
        "id": "jx3I0bFy-C7b"
      },
      "execution_count": null,
      "outputs": []
    },
    {
      "cell_type": "code",
      "source": [
        "#multiplication code\n",
        "\n",
        "def multiply(x,y):\n",
        "    n=max(x.bit_length(),y.bit_length())\n",
        "    \n",
        "    if n<=1:\n",
        "        return x*y\n",
        "\n",
        "    k=(n+1) >> 1\n",
        "    x1=x >> k; \n",
        "    x0=x-(x1<<k)\n",
        "    y1=y>>k;\n",
        "    y0=y-(y1<<k)\n",
        "    \n",
        "    a=multiply(x1,y1)\n",
        "    c=multiply(x0,y0)\n",
        "    p=multiply(x0+x1,y0+y1)\n",
        "    \n",
        "    b=p-a-c\n",
        "\n",
        "\n",
        "    return (a<<(n+(n&1)))+(b)<<k+c\n",
        "    #return (a << (n + (n & 1))) + (b << k) + c\n",
        "\n",
        "multiply(10,20)"
      ],
      "metadata": {
        "id": "DDvGnY-4AADs"
      },
      "execution_count": null,
      "outputs": []
    },
    {
      "cell_type": "code",
      "source": [
        "lookuptable = {\n",
        "  (-1,-1): 1, (-1,0): 0, (-1, 1): -1,\n",
        "  (0,-1): 0, (0,0):0, (0,1): 0,\n",
        "  (1,-1): -1, (1,0): 0, (1,1): 1}\n",
        "\n",
        "\n",
        "def karatsuba(x,y):\n",
        "  n = max(x.bit_length(), y.bit_length())\n",
        "\n",
        "  # trivial\n",
        "  if n <= 1:\n",
        "    return x*y\n",
        "\n",
        "  # divide\n",
        "  k = (n + 1) >> 1\n",
        "  x1 = x >> k\n",
        "  x0 = x - (x1 << k)\n",
        "  y1 = y >> k\n",
        "  y0 = y - (y1 << k)\n",
        "\n",
        "  # recursions\n",
        "  a = karatsuba(x1, y1)\n",
        "  c = karatsuba(x0, y0)\n",
        "  p = karatsuba(x0 + x1, y0 + y1)\n",
        "  b = p - a - c\n",
        "  print(p)\n",
        "\n",
        "  # conquer\n",
        "  return (a << (n + (n & 1))) + (b << k) + c\n",
        "\n",
        "karatsuba(10,20)"
      ],
      "metadata": {
        "id": "NLnB-Vf0DoHL"
      },
      "execution_count": null,
      "outputs": []
    },
    {
      "cell_type": "code",
      "source": [
        "#10814번: 나이순 정렬\n",
        "\n",
        "N=int(input()); Students=[input().split() for _ in range(N)]\n",
        "\n",
        "for i in sorted(Students,key=lambda x:int(x[0])):\n",
        "    print(i[0]+\" \"+i[1])"
      ],
      "metadata": {
        "id": "Sa6hoyAWqZIW"
      },
      "execution_count": null,
      "outputs": []
    },
    {
      "cell_type": "code",
      "source": [
        "# #18870번: 좌표 압축\n",
        "N=int(input())\n",
        "nums=list(map(int,input().split()))\n",
        "\n",
        "st=sorted(list(set(nums)))\n",
        "\n",
        "for i in nums:\n",
        "    print(st.index(i))\n"
      ],
      "metadata": {
        "id": "9j1Y8e2ehx7A"
      },
      "execution_count": null,
      "outputs": []
    },
    {
      "cell_type": "code",
      "source": [
        "#1992번: 쿼드트리\n",
        "result=[]\n",
        "\n",
        "def Quad(dots,size,x,y):\n",
        "    dots=dots; tmpdots=[]; global result\n",
        "\n",
        "    for i in range(int(size)):\n",
        "        tmpdots.append(dots[x+i][y:y+size])\n",
        "\n",
        "    tt=sum(tmpdots,[])\n",
        "\n",
        "    if size==1:\n",
        "        return result.append(str(tt[0]))\n",
        "    \n",
        "    if tt.count(0)==size**2: return result.append('0')\n",
        "    elif tt.count(1)==size**2: return result.append('1')\n",
        "    else:\n",
        "        result.append(\"(\")\n",
        "        Quad(tmpdots,size//2,0,0)\n",
        "        Quad(tmpdots,size//2,0,size//2)\n",
        "        Quad(tmpdots,size//2,size//2,0)\n",
        "        Quad(tmpdots,size//2,size//2,size//2)\n",
        "        result.append(\")\")\n",
        "\n",
        "size=int(input())\n",
        "dots = [list(map(int,(input()))) for _ in range(size)]\n",
        "\n",
        "Quad(dots,size,0,0)\n",
        "for i in result:\n",
        "    print(i,end=\"\")\n"
      ],
      "metadata": {
        "id": "iT5MR3h_lD-X"
      },
      "execution_count": null,
      "outputs": []
    },
    {
      "cell_type": "code",
      "source": [
        "#2630번: 색종이 만들기\n",
        "result=[]\n",
        "\n",
        "def Quad(dots,size,x,y):\n",
        "    dots=dots; tmpdots=[]; global result\n",
        "\n",
        "    for i in range(int(size)):\n",
        "        tmpdots.append(dots[x+i][y:y+size])\n",
        "\n",
        "    tt=sum(tmpdots,[])\n",
        "\n",
        "    if size==1:\n",
        "        for i in tt: result.append(i)\n",
        "        return 0\n",
        "\n",
        "    if tt.count(0)==size**2: return result.append(0)\n",
        "    elif tt.count(1)==size**2: return result.append(1)\n",
        "    else:\n",
        "        Quad(tmpdots,size//2,0,0)\n",
        "        Quad(tmpdots,size//2,0,size//2)\n",
        "        Quad(tmpdots,size//2,size//2,0)\n",
        "        Quad(tmpdots,size//2,size//2,size//2)\n",
        "\n",
        "size=int(input())\n",
        "dots = [list(map(int,(input().split()))) for _ in range(size)]\n",
        "\n",
        "Quad(dots,size,0,0)\n",
        "\n",
        "print(result.count(0))\n",
        "print(result.count(1))"
      ],
      "metadata": {
        "id": "SooYqAW82Z0S"
      },
      "execution_count": null,
      "outputs": []
    },
    {
      "cell_type": "code",
      "source": [
        "#1780번: 종이의 개수 \n",
        "result={-1:0,0:0,1:0}\n",
        "\n",
        "def Quad(dots,size,x,y):\n",
        "    dots=dots; tmpdots=[]; global result\n",
        "    tmpdict={}\n",
        "\n",
        "    for i in range(int(size)):\n",
        "        tmpdots.append(dots[x+i][y:y+size])\n",
        "\n",
        "    tt=sum(tmpdots,[])\n",
        "    chk=tt[0]\n",
        "    for i in tt:\n",
        "        if i!=chk:\n",
        "            chk=-2\n",
        "            break\n",
        "\n",
        "    if chk==0: \n",
        "        result[0]+=1\n",
        "        return 0\n",
        "    elif chk==1: \n",
        "        result[1]+=1\n",
        "        return 0\n",
        "    elif chk==-1: \n",
        "        result[-1]+=1\n",
        "        return 0\n",
        "    else:\n",
        "        Quad(tmpdots,size//3,0,0)\n",
        "        Quad(tmpdots,size//3,0,size//3)\n",
        "        Quad(tmpdots,size//3,0,(size//3)*2)\n",
        "\n",
        "        Quad(tmpdots,size//3,size//3,0)\n",
        "        Quad(tmpdots,size//3,size//3,size//3)\n",
        "        Quad(tmpdots,size//3,size//3,(size//3)*2)\n",
        "\n",
        "        Quad(tmpdots,size//3,(size//3)*2,0)\n",
        "        Quad(tmpdots,size//3,(size//3)*2,(size//3))\n",
        "        Quad(tmpdots,size//3,(size//3)*2,(size//3)*2)\n",
        "\n",
        "size=int(input())\n",
        "dots = [list(map(int,(input().split()))) for _ in range(size)]\n",
        "\n",
        "Quad(dots,size,0,0)\n",
        "\n",
        "print(result[-1])\n",
        "print(result[0])\n",
        "print(result[1])"
      ],
      "metadata": {
        "id": "GyhoXyyt5cvd"
      },
      "execution_count": null,
      "outputs": []
    },
    {
      "cell_type": "code",
      "source": [
        "#1780번: 종이의 개수 \n",
        "result={-1:0,0:0,1:0}\n",
        "\n",
        "def Quad(size,x,y):\n",
        "    global result\n",
        "\n",
        "    chk=dots[x][y]\n",
        "    for i in range(x,x+size):\n",
        "        for j in range(y,y+size):\n",
        "         if chk!=dots[i][j]:\n",
        "            chk = -2\n",
        "            break\n",
        "\n",
        "    if chk==0: \n",
        "        result[0]+=1\n",
        "        return 0\n",
        "    elif chk==1: \n",
        "        result[1]+=1\n",
        "        return 0\n",
        "    elif chk==-1: \n",
        "        result[-1]+=1\n",
        "        return 0\n",
        "    else:\n",
        "        size=size//3\n",
        "        Quad(size,x,y)\n",
        "        Quad(size,x,y+size)\n",
        "        Quad(size,x,y+size*2)\n",
        "\n",
        "        Quad(size,x+size,y)\n",
        "        Quad(size,x+size,y+size)\n",
        "        Quad(size,x+size,y+size*2)\n",
        "\n",
        "        Quad(size,x+size*2,y)\n",
        "        Quad(size,x+size*2,y+size)\n",
        "        Quad(size,x+size*2,y+size*2)\n",
        "\n",
        "size=int(input())\n",
        "dots = [list(map(int,(input().split()))) for _ in range(size)]\n",
        "\n",
        "Quad(size,0,0)\n",
        "\n",
        "print(result[-1])\n",
        "print(result[0])\n",
        "print(result[1])"
      ],
      "metadata": {
        "id": "gKZnqDA7TBuN"
      },
      "execution_count": null,
      "outputs": []
    },
    {
      "cell_type": "code",
      "source": [
        "#!629번: 곱셈\n",
        "a,b,c=map(int,input().split())\n",
        "\n",
        "def sum(a,b):\n",
        "    if b==1:\n",
        "        return a%c\n",
        "    else:\n",
        "        tmp= sum(a,b//2)\n",
        "        if b%2==0: \n",
        "            return (tmp*tmp)%c\n",
        "        else: \n",
        "            return (tmp*tmp*a)%c\n",
        "\n",
        "print(sum(a,b))"
      ],
      "metadata": {
        "id": "9FDjt-ILY_CY"
      },
      "execution_count": null,
      "outputs": []
    },
    {
      "cell_type": "code",
      "source": [
        "#11401번: 이항계수 3.\n",
        "import sys\n",
        "sys.setrecursionlimit(100000)\n",
        "\n",
        "n,k=map(int,input().split())\n",
        "p=1000000007\n",
        "\n",
        "def fact(n):\n",
        "    sum = 1\n",
        "    for i in range(2,n+1):\n",
        "        sum *= i\n",
        "        sum %= p\n",
        "    return sum\n",
        "\n",
        "def mul(a,b):\n",
        "    if b==1:\n",
        "        return a%p\n",
        "    else:\n",
        "        tmp= mul(a,b//2)\n",
        "        if b%2==0: \n",
        "            return (tmp*tmp)%p\n",
        "        else: \n",
        "            return (tmp*tmp*a)%p\n",
        "\n",
        "x=fact(n); y=mul(fact(k)*fact(n-k),(p-2))\n",
        "print((x*y)%p)"
      ],
      "metadata": {
        "id": "lPNvNUf6-EYM"
      },
      "execution_count": null,
      "outputs": []
    },
    {
      "cell_type": "code",
      "source": [
        "#2740번: 행렬 곱셈\n",
        "N,M=map(int,input().split())\n",
        "matrixa=[list(map(int,input().split()))for i in range(N)]\n",
        "\n",
        "N,M=map(int,input().split()); matrixb=[]\n",
        "tmpb=[list(map(int,input().split()))for i in range(N)]\n",
        "\n",
        "for j in range(M):\n",
        "    matrixb.append([mb[j] for mb in tmpb])\n",
        "\n",
        "def mul(tmpa):\n",
        "    tmplist=[]\n",
        "    for mb in matrixb:\n",
        "        csum=0\n",
        "        for i in range(len(tmpa)):\n",
        "            csum+=tmpa[i]*mb[i]\n",
        "        \n",
        "        tmplist.append(csum)\n",
        "\n",
        "    for i in tmplist: \n",
        "        print(i,end=\" \")\n",
        "\n",
        "for i in matrixa:\n",
        "    mul(i)\n",
        "    print()"
      ],
      "metadata": {
        "id": "yjggxYUxgWjj"
      },
      "execution_count": null,
      "outputs": []
    },
    {
      "cell_type": "code",
      "source": [
        ""
      ],
      "metadata": {
        "id": "vv7ChpJEMhhP"
      },
      "execution_count": null,
      "outputs": []
    },
    {
      "cell_type": "code",
      "source": [
        "#10830번 행렬 제곱\n",
        "\n",
        "N,B=map(int,input().split()); q=1000\n",
        "A=[list(map(int,input().split()))for i in range(N)]\n",
        "\n",
        "def mul(mata,matb): #행렬 곱 \n",
        "    mattmp=[[0]*len(mata[0]) for _ in range(len(matb))]\n",
        "\n",
        "    for i in range(len(mata)):\n",
        "        for j in range(len(mata)):\n",
        "            for k in range(len(mata)):\n",
        "                mattmp[i][k]+=(mata[i][j]*matb[j][k])\n",
        "                mattmp[i][k]%=q\n",
        "\n",
        "    return mattmp\n",
        "\n",
        "def sum(a,b):\n",
        "    if b==1:\n",
        "        for i in range(len(a)):\n",
        "            for j in range(len(a)):\n",
        "                a[i][j]%=q\n",
        "        return a\n",
        "    else:\n",
        "        tmp= sum(a,b//2)\n",
        "        if b%2==0: \n",
        "            return mul(tmp,tmp)\n",
        "        else: \n",
        "            return mul(mul(tmp,tmp),a)\n",
        "\n",
        "result=sum(A,B)\n",
        "\n",
        "for i in result:\n",
        "    for j in i:\n",
        "        print(j,end=' ')\n",
        "    print('')\n"
      ],
      "metadata": {
        "id": "G4iQc0SjpbnF"
      },
      "execution_count": null,
      "outputs": []
    },
    {
      "cell_type": "code",
      "source": [
        "#11444번: 피보나치수 6\n",
        "def mul(mata,matb): #행렬 곱 \n",
        "    mattmp=[[0]*len(mata[0]) for _ in range(len(matb))]\n",
        "\n",
        "    for i in range(len(mata)):\n",
        "        for j in range(len(mata)):\n",
        "            for k in range(len(matb)):\n",
        "                mattmp[i][k]+=(mata[i][j]*matb[j][k])\n",
        "                mattmp[i][k]%=q\n",
        "    return mattmp\n",
        "\n",
        "def sum(a,b):\n",
        "    if b==1:\n",
        "        return a\n",
        "    else:\n",
        "        tmp= sum(a,b//2)\n",
        "        if b%2==0: \n",
        "            return mul(tmp,tmp)\n",
        "        else: \n",
        "            return mul(mul(tmp,tmp),a)\n",
        "\n",
        "N=int(input()); q=1000000007; A=[[1,1],[1,0]]; \n",
        "result=sum(A,N)\n",
        "\n",
        "print(result[0][1])"
      ],
      "metadata": {
        "id": "ZPcFTf-NJSYJ"
      },
      "execution_count": null,
      "outputs": []
    },
    {
      "cell_type": "code",
      "source": [
        "#6549번: 히스토그램\n",
        "index=[2,1,4,5,1,3,3]; tree=[0] *(index[0]*4)\n",
        "\n",
        "def ftree(start,end,tindex):\n",
        "    list_tmp=index[start:end]\n",
        "\n",
        "    print(list_tmp)\n",
        "    print(start,end)\n",
        "\n",
        "    tree[tindex]=len(list_tmp)*min(list_tmp)\n",
        "\n",
        "    if len(list_tmp)==1: return tree[tindex]\n",
        "    else:      \n",
        "        new_start=end  \n",
        "        new_end=list_tmp.index(min(list_tmp))\n",
        "        print('newstart '+str(new_start))\n",
        "        print('newend '+str(new_end))\n",
        "        ftree(new_start,new_end,tindex*2)\n",
        "        ftree(new_end+1,end,tindex*2+1)\n",
        "\n",
        "ftree(0,7,1)"
      ],
      "metadata": {
        "id": "pEaRI0zWrOb6"
      },
      "execution_count": null,
      "outputs": []
    },
    {
      "cell_type": "code",
      "source": [
        "tree"
      ],
      "metadata": {
        "id": "5fbi6tA3fezd"
      },
      "execution_count": null,
      "outputs": []
    }
  ]
}