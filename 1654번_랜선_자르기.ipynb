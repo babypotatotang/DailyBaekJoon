{
  "nbformat": 4,
  "nbformat_minor": 0,
  "metadata": {
    "colab": {
      "name": "1654번: 랜선 자르기",
      "private_outputs": true,
      "provenance": [],
      "authorship_tag": "ABX9TyMgSB1oK9o6jzbp0SOjfrGd",
      "include_colab_link": true
    },
    "kernelspec": {
      "name": "python3",
      "display_name": "Python 3"
    },
    "language_info": {
      "name": "python"
    }
  },
  "cells": [
    {
      "cell_type": "markdown",
      "metadata": {
        "id": "view-in-github",
        "colab_type": "text"
      },
      "source": [
        "<a href=\"https://colab.research.google.com/github/babypotatotang/BaekJoon/blob/main/1654%EB%B2%88_%EB%9E%9C%EC%84%A0_%EC%9E%90%EB%A5%B4%EA%B8%B0.ipynb\" target=\"_parent\"><img src=\"https://colab.research.google.com/assets/colab-badge.svg\" alt=\"Open In Colab\"/></a>"
      ]
    },
    {
      "cell_type": "code",
      "execution_count": null,
      "metadata": {
        "id": "CHVJig5eGxo6"
      },
      "outputs": [],
      "source": [
        "#1654번: 랜선 자르기\n",
        "import sys\n",
        "input=sys.stdin.readline\n",
        "\n",
        "def CountK(H):\n",
        "    K=0\n",
        "    for i in lines:\n",
        "        K+=i//H\n",
        "\n",
        "    return K\n",
        "\n",
        "def Search(start,end):\n",
        "    if start > end: return end\n",
        "\n",
        "    mid=(start+end)//2\n",
        "    tmpK=CountK(mid)\n",
        "\n",
        "    if tmpK>=K: return Search(mid+1,end)\n",
        "    else: return Search(start,mid-1)\n",
        "\n",
        "array=list(map(int, input().split()))\n",
        "N=array[0]; K=array[1]\n",
        "lines=[int(input()) for _ in range(N)]\n",
        "start=1; end=max(lines)\n",
        "print(Search(start,end))"
      ]
    }
  ]
}